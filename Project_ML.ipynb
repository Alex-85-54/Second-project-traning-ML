{
 "cells": [
  {
   "cell_type": "markdown",
   "metadata": {},
   "source": [
    "<div style=\"border:solid green 2px; padding: 20px\">\n",
    "<b>Комментарий ревьюера:</b> \n",
    "    \n",
    "Александр, привет! Меня зовут Бунакова Влада. Если не возражаешь, предлагаю общаться на «ты» :)\n",
    "    <div class=\"alert alert-info\" style=\"border-radius: 15px; box-shadow: 4px 4px 4px; border: 1px solid \">\n",
    "\n",
    "Привет, Влада! На \"ты\" - ок)\n",
    "</div>  \n",
    "\n",
    "Ниже в файле ты найдешь мои комментарии: <font color='green'>зеленый цвет — «все отлично»; </font> <font color='orange'>желтый — «хорошо, но можно лучше (один-два таких замечаний допустимы, но если их больше — придется исправлять)»; </font> <font color='red'>красный — «нужно исправить».</font> Комментарии в самом коде я отделяю знаками «###». Пожалуйста, не удаляй мои комментарии, они мне нужны при повторной проверке. Будет здорово, если в своих новых комментариях (выделяй их другим цветом) ты напишешь о сделанных тобой изменениях в коде. \n"
   ]
  },
  {
   "cell_type": "markdown",
   "metadata": {},
   "source": [
    "<div class=\"alert alert-info\" style=\"border-radius: 15px; box-shadow: 4px 4px 4px; border: 1px solid \">\n",
    "авторы проекта изменили исходные дата-сеты\n",
    "</div> "
   ]
  },
  {
   "cell_type": "markdown",
   "metadata": {},
   "source": [
    "<div class=\"alert alert-info\" style=\"border-radius: 15px; box-shadow: 4px 4px 4px; border: 1px solid \">\n",
    "\n",
    "В df_test теперь нет столбцов *adr, price, assighned_room, assigned_room_type, agent, company*  поэтому действия с этими столбцами закоментированны \n",
    "</div> "
   ]
  },
  {
   "cell_type": "markdown",
   "metadata": {},
   "source": [
    "<div class=\"alert alert-info\" style=\"border-radius: 15px; box-shadow: 4px 4px 4px; border: 1px solid \">\n",
    "Дата-сеты разделены: трэйн - 2015-2016 года, тест - 2017 год\n",
    "</div> "
   ]
  },
  {
   "cell_type": "markdown",
   "metadata": {},
   "source": [
    "<div class=\"alert alert-info\" style=\"border-radius: 15px; box-shadow: 4px 4px 4px; border: 1px solid \">\n",
    "\n",
    "Результаты вычислений после исправлений изменились\n",
    "</div> "
   ]
  },
  {
   "cell_type": "markdown",
   "metadata": {},
   "source": []
  },
  {
   "cell_type": "markdown",
   "metadata": {},
   "source": [
    "# Прогнозирование оттока клиентов в сети отелей «Как в гостях»"
   ]
  },
  {
   "cell_type": "markdown",
   "metadata": {},
   "source": [
    "Заказчик исследования — сеть отелей «Как в гостях».\n",
    "Заказчик добавил на свой сайт возможность забронировать номер без предоплаты. Однако если клиент отменяет бронирование, то компания терпет убытки.\n",
    "+ **Задача:**\n",
    "+ Разработать систему, которая предсказывает отказ от брони. Если модель покажет, что бронь будет отменена, то клиенту предлагается внести депозит. Размер депозита — 80% от стоимости номера. Деньги будут списаны со счёта клиента, если он всё же отменит бронь.\n",
    "+ *Дополнительные условия:*\n",
    "+ В ценовой политике отеля используются сезонные коэффициенты: весной и осенью цены повышаются на 20%, летом — на 40%.\n",
    "+ На разработку системы прогнозирования заложен бюджет — 400 000 руб. При этом необходимо учесть, что внедрение модели должно окупиться. Затраты на разработку должны быть меньше той выручки, которую система принесёт компании."
   ]
  },
  {
   "cell_type": "markdown",
   "metadata": {},
   "source": [
    "## . Откройте файлы с данными"
   ]
  },
  {
   "cell_type": "markdown",
   "metadata": {},
   "source": [
    "Загружаем нужные библиотеки:"
   ]
  },
  {
   "cell_type": "code",
   "execution_count": 224,
   "metadata": {},
   "outputs": [],
   "source": [
    "import pandas as pd\n",
    "import numpy as np\n",
    "from sklearn.model_selection import train_test_split\n",
    "from catboost import CatBoostClassifier\n",
    "from catboost import Pool\n",
    "from sklearn.model_selection import train_test_split, GridSearchCV\n",
    "from sklearn import metrics\n",
    "from sklearn.metrics import roc_auc_score\n",
    "from tqdm.notebook import tqdm\n",
    "import random\n",
    "from itertools import chain\n",
    "from matplotlib import pyplot\n",
    "from sklearn.preprocessing import OneHotEncoder\n",
    "from sklearn.ensemble import RandomForestClassifier"
   ]
  },
  {
   "cell_type": "markdown",
   "metadata": {},
   "source": [
    "Открываем файлы от заказчика:"
   ]
  },
  {
   "cell_type": "markdown",
   "metadata": {},
   "source": [
    "У нас имеется два дата-сета: первый для обучения модели, назовем его *df*; второй для итогового тестирования разработанной модели, назовем его *df_test*. По последней информации от заказчика столбцы *adr* и *price* нерелевантны. Поэтому сразу удалим их из дата-сетов:"
   ]
  },
  {
   "cell_type": "code",
   "execution_count": 68,
   "metadata": {
    "scrolled": true
   },
   "outputs": [
    {
     "data": {
      "text/html": [
       "<div>\n",
       "<style scoped>\n",
       "    .dataframe tbody tr th:only-of-type {\n",
       "        vertical-align: middle;\n",
       "    }\n",
       "\n",
       "    .dataframe tbody tr th {\n",
       "        vertical-align: top;\n",
       "    }\n",
       "\n",
       "    .dataframe thead th {\n",
       "        text-align: right;\n",
       "    }\n",
       "</style>\n",
       "<table border=\"1\" class=\"dataframe\">\n",
       "  <thead>\n",
       "    <tr style=\"text-align: right;\">\n",
       "      <th></th>\n",
       "      <th>id</th>\n",
       "      <th>is_canceled</th>\n",
       "      <th>lead_time</th>\n",
       "      <th>arrival_date_year</th>\n",
       "      <th>arrival_date_month</th>\n",
       "      <th>arrival_date_week_number</th>\n",
       "      <th>arrival_date_day_of_month</th>\n",
       "      <th>stays_in_weekend_nights</th>\n",
       "      <th>stays_in_week_nights</th>\n",
       "      <th>adults</th>\n",
       "      <th>...</th>\n",
       "      <th>is_repeated_guest</th>\n",
       "      <th>previous_cancellations</th>\n",
       "      <th>previous_bookings_not_canceled</th>\n",
       "      <th>reserved_room_type</th>\n",
       "      <th>booking_changes</th>\n",
       "      <th>days_in_waiting_list</th>\n",
       "      <th>customer_type</th>\n",
       "      <th>required_car_parking_spaces</th>\n",
       "      <th>total_of_special_requests</th>\n",
       "      <th>total_nights</th>\n",
       "    </tr>\n",
       "  </thead>\n",
       "  <tbody>\n",
       "    <tr>\n",
       "      <td>0</td>\n",
       "      <td>0</td>\n",
       "      <td>0</td>\n",
       "      <td>7.0</td>\n",
       "      <td>2015</td>\n",
       "      <td>July</td>\n",
       "      <td>27</td>\n",
       "      <td>1</td>\n",
       "      <td>0</td>\n",
       "      <td>1</td>\n",
       "      <td>1.0</td>\n",
       "      <td>...</td>\n",
       "      <td>0</td>\n",
       "      <td>0</td>\n",
       "      <td>0</td>\n",
       "      <td>A</td>\n",
       "      <td>0</td>\n",
       "      <td>0</td>\n",
       "      <td>Transient</td>\n",
       "      <td>0</td>\n",
       "      <td>0</td>\n",
       "      <td>1</td>\n",
       "    </tr>\n",
       "    <tr>\n",
       "      <td>1</td>\n",
       "      <td>1</td>\n",
       "      <td>0</td>\n",
       "      <td>14.0</td>\n",
       "      <td>2015</td>\n",
       "      <td>July</td>\n",
       "      <td>27</td>\n",
       "      <td>1</td>\n",
       "      <td>0</td>\n",
       "      <td>2</td>\n",
       "      <td>2.0</td>\n",
       "      <td>...</td>\n",
       "      <td>0</td>\n",
       "      <td>0</td>\n",
       "      <td>0</td>\n",
       "      <td>A</td>\n",
       "      <td>0</td>\n",
       "      <td>0</td>\n",
       "      <td>Transient</td>\n",
       "      <td>0</td>\n",
       "      <td>1</td>\n",
       "      <td>2</td>\n",
       "    </tr>\n",
       "  </tbody>\n",
       "</table>\n",
       "<p>2 rows × 25 columns</p>\n",
       "</div>"
      ],
      "text/plain": [
       "   id  is_canceled  lead_time  arrival_date_year arrival_date_month  \\\n",
       "0   0            0        7.0               2015               July   \n",
       "1   1            0       14.0               2015               July   \n",
       "\n",
       "   arrival_date_week_number  arrival_date_day_of_month  \\\n",
       "0                        27                          1   \n",
       "1                        27                          1   \n",
       "\n",
       "   stays_in_weekend_nights  stays_in_week_nights  adults  ...  \\\n",
       "0                        0                     1     1.0  ...   \n",
       "1                        0                     2     2.0  ...   \n",
       "\n",
       "   is_repeated_guest  previous_cancellations previous_bookings_not_canceled  \\\n",
       "0                  0                       0                              0   \n",
       "1                  0                       0                              0   \n",
       "\n",
       "  reserved_room_type booking_changes  days_in_waiting_list  customer_type  \\\n",
       "0   A                              0                     0      Transient   \n",
       "1   A                              0                     0      Transient   \n",
       "\n",
       "   required_car_parking_spaces total_of_special_requests  total_nights  \n",
       "0                            0                         0             1  \n",
       "1                            0                         1             2  \n",
       "\n",
       "[2 rows x 25 columns]"
      ]
     },
     "metadata": {},
     "output_type": "display_data"
    },
    {
     "data": {
      "text/html": [
       "<div>\n",
       "<style scoped>\n",
       "    .dataframe tbody tr th:only-of-type {\n",
       "        vertical-align: middle;\n",
       "    }\n",
       "\n",
       "    .dataframe tbody tr th {\n",
       "        vertical-align: top;\n",
       "    }\n",
       "\n",
       "    .dataframe thead th {\n",
       "        text-align: right;\n",
       "    }\n",
       "</style>\n",
       "<table border=\"1\" class=\"dataframe\">\n",
       "  <thead>\n",
       "    <tr style=\"text-align: right;\">\n",
       "      <th></th>\n",
       "      <th>id</th>\n",
       "      <th>is_canceled</th>\n",
       "      <th>lead_time</th>\n",
       "      <th>arrival_date_year</th>\n",
       "      <th>arrival_date_month</th>\n",
       "      <th>arrival_date_week_number</th>\n",
       "      <th>arrival_date_day_of_month</th>\n",
       "      <th>stays_in_weekend_nights</th>\n",
       "      <th>stays_in_week_nights</th>\n",
       "      <th>adults</th>\n",
       "      <th>...</th>\n",
       "      <th>is_repeated_guest</th>\n",
       "      <th>previous_cancellations</th>\n",
       "      <th>previous_bookings_not_canceled</th>\n",
       "      <th>reserved_room_type</th>\n",
       "      <th>booking_changes</th>\n",
       "      <th>days_in_waiting_list</th>\n",
       "      <th>customer_type</th>\n",
       "      <th>required_car_parking_spaces</th>\n",
       "      <th>total_of_special_requests</th>\n",
       "      <th>total_nights</th>\n",
       "    </tr>\n",
       "  </thead>\n",
       "  <tbody>\n",
       "    <tr>\n",
       "      <td>0</td>\n",
       "      <td>6086</td>\n",
       "      <td>1</td>\n",
       "      <td>74.0</td>\n",
       "      <td>2017</td>\n",
       "      <td>January</td>\n",
       "      <td>1</td>\n",
       "      <td>1</td>\n",
       "      <td>1</td>\n",
       "      <td>0</td>\n",
       "      <td>2.0</td>\n",
       "      <td>...</td>\n",
       "      <td>0</td>\n",
       "      <td>0</td>\n",
       "      <td>0</td>\n",
       "      <td>A</td>\n",
       "      <td>0</td>\n",
       "      <td>0</td>\n",
       "      <td>Transient</td>\n",
       "      <td>0</td>\n",
       "      <td>0</td>\n",
       "      <td>1</td>\n",
       "    </tr>\n",
       "    <tr>\n",
       "      <td>1</td>\n",
       "      <td>6087</td>\n",
       "      <td>1</td>\n",
       "      <td>62.0</td>\n",
       "      <td>2017</td>\n",
       "      <td>January</td>\n",
       "      <td>1</td>\n",
       "      <td>1</td>\n",
       "      <td>2</td>\n",
       "      <td>2</td>\n",
       "      <td>2.0</td>\n",
       "      <td>...</td>\n",
       "      <td>0</td>\n",
       "      <td>0</td>\n",
       "      <td>0</td>\n",
       "      <td>A</td>\n",
       "      <td>0</td>\n",
       "      <td>0</td>\n",
       "      <td>Transient</td>\n",
       "      <td>0</td>\n",
       "      <td>1</td>\n",
       "      <td>4</td>\n",
       "    </tr>\n",
       "  </tbody>\n",
       "</table>\n",
       "<p>2 rows × 25 columns</p>\n",
       "</div>"
      ],
      "text/plain": [
       "     id  is_canceled  lead_time  arrival_date_year arrival_date_month  \\\n",
       "0  6086            1       74.0               2017            January   \n",
       "1  6087            1       62.0               2017            January   \n",
       "\n",
       "   arrival_date_week_number  arrival_date_day_of_month  \\\n",
       "0                         1                          1   \n",
       "1                         1                          1   \n",
       "\n",
       "   stays_in_weekend_nights  stays_in_week_nights  adults  ...  \\\n",
       "0                        1                     0     2.0  ...   \n",
       "1                        2                     2     2.0  ...   \n",
       "\n",
       "   is_repeated_guest  previous_cancellations previous_bookings_not_canceled  \\\n",
       "0                  0                       0                              0   \n",
       "1                  0                       0                              0   \n",
       "\n",
       "  reserved_room_type booking_changes  days_in_waiting_list  customer_type  \\\n",
       "0   A                              0                     0      Transient   \n",
       "1   A                              0                     0      Transient   \n",
       "\n",
       "   required_car_parking_spaces total_of_special_requests  total_nights  \n",
       "0                            0                         0             1  \n",
       "1                            0                         1             4  \n",
       "\n",
       "[2 rows x 25 columns]"
      ]
     },
     "metadata": {},
     "output_type": "display_data"
    }
   ],
   "source": [
    "df = pd.read_csv('/datasets/hotel_train.csv')\n",
    "df_test = pd.read_csv('/datasets/hotel_test.csv')\n",
    "#df = df.drop(['adr', 'price'], axis=1)\n",
    "#df_test = df_test.drop(['adr', 'price'], axis=1)\n",
    "display(df.head(2))\n",
    "display(df_test.head(2))"
   ]
  },
  {
   "cell_type": "markdown",
   "metadata": {},
   "source": [
    "**Вывод:** данные успешно загружены."
   ]
  },
  {
   "cell_type": "markdown",
   "metadata": {},
   "source": [
    "Посмотрим общую информацию о данных:"
   ]
  },
  {
   "cell_type": "code",
   "execution_count": 69,
   "metadata": {
    "scrolled": false
   },
   "outputs": [
    {
     "name": "stdout",
     "output_type": "stream",
     "text": [
      "<class 'pandas.core.frame.DataFrame'>\n",
      "RangeIndex: 65229 entries, 0 to 65228\n",
      "Data columns (total 25 columns):\n",
      "id                                65229 non-null int64\n",
      "is_canceled                       65229 non-null int64\n",
      "lead_time                         65229 non-null float64\n",
      "arrival_date_year                 65229 non-null int64\n",
      "arrival_date_month                65229 non-null object\n",
      "arrival_date_week_number          65229 non-null int64\n",
      "arrival_date_day_of_month         65229 non-null int64\n",
      "stays_in_weekend_nights           65229 non-null int64\n",
      "stays_in_week_nights              65229 non-null int64\n",
      "adults                            65229 non-null float64\n",
      "children                          65229 non-null float64\n",
      "babies                            65229 non-null float64\n",
      "meal                              65229 non-null object\n",
      "country                           65229 non-null object\n",
      "distribution_channel              65229 non-null object\n",
      "is_repeated_guest                 65229 non-null int64\n",
      "previous_cancellations            65229 non-null int64\n",
      "previous_bookings_not_canceled    65229 non-null int64\n",
      "reserved_room_type                65229 non-null object\n",
      "booking_changes                   65229 non-null int64\n",
      "days_in_waiting_list              65229 non-null int64\n",
      "customer_type                     65229 non-null object\n",
      "required_car_parking_spaces       65229 non-null int64\n",
      "total_of_special_requests         65229 non-null int64\n",
      "total_nights                      65229 non-null int64\n",
      "dtypes: float64(4), int64(15), object(6)\n",
      "memory usage: 12.4+ MB\n"
     ]
    }
   ],
   "source": [
    "df.info()"
   ]
  },
  {
   "cell_type": "markdown",
   "metadata": {},
   "source": [
    "**Вывод**: Дата-сет имеет 32417 строк и 29 колонок. В некоторых колонках имеются пропуски. Для работы моделей нам нужно будет заполнить их."
   ]
  },
  {
   "cell_type": "code",
   "execution_count": 70,
   "metadata": {
    "scrolled": true
   },
   "outputs": [
    {
     "name": "stdout",
     "output_type": "stream",
     "text": [
      "<class 'pandas.core.frame.DataFrame'>\n",
      "RangeIndex: 32412 entries, 0 to 32411\n",
      "Data columns (total 25 columns):\n",
      "id                                32412 non-null int64\n",
      "is_canceled                       32412 non-null int64\n",
      "lead_time                         32412 non-null float64\n",
      "arrival_date_year                 32412 non-null int64\n",
      "arrival_date_month                32412 non-null object\n",
      "arrival_date_week_number          32412 non-null int64\n",
      "arrival_date_day_of_month         32412 non-null int64\n",
      "stays_in_weekend_nights           32412 non-null int64\n",
      "stays_in_week_nights              32412 non-null int64\n",
      "adults                            32412 non-null float64\n",
      "children                          32412 non-null float64\n",
      "babies                            32412 non-null float64\n",
      "meal                              32412 non-null object\n",
      "country                           32412 non-null object\n",
      "distribution_channel              32412 non-null object\n",
      "is_repeated_guest                 32412 non-null int64\n",
      "previous_cancellations            32412 non-null int64\n",
      "previous_bookings_not_canceled    32412 non-null int64\n",
      "reserved_room_type                32412 non-null object\n",
      "booking_changes                   32412 non-null int64\n",
      "days_in_waiting_list              32412 non-null int64\n",
      "customer_type                     32412 non-null object\n",
      "required_car_parking_spaces       32412 non-null int64\n",
      "total_of_special_requests         32412 non-null int64\n",
      "total_nights                      32412 non-null int64\n",
      "dtypes: float64(4), int64(15), object(6)\n",
      "memory usage: 6.2+ MB\n"
     ]
    }
   ],
   "source": [
    "df_test.info()"
   ]
  },
  {
   "cell_type": "markdown",
   "metadata": {},
   "source": [
    "<div class=\"alert alert-block alert-warning\">\n",
    "<b>Комментарий ревьюера ⚠️</b> \n",
    "\n",
    "Не хватает вывода: есть ли пропуски в тестовой выборке?\n",
    "</div>\n"
   ]
  },
  {
   "cell_type": "markdown",
   "metadata": {},
   "source": [
    "<div class=\"alert alert-info\" style=\"border-radius: 15px; box-shadow: 4px 4px 4px; border: 1px solid \">\n",
    "\n",
    "Я смотрю пропуски по методу info(). Ну можно и так:\n",
    "</div>  "
   ]
  },
  {
   "cell_type": "code",
   "execution_count": 71,
   "metadata": {
    "scrolled": true
   },
   "outputs": [
    {
     "data": {
      "text/plain": [
       "id                                0.0\n",
       "is_canceled                       0.0\n",
       "lead_time                         0.0\n",
       "arrival_date_year                 0.0\n",
       "arrival_date_month                0.0\n",
       "arrival_date_week_number          0.0\n",
       "arrival_date_day_of_month         0.0\n",
       "stays_in_weekend_nights           0.0\n",
       "stays_in_week_nights              0.0\n",
       "adults                            0.0\n",
       "children                          0.0\n",
       "babies                            0.0\n",
       "meal                              0.0\n",
       "country                           0.0\n",
       "distribution_channel              0.0\n",
       "is_repeated_guest                 0.0\n",
       "previous_cancellations            0.0\n",
       "previous_bookings_not_canceled    0.0\n",
       "reserved_room_type                0.0\n",
       "booking_changes                   0.0\n",
       "days_in_waiting_list              0.0\n",
       "customer_type                     0.0\n",
       "required_car_parking_spaces       0.0\n",
       "total_of_special_requests         0.0\n",
       "total_nights                      0.0\n",
       "dtype: float64"
      ]
     },
     "execution_count": 71,
     "metadata": {},
     "output_type": "execute_result"
    }
   ],
   "source": [
    "df_test.isna().mean()"
   ]
  },
  {
   "cell_type": "markdown",
   "metadata": {},
   "source": [
    "<div class=\"alert alert-block alert-success\">\n",
    "<b>Комментарий ревьюера ✔️</b> \n",
    "\n",
    "Отлично, загрузили данные и удалили ненужные столбцы.\n",
    "</div>\n"
   ]
  },
  {
   "cell_type": "markdown",
   "metadata": {},
   "source": [
    "## . Предобработка и исследовательский анализ данных"
   ]
  },
  {
   "cell_type": "markdown",
   "metadata": {},
   "source": [
    "### Обработка дубликатов:"
   ]
  },
  {
   "cell_type": "code",
   "execution_count": 72,
   "metadata": {},
   "outputs": [
    {
     "name": "stdout",
     "output_type": "stream",
     "text": [
      "Количество дубликатов в дата-сете:  0\n"
     ]
    }
   ],
   "source": [
    "print('Количество дубликатов в дата-сете: ', df.duplicated().sum())"
   ]
  },
  {
   "cell_type": "markdown",
   "metadata": {},
   "source": [
    "**Вывод:** мы видим очень много дубликатов в дата-сете. Но мы их удалять не будем, так как они появились не случайно и не по ошибке. Например пять человек приехали из одной компании в командировку и сняли 5 одинаковых номеров на один срок. Таким образом появляются дубликаты, но это разные люди."
   ]
  },
  {
   "cell_type": "markdown",
   "metadata": {},
   "source": [
    "<div class=\"alert alert-block alert-success\">\n",
    "<b>Комментарий ревьюера ✔️</b> \n",
    "\n",
    "Да, такое возможно.\n",
    "</div>\n"
   ]
  },
  {
   "cell_type": "markdown",
   "metadata": {},
   "source": [
    "### Предобработка полей с пропусками:"
   ]
  },
  {
   "cell_type": "markdown",
   "metadata": {},
   "source": [
    "Посмотрим числовое описание колонки *lead_time* — количество дней между датой бронирования и датой прибытия;. В колонке имеются пропуски."
   ]
  },
  {
   "cell_type": "code",
   "execution_count": 73,
   "metadata": {},
   "outputs": [
    {
     "name": "stdout",
     "output_type": "stream",
     "text": [
      "Доля пропусков в колонке lead_time: 0.0\n"
     ]
    },
    {
     "data": {
      "text/plain": [
       "count    65229.000000\n",
       "mean        96.337917\n",
       "std         96.127545\n",
       "min          0.000000\n",
       "25%         17.000000\n",
       "50%         64.000000\n",
       "75%        151.000000\n",
       "max        374.000000\n",
       "Name: lead_time, dtype: float64"
      ]
     },
     "execution_count": 73,
     "metadata": {},
     "output_type": "execute_result"
    }
   ],
   "source": [
    "print('Доля пропусков в колонке lead_time:', df['lead_time'].isna().mean())\n",
    "df['lead_time'].describe()"
   ]
  },
  {
   "cell_type": "markdown",
   "metadata": {},
   "source": [
    "**Вывод:**:  Видим,что все значения адекватны. Медиана равна 48, этим значением и заполним пропуски.  "
   ]
  },
  {
   "cell_type": "markdown",
   "metadata": {},
   "source": [
    "Заполним пропуски в колонке lead_time значением 48:"
   ]
  },
  {
   "cell_type": "code",
   "execution_count": 74,
   "metadata": {},
   "outputs": [
    {
     "name": "stdout",
     "output_type": "stream",
     "text": [
      "Доля пропусков в колонке lead_time после заполнения пропусков: 0.0\n"
     ]
    }
   ],
   "source": [
    "df['lead_time'] = df['lead_time'].fillna(48)\n",
    "print('Доля пропусков в колонке lead_time после заполнения пропусков:', df['lead_time'].isna().mean())"
   ]
  },
  {
   "cell_type": "markdown",
   "metadata": {},
   "source": [
    "Посмотрим числовое описание колонки *adults* — количество взрослых постояльцев; В ней имеются пропуски."
   ]
  },
  {
   "cell_type": "code",
   "execution_count": 75,
   "metadata": {
    "scrolled": true
   },
   "outputs": [
    {
     "name": "stdout",
     "output_type": "stream",
     "text": [
      "Доля пропусков в колонке adults: 0.0\n"
     ]
    },
    {
     "data": {
      "text/plain": [
       "count    65229.000000\n",
       "mean         1.836576\n",
       "std          0.480245\n",
       "min          0.000000\n",
       "25%          2.000000\n",
       "50%          2.000000\n",
       "75%          2.000000\n",
       "max          4.000000\n",
       "Name: adults, dtype: float64"
      ]
     },
     "execution_count": 75,
     "metadata": {},
     "output_type": "execute_result"
    }
   ],
   "source": [
    "print('Доля пропусков в колонке adults:', df['adults'].isna().mean())\n",
    "df['adults'].describe()"
   ]
  },
  {
   "cell_type": "markdown",
   "metadata": {},
   "source": [
    "**Вывод:** В колонке adults - все значения адекватны. Медиана равна 2. Запоним ей пропуски:"
   ]
  },
  {
   "cell_type": "markdown",
   "metadata": {},
   "source": [
    "Заполним пропуски в колонке *adults* значением 2:"
   ]
  },
  {
   "cell_type": "code",
   "execution_count": 76,
   "metadata": {},
   "outputs": [
    {
     "name": "stdout",
     "output_type": "stream",
     "text": [
      "Доля пропусков в колонке adults после заполнения пропусков: 0.0\n"
     ]
    }
   ],
   "source": [
    "df['adults'] = df['adults'].fillna(2)\n",
    "print('Доля пропусков в колонке adults после заполнения пропусков:', df['adults'].isna().mean())"
   ]
  },
  {
   "cell_type": "markdown",
   "metadata": {},
   "source": [
    "Посмотрим числовое описание колонки *children*  — количество детей от 3 до 14 лет; В этой колоке имеются пропуски: "
   ]
  },
  {
   "cell_type": "code",
   "execution_count": 77,
   "metadata": {
    "scrolled": true
   },
   "outputs": [
    {
     "name": "stdout",
     "output_type": "stream",
     "text": [
      "Доля пропусков в колонке children: 0.0\n"
     ]
    },
    {
     "data": {
      "text/plain": [
       "count    65229.000000\n",
       "mean         0.074890\n",
       "std          0.334243\n",
       "min          0.000000\n",
       "25%          0.000000\n",
       "50%          0.000000\n",
       "75%          0.000000\n",
       "max          3.000000\n",
       "Name: children, dtype: float64"
      ]
     },
     "execution_count": 77,
     "metadata": {},
     "output_type": "execute_result"
    }
   ],
   "source": [
    "print('Доля пропусков в колонке children:', df['children'].isna().mean())\n",
    "df['children'].describe()"
   ]
  },
  {
   "cell_type": "markdown",
   "metadata": {},
   "source": [
    "**Вывод:** Процент пропусков примерно 4,6%. Числовое описание нам ничего не дало, мы видим только, что максимальное значение равно 3. Медиана = 0."
   ]
  },
  {
   "cell_type": "markdown",
   "metadata": {},
   "source": [
    "Посмотрим уникальные значения и их количество колонки *children*:"
   ]
  },
  {
   "cell_type": "code",
   "execution_count": 78,
   "metadata": {
    "scrolled": true
   },
   "outputs": [
    {
     "data": {
      "text/plain": [
       "0.0    61712\n",
       "1.0     2165\n",
       "2.0     1336\n",
       "3.0       16\n",
       "Name: children, dtype: int64"
      ]
     },
     "execution_count": 78,
     "metadata": {},
     "output_type": "execute_result"
    }
   ],
   "source": [
    "df['children'].value_counts(dropna = False)"
   ]
  },
  {
   "cell_type": "markdown",
   "metadata": {},
   "source": [
    "**Вывод:** самое часто встречающееся значение 0. Им заполним пропуски:"
   ]
  },
  {
   "cell_type": "code",
   "execution_count": 79,
   "metadata": {},
   "outputs": [
    {
     "name": "stdout",
     "output_type": "stream",
     "text": [
      "Доля пропусков в колонке children, после заполнения пропусков: 0.0\n"
     ]
    }
   ],
   "source": [
    "df['children'] = df['children'].fillna(0)\n",
    "print('Доля пропусков в колонке children, после заполнения пропусков:', df['children'].isna().mean())"
   ]
  },
  {
   "cell_type": "markdown",
   "metadata": {},
   "source": [
    "Посмотрим уникальные значения колонки babies - количество младенцев; В этой колонке имеются пропуски."
   ]
  },
  {
   "cell_type": "code",
   "execution_count": 80,
   "metadata": {
    "scrolled": true
   },
   "outputs": [
    {
     "data": {
      "text/plain": [
       "0.0     64777\n",
       "1.0       447\n",
       "2.0         3\n",
       "10.0        1\n",
       "9.0         1\n",
       "Name: babies, dtype: int64"
      ]
     },
     "execution_count": 80,
     "metadata": {},
     "output_type": "execute_result"
    }
   ],
   "source": [
    "df['babies'].value_counts(dropna = False)"
   ]
  },
  {
   "cell_type": "markdown",
   "metadata": {},
   "source": [
    "**Вывод:** самое часто встречающееся значение 0. Заполним им пропуски:"
   ]
  },
  {
   "cell_type": "code",
   "execution_count": 81,
   "metadata": {},
   "outputs": [
    {
     "name": "stdout",
     "output_type": "stream",
     "text": [
      "Доля пропусков в колонке babies, после заполнения пропусков: 0.0\n"
     ]
    }
   ],
   "source": [
    "df['babies'] = df['babies'].fillna(0)\n",
    "print('Доля пропусков в колонке babies, после заполнения пропусков:', df['babies'].isna().mean())"
   ]
  },
  {
   "cell_type": "markdown",
   "metadata": {},
   "source": [
    "Посмотрим уникальные значения колонки *meal* — опции заказа:\n",
    "SC — нет дополнительных опций;\n",
    "BB — включён завтрак;\n",
    "HB — включён завтрак и обед;\n",
    "FB — включён завтрак, обед и ужин.  В этой колонке имеются пропуски:"
   ]
  },
  {
   "cell_type": "code",
   "execution_count": 82,
   "metadata": {
    "scrolled": true
   },
   "outputs": [
    {
     "data": {
      "text/plain": [
       "BB           51697\n",
       "HB            7292\n",
       "SC            5274\n",
       "SC             515\n",
       "FB             451\n",
       "Name: meal, dtype: int64"
      ]
     },
     "execution_count": 82,
     "metadata": {},
     "output_type": "execute_result"
    }
   ],
   "source": [
    "df['meal'].value_counts(dropna=False)"
   ]
  },
  {
   "cell_type": "markdown",
   "metadata": {},
   "source": [
    "**Вывод:** Самое часто стречающееся значение - BB. Заполним им пропуски:"
   ]
  },
  {
   "cell_type": "markdown",
   "metadata": {},
   "source": [
    "<div class=\"alert alert-block alert-warning\">\n",
    "<b>Комментарий ревьюера ⚠️</b> \n",
    "\n",
    "Ниже ты удаляешь пропуски, а не заполняешь их. Обнови вывод.\n",
    "</div>\n"
   ]
  },
  {
   "cell_type": "markdown",
   "metadata": {},
   "source": [
    "<div class=\"alert alert-info\" style=\"border-radius: 15px; box-shadow: 4px 4px 4px; border: 1px solid \">\n",
    "\n",
    "Не понял: Что значит обновить вывод? Что именно вывести?\n",
    "</div>  "
   ]
  },
  {
   "cell_type": "markdown",
   "metadata": {},
   "source": [
    "Заполним пропуски в колонке *meal* пустым значением, и удалим эти строки из дата-сета:"
   ]
  },
  {
   "cell_type": "code",
   "execution_count": 83,
   "metadata": {},
   "outputs": [
    {
     "name": "stdout",
     "output_type": "stream",
     "text": [
      "Количество объектов после удаления пропусков в колонке meal: 65229\n"
     ]
    }
   ],
   "source": [
    "df['meal'] = df['meal'].astype(\"str\")\n",
    "df['meal'] = df['meal'].str.strip()\n",
    "df['meal'] = df['meal'].replace(\"nan\" , \"\")\n",
    "df = df.query('meal != \"\"')\n",
    "print('Количество объектов после удаления пропусков в колонке meal:', len(df))"
   ]
  },
  {
   "cell_type": "code",
   "execution_count": 84,
   "metadata": {},
   "outputs": [
    {
     "data": {
      "text/plain": [
       "BB    51697\n",
       "HB     7292\n",
       "SC     5789\n",
       "FB      451\n",
       "Name: meal, dtype: int64"
      ]
     },
     "execution_count": 84,
     "metadata": {},
     "output_type": "execute_result"
    }
   ],
   "source": [
    "df['meal'].value_counts(dropna=False)"
   ]
  },
  {
   "cell_type": "markdown",
   "metadata": {},
   "source": [
    "Посмотрим на уникальные значения в колонке *distribution_channel*:"
   ]
  },
  {
   "cell_type": "code",
   "execution_count": 85,
   "metadata": {
    "scrolled": false
   },
   "outputs": [
    {
     "data": {
      "text/plain": [
       "TA/TO        54454\n",
       "Direct        6853\n",
       "Corporate     3823\n",
       "GDS             99\n",
       "Name: distribution_channel, dtype: int64"
      ]
     },
     "execution_count": 85,
     "metadata": {},
     "output_type": "execute_result"
    }
   ],
   "source": [
    "df['distribution_channel'].value_counts(dropna=False)"
   ]
  },
  {
   "cell_type": "markdown",
   "metadata": {},
   "source": [
    "**Вывод:** все значения адекватны. Пропуски заполним значением \"TA/TO\"."
   ]
  },
  {
   "cell_type": "code",
   "execution_count": 86,
   "metadata": {
    "scrolled": true
   },
   "outputs": [
    {
     "name": "stdout",
     "output_type": "stream",
     "text": [
      "Доля пропусков в колонке distribution_channel, после заполнения пропусков: 0.0\n"
     ]
    }
   ],
   "source": [
    "df['distribution_channel'] = df['distribution_channel'].astype(\"str\")\n",
    "df['distribution_channel'] = df['distribution_channel'].replace(\"nan\", \"TA/TO\")\n",
    "print('Доля пропусков в колонке distribution_channel, после заполнения пропусков:', df['meal'].isna().mean())"
   ]
  },
  {
   "cell_type": "markdown",
   "metadata": {},
   "source": [
    "<div class=\"alert alert-block alert-success\">\n",
    "<b>Комментарий ревьюера ✔️</b> \n",
    "\n",
    "Прекрасно, все пропуски обработаны корректно.\n",
    "</div>\n"
   ]
  },
  {
   "cell_type": "markdown",
   "metadata": {},
   "source": [
    "### Предобработка полей без пропусков:"
   ]
  },
  {
   "cell_type": "markdown",
   "metadata": {},
   "source": [
    "В колонке *is_canceled* пропусков нет. Посмотрим уникальные значения этого признака:"
   ]
  },
  {
   "cell_type": "code",
   "execution_count": 87,
   "metadata": {},
   "outputs": [
    {
     "data": {
      "text/plain": [
       "0    41185\n",
       "1    24044\n",
       "Name: is_canceled, dtype: int64"
      ]
     },
     "execution_count": 87,
     "metadata": {},
     "output_type": "execute_result"
    }
   ],
   "source": [
    "df['is_canceled'].value_counts(dropna = False)"
   ]
  },
  {
   "cell_type": "markdown",
   "metadata": {},
   "source": [
    "**Вывод:** в колонке имются два уникальных значения \"0\" и \"1\". \"1\" означает, что клиент отменил заказ. "
   ]
  },
  {
   "cell_type": "markdown",
   "metadata": {},
   "source": [
    "Посмотрим уникальные значения в колонке *arrival_date_year*:"
   ]
  },
  {
   "cell_type": "code",
   "execution_count": 88,
   "metadata": {
    "scrolled": true
   },
   "outputs": [
    {
     "data": {
      "text/plain": [
       "2016    46901\n",
       "2015    18328\n",
       "Name: arrival_date_year, dtype: int64"
      ]
     },
     "execution_count": 88,
     "metadata": {},
     "output_type": "execute_result"
    }
   ],
   "source": [
    "df['arrival_date_year'].value_counts()"
   ]
  },
  {
   "cell_type": "markdown",
   "metadata": {},
   "source": [
    "**Вывод:** в тренировочном дата-сете мы имеем данные за 3 года."
   ]
  },
  {
   "cell_type": "markdown",
   "metadata": {},
   "source": [
    "Посмотрим уникальные значения колонки *arrival_date_year* тестового дата-сета:"
   ]
  },
  {
   "cell_type": "code",
   "execution_count": 89,
   "metadata": {
    "scrolled": false
   },
   "outputs": [
    {
     "data": {
      "text/plain": [
       "2017    32412\n",
       "Name: arrival_date_year, dtype: int64"
      ]
     },
     "execution_count": 89,
     "metadata": {},
     "output_type": "execute_result"
    }
   ],
   "source": [
    "df_test['arrival_date_year'].value_counts()"
   ]
  },
  {
   "cell_type": "markdown",
   "metadata": {},
   "source": [
    "**Вывод:** в тестовом дата-сете данные за те же 3 года."
   ]
  },
  {
   "cell_type": "markdown",
   "metadata": {},
   "source": [
    "Посмотрим уникальные значения в колонке arrival_date_month:"
   ]
  },
  {
   "cell_type": "code",
   "execution_count": 90,
   "metadata": {
    "scrolled": true
   },
   "outputs": [
    {
     "name": "stdout",
     "output_type": "stream",
     "text": [
      "Уникальные значения месяцев:  October      9255\n",
      "September    8782\n",
      "August       6678\n",
      "November     5761\n",
      "July         5718\n",
      "December     5497\n",
      "April        4804\n",
      "May          4677\n",
      "June         4659\n",
      "March        4148\n",
      "February     3358\n",
      "January      1892\n",
      "Name: arrival_date_month, dtype: int64\n",
      "Количество уникальных месяцев:  12\n"
     ]
    }
   ],
   "source": [
    "print('Уникальные значения месяцев: ', df['arrival_date_month'].value_counts())\n",
    "print('Количество уникальных месяцев: ', len(df['arrival_date_month'].value_counts()))"
   ]
  },
  {
   "cell_type": "markdown",
   "metadata": {},
   "source": [
    "**Вывод:** мы имеем данные за все 12 месяцев в году."
   ]
  },
  {
   "cell_type": "markdown",
   "metadata": {},
   "source": [
    "Посмотрим уникальные значения в колонке arrival_date_week_number:"
   ]
  },
  {
   "cell_type": "code",
   "execution_count": 91,
   "metadata": {
    "scrolled": false
   },
   "outputs": [
    {
     "name": "stdout",
     "output_type": "stream",
     "text": [
      "Уникальные значения порядкового номера недели в году:  [27 28 29 30 31 32 33 34 35 36 37 38 39 40 41 42 43 44 45 46 47 48 49 50\n",
      " 51 52 53  1  2  3  4  5  6  7  8  9 10 11 12 13 14 15 16 17 18 19 20 21\n",
      " 22 23 24 25 26]\n",
      "Количество уникальных значений порядковых номеров недель в году:  53\n"
     ]
    }
   ],
   "source": [
    "print('Уникальные значения порядкового номера недели в году: ', df['arrival_date_week_number'].unique())\n",
    "print('Количество уникальных значений порядковых номеров недель в году: ', len(df['arrival_date_week_number'].value_counts()))"
   ]
  },
  {
   "cell_type": "markdown",
   "metadata": {},
   "source": [
    "**Вывод:** максимальное количество недель в году - 53."
   ]
  },
  {
   "cell_type": "markdown",
   "metadata": {},
   "source": [
    "Посмотрим уникальные значения в колонке *arrival_date_day_of_month*:"
   ]
  },
  {
   "cell_type": "code",
   "execution_count": 92,
   "metadata": {
    "scrolled": true
   },
   "outputs": [
    {
     "name": "stdout",
     "output_type": "stream",
     "text": [
      "Уникальные значения порядковых номеров дней в месяце:  [ 1  2  3  4  5  6  7  8  9 10 11 12 13 14 15 16 17 18 19 20 21 22 23 24\n",
      " 25 26 27 28 29 30 31]\n",
      "Количество уникальных значений порядковых номеров дней в месяце:  31\n"
     ]
    }
   ],
   "source": [
    "print('Уникальные значения порядковых номеров дней в месяце: ', df['arrival_date_day_of_month'].unique())\n",
    "print('Количество уникальных значений порядковых номеров дней в месяце: ', len(df['arrival_date_day_of_month'].value_counts()))"
   ]
  },
  {
   "cell_type": "markdown",
   "metadata": {},
   "source": [
    "Посмотрим уникальные значения в колонке *stays_in_weekend_nights*:"
   ]
  },
  {
   "cell_type": "code",
   "execution_count": 93,
   "metadata": {
    "scrolled": true
   },
   "outputs": [
    {
     "name": "stdout",
     "output_type": "stream",
     "text": [
      "Уникальные значения колонки \"количество ночей в выходные дни\" :  0    29738\n",
      "1    17721\n",
      "2    17357\n",
      "3      261\n",
      "4      152\n",
      "Name: stays_in_weekend_nights, dtype: int64\n"
     ]
    }
   ],
   "source": [
    "print('Уникальные значения колонки \"количество ночей в выходные дни\" : ', df['stays_in_weekend_nights'].value_counts())"
   ]
  },
  {
   "cell_type": "markdown",
   "metadata": {},
   "source": [
    "**Вывод:** все значения адекватны: от 0 до 4."
   ]
  },
  {
   "cell_type": "markdown",
   "metadata": {},
   "source": [
    "Посмотрим уникальные значения в колонке *stays_in_week_nights*:"
   ]
  },
  {
   "cell_type": "code",
   "execution_count": 94,
   "metadata": {
    "scrolled": true
   },
   "outputs": [
    {
     "name": "stdout",
     "output_type": "stream",
     "text": [
      "Уникальные значения колонки \"количество ночей в будние дни\" :  2    20137\n",
      "1    17850\n",
      "3    12341\n",
      "4     5131\n",
      "5     5128\n",
      "0     4007\n",
      "6      635\n",
      "Name: stays_in_week_nights, dtype: int64\n"
     ]
    }
   ],
   "source": [
    "print('Уникальные значения колонки \"количество ночей в будние дни\" : ', df['stays_in_week_nights'].value_counts())"
   ]
  },
  {
   "cell_type": "markdown",
   "metadata": {},
   "source": [
    "**Вывод:** все значения адекватны: от 0 до 6."
   ]
  },
  {
   "cell_type": "markdown",
   "metadata": {},
   "source": [
    "Посмотрим уникальные значения в колонке *country*:"
   ]
  },
  {
   "cell_type": "code",
   "execution_count": 95,
   "metadata": {
    "scrolled": false
   },
   "outputs": [
    {
     "name": "stdout",
     "output_type": "stream",
     "text": [
      "Количество уникальных значений колонки df[country] \"гражданство постояльца\" :  155\n",
      "Количество уникальных значений колонки df_test[country] \"гражданство постояльца\" :  143\n"
     ]
    }
   ],
   "source": [
    "print('Количество уникальных значений колонки df[country] \"гражданство постояльца\" : ', df['country'].nunique())\n",
    "print('Количество уникальных значений колонки df_test[country] \"гражданство постояльца\" : ', df_test['country'].nunique())"
   ]
  },
  {
   "cell_type": "markdown",
   "metadata": {},
   "source": [
    "**Вывод:** количество уникальных значений в колонке *country* тестового набора данных больше на 46 значений."
   ]
  },
  {
   "cell_type": "markdown",
   "metadata": {},
   "source": [
    "Посмотрим уникальные значения в колонке *is_repeated_guest*:"
   ]
  },
  {
   "cell_type": "code",
   "execution_count": 96,
   "metadata": {
    "scrolled": false
   },
   "outputs": [
    {
     "name": "stdout",
     "output_type": "stream",
     "text": [
      "Уникальные значения колонки \"бронирует второй раз\" :  0    63458\n",
      "1     1771\n",
      "Name: is_repeated_guest, dtype: int64\n"
     ]
    }
   ],
   "source": [
    "print('Уникальные значения колонки \"бронирует второй раз\" : ', df['is_repeated_guest'].value_counts())"
   ]
  },
  {
   "cell_type": "markdown",
   "metadata": {},
   "source": [
    "**Вывод:** В колонке *is_repeated_guest* имеем две категории значений: 0 и 1."
   ]
  },
  {
   "cell_type": "markdown",
   "metadata": {},
   "source": [
    "Посмотрим уникальные значения в колонке *previous_cancellations*:"
   ]
  },
  {
   "cell_type": "code",
   "execution_count": 97,
   "metadata": {},
   "outputs": [
    {
     "name": "stdout",
     "output_type": "stream",
     "text": [
      "Уникальные значения колонки \"количество отменённых заказов у клиента\" :  0     59591\n",
      "1      5367\n",
      "2        54\n",
      "3        51\n",
      "11       35\n",
      "24       28\n",
      "25       19\n",
      "26       18\n",
      "19       17\n",
      "5        13\n",
      "13       12\n",
      "14       11\n",
      "6         7\n",
      "4         5\n",
      "21        1\n",
      "Name: previous_cancellations, dtype: int64\n"
     ]
    }
   ],
   "source": [
    "print('Уникальные значения колонки \"количество отменённых заказов у клиента\" : ', df['previous_cancellations'].value_counts())"
   ]
  },
  {
   "cell_type": "markdown",
   "metadata": {},
   "source": [
    "Посмотрим уникальные значения в колонке *previous_bookings_not_canceled*:"
   ]
  },
  {
   "cell_type": "code",
   "execution_count": 98,
   "metadata": {
    "scrolled": true
   },
   "outputs": [
    {
     "name": "stdout",
     "output_type": "stream",
     "text": [
      "Уникальные значения колонки \"количество подтвержденных заказов у клиента\" :  0     63686\n",
      "1       645\n",
      "2       252\n",
      "3       136\n",
      "4       114\n",
      "5        89\n",
      "6        56\n",
      "7        34\n",
      "8        25\n",
      "9        23\n",
      "10       21\n",
      "11       16\n",
      "12       14\n",
      "25       10\n",
      "13        9\n",
      "21        8\n",
      "14        8\n",
      "15        7\n",
      "22        7\n",
      "16        6\n",
      "20        5\n",
      "19        5\n",
      "18        5\n",
      "17        5\n",
      "24        3\n",
      "27        3\n",
      "44        2\n",
      "23        2\n",
      "28        2\n",
      "48        2\n",
      "29        2\n",
      "56        1\n",
      "35        1\n",
      "33        1\n",
      "58        1\n",
      "36        1\n",
      "26        1\n",
      "32        1\n",
      "37        1\n",
      "57        1\n",
      "38        1\n",
      "34        1\n",
      "52        1\n",
      "39        1\n",
      "40        1\n",
      "55        1\n",
      "41        1\n",
      "42        1\n",
      "54        1\n",
      "43        1\n",
      "53        1\n",
      "45        1\n",
      "30        1\n",
      "47        1\n",
      "49        1\n",
      "50        1\n",
      "51        1\n",
      "31        1\n",
      "Name: previous_bookings_not_canceled, dtype: int64\n"
     ]
    }
   ],
   "source": [
    "print('Уникальные значения колонки \"количество подтвержденных заказов у клиента\" : ', df['previous_bookings_not_canceled'].value_counts())"
   ]
  },
  {
   "cell_type": "markdown",
   "metadata": {},
   "source": [
    "**Вывод:** значения колонки \"количество подтвержденных заказов у клиента\" адекватны."
   ]
  },
  {
   "cell_type": "markdown",
   "metadata": {},
   "source": [
    "Посмотрим уникальные значения в колонке *reserved_room_type*:"
   ]
  },
  {
   "cell_type": "code",
   "execution_count": 99,
   "metadata": {},
   "outputs": [
    {
     "name": "stdout",
     "output_type": "stream",
     "text": [
      "Уникальные значения колонки \"тип забронированной комнаты\" df :  A                   50501\n",
      "D                    9387\n",
      "E                    2448\n",
      "F                    1213\n",
      "B                     860\n",
      "G                     592\n",
      "C                     228\n",
      "Name: reserved_room_type, dtype: int64\n",
      "Уникальные значения колонки \"тип забронированной комнаты\" df_test :  A                   23471\n",
      "D                    6123\n",
      "E                    1644\n",
      "F                     503\n",
      "G                     278\n",
      "C                     201\n",
      "B                     192\n",
      "Name: reserved_room_type, dtype: int64\n"
     ]
    }
   ],
   "source": [
    "print('Уникальные значения колонки \"тип забронированной комнаты\" df : ', df['reserved_room_type'].value_counts())\n",
    "print('Уникальные значения колонки \"тип забронированной комнаты\" df_test : ', df_test['reserved_room_type'].value_counts())"
   ]
  },
  {
   "cell_type": "markdown",
   "metadata": {},
   "source": [
    "**Вывод:** в тестовом дата-сете df_test в колонке \"reserved_room_type\" нет значения \"H\", но это допустимо.В колонке \"тип забронированной комнаты\" df мы видим некорректное значение \"L\". Удалим эти строки из дата-сета df, их всего 6:"
   ]
  },
  {
   "cell_type": "code",
   "execution_count": 100,
   "metadata": {},
   "outputs": [
    {
     "name": "stdout",
     "output_type": "stream",
     "text": [
      "Количество объектов в df после удаления строк с некорректными значениями колонки reserved_room_type:  65229\n"
     ]
    }
   ],
   "source": [
    "df['reserved_room_type'] = df['reserved_room_type'].str.strip()\n",
    "df_test['reserved_room_type'] = df_test['reserved_room_type'].str.strip()\n",
    "df = df.query('reserved_room_type != \"L\"')\n",
    "print('Количество объектов в df после удаления строк с некорректными значениями колонки reserved_room_type: ', len(df))\n"
   ]
  },
  {
   "cell_type": "markdown",
   "metadata": {},
   "source": [
    "Посмотрим уникальные значения в колонке *assigned_room_type*:"
   ]
  },
  {
   "cell_type": "code",
   "execution_count": 101,
   "metadata": {
    "scrolled": true
   },
   "outputs": [],
   "source": [
    "#print('Уникальные значения колонки \"тип предоставленной комнаты\" df : ', df['assigned_room_type'].value_counts())\n",
    "#print('Уникальные значения колонки \"тип предоставленной комнаты\" df_test : ', df_test['assigned_room_type'].value_counts())"
   ]
  },
  {
   "cell_type": "markdown",
   "metadata": {},
   "source": [
    "**Вывод:** видим, что df имеется некорректное значение \"I\", а в df_test имеется \"К\"."
   ]
  },
  {
   "cell_type": "markdown",
   "metadata": {},
   "source": [
    "Удалим значение \"I\" из df и \"К\" из df_test из колонки *assigned_room_type* - тип предоставленной комнаты:"
   ]
  },
  {
   "cell_type": "code",
   "execution_count": 102,
   "metadata": {},
   "outputs": [],
   "source": [
    "#df['assigned_room_type'] = df['assigned_room_type'].str.strip()\n",
    "#df_test['assigned_room_type'] = df_test['assigned_room_type'].str.strip()\n",
    "#df = df.query('assigned_room_type != \"I\"')\n",
    "#df_test = df_test.query('assigned_room_type != \"K\"')\n",
    "#print('Количество объектов в df после удаления строк с  assigned_room_type == \"I\": ', len(df))\n",
    "#print('Количество объектов в df_test после удаления строк с assigned_room_type == \"К\": ', len(df_test))"
   ]
  },
  {
   "cell_type": "markdown",
   "metadata": {},
   "source": [
    "Посмотрим уникальные значения в колонке *booking_changes* - — количество изменений параметров заказа:"
   ]
  },
  {
   "cell_type": "code",
   "execution_count": 103,
   "metadata": {
    "scrolled": true
   },
   "outputs": [
    {
     "data": {
      "text/plain": [
       "0     56195\n",
       "1      6615\n",
       "2      1754\n",
       "3       413\n",
       "4       149\n",
       "5        42\n",
       "6        19\n",
       "7        18\n",
       "8         7\n",
       "9         5\n",
       "13        4\n",
       "15        2\n",
       "14        2\n",
       "10        2\n",
       "17        1\n",
       "16        1\n",
       "Name: booking_changes, dtype: int64"
      ]
     },
     "execution_count": 103,
     "metadata": {},
     "output_type": "execute_result"
    }
   ],
   "source": [
    "df['booking_changes'].value_counts()"
   ]
  },
  {
   "cell_type": "markdown",
   "metadata": {},
   "source": [
    "**Вывод:** все значения в колонке *booking_changes* корректны."
   ]
  },
  {
   "cell_type": "markdown",
   "metadata": {},
   "source": [
    "Посмотрим уникальные значения колонки *agent* - — агент, через которого сделан заказ:"
   ]
  },
  {
   "cell_type": "code",
   "execution_count": 104,
   "metadata": {
    "scrolled": false
   },
   "outputs": [],
   "source": [
    "#print('Уникальные значения колонки agent: ', df['agent'].unique())\n",
    "#print('Количество уникальных значений колонки agent: ', df['agent'].nunique())"
   ]
  },
  {
   "cell_type": "markdown",
   "metadata": {},
   "source": [
    "**Вывод:** все значения колонки *agent* - корректны. Общее количество уникальных - 174."
   ]
  },
  {
   "cell_type": "markdown",
   "metadata": {},
   "source": [
    "Посмотрим уникальные значения колонки *company* - — ID компании, ответственная за бронирование:"
   ]
  },
  {
   "cell_type": "code",
   "execution_count": 105,
   "metadata": {
    "scrolled": false
   },
   "outputs": [],
   "source": [
    "#print('Уникальные значения колонки company: ', df['company'].unique())\n",
    "#print('Количество уникальных значений колонки company: ', df['company'].nunique())"
   ]
  },
  {
   "cell_type": "markdown",
   "metadata": {},
   "source": [
    "Посмотрим уникальные значения колонки *days_in_waiting_list* — сколько дней заказ ожидал подтверждения:"
   ]
  },
  {
   "cell_type": "code",
   "execution_count": 106,
   "metadata": {
    "scrolled": true
   },
   "outputs": [
    {
     "data": {
      "text/plain": [
       "array([  0,  50,  47,  65, 122,  75, 101, 150, 125,  22, 142,   2,  13,\n",
       "        44,  38,  48,  33,  77,  21,  80,  59,  40,  58,  89,  53,  49,\n",
       "        60,  69,  87,  91,  57,  99, 111,  79,  98,  85,  63,  15,   3,\n",
       "        20,  93,   4,  41,  34, 224,  31,  39,  56, 187, 176,  71,  55,\n",
       "        96, 236, 259, 207, 215, 160, 120,  30,  32,  27,  62,  24, 108,\n",
       "       147,   5,  14, 107,  70,   8,  35, 178, 174, 162,  68,  11, 193,\n",
       "        10,  76,  17,  45,   6,  19,  28,  42,  25,  46,   9,   1,  43,\n",
       "        72,  12,  61,  81,  74, 167])"
      ]
     },
     "execution_count": 106,
     "metadata": {},
     "output_type": "execute_result"
    }
   ],
   "source": [
    "df['days_in_waiting_list'].unique()"
   ]
  },
  {
   "cell_type": "markdown",
   "metadata": {},
   "source": [
    "**Вывод:** все значения колонки *days_in_waiting_list* корректны."
   ]
  },
  {
   "cell_type": "markdown",
   "metadata": {},
   "source": [
    "Посмотрим уникальные значения колонки *customer_type*  — тип заказчика:\n",
    "*Contract* — договор с юридическим лицом;\n",
    "*Group* — групповой заезд;\n",
    "*Transient* — не связано с договором или групповым заездом;\n",
    "*Transient-party* — не связано с договором или групповым заездом, но связано с бронированием типа Transient.:"
   ]
  },
  {
   "cell_type": "code",
   "execution_count": 107,
   "metadata": {},
   "outputs": [
    {
     "data": {
      "text/plain": [
       "Transient          45493\n",
       "Transient-Party    16703\n",
       "Contract            2746\n",
       "Group                287\n",
       "Name: customer_type, dtype: int64"
      ]
     },
     "execution_count": 107,
     "metadata": {},
     "output_type": "execute_result"
    }
   ],
   "source": [
    "df['customer_type'].value_counts()"
   ]
  },
  {
   "cell_type": "code",
   "execution_count": 108,
   "metadata": {},
   "outputs": [
    {
     "data": {
      "text/plain": [
       "Transient          27461\n",
       "Transient-Party     4427\n",
       "Contract             359\n",
       "Group                165\n",
       "Name: customer_type, dtype: int64"
      ]
     },
     "execution_count": 108,
     "metadata": {},
     "output_type": "execute_result"
    }
   ],
   "source": [
    "df_test['customer_type'].value_counts()"
   ]
  },
  {
   "cell_type": "markdown",
   "metadata": {},
   "source": [
    "**Вывод:** все значения колонки customer_type корректны."
   ]
  },
  {
   "cell_type": "markdown",
   "metadata": {},
   "source": [
    "Посмотрим уникальные значения колонки *required_car_parking_spaces* — количество мест для автомобилей:"
   ]
  },
  {
   "cell_type": "code",
   "execution_count": 109,
   "metadata": {
    "scrolled": true
   },
   "outputs": [
    {
     "name": "stdout",
     "output_type": "stream",
     "text": [
      "Уникальные значения колонки required_car_parking_spaces дата-сета df:  0    61547\n",
      "1     3670\n",
      "2       11\n",
      "3        1\n",
      "Name: required_car_parking_spaces, dtype: int64\n",
      "Уникальные значения колонки required_car_parking_spaces дата-сета df_test: 0    30935\n",
      "1     1468\n",
      "2        6\n",
      "8        2\n",
      "3        1\n",
      "Name: required_car_parking_spaces, dtype: int64\n"
     ]
    }
   ],
   "source": [
    "print('Уникальные значения колонки required_car_parking_spaces дата-сета df: ', df['required_car_parking_spaces'].value_counts())\n",
    "print('Уникальные значения колонки required_car_parking_spaces дата-сета df_test:', df_test['required_car_parking_spaces'].value_counts())"
   ]
  },
  {
   "cell_type": "markdown",
   "metadata": {},
   "source": [
    "**Вывод:** в df мы видим выбивающееся значение \"8\". Скорее всего это значение \"3\". Вывод уникальных значений этой же колонки из df_test нам это подтверждает."
   ]
  },
  {
   "cell_type": "markdown",
   "metadata": {},
   "source": [
    "Исправим значение \"8\" на \"3\" в колонке *required_car_parking_spaces* дата-сета df:"
   ]
  },
  {
   "cell_type": "code",
   "execution_count": 110,
   "metadata": {},
   "outputs": [
    {
     "name": "stdout",
     "output_type": "stream",
     "text": [
      "Уникальные значения колонки required_car_parking_spaces дата-сета df после замены выбивающего значения \"8\" на \"3\":  0    61547\n",
      "1     3670\n",
      "2       11\n",
      "3        1\n",
      "Name: required_car_parking_spaces, dtype: int64\n"
     ]
    }
   ],
   "source": [
    "df.loc[(df.required_car_parking_spaces == 8), 'required_car_parking_spaces'] = 3\n",
    "print('Уникальные значения колонки required_car_parking_spaces дата-сета df после замены выбивающего значения \"8\" на \"3\": ', df['required_car_parking_spaces'].value_counts())"
   ]
  },
  {
   "cell_type": "markdown",
   "metadata": {},
   "source": [
    "Посмотрим уникальные значения колонки *total_of_special_requests* — количество специальных отметок:"
   ]
  },
  {
   "cell_type": "code",
   "execution_count": 111,
   "metadata": {
    "scrolled": true
   },
   "outputs": [
    {
     "name": "stdout",
     "output_type": "stream",
     "text": [
      "0    40671\n",
      "1    16958\n",
      "2     6444\n",
      "3     1036\n",
      "4      107\n",
      "5       13\n",
      "Name: total_of_special_requests, dtype: int64\n"
     ]
    }
   ],
   "source": [
    "print(df['total_of_special_requests'].value_counts())"
   ]
  },
  {
   "cell_type": "markdown",
   "metadata": {},
   "source": [
    "**Вывод:** все значения в колонке *total_of_special_requests* корректны."
   ]
  },
  {
   "cell_type": "markdown",
   "metadata": {},
   "source": [
    "Посмотрим уникальные значения колонки *total_nights* - общее количество ночей:"
   ]
  },
  {
   "cell_type": "code",
   "execution_count": 112,
   "metadata": {
    "scrolled": false
   },
   "outputs": [
    {
     "data": {
      "text/plain": [
       "2     16795\n",
       "3     15652\n",
       "1     12122\n",
       "4      9629\n",
       "5      4288\n",
       "7      3853\n",
       "6      2078\n",
       "8       542\n",
       "9       152\n",
       "10      118\n",
       "Name: total_nights, dtype: int64"
      ]
     },
     "execution_count": 112,
     "metadata": {},
     "output_type": "execute_result"
    }
   ],
   "source": [
    "df['total_nights'].value_counts()"
   ]
  },
  {
   "cell_type": "markdown",
   "metadata": {},
   "source": [
    "**Вывод:** все значения колонки *total_nights* корректны."
   ]
  },
  {
   "cell_type": "markdown",
   "metadata": {},
   "source": [
    "В дата-сете имеются колонки *reserved_room_type* - категория забронированного номера и *assigned_room_type* - категория фактически предоставленной комнаты. Они совпадают не всегда:"
   ]
  },
  {
   "cell_type": "code",
   "execution_count": 113,
   "metadata": {
    "scrolled": false
   },
   "outputs": [],
   "source": [
    "#df_filt_room = df[['reserved_room_type', 'assigned_room_type']]\n",
    "#display(df_filt_room.query('reserved_room_type != assigned_room_type').head())\n",
    "#print('Доля объектов с несовпадающими \"reserved_room_type\" и \"assigned_room_type\": ', len(df_filt_room.query('reserved_room_type != assigned_room_type')) / len(df))"
   ]
  },
  {
   "cell_type": "markdown",
   "metadata": {},
   "source": [
    "**Вывод:** Процент объектов с несовпадающими категорией забронированной комнаты и впоследствии предоставленной - 20 %. Эту особенность учтем в окончательной цене номера. "
   ]
  },
  {
   "cell_type": "markdown",
   "metadata": {},
   "source": [
    "Бывает так, что клиенту предоставили номер более высокой категории, чем забронированный:"
   ]
  },
  {
   "cell_type": "code",
   "execution_count": 114,
   "metadata": {
    "scrolled": true
   },
   "outputs": [],
   "source": [
    "#df_filt_room.query('reserved_room_type > assigned_room_type').head()"
   ]
  },
  {
   "cell_type": "markdown",
   "metadata": {},
   "source": [
    "Бывает и наоборот - категорию понизили:"
   ]
  },
  {
   "cell_type": "code",
   "execution_count": 115,
   "metadata": {
    "scrolled": true
   },
   "outputs": [],
   "source": [
    "#df_filt_room.query('reserved_room_type < assigned_room_type').head()"
   ]
  },
  {
   "cell_type": "markdown",
   "metadata": {},
   "source": [
    "**Вывод:** Ценообразование рассматриваемых объектов будет обосновано в разделе \"Формулировка ML-задачи на основе бизнес-задачи\"."
   ]
  },
  {
   "cell_type": "markdown",
   "metadata": {},
   "source": [
    "<div class=\"alert alert-block alert-success\">\n",
    "<b>Комментарий ревьюера ✔️</b> \n",
    "\n",
    "Исследовательский анализ исходных данных выполнен блестяще 👏👏👏\n",
    "</div>\n"
   ]
  },
  {
   "cell_type": "markdown",
   "metadata": {},
   "source": [
    "### Замена типов данных"
   ]
  },
  {
   "cell_type": "markdown",
   "metadata": {},
   "source": [
    "В *df* и *df_test* имеются одни и те же данные, но разных типов, приведем отличающиеся типы данных в *df* к типам в *df_test*:"
   ]
  },
  {
   "cell_type": "code",
   "execution_count": 116,
   "metadata": {},
   "outputs": [
    {
     "name": "stdout",
     "output_type": "stream",
     "text": [
      "Тип данных в \"df[lead_time]\" : int64\n",
      "Тип данных в \"df[adults]\" : int64\n",
      "Тип данных в \"df[babies]\" : int64\n"
     ]
    }
   ],
   "source": [
    "df['lead_time'] = df['lead_time'].astype('int64')\n",
    "df['adults'] = df['adults'].astype('int64')\n",
    "df['babies'] = df['babies'].astype('int64')\n",
    "print('Тип данных в \"df[lead_time]\" :', df['lead_time'].dtype)\n",
    "print('Тип данных в \"df[adults]\" :', df['adults'].dtype)\n",
    "print('Тип данных в \"df[babies]\" :', df['babies'].dtype)"
   ]
  },
  {
   "cell_type": "markdown",
   "metadata": {},
   "source": [
    "### Расчет прибыли отеля до внедрения машинного обучения:"
   ]
  },
  {
   "cell_type": "markdown",
   "metadata": {},
   "source": [
    "Расчет прибыли будем считать на дата-сете df_test, но для расчетов сохраним его в отдельной переменной df_profit:"
   ]
  },
  {
   "cell_type": "code",
   "execution_count": 117,
   "metadata": {},
   "outputs": [],
   "source": [
    "df_profit = df_test"
   ]
  },
  {
   "cell_type": "markdown",
   "metadata": {},
   "source": [
    "<div class=\"alert alert-block alert-warning\">\n",
    "<b>Комментарий ревьюера ⚠️</b> \n",
    "\n",
    "Обрати внимание, при вызове\n",
    "    \n",
    "    df_profit = df_test\n",
    "    \n",
    "копирования датасета не происходит. Все изменения с df_profit будут отражаться и на df_test. Если бы ты ниже удалял столбцы с параметром inplace=True:\n",
    "    \n",
    "        df_profit.drop(['lead_time', 'stays_in_weekend_nights', 'stays_in_week_nights', 'adults', 'children', 'babies', 'meal',\n",
    "       'country', 'distribution_channel', 'is_repeated_guest',\n",
    "       'previous_cancellations', 'previous_bookings_not_canceled',\n",
    "       'reserved_room_type', 'booking_changes', 'agent',\n",
    "       'company', 'days_in_waiting_list', 'customer_type',\n",
    "       'required_car_parking_spaces', 'total_of_special_requests'], axis=1, inplace=True)\n",
    "    \n",
    "то автоматически столбцы удалялись бы и из df_test. Чтобы избежать ошибок подобного рода, для копирования датасета используй специальную функцию.\n",
    "\n",
    "</div>\n",
    "\n"
   ]
  },
  {
   "cell_type": "markdown",
   "metadata": {},
   "source": [
    "<div class=\"alert alert-info\" style=\"border-radius: 15px; box-shadow: 4px 4px 4px; border: 1px solid \">\n",
    "\n",
    "Я не хотел, чтобы изменения в df_profit, от отражались бы на df_test. Так я в итоге правильно сделал?\n",
    "</div>  "
   ]
  },
  {
   "cell_type": "markdown",
   "metadata": {},
   "source": [
    "Оставим в df_profit только те колонки, которые пригодятся нам для расчета прибыли, остальные удалим:"
   ]
  },
  {
   "cell_type": "code",
   "execution_count": 118,
   "metadata": {},
   "outputs": [],
   "source": [
    "df_profit = df_profit.drop(['lead_time', 'stays_in_weekend_nights', 'stays_in_week_nights', 'adults', 'children', 'babies', 'meal',\n",
    "       'country', 'distribution_channel', 'is_repeated_guest',\n",
    "       'previous_cancellations', 'previous_bookings_not_canceled',\n",
    "       'booking_changes',\n",
    "       'days_in_waiting_list', 'customer_type',\n",
    "       'required_car_parking_spaces', 'total_of_special_requests'], axis=1).reset_index()\n"
   ]
  },
  {
   "cell_type": "code",
   "execution_count": 119,
   "metadata": {
    "scrolled": false
   },
   "outputs": [
    {
     "data": {
      "text/html": [
       "<div>\n",
       "<style scoped>\n",
       "    .dataframe tbody tr th:only-of-type {\n",
       "        vertical-align: middle;\n",
       "    }\n",
       "\n",
       "    .dataframe tbody tr th {\n",
       "        vertical-align: top;\n",
       "    }\n",
       "\n",
       "    .dataframe thead th {\n",
       "        text-align: right;\n",
       "    }\n",
       "</style>\n",
       "<table border=\"1\" class=\"dataframe\">\n",
       "  <thead>\n",
       "    <tr style=\"text-align: right;\">\n",
       "      <th></th>\n",
       "      <th>index</th>\n",
       "      <th>id</th>\n",
       "      <th>is_canceled</th>\n",
       "      <th>arrival_date_year</th>\n",
       "      <th>arrival_date_month</th>\n",
       "      <th>arrival_date_week_number</th>\n",
       "      <th>arrival_date_day_of_month</th>\n",
       "      <th>reserved_room_type</th>\n",
       "      <th>total_nights</th>\n",
       "    </tr>\n",
       "  </thead>\n",
       "  <tbody>\n",
       "    <tr>\n",
       "      <td>0</td>\n",
       "      <td>0</td>\n",
       "      <td>6086</td>\n",
       "      <td>1</td>\n",
       "      <td>2017</td>\n",
       "      <td>January</td>\n",
       "      <td>1</td>\n",
       "      <td>1</td>\n",
       "      <td>A</td>\n",
       "      <td>1</td>\n",
       "    </tr>\n",
       "    <tr>\n",
       "      <td>1</td>\n",
       "      <td>1</td>\n",
       "      <td>6087</td>\n",
       "      <td>1</td>\n",
       "      <td>2017</td>\n",
       "      <td>January</td>\n",
       "      <td>1</td>\n",
       "      <td>1</td>\n",
       "      <td>A</td>\n",
       "      <td>4</td>\n",
       "    </tr>\n",
       "  </tbody>\n",
       "</table>\n",
       "</div>"
      ],
      "text/plain": [
       "   index    id  is_canceled  arrival_date_year arrival_date_month  \\\n",
       "0      0  6086            1               2017            January   \n",
       "1      1  6087            1               2017            January   \n",
       "\n",
       "   arrival_date_week_number  arrival_date_day_of_month reserved_room_type  \\\n",
       "0                         1                          1                  A   \n",
       "1                         1                          1                  A   \n",
       "\n",
       "   total_nights  \n",
       "0             1  \n",
       "1             4  "
      ]
     },
     "metadata": {},
     "output_type": "display_data"
    }
   ],
   "source": [
    "display(df_profit.head(2))"
   ]
  },
  {
   "cell_type": "markdown",
   "metadata": {},
   "source": [
    "По заданным условиям рассмотрим внимательнее: из чего состоит итоговая прибыль отеля. В самом упрощенном варианте это формула: \"Прибыль\"(profit) = \"Доход\"(income) - \"Расход\"(cost). Будем рассматривать два варианта: is_canceled == 0 - клиент воспользовался забронированным номером и заселился и is_canceled == 1 - клиент снял бронь или не явился в день заселения. Рассчитаем отдельно из чего складывается \"Доход\"(income) = Стоимость номера в зависимости от категории(price_of_nights) * сезонный коэфициент(coef_seas) * количество ночей(total_nights). Расход состоит из двух составляющих: \"Расход\"(cost) = \"Затраты на приготовление номера\"(one_time_cost) + \"Затраты на уборку каждые 2 дня\"(period_cost). \"Затраты на уборку каждые 2 дня\"(period_cost) присутствуют если постоялец снял номер больше чем на 2 ночи. Запишем итоговую формулу расчета прибыли отеля:\n",
    "+ *Для is_canceled == 0* :  \"Прибыль\"(profit) = (Стоимость номера в зависимости от категории(price_of_nights) * сезонный коэфициент(coef_seas) * количество ночей(total_nights)) - (\"Затраты на приготовление номера\"(one_time_cost) + \"Затраты на уборку каждые 2 дня\"(period_cost))\n",
    "+ *Для is_canceled == 1* : \"Доход\"(income) = 0; \"Затраты на приготовление номера\"(one_time_cost) = какой-то величине, в зависимости от категории номера; \"Затраты на уборку каждые 2 дня\"(period_cost) = 0."
   ]
  },
  {
   "cell_type": "markdown",
   "metadata": {},
   "source": [
    "Создадим словарь *coef_seas*, в котором месяц соответствует сезонному коэффициенту стоимости номера и словарь, в котором категории номера соответствую стоимость номера и расходы на его обслуживание:"
   ]
  },
  {
   "cell_type": "code",
   "execution_count": 120,
   "metadata": {},
   "outputs": [
    {
     "data": {
      "text/html": [
       "<div>\n",
       "<style scoped>\n",
       "    .dataframe tbody tr th:only-of-type {\n",
       "        vertical-align: middle;\n",
       "    }\n",
       "\n",
       "    .dataframe tbody tr th {\n",
       "        vertical-align: top;\n",
       "    }\n",
       "\n",
       "    .dataframe thead th {\n",
       "        text-align: right;\n",
       "    }\n",
       "</style>\n",
       "<table border=\"1\" class=\"dataframe\">\n",
       "  <thead>\n",
       "    <tr style=\"text-align: right;\">\n",
       "      <th></th>\n",
       "      <th>arrival_date_month</th>\n",
       "      <th>coef_seas</th>\n",
       "      <th>n_month</th>\n",
       "    </tr>\n",
       "  </thead>\n",
       "  <tbody>\n",
       "    <tr>\n",
       "      <td>0</td>\n",
       "      <td>January</td>\n",
       "      <td>1.0</td>\n",
       "      <td>1</td>\n",
       "    </tr>\n",
       "    <tr>\n",
       "      <td>1</td>\n",
       "      <td>February</td>\n",
       "      <td>1.0</td>\n",
       "      <td>2</td>\n",
       "    </tr>\n",
       "    <tr>\n",
       "      <td>2</td>\n",
       "      <td>March</td>\n",
       "      <td>1.2</td>\n",
       "      <td>3</td>\n",
       "    </tr>\n",
       "    <tr>\n",
       "      <td>3</td>\n",
       "      <td>April</td>\n",
       "      <td>1.2</td>\n",
       "      <td>4</td>\n",
       "    </tr>\n",
       "    <tr>\n",
       "      <td>4</td>\n",
       "      <td>May</td>\n",
       "      <td>1.2</td>\n",
       "      <td>5</td>\n",
       "    </tr>\n",
       "    <tr>\n",
       "      <td>5</td>\n",
       "      <td>June</td>\n",
       "      <td>1.4</td>\n",
       "      <td>6</td>\n",
       "    </tr>\n",
       "    <tr>\n",
       "      <td>6</td>\n",
       "      <td>July</td>\n",
       "      <td>1.4</td>\n",
       "      <td>7</td>\n",
       "    </tr>\n",
       "    <tr>\n",
       "      <td>7</td>\n",
       "      <td>August</td>\n",
       "      <td>1.4</td>\n",
       "      <td>8</td>\n",
       "    </tr>\n",
       "    <tr>\n",
       "      <td>8</td>\n",
       "      <td>September</td>\n",
       "      <td>1.2</td>\n",
       "      <td>9</td>\n",
       "    </tr>\n",
       "    <tr>\n",
       "      <td>9</td>\n",
       "      <td>October</td>\n",
       "      <td>1.2</td>\n",
       "      <td>10</td>\n",
       "    </tr>\n",
       "    <tr>\n",
       "      <td>10</td>\n",
       "      <td>November</td>\n",
       "      <td>1.2</td>\n",
       "      <td>11</td>\n",
       "    </tr>\n",
       "    <tr>\n",
       "      <td>11</td>\n",
       "      <td>December</td>\n",
       "      <td>1.0</td>\n",
       "      <td>12</td>\n",
       "    </tr>\n",
       "  </tbody>\n",
       "</table>\n",
       "</div>"
      ],
      "text/plain": [
       "   arrival_date_month  coef_seas  n_month\n",
       "0             January        1.0        1\n",
       "1            February        1.0        2\n",
       "2               March        1.2        3\n",
       "3               April        1.2        4\n",
       "4                 May        1.2        5\n",
       "5                June        1.4        6\n",
       "6                July        1.4        7\n",
       "7              August        1.4        8\n",
       "8           September        1.2        9\n",
       "9             October        1.2       10\n",
       "10           November        1.2       11\n",
       "11           December        1.0       12"
      ]
     },
     "metadata": {},
     "output_type": "display_data"
    },
    {
     "data": {
      "text/html": [
       "<div>\n",
       "<style scoped>\n",
       "    .dataframe tbody tr th:only-of-type {\n",
       "        vertical-align: middle;\n",
       "    }\n",
       "\n",
       "    .dataframe tbody tr th {\n",
       "        vertical-align: top;\n",
       "    }\n",
       "\n",
       "    .dataframe thead th {\n",
       "        text-align: right;\n",
       "    }\n",
       "</style>\n",
       "<table border=\"1\" class=\"dataframe\">\n",
       "  <thead>\n",
       "    <tr style=\"text-align: right;\">\n",
       "      <th></th>\n",
       "      <th>reserved_room_type</th>\n",
       "      <th>price_of_nights</th>\n",
       "      <th>one_time_cost</th>\n",
       "    </tr>\n",
       "  </thead>\n",
       "  <tbody>\n",
       "    <tr>\n",
       "      <td>0</td>\n",
       "      <td>A</td>\n",
       "      <td>1000</td>\n",
       "      <td>400</td>\n",
       "    </tr>\n",
       "    <tr>\n",
       "      <td>1</td>\n",
       "      <td>B</td>\n",
       "      <td>800</td>\n",
       "      <td>250</td>\n",
       "    </tr>\n",
       "    <tr>\n",
       "      <td>2</td>\n",
       "      <td>C</td>\n",
       "      <td>600</td>\n",
       "      <td>250</td>\n",
       "    </tr>\n",
       "    <tr>\n",
       "      <td>3</td>\n",
       "      <td>D</td>\n",
       "      <td>550</td>\n",
       "      <td>150</td>\n",
       "    </tr>\n",
       "    <tr>\n",
       "      <td>4</td>\n",
       "      <td>E</td>\n",
       "      <td>500</td>\n",
       "      <td>150</td>\n",
       "    </tr>\n",
       "    <tr>\n",
       "      <td>5</td>\n",
       "      <td>F</td>\n",
       "      <td>400</td>\n",
       "      <td>150</td>\n",
       "    </tr>\n",
       "    <tr>\n",
       "      <td>6</td>\n",
       "      <td>G</td>\n",
       "      <td>350</td>\n",
       "      <td>150</td>\n",
       "    </tr>\n",
       "    <tr>\n",
       "      <td>7</td>\n",
       "      <td>H</td>\n",
       "      <td>300</td>\n",
       "      <td>100</td>\n",
       "    </tr>\n",
       "  </tbody>\n",
       "</table>\n",
       "</div>"
      ],
      "text/plain": [
       "  reserved_room_type  price_of_nights  one_time_cost\n",
       "0                  A             1000            400\n",
       "1                  B              800            250\n",
       "2                  C              600            250\n",
       "3                  D              550            150\n",
       "4                  E              500            150\n",
       "5                  F              400            150\n",
       "6                  G              350            150\n",
       "7                  H              300            100"
      ]
     },
     "metadata": {},
     "output_type": "display_data"
    }
   ],
   "source": [
    "coef_seas = pd.DataFrame({'arrival_date_month': ['January', 'February', 'March', 'April', 'May', 'June',\n",
    "\n",
    "'July', 'August', 'September','October', 'November', 'December'],\n",
    "\n",
    "'coef_seas': [1.0, 1.0, 1.2, 1.2, 1.2, 1.4, 1.4, 1.4, 1.2, 1.2, 1.2, 1.0],\n",
    "\n",
    "'n_month': [1,2,3,4,5,6,7,8,9,10,11,12]})\n",
    "categ_price = pd.DataFrame({'reserved_room_type': ['A', 'B', 'C', 'D', 'E', 'F', 'G', 'H'],\n",
    "\n",
    "'price_of_nights': [1000, 800, 600, 550, 500, 400, 350, 300],\n",
    "\n",
    "'one_time_cost': [400, 250, 250, 150, 150, 150, 150, 100]})\n",
    "display(coef_seas)\n",
    "display(categ_price)"
   ]
  },
  {
   "cell_type": "markdown",
   "metadata": {},
   "source": [
    "Добавим в df_profit полученные словари:"
   ]
  },
  {
   "cell_type": "code",
   "execution_count": 121,
   "metadata": {
    "scrolled": false
   },
   "outputs": [
    {
     "data": {
      "text/html": [
       "<div>\n",
       "<style scoped>\n",
       "    .dataframe tbody tr th:only-of-type {\n",
       "        vertical-align: middle;\n",
       "    }\n",
       "\n",
       "    .dataframe tbody tr th {\n",
       "        vertical-align: top;\n",
       "    }\n",
       "\n",
       "    .dataframe thead th {\n",
       "        text-align: right;\n",
       "    }\n",
       "</style>\n",
       "<table border=\"1\" class=\"dataframe\">\n",
       "  <thead>\n",
       "    <tr style=\"text-align: right;\">\n",
       "      <th></th>\n",
       "      <th>index</th>\n",
       "      <th>id</th>\n",
       "      <th>is_canceled</th>\n",
       "      <th>arrival_date_year</th>\n",
       "      <th>arrival_date_month</th>\n",
       "      <th>arrival_date_week_number</th>\n",
       "      <th>arrival_date_day_of_month</th>\n",
       "      <th>reserved_room_type</th>\n",
       "      <th>total_nights</th>\n",
       "      <th>coef_seas</th>\n",
       "      <th>n_month</th>\n",
       "      <th>price_of_nights</th>\n",
       "      <th>one_time_cost</th>\n",
       "    </tr>\n",
       "  </thead>\n",
       "  <tbody>\n",
       "    <tr>\n",
       "      <td>0</td>\n",
       "      <td>0</td>\n",
       "      <td>6086</td>\n",
       "      <td>1</td>\n",
       "      <td>2017</td>\n",
       "      <td>January</td>\n",
       "      <td>1</td>\n",
       "      <td>1</td>\n",
       "      <td>A</td>\n",
       "      <td>1</td>\n",
       "      <td>1.0</td>\n",
       "      <td>1</td>\n",
       "      <td>1000</td>\n",
       "      <td>400</td>\n",
       "    </tr>\n",
       "    <tr>\n",
       "      <td>1</td>\n",
       "      <td>1</td>\n",
       "      <td>6087</td>\n",
       "      <td>1</td>\n",
       "      <td>2017</td>\n",
       "      <td>January</td>\n",
       "      <td>1</td>\n",
       "      <td>1</td>\n",
       "      <td>A</td>\n",
       "      <td>4</td>\n",
       "      <td>1.0</td>\n",
       "      <td>1</td>\n",
       "      <td>1000</td>\n",
       "      <td>400</td>\n",
       "    </tr>\n",
       "  </tbody>\n",
       "</table>\n",
       "</div>"
      ],
      "text/plain": [
       "   index    id  is_canceled  arrival_date_year arrival_date_month  \\\n",
       "0      0  6086            1               2017            January   \n",
       "1      1  6087            1               2017            January   \n",
       "\n",
       "   arrival_date_week_number  arrival_date_day_of_month reserved_room_type  \\\n",
       "0                         1                          1                  A   \n",
       "1                         1                          1                  A   \n",
       "\n",
       "   total_nights  coef_seas  n_month  price_of_nights  one_time_cost  \n",
       "0             1        1.0        1             1000            400  \n",
       "1             4        1.0        1             1000            400  "
      ]
     },
     "metadata": {},
     "output_type": "display_data"
    }
   ],
   "source": [
    "df_profit = df_profit.merge(coef_seas, on='arrival_date_month', how='left')\n",
    "df_profit = df_profit.merge(categ_price, on='reserved_room_type', how='left')\n",
    "display(df_profit.head(2))"
   ]
  },
  {
   "cell_type": "markdown",
   "metadata": {},
   "source": [
    "Добавим новый столбец *income*, в котором рассчитаем доход для каждого объекта:"
   ]
  },
  {
   "cell_type": "code",
   "execution_count": 122,
   "metadata": {},
   "outputs": [],
   "source": [
    "# так как в объектах для is_canceled == 1 имеются значения в признаках total_nights отличные от нуля,\n",
    "# сделаем это через цикл\n",
    "income = []\n",
    "is_canceled_list = list(df_profit['is_canceled'])\n",
    "reserved_room_type_list = list(df_profit['reserved_room_type'])\n",
    "price_of_nights_list = list(df_profit['price_of_nights'])\n",
    "coef_seas_list = list(df_profit['coef_seas'])\n",
    "total_nights_list = list(df_profit['total_nights'])\n",
    "for index in range(len(is_canceled_list)):\n",
    "    if is_canceled_list[index] == 0:\n",
    "        income.append(price_of_nights_list[index] * coef_seas_list[index] * total_nights_list[index]) \n",
    "    else: #is_canceled_list[index] == 1\n",
    "        income.append(0)\n",
    "df_profit['income'] = income     \n",
    "   "
   ]
  },
  {
   "cell_type": "code",
   "execution_count": 123,
   "metadata": {
    "scrolled": true
   },
   "outputs": [
    {
     "data": {
      "text/html": [
       "<div>\n",
       "<style scoped>\n",
       "    .dataframe tbody tr th:only-of-type {\n",
       "        vertical-align: middle;\n",
       "    }\n",
       "\n",
       "    .dataframe tbody tr th {\n",
       "        vertical-align: top;\n",
       "    }\n",
       "\n",
       "    .dataframe thead th {\n",
       "        text-align: right;\n",
       "    }\n",
       "</style>\n",
       "<table border=\"1\" class=\"dataframe\">\n",
       "  <thead>\n",
       "    <tr style=\"text-align: right;\">\n",
       "      <th></th>\n",
       "      <th>index</th>\n",
       "      <th>id</th>\n",
       "      <th>is_canceled</th>\n",
       "      <th>arrival_date_year</th>\n",
       "      <th>arrival_date_month</th>\n",
       "      <th>arrival_date_week_number</th>\n",
       "      <th>arrival_date_day_of_month</th>\n",
       "      <th>reserved_room_type</th>\n",
       "      <th>total_nights</th>\n",
       "      <th>coef_seas</th>\n",
       "      <th>n_month</th>\n",
       "      <th>price_of_nights</th>\n",
       "      <th>one_time_cost</th>\n",
       "      <th>income</th>\n",
       "    </tr>\n",
       "  </thead>\n",
       "  <tbody>\n",
       "    <tr>\n",
       "      <td>95</td>\n",
       "      <td>95</td>\n",
       "      <td>6184</td>\n",
       "      <td>0</td>\n",
       "      <td>2017</td>\n",
       "      <td>January</td>\n",
       "      <td>4</td>\n",
       "      <td>25</td>\n",
       "      <td>A</td>\n",
       "      <td>1</td>\n",
       "      <td>1.0</td>\n",
       "      <td>1</td>\n",
       "      <td>1000</td>\n",
       "      <td>400</td>\n",
       "      <td>1000.0</td>\n",
       "    </tr>\n",
       "    <tr>\n",
       "      <td>299</td>\n",
       "      <td>299</td>\n",
       "      <td>6391</td>\n",
       "      <td>0</td>\n",
       "      <td>2017</td>\n",
       "      <td>February</td>\n",
       "      <td>8</td>\n",
       "      <td>22</td>\n",
       "      <td>A</td>\n",
       "      <td>4</td>\n",
       "      <td>1.0</td>\n",
       "      <td>2</td>\n",
       "      <td>1000</td>\n",
       "      <td>400</td>\n",
       "      <td>4000.0</td>\n",
       "    </tr>\n",
       "  </tbody>\n",
       "</table>\n",
       "</div>"
      ],
      "text/plain": [
       "     index    id  is_canceled  arrival_date_year arrival_date_month  \\\n",
       "95      95  6184            0               2017            January   \n",
       "299    299  6391            0               2017           February   \n",
       "\n",
       "     arrival_date_week_number  arrival_date_day_of_month reserved_room_type  \\\n",
       "95                          4                         25                  A   \n",
       "299                         8                         22                  A   \n",
       "\n",
       "     total_nights  coef_seas  n_month  price_of_nights  one_time_cost  income  \n",
       "95              1        1.0        1             1000            400  1000.0  \n",
       "299             4        1.0        2             1000            400  4000.0  "
      ]
     },
     "metadata": {},
     "output_type": "display_data"
    },
    {
     "data": {
      "text/html": [
       "<div>\n",
       "<style scoped>\n",
       "    .dataframe tbody tr th:only-of-type {\n",
       "        vertical-align: middle;\n",
       "    }\n",
       "\n",
       "    .dataframe tbody tr th {\n",
       "        vertical-align: top;\n",
       "    }\n",
       "\n",
       "    .dataframe thead th {\n",
       "        text-align: right;\n",
       "    }\n",
       "</style>\n",
       "<table border=\"1\" class=\"dataframe\">\n",
       "  <thead>\n",
       "    <tr style=\"text-align: right;\">\n",
       "      <th></th>\n",
       "      <th>index</th>\n",
       "      <th>id</th>\n",
       "      <th>is_canceled</th>\n",
       "      <th>arrival_date_year</th>\n",
       "      <th>arrival_date_month</th>\n",
       "      <th>arrival_date_week_number</th>\n",
       "      <th>arrival_date_day_of_month</th>\n",
       "      <th>reserved_room_type</th>\n",
       "      <th>total_nights</th>\n",
       "      <th>coef_seas</th>\n",
       "      <th>n_month</th>\n",
       "      <th>price_of_nights</th>\n",
       "      <th>one_time_cost</th>\n",
       "      <th>income</th>\n",
       "    </tr>\n",
       "  </thead>\n",
       "  <tbody>\n",
       "    <tr>\n",
       "      <td>0</td>\n",
       "      <td>0</td>\n",
       "      <td>6086</td>\n",
       "      <td>1</td>\n",
       "      <td>2017</td>\n",
       "      <td>January</td>\n",
       "      <td>1</td>\n",
       "      <td>1</td>\n",
       "      <td>A</td>\n",
       "      <td>1</td>\n",
       "      <td>1.0</td>\n",
       "      <td>1</td>\n",
       "      <td>1000</td>\n",
       "      <td>400</td>\n",
       "      <td>0.0</td>\n",
       "    </tr>\n",
       "    <tr>\n",
       "      <td>1</td>\n",
       "      <td>1</td>\n",
       "      <td>6087</td>\n",
       "      <td>1</td>\n",
       "      <td>2017</td>\n",
       "      <td>January</td>\n",
       "      <td>1</td>\n",
       "      <td>1</td>\n",
       "      <td>A</td>\n",
       "      <td>4</td>\n",
       "      <td>1.0</td>\n",
       "      <td>1</td>\n",
       "      <td>1000</td>\n",
       "      <td>400</td>\n",
       "      <td>0.0</td>\n",
       "    </tr>\n",
       "  </tbody>\n",
       "</table>\n",
       "</div>"
      ],
      "text/plain": [
       "   index    id  is_canceled  arrival_date_year arrival_date_month  \\\n",
       "0      0  6086            1               2017            January   \n",
       "1      1  6087            1               2017            January   \n",
       "\n",
       "   arrival_date_week_number  arrival_date_day_of_month reserved_room_type  \\\n",
       "0                         1                          1                  A   \n",
       "1                         1                          1                  A   \n",
       "\n",
       "   total_nights  coef_seas  n_month  price_of_nights  one_time_cost  income  \n",
       "0             1        1.0        1             1000            400     0.0  \n",
       "1             4        1.0        1             1000            400     0.0  "
      ]
     },
     "metadata": {},
     "output_type": "display_data"
    }
   ],
   "source": [
    "display(df_profit.query('is_canceled == 0').head(2))\n",
    "display(df_profit.query('is_canceled == 1').head(2))"
   ]
  },
  {
   "cell_type": "markdown",
   "metadata": {},
   "source": [
    "**Вывод:** столбец *income* рассчитан верно."
   ]
  },
  {
   "cell_type": "markdown",
   "metadata": {},
   "source": [
    "Добавим столбец *period_cost*, в котором рассчитаем затраты на уборку для постояльцев, заселившихся на более чем 2 ночи."
   ]
  },
  {
   "cell_type": "code",
   "execution_count": 125,
   "metadata": {},
   "outputs": [],
   "source": [
    "# так как в объектах для is_canceled == 1 имеются значения в признаках total_nights отличные от нуля,\n",
    "# сделаем это через цикл\n",
    "period_cost = []\n",
    "is_canceled_list = list(df_profit['is_canceled'])\n",
    "one_time_cost_list = list(df_profit['one_time_cost'])\n",
    "total_nights_list = list(df_profit['total_nights'])\n",
    "for index in range(len(is_canceled_list)):\n",
    "    if is_canceled_list[index] == 0:\n",
    "        period_cost.append(one_time_cost_list[index] *\n",
    "                           (np.where((total_nights_list[index]) <= 2, 0,\n",
    "                                         np.floor(total_nights_list[index] / 2)))) \n",
    "      \n",
    "    else:\n",
    "        period_cost.append(0)\n",
    "df_profit['period_cost'] = period_cost "
   ]
  },
  {
   "cell_type": "markdown",
   "metadata": {},
   "source": [
    "<div class=\"alert alert-block alert-success\">\n",
    "<b>Комментарий ревьюера ✔️</b> \n",
    "\n",
    "Так как при расчете period_cost ты используешь «np.where((total_nights_list[index]) <= 2, 0,...)», то условие\n",
    "    \n",
    "    if total_nights_list[index]>2\n",
    "    \n",
    "можно убрать.\n",
    "    \n",
    "</div>\n"
   ]
  },
  {
   "cell_type": "markdown",
   "metadata": {},
   "source": [
    "<div class=\"alert alert-info\" style=\"border-radius: 15px; box-shadow: 4px 4px 4px; border: 1px solid \">\n",
    "\n",
    "Согласен! Убрал  if total_nights_list[index]>2\n",
    "</div>  "
   ]
  },
  {
   "cell_type": "code",
   "execution_count": 126,
   "metadata": {
    "scrolled": true
   },
   "outputs": [
    {
     "data": {
      "text/html": [
       "<div>\n",
       "<style scoped>\n",
       "    .dataframe tbody tr th:only-of-type {\n",
       "        vertical-align: middle;\n",
       "    }\n",
       "\n",
       "    .dataframe tbody tr th {\n",
       "        vertical-align: top;\n",
       "    }\n",
       "\n",
       "    .dataframe thead th {\n",
       "        text-align: right;\n",
       "    }\n",
       "</style>\n",
       "<table border=\"1\" class=\"dataframe\">\n",
       "  <thead>\n",
       "    <tr style=\"text-align: right;\">\n",
       "      <th></th>\n",
       "      <th>index</th>\n",
       "      <th>id</th>\n",
       "      <th>is_canceled</th>\n",
       "      <th>arrival_date_year</th>\n",
       "      <th>arrival_date_month</th>\n",
       "      <th>arrival_date_week_number</th>\n",
       "      <th>arrival_date_day_of_month</th>\n",
       "      <th>reserved_room_type</th>\n",
       "      <th>total_nights</th>\n",
       "      <th>coef_seas</th>\n",
       "      <th>n_month</th>\n",
       "      <th>price_of_nights</th>\n",
       "      <th>one_time_cost</th>\n",
       "      <th>income</th>\n",
       "      <th>period_cost</th>\n",
       "    </tr>\n",
       "  </thead>\n",
       "  <tbody>\n",
       "    <tr>\n",
       "      <td>95</td>\n",
       "      <td>95</td>\n",
       "      <td>6184</td>\n",
       "      <td>0</td>\n",
       "      <td>2017</td>\n",
       "      <td>January</td>\n",
       "      <td>4</td>\n",
       "      <td>25</td>\n",
       "      <td>A</td>\n",
       "      <td>1</td>\n",
       "      <td>1.0</td>\n",
       "      <td>1</td>\n",
       "      <td>1000</td>\n",
       "      <td>400</td>\n",
       "      <td>1000.0</td>\n",
       "      <td>0.0</td>\n",
       "    </tr>\n",
       "    <tr>\n",
       "      <td>299</td>\n",
       "      <td>299</td>\n",
       "      <td>6391</td>\n",
       "      <td>0</td>\n",
       "      <td>2017</td>\n",
       "      <td>February</td>\n",
       "      <td>8</td>\n",
       "      <td>22</td>\n",
       "      <td>A</td>\n",
       "      <td>4</td>\n",
       "      <td>1.0</td>\n",
       "      <td>2</td>\n",
       "      <td>1000</td>\n",
       "      <td>400</td>\n",
       "      <td>4000.0</td>\n",
       "      <td>800.0</td>\n",
       "    </tr>\n",
       "  </tbody>\n",
       "</table>\n",
       "</div>"
      ],
      "text/plain": [
       "     index    id  is_canceled  arrival_date_year arrival_date_month  \\\n",
       "95      95  6184            0               2017            January   \n",
       "299    299  6391            0               2017           February   \n",
       "\n",
       "     arrival_date_week_number  arrival_date_day_of_month reserved_room_type  \\\n",
       "95                          4                         25                  A   \n",
       "299                         8                         22                  A   \n",
       "\n",
       "     total_nights  coef_seas  n_month  price_of_nights  one_time_cost  income  \\\n",
       "95              1        1.0        1             1000            400  1000.0   \n",
       "299             4        1.0        2             1000            400  4000.0   \n",
       "\n",
       "     period_cost  \n",
       "95           0.0  \n",
       "299        800.0  "
      ]
     },
     "metadata": {},
     "output_type": "display_data"
    },
    {
     "data": {
      "text/html": [
       "<div>\n",
       "<style scoped>\n",
       "    .dataframe tbody tr th:only-of-type {\n",
       "        vertical-align: middle;\n",
       "    }\n",
       "\n",
       "    .dataframe tbody tr th {\n",
       "        vertical-align: top;\n",
       "    }\n",
       "\n",
       "    .dataframe thead th {\n",
       "        text-align: right;\n",
       "    }\n",
       "</style>\n",
       "<table border=\"1\" class=\"dataframe\">\n",
       "  <thead>\n",
       "    <tr style=\"text-align: right;\">\n",
       "      <th></th>\n",
       "      <th>index</th>\n",
       "      <th>id</th>\n",
       "      <th>is_canceled</th>\n",
       "      <th>arrival_date_year</th>\n",
       "      <th>arrival_date_month</th>\n",
       "      <th>arrival_date_week_number</th>\n",
       "      <th>arrival_date_day_of_month</th>\n",
       "      <th>reserved_room_type</th>\n",
       "      <th>total_nights</th>\n",
       "      <th>coef_seas</th>\n",
       "      <th>n_month</th>\n",
       "      <th>price_of_nights</th>\n",
       "      <th>one_time_cost</th>\n",
       "      <th>income</th>\n",
       "      <th>period_cost</th>\n",
       "    </tr>\n",
       "  </thead>\n",
       "  <tbody>\n",
       "    <tr>\n",
       "      <td>0</td>\n",
       "      <td>0</td>\n",
       "      <td>6086</td>\n",
       "      <td>1</td>\n",
       "      <td>2017</td>\n",
       "      <td>January</td>\n",
       "      <td>1</td>\n",
       "      <td>1</td>\n",
       "      <td>A</td>\n",
       "      <td>1</td>\n",
       "      <td>1.0</td>\n",
       "      <td>1</td>\n",
       "      <td>1000</td>\n",
       "      <td>400</td>\n",
       "      <td>0.0</td>\n",
       "      <td>0.0</td>\n",
       "    </tr>\n",
       "    <tr>\n",
       "      <td>1</td>\n",
       "      <td>1</td>\n",
       "      <td>6087</td>\n",
       "      <td>1</td>\n",
       "      <td>2017</td>\n",
       "      <td>January</td>\n",
       "      <td>1</td>\n",
       "      <td>1</td>\n",
       "      <td>A</td>\n",
       "      <td>4</td>\n",
       "      <td>1.0</td>\n",
       "      <td>1</td>\n",
       "      <td>1000</td>\n",
       "      <td>400</td>\n",
       "      <td>0.0</td>\n",
       "      <td>0.0</td>\n",
       "    </tr>\n",
       "  </tbody>\n",
       "</table>\n",
       "</div>"
      ],
      "text/plain": [
       "   index    id  is_canceled  arrival_date_year arrival_date_month  \\\n",
       "0      0  6086            1               2017            January   \n",
       "1      1  6087            1               2017            January   \n",
       "\n",
       "   arrival_date_week_number  arrival_date_day_of_month reserved_room_type  \\\n",
       "0                         1                          1                  A   \n",
       "1                         1                          1                  A   \n",
       "\n",
       "   total_nights  coef_seas  n_month  price_of_nights  one_time_cost  income  \\\n",
       "0             1        1.0        1             1000            400     0.0   \n",
       "1             4        1.0        1             1000            400     0.0   \n",
       "\n",
       "   period_cost  \n",
       "0          0.0  \n",
       "1          0.0  "
      ]
     },
     "metadata": {},
     "output_type": "display_data"
    }
   ],
   "source": [
    "display(df_profit.query('is_canceled == 0').head(2))\n",
    "display(df_profit.query('is_canceled == 1').head(2))"
   ]
  },
  {
   "cell_type": "markdown",
   "metadata": {},
   "source": [
    "**Вывод:** Столбец затрат на периодическое обслуживание period_cost рассчитан верно."
   ]
  },
  {
   "cell_type": "markdown",
   "metadata": {},
   "source": [
    "Добавим столбец profit_before расчета прибыли без внедрения ML:"
   ]
  },
  {
   "cell_type": "code",
   "execution_count": 127,
   "metadata": {
    "scrolled": true
   },
   "outputs": [
    {
     "data": {
      "text/html": [
       "<div>\n",
       "<style scoped>\n",
       "    .dataframe tbody tr th:only-of-type {\n",
       "        vertical-align: middle;\n",
       "    }\n",
       "\n",
       "    .dataframe tbody tr th {\n",
       "        vertical-align: top;\n",
       "    }\n",
       "\n",
       "    .dataframe thead th {\n",
       "        text-align: right;\n",
       "    }\n",
       "</style>\n",
       "<table border=\"1\" class=\"dataframe\">\n",
       "  <thead>\n",
       "    <tr style=\"text-align: right;\">\n",
       "      <th></th>\n",
       "      <th>index</th>\n",
       "      <th>id</th>\n",
       "      <th>is_canceled</th>\n",
       "      <th>arrival_date_year</th>\n",
       "      <th>arrival_date_month</th>\n",
       "      <th>arrival_date_week_number</th>\n",
       "      <th>arrival_date_day_of_month</th>\n",
       "      <th>reserved_room_type</th>\n",
       "      <th>total_nights</th>\n",
       "      <th>coef_seas</th>\n",
       "      <th>n_month</th>\n",
       "      <th>price_of_nights</th>\n",
       "      <th>one_time_cost</th>\n",
       "      <th>income</th>\n",
       "      <th>period_cost</th>\n",
       "      <th>profit_before</th>\n",
       "    </tr>\n",
       "  </thead>\n",
       "  <tbody>\n",
       "    <tr>\n",
       "      <td>95</td>\n",
       "      <td>95</td>\n",
       "      <td>6184</td>\n",
       "      <td>0</td>\n",
       "      <td>2017</td>\n",
       "      <td>January</td>\n",
       "      <td>4</td>\n",
       "      <td>25</td>\n",
       "      <td>A</td>\n",
       "      <td>1</td>\n",
       "      <td>1.0</td>\n",
       "      <td>1</td>\n",
       "      <td>1000</td>\n",
       "      <td>400</td>\n",
       "      <td>1000.0</td>\n",
       "      <td>0.0</td>\n",
       "      <td>600.0</td>\n",
       "    </tr>\n",
       "    <tr>\n",
       "      <td>299</td>\n",
       "      <td>299</td>\n",
       "      <td>6391</td>\n",
       "      <td>0</td>\n",
       "      <td>2017</td>\n",
       "      <td>February</td>\n",
       "      <td>8</td>\n",
       "      <td>22</td>\n",
       "      <td>A</td>\n",
       "      <td>4</td>\n",
       "      <td>1.0</td>\n",
       "      <td>2</td>\n",
       "      <td>1000</td>\n",
       "      <td>400</td>\n",
       "      <td>4000.0</td>\n",
       "      <td>800.0</td>\n",
       "      <td>2800.0</td>\n",
       "    </tr>\n",
       "  </tbody>\n",
       "</table>\n",
       "</div>"
      ],
      "text/plain": [
       "     index    id  is_canceled  arrival_date_year arrival_date_month  \\\n",
       "95      95  6184            0               2017            January   \n",
       "299    299  6391            0               2017           February   \n",
       "\n",
       "     arrival_date_week_number  arrival_date_day_of_month reserved_room_type  \\\n",
       "95                          4                         25                  A   \n",
       "299                         8                         22                  A   \n",
       "\n",
       "     total_nights  coef_seas  n_month  price_of_nights  one_time_cost  income  \\\n",
       "95              1        1.0        1             1000            400  1000.0   \n",
       "299             4        1.0        2             1000            400  4000.0   \n",
       "\n",
       "     period_cost  profit_before  \n",
       "95           0.0          600.0  \n",
       "299        800.0         2800.0  "
      ]
     },
     "metadata": {},
     "output_type": "display_data"
    },
    {
     "data": {
      "text/html": [
       "<div>\n",
       "<style scoped>\n",
       "    .dataframe tbody tr th:only-of-type {\n",
       "        vertical-align: middle;\n",
       "    }\n",
       "\n",
       "    .dataframe tbody tr th {\n",
       "        vertical-align: top;\n",
       "    }\n",
       "\n",
       "    .dataframe thead th {\n",
       "        text-align: right;\n",
       "    }\n",
       "</style>\n",
       "<table border=\"1\" class=\"dataframe\">\n",
       "  <thead>\n",
       "    <tr style=\"text-align: right;\">\n",
       "      <th></th>\n",
       "      <th>index</th>\n",
       "      <th>id</th>\n",
       "      <th>is_canceled</th>\n",
       "      <th>arrival_date_year</th>\n",
       "      <th>arrival_date_month</th>\n",
       "      <th>arrival_date_week_number</th>\n",
       "      <th>arrival_date_day_of_month</th>\n",
       "      <th>reserved_room_type</th>\n",
       "      <th>total_nights</th>\n",
       "      <th>coef_seas</th>\n",
       "      <th>n_month</th>\n",
       "      <th>price_of_nights</th>\n",
       "      <th>one_time_cost</th>\n",
       "      <th>income</th>\n",
       "      <th>period_cost</th>\n",
       "      <th>profit_before</th>\n",
       "    </tr>\n",
       "  </thead>\n",
       "  <tbody>\n",
       "    <tr>\n",
       "      <td>0</td>\n",
       "      <td>0</td>\n",
       "      <td>6086</td>\n",
       "      <td>1</td>\n",
       "      <td>2017</td>\n",
       "      <td>January</td>\n",
       "      <td>1</td>\n",
       "      <td>1</td>\n",
       "      <td>A</td>\n",
       "      <td>1</td>\n",
       "      <td>1.0</td>\n",
       "      <td>1</td>\n",
       "      <td>1000</td>\n",
       "      <td>400</td>\n",
       "      <td>0.0</td>\n",
       "      <td>0.0</td>\n",
       "      <td>-400.0</td>\n",
       "    </tr>\n",
       "    <tr>\n",
       "      <td>1</td>\n",
       "      <td>1</td>\n",
       "      <td>6087</td>\n",
       "      <td>1</td>\n",
       "      <td>2017</td>\n",
       "      <td>January</td>\n",
       "      <td>1</td>\n",
       "      <td>1</td>\n",
       "      <td>A</td>\n",
       "      <td>4</td>\n",
       "      <td>1.0</td>\n",
       "      <td>1</td>\n",
       "      <td>1000</td>\n",
       "      <td>400</td>\n",
       "      <td>0.0</td>\n",
       "      <td>0.0</td>\n",
       "      <td>-400.0</td>\n",
       "    </tr>\n",
       "  </tbody>\n",
       "</table>\n",
       "</div>"
      ],
      "text/plain": [
       "   index    id  is_canceled  arrival_date_year arrival_date_month  \\\n",
       "0      0  6086            1               2017            January   \n",
       "1      1  6087            1               2017            January   \n",
       "\n",
       "   arrival_date_week_number  arrival_date_day_of_month reserved_room_type  \\\n",
       "0                         1                          1                  A   \n",
       "1                         1                          1                  A   \n",
       "\n",
       "   total_nights  coef_seas  n_month  price_of_nights  one_time_cost  income  \\\n",
       "0             1        1.0        1             1000            400     0.0   \n",
       "1             4        1.0        1             1000            400     0.0   \n",
       "\n",
       "   period_cost  profit_before  \n",
       "0          0.0         -400.0  \n",
       "1          0.0         -400.0  "
      ]
     },
     "metadata": {},
     "output_type": "display_data"
    }
   ],
   "source": [
    "df_profit['profit_before'] = df_profit['income'] - (df_profit['one_time_cost'] + df_profit['period_cost'])\n",
    "display(df_profit.query('is_canceled == 0').head(2))\n",
    "display(df_profit.query('is_canceled == 1').head(2))"
   ]
  },
  {
   "cell_type": "markdown",
   "metadata": {},
   "source": [
    "**Вывод:** столбец profit_before рассчитан верно."
   ]
  },
  {
   "cell_type": "markdown",
   "metadata": {},
   "source": [
    "Рассчитаем суммарную прибыль отеля за все время до внедрения ML:\n"
   ]
  },
  {
   "cell_type": "code",
   "execution_count": 128,
   "metadata": {},
   "outputs": [
    {
     "name": "stdout",
     "output_type": "stream",
     "text": [
      "Суммарная прибыль отеля до внедрения ML: 47664770.0\n"
     ]
    }
   ],
   "source": [
    "total_profit_before = df_profit['profit_before'].sum()\n",
    "print('Суммарная прибыль отеля до внедрения ML:', total_profit_before)"
   ]
  },
  {
   "cell_type": "markdown",
   "metadata": {},
   "source": [
    "<div class=\"alert alert-block alert-success\">\n",
    "<b>Комментарий ревьюера ✔️</b> \n",
    "\n",
    "Прибыль рассчитана абсолютно верно 👍    \n",
    "</div>\n"
   ]
  },
  {
   "cell_type": "markdown",
   "metadata": {},
   "source": [
    "## Формулировка ML-задачи на основе бизнес-задачи"
   ]
  },
  {
   "cell_type": "markdown",
   "metadata": {},
   "source": [
    "### Общее описание задачи"
   ]
  },
  {
   "cell_type": "markdown",
   "metadata": {},
   "source": [
    "Опишем сегодняшнюю бизнес-ситуацию в гостинице без внедрения депозитов и технологий машинного обучения. Гостиница добавила на свой сайт новую услугу - бронирование номеров без предоплаты. В случае отказа клиентом от брони(таких клиентов около 27%) компания терпит убытки - это затраты на приготовление номера(сумма разового обслуживания) и упущенная прибыль(отказ в заселении другим людям на забронированные даты). Компания хочет защить себя от таких убытков. В данной работе мы будем учитывать убыток только ввиде разового обслуживания."
   ]
  },
  {
   "cell_type": "markdown",
   "metadata": {},
   "source": [
    "+ Наша задача: на основе тренировочных данных предсказать на тестовых данных отказ клиента от брони. Тем клиентам, кому мы предсказали высокую вероятность отказа от брони выставляется счет на оплату 80% от стоимости номера за первые сутки. Внесение этого депозита - объязательное условие бронирования для таких клиентов. В случае, если бронь будет отменена, то депозит не возвращается. Если же этот клиент воспользуется забронированым номером - депозит пойдет в счет его оплаты. \n",
    "+ Модель конечно не идеальна и совершает ошибки. Их можно разделить на 2 рода:\n",
    "  + FP - ложно-положительные - мы забронировали номер Надежному клиенту с внесением депозита (Надежный клиент - это клиент, уверенный в своем выборе, уверен, что его поездка состоится, и он не планирует отменять бронь). В этом случае мы предполагаем, что предложение Надежному клиенту о внесении депозита  не повлечет за собой его отказ от услуг бронирования номера. Так как, если его поездка состоится - он ничего не потеряет.\n",
    "  + FN - ложно-отрицательные - мы забронировали номер без внесения депозита Ненадежному клиенту (Ненадежный клиент - это клиент, который не уверен, что его поездка состоится, или он бронирует несколько номеров в разных гостиницах, чтобы выбрать в последствии один из них,  ввиду новых условий, открывшихся для него). В этом случае мы терпим убыток в размере суммы разового обслуживания. \n",
    "+ Случаи, когда модель предсказала верно:\n",
    "  + TP - истинно-положительные - мы забронировали номер Ненадежному клиенту с внесением депозита. В этом случае, если клиент откажется - у нас не будет убытка, а даже небольшая прибыль в размере: \"Стоимость номера\" х 0,8 - \"Разовое обслуживание\".\n",
    "  + TN - истинно-отрицательные - мы забронировали номер Надежному клиенту без предложения о внесении депозита. В этом случае мы ничего не теряем, так как Надежный клиент воспользуется забронированным номером с высокой вероятностью."
   ]
  },
  {
   "cell_type": "markdown",
   "metadata": {},
   "source": [
    "Стоимость номеров отеля и затраты на их обслуживание, руб:\n",
    "+ категория A: за ночь — 1 000, разовое обслуживание — 400;\n",
    "+ категория B: за ночь — 800, разовое обслуживание — 250;\n",
    "+ категория C: за ночь — 600, разовое обслуживание — 250;\n",
    "+ категория D: за ночь — 550, разовое обслуживание — 150;\n",
    "+ категория E: за ночь — 500, разовое обслуживание — 150;\n",
    "+ категория F: за ночь — 400, разовое обслуживание — 150;\n",
    "+ категория G: за ночь — 350, разовое обслуживание — 150;\n",
    "+ категория H: за ночь — 300, разовое обслуживание — 100."
   ]
  },
  {
   "cell_type": "markdown",
   "metadata": {},
   "source": [
    "На суточную стоимость номеров влияют сезонные коэффициенты:\n",
    "+ зима - 1,0\n",
    "+ весна - 1,2\n",
    "+ осень - 1,2\n",
    "+ лето - 1,4"
   ]
  },
  {
   "cell_type": "markdown",
   "metadata": {},
   "source": [
    "На разработку данной системы прогнозирования выделен бюджет - 400000 руб. Система должна окупиться за 1 год. Рассчеты окупаемости будем проводить на 2017 году тренировочного дата-сета(df_test). Мы рассчитаем два варианта возможного развития событий: с внедрением системы прогнозирования отказа от брони и без неё. И на разнице прибылей посмотрим эффективность нашей системы. "
   ]
  },
  {
   "cell_type": "markdown",
   "metadata": {},
   "source": [
    "Рассмотрим два варианта рассчета экономической эффективности системы прогнозирования(ML):\n",
    "+ Оптимистичный - предложение внесения депозита не влияет на отток клиентов.\n",
    "+ Пессимистичный - предложение внесения депозита влечёт отток 75% клиентов."
   ]
  },
  {
   "cell_type": "markdown",
   "metadata": {},
   "source": [
    "###  Разработка модели ML"
   ]
  },
  {
   "cell_type": "markdown",
   "metadata": {},
   "source": [
    "#### Разбиение данных на выборки:"
   ]
  },
  {
   "cell_type": "markdown",
   "metadata": {},
   "source": [
    "Разобъем дата-сет *train_all* на обучающую и валидационную выборки в соотношении 0,75 на 0,25:"
   ]
  },
  {
   "cell_type": "code",
   "execution_count": 129,
   "metadata": {},
   "outputs": [
    {
     "name": "stdout",
     "output_type": "stream",
     "text": [
      "Количество объектов в тренировочной выборке:  48921\n",
      "Количество объектов в валидационной выборке:  16308\n"
     ]
    }
   ],
   "source": [
    "train, valid = train_test_split(df, test_size=0.25, random_state=12)\n",
    "print('Количество объектов в тренировочной выборке: ', len(train))\n",
    "print('Количество объектов в валидационной выборке: ',len(valid))"
   ]
  },
  {
   "cell_type": "markdown",
   "metadata": {},
   "source": [
    "#### Определение целевого и обучающих признаков:"
   ]
  },
  {
   "cell_type": "markdown",
   "metadata": {},
   "source": [
    "Так как нам нужно предсказать отмену брони - целевым признаком будет колонка *is_canceled*. Остальное - обучающие признаки:"
   ]
  },
  {
   "cell_type": "code",
   "execution_count": 130,
   "metadata": {},
   "outputs": [
    {
     "name": "stdout",
     "output_type": "stream",
     "text": [
      "Размерность фичей тренировочной выборки:  (48921, 24)\n",
      "Размерность target тренировочной выборки:  (48921,)\n",
      "Размерность фичей валидационной выборки:  (16308, 24)\n",
      "Размерность фичей валидационной выборки:  (16308,)\n",
      "Размерность фичей тестовой выборки:  (32412, 24)\n",
      "Размерность фичей тестовой выборки:  (32412,)\n"
     ]
    }
   ],
   "source": [
    "features_train = train.drop(['is_canceled'], axis=1) \n",
    "target_train = train['is_canceled']\n",
    "features_valid = valid.drop(['is_canceled'], axis=1) \n",
    "target_valid = valid['is_canceled']\n",
    "features_test = df_test.drop(['is_canceled'], axis=1) \n",
    "target_test = df_test['is_canceled']\n",
    "print('Размерность фичей тренировочной выборки: ', features_train.shape)\n",
    "print('Размерность target тренировочной выборки: ', target_train.shape)\n",
    "print('Размерность фичей валидационной выборки: ', features_valid.shape)\n",
    "print('Размерность фичей валидационной выборки: ', target_valid.shape)\n",
    "print('Размерность фичей тестовой выборки: ', features_test.shape)\n",
    "print('Размерность фичей тестовой выборки: ', target_test.shape)"
   ]
  },
  {
   "cell_type": "markdown",
   "metadata": {},
   "source": [
    "#### Оценка баланса классов:"
   ]
  },
  {
   "cell_type": "code",
   "execution_count": 131,
   "metadata": {
    "scrolled": true
   },
   "outputs": [
    {
     "data": {
      "text/plain": [
       "0    0.632101\n",
       "1    0.367899\n",
       "Name: is_canceled, dtype: float64"
      ]
     },
     "execution_count": 131,
     "metadata": {},
     "output_type": "execute_result"
    }
   ],
   "source": [
    "target_train.value_counts(normalize=True)"
   ]
  },
  {
   "cell_type": "markdown",
   "metadata": {},
   "source": [
    "**Вывод:** Соотношение классов в целевом признаке примерно 70/30. Мы имеем дисбаланс классов."
   ]
  },
  {
   "cell_type": "markdown",
   "metadata": {},
   "source": [
    "<div class=\"alert alert-block alert-success\">\n",
    "<b>Комментарий ревьюера ✔️</b> \n",
    "\n",
    "Правильно, наблюдается дисбаланс.\n",
    "</div>\n"
   ]
  },
  {
   "cell_type": "markdown",
   "metadata": {},
   "source": [
    "#### Загрузка CatBoost и предсказание результатов:"
   ]
  },
  {
   "cell_type": "markdown",
   "metadata": {},
   "source": [
    "В разделе предобработка данных мы увидели большую разницу в количестве уникальных значений категориального признака *country*: в тестовом наборе их на 46 больше. Если мы будем применять One_Hot_Encoder, то он после преобразовавния увеличит количество признаков в тестовом дата-сете на 46. Обычные модели не справятся с незнакомыми значениями и выдадут ошибку. Поэтому будем использовать модель Catboost, ей не требуется перед обучением предварительная обработка OHE. "
   ]
  },
  {
   "cell_type": "markdown",
   "metadata": {},
   "source": [
    "<div class=\"alert alert-block alert-danger\">\n",
    "<b>Комментарий ревьюера ❌</b> \n",
    "\n",
    "Нет, настройка (fit) OneHotEncoder проводится только по обучающей выборке, к тестовой выборке применяется метод transform. Поэтому число столбцов в обучающей и тестовой выборке будет совпадать. Да, число категорий на тестовой выборке больше, чем на обучающей. В случае, если на тесте встречается новая категория (которой не было на обучении), все соответствующие OHE-столбцы будут содержать нули (см. параметр handle_unknown у OneHotEncoder). Поэтому провести OHE-кодирование, на самом деле, ничего не мешает :)\n",
    "</div>"
   ]
  },
  {
   "cell_type": "markdown",
   "metadata": {},
   "source": [
    "<div class=\"alert alert-info\" style=\"border-radius: 15px; box-shadow: 4px 4px 4px; border: 1px solid \">\n",
    "\n",
    "Провел OHE-кодирование на модели Случайный лес.\n",
    "</div>  "
   ]
  },
  {
   "cell_type": "code",
   "execution_count": 220,
   "metadata": {},
   "outputs": [],
   "source": [
    "ohe = OneHotEncoder(handle_unknown='ignore')\n",
    "ohe.fit(features_train)\n",
    "features_train_ohe = ohe.transform(features_train)\n",
    "features_test_ohe = ohe.transform(features_test)\n"
   ]
  },
  {
   "cell_type": "code",
   "execution_count": 233,
   "metadata": {},
   "outputs": [],
   "source": [
    "model_ohe = RandomForestClassifier(random_state=12, class_weight = 'balanced')"
   ]
  },
  {
   "cell_type": "code",
   "execution_count": 237,
   "metadata": {},
   "outputs": [
    {
     "data": {
      "text/plain": [
       "RandomForestClassifier(bootstrap=True, class_weight='balanced',\n",
       "                       criterion='gini', max_depth=None, max_features='auto',\n",
       "                       max_leaf_nodes=None, min_impurity_decrease=0.0,\n",
       "                       min_impurity_split=None, min_samples_leaf=1,\n",
       "                       min_samples_split=2, min_weight_fraction_leaf=0.0,\n",
       "                       n_estimators=10, n_jobs=None, oob_score=False,\n",
       "                       random_state=12, verbose=0, warm_start=False)"
      ]
     },
     "execution_count": 237,
     "metadata": {},
     "output_type": "execute_result"
    }
   ],
   "source": [
    "model_ohe.fit(features_train_ohe, target_train)"
   ]
  },
  {
   "cell_type": "code",
   "execution_count": 238,
   "metadata": {},
   "outputs": [
    {
     "name": "stdout",
     "output_type": "stream",
     "text": [
      "[0 0 0 ... 0 0 0]\n"
     ]
    }
   ],
   "source": [
    "predict_ohe = model_ohe.predict(features_test_ohe)\n",
    "print(predict_ohe)"
   ]
  },
  {
   "cell_type": "code",
   "execution_count": 239,
   "metadata": {
    "scrolled": true
   },
   "outputs": [
    {
     "name": "stdout",
     "output_type": "stream",
     "text": [
      "0.7347803004470024\n"
     ]
    }
   ],
   "source": [
    "auc_roc_ohe = metrics.roc_auc_score(target_test, model_ohe.predict_proba(features_test_ohe)[:, 1])\n",
    "\n",
    "print(auc_roc_ohe)"
   ]
  },
  {
   "cell_type": "markdown",
   "metadata": {},
   "source": [
    "**Вывод:** OHE- кодирование завершено с результатом auc_roc_ohe = 0.7347803004470024"
   ]
  },
  {
   "cell_type": "markdown",
   "metadata": {},
   "source": [
    "Установим Catboost:"
   ]
  },
  {
   "cell_type": "code",
   "execution_count": 132,
   "metadata": {},
   "outputs": [],
   "source": [
    "# ! pip install catboost"
   ]
  },
  {
   "cell_type": "markdown",
   "metadata": {},
   "source": [
    "Создадим модель, учитывая дисбаланс классов. В качестве метрики выберем ROC_AUC:"
   ]
  },
  {
   "cell_type": "markdown",
   "metadata": {},
   "source": [
    "<div class=\"alert alert-block alert-success\">\n",
    "<b>Комментарий ревьюера ✔️</b> \n",
    "\n",
    "Да, метрика AUC-ROC подходит для несбалансированных классов.\n",
    "</div>\n"
   ]
  },
  {
   "cell_type": "code",
   "execution_count": 133,
   "metadata": {},
   "outputs": [],
   "source": [
    "model = CatBoostClassifier(random_state = 12, verbose=100, class_weights= [0.73, 0.27])"
   ]
  },
  {
   "cell_type": "markdown",
   "metadata": {},
   "source": [
    "Создадим переменную *params*, в которой сохраним интересующие нас гиперпараметры и диапазон их подбора:"
   ]
  },
  {
   "cell_type": "code",
   "execution_count": 134,
   "metadata": {},
   "outputs": [],
   "source": [
    "params = {'depth': [4, 7, 10],\n",
    "          'learning_rate': [0.03, 0.1, 0.15],\n",
    "          'l2_leaf_reg': [1, 4, 9],\n",
    "          'iterations': [300, 500]}"
   ]
  },
  {
   "cell_type": "markdown",
   "metadata": {},
   "source": [
    "Создадим список категорильных переменных:"
   ]
  },
  {
   "cell_type": "code",
   "execution_count": 143,
   "metadata": {},
   "outputs": [],
   "source": [
    "cat_features = ['arrival_date_month', 'meal', 'country', 'distribution_channel',\n",
    "                   'reserved_room_type', 'customer_type']"
   ]
  },
  {
   "cell_type": "markdown",
   "metadata": {},
   "source": [
    "Создадим модель для подбора оптимальных гиперпараметров по методу GridSearch:"
   ]
  },
  {
   "cell_type": "code",
   "execution_count": 136,
   "metadata": {},
   "outputs": [],
   "source": [
    "# gs_model = GridSearchCV(model, params, scoring=\"roc_auc\",  cv = 3, n_jobs= -1)"
   ]
  },
  {
   "cell_type": "code",
   "execution_count": 138,
   "metadata": {
    "scrolled": true
   },
   "outputs": [],
   "source": [
    "# гипрепараметры подобраны, поэтому ячейка закоментирована\n",
    "# gs_model.fit(features_train, target_train,\n",
    "         #eval_set = (features_valid, target_valid),\n",
    "         #cat_features = cat_features)"
   ]
  },
  {
   "cell_type": "markdown",
   "metadata": {},
   "source": [
    "bestTest = 0.9619137105\n",
    "bestIteration = 999"
   ]
  },
  {
   "cell_type": "markdown",
   "metadata": {},
   "source": [
    "\n",
    "<div class=\"alert alert-block alert-warning\">\n",
    "<b>Комментарий ревьюера ⚠️</b> \n",
    "\n",
    "Закомментируй всю ячейку выше, чтобы не возникало ошибки.\n",
    "</div>\n"
   ]
  },
  {
   "cell_type": "markdown",
   "metadata": {},
   "source": [
    "<div class=\"alert alert-info\" style=\"border-radius: 15px; box-shadow: 4px 4px 4px; border: 1px solid \">\n",
    "\n",
    "Закоментировал!\n",
    "</div>  "
   ]
  },
  {
   "cell_type": "markdown",
   "metadata": {},
   "source": [
    "<div class=\"alert alert-block alert-success\">\n",
    "<b>Комментарий ревьюера ✔️</b> \n",
    "    \n",
    "Гиперпараметры подбираются корректно, отлично!\n",
    "</div>\n"
   ]
  },
  {
   "cell_type": "code",
   "execution_count": 139,
   "metadata": {
    "scrolled": false
   },
   "outputs": [],
   "source": [
    "#print(gs_model.best_score_)\n",
    "#print(gs_model.best_params_)"
   ]
  },
  {
   "cell_type": "code",
   "execution_count": 140,
   "metadata": {},
   "outputs": [
    {
     "name": "stdout",
     "output_type": "stream",
     "text": [
      "Результат лучшей модели в поиске по GridSearch: 0.9605877368131585\n",
      "Гиперпараметры подобранные по GridSearch: {'depth': 10, 'iterations': 500, 'l2_leaf_reg': 1, 'learning_rate': 0.03}\n"
     ]
    }
   ],
   "source": [
    "print('Результат лучшей модели в поиске по GridSearch:',  0.9605877368131585)\n",
    "print('Гиперпараметры подобранные по GridSearch:', {'depth': 10, 'iterations': 500, 'l2_leaf_reg': 1, 'learning_rate': 0.03})"
   ]
  },
  {
   "cell_type": "code",
   "execution_count": 141,
   "metadata": {},
   "outputs": [],
   "source": [
    "model_best = CatBoostClassifier(random_state=12, verbose=100, depth= 10, iterations= 1200,\n",
    "                                l2_leaf_reg= 1, learning_rate= 0.01, class_weights= [0.73, 0.27],\n",
    "                               eval_metric='AUC')"
   ]
  },
  {
   "cell_type": "code",
   "execution_count": 144,
   "metadata": {
    "scrolled": false
   },
   "outputs": [
    {
     "name": "stdout",
     "output_type": "stream",
     "text": [
      "0:\ttest: 0.9619558\tbest: 0.9619558 (0)\ttotal: 832ms\tremaining: 16m 37s\n",
      "100:\ttest: 0.9943299\tbest: 0.9943299 (100)\ttotal: 1m 15s\tremaining: 13m 44s\n",
      "200:\ttest: 0.9954609\tbest: 0.9954609 (200)\ttotal: 2m 32s\tremaining: 12m 39s\n",
      "300:\ttest: 0.9959451\tbest: 0.9959451 (300)\ttotal: 3m 49s\tremaining: 11m 25s\n",
      "400:\ttest: 0.9962164\tbest: 0.9962164 (400)\ttotal: 5m 4s\tremaining: 10m 5s\n",
      "500:\ttest: 0.9964128\tbest: 0.9964128 (500)\ttotal: 6m 15s\tremaining: 8m 44s\n",
      "600:\ttest: 0.9965388\tbest: 0.9965388 (600)\ttotal: 7m 26s\tremaining: 7m 25s\n",
      "700:\ttest: 0.9966488\tbest: 0.9966488 (700)\ttotal: 8m 40s\tremaining: 6m 10s\n",
      "800:\ttest: 0.9967505\tbest: 0.9967505 (800)\ttotal: 9m 53s\tremaining: 4m 55s\n",
      "900:\ttest: 0.9968243\tbest: 0.9968243 (900)\ttotal: 11m 9s\tremaining: 3m 42s\n",
      "1000:\ttest: 0.9968816\tbest: 0.9968816 (1000)\ttotal: 12m 24s\tremaining: 2m 27s\n",
      "1100:\ttest: 0.9969310\tbest: 0.9969310 (1100)\ttotal: 13m 38s\tremaining: 1m 13s\n",
      "1199:\ttest: 0.9969962\tbest: 0.9969964 (1198)\ttotal: 14m 53s\tremaining: 0us\n",
      "\n",
      "bestTest = 0.9969964244\n",
      "bestIteration = 1198\n",
      "\n",
      "Shrink model to first 1199 iterations.\n"
     ]
    },
    {
     "data": {
      "text/plain": [
       "<catboost.core.CatBoostClassifier at 0x7f27d08cdcd0>"
      ]
     },
     "execution_count": 144,
     "metadata": {},
     "output_type": "execute_result"
    }
   ],
   "source": [
    "model_best.fit(features_train, target_train,\n",
    "         eval_set = (features_valid, target_valid),\n",
    "         cat_features = cat_features)"
   ]
  },
  {
   "cell_type": "code",
   "execution_count": 145,
   "metadata": {},
   "outputs": [
    {
     "name": "stdout",
     "output_type": "stream",
     "text": [
      "[1. 0. 0. ... 0. 0. 0.]\n"
     ]
    }
   ],
   "source": [
    "predict = model_best.predict(features_test)\n",
    "print(predict)"
   ]
  },
  {
   "cell_type": "code",
   "execution_count": 146,
   "metadata": {},
   "outputs": [
    {
     "name": "stdout",
     "output_type": "stream",
     "text": [
      "0.9971612603438532\n"
     ]
    }
   ],
   "source": [
    "auc_roc = metrics.roc_auc_score(target_test, model_best.predict_proba(features_test)[:, 1])\n",
    "\n",
    "print(auc_roc)"
   ]
  },
  {
   "cell_type": "code",
   "execution_count": 147,
   "metadata": {},
   "outputs": [
    {
     "name": "stdout",
     "output_type": "stream",
     "text": [
      "AUC_ROC наилучшей модели: 0.9971612603438532\n"
     ]
    }
   ],
   "source": [
    "print('AUC_ROC наилучшей модели:', 0.9971612603438532)"
   ]
  },
  {
   "cell_type": "markdown",
   "metadata": {},
   "source": [
    "Добавим новый столбец в дата-фрейм **df_profit**, который будет показывать предсказание моделью отмены брони. Назовем его *predict*:"
   ]
  },
  {
   "cell_type": "code",
   "execution_count": 148,
   "metadata": {
    "scrolled": false
   },
   "outputs": [
    {
     "data": {
      "text/html": [
       "<div>\n",
       "<style scoped>\n",
       "    .dataframe tbody tr th:only-of-type {\n",
       "        vertical-align: middle;\n",
       "    }\n",
       "\n",
       "    .dataframe tbody tr th {\n",
       "        vertical-align: top;\n",
       "    }\n",
       "\n",
       "    .dataframe thead th {\n",
       "        text-align: right;\n",
       "    }\n",
       "</style>\n",
       "<table border=\"1\" class=\"dataframe\">\n",
       "  <thead>\n",
       "    <tr style=\"text-align: right;\">\n",
       "      <th></th>\n",
       "      <th>index</th>\n",
       "      <th>id</th>\n",
       "      <th>is_canceled</th>\n",
       "      <th>arrival_date_year</th>\n",
       "      <th>arrival_date_month</th>\n",
       "      <th>arrival_date_week_number</th>\n",
       "      <th>arrival_date_day_of_month</th>\n",
       "      <th>reserved_room_type</th>\n",
       "      <th>total_nights</th>\n",
       "      <th>coef_seas</th>\n",
       "      <th>n_month</th>\n",
       "      <th>price_of_nights</th>\n",
       "      <th>one_time_cost</th>\n",
       "      <th>income</th>\n",
       "      <th>period_cost</th>\n",
       "      <th>profit_before</th>\n",
       "      <th>predict</th>\n",
       "    </tr>\n",
       "  </thead>\n",
       "  <tbody>\n",
       "    <tr>\n",
       "      <td>0</td>\n",
       "      <td>0</td>\n",
       "      <td>6086</td>\n",
       "      <td>1</td>\n",
       "      <td>2017</td>\n",
       "      <td>January</td>\n",
       "      <td>1</td>\n",
       "      <td>1</td>\n",
       "      <td>A</td>\n",
       "      <td>1</td>\n",
       "      <td>1.0</td>\n",
       "      <td>1</td>\n",
       "      <td>1000</td>\n",
       "      <td>400</td>\n",
       "      <td>0.0</td>\n",
       "      <td>0.0</td>\n",
       "      <td>-400.0</td>\n",
       "      <td>1</td>\n",
       "    </tr>\n",
       "    <tr>\n",
       "      <td>1</td>\n",
       "      <td>1</td>\n",
       "      <td>6087</td>\n",
       "      <td>1</td>\n",
       "      <td>2017</td>\n",
       "      <td>January</td>\n",
       "      <td>1</td>\n",
       "      <td>1</td>\n",
       "      <td>A</td>\n",
       "      <td>4</td>\n",
       "      <td>1.0</td>\n",
       "      <td>1</td>\n",
       "      <td>1000</td>\n",
       "      <td>400</td>\n",
       "      <td>0.0</td>\n",
       "      <td>0.0</td>\n",
       "      <td>-400.0</td>\n",
       "      <td>0</td>\n",
       "    </tr>\n",
       "  </tbody>\n",
       "</table>\n",
       "</div>"
      ],
      "text/plain": [
       "   index    id  is_canceled  arrival_date_year arrival_date_month  \\\n",
       "0      0  6086            1               2017            January   \n",
       "1      1  6087            1               2017            January   \n",
       "\n",
       "   arrival_date_week_number  arrival_date_day_of_month reserved_room_type  \\\n",
       "0                         1                          1                  A   \n",
       "1                         1                          1                  A   \n",
       "\n",
       "   total_nights  coef_seas  n_month  price_of_nights  one_time_cost  income  \\\n",
       "0             1        1.0        1             1000            400     0.0   \n",
       "1             4        1.0        1             1000            400     0.0   \n",
       "\n",
       "   period_cost  profit_before  predict  \n",
       "0          0.0         -400.0        1  \n",
       "1          0.0         -400.0        0  "
      ]
     },
     "metadata": {},
     "output_type": "display_data"
    }
   ],
   "source": [
    "predict = predict.astype('int64')\n",
    "df_profit['predict'] = predict\n",
    "display(df_profit.head(2))"
   ]
  },
  {
   "cell_type": "markdown",
   "metadata": {},
   "source": [
    "<div class=\"alert alert-block alert-success\">\n",
    "<b>Комментарий ревьюера ✔️</b> \n",
    "\n",
    "Ок, все правильно, переходим к следующему шагу.\n",
    "</div>\n"
   ]
  },
  {
   "cell_type": "markdown",
   "metadata": {},
   "source": [
    "### Рассчет прибыли после внедрения ML:"
   ]
  },
  {
   "cell_type": "markdown",
   "metadata": {},
   "source": [
    "#### Оптимистичный сценарий:"
   ]
  },
  {
   "cell_type": "markdown",
   "metadata": {},
   "source": [
    "Рассчитаем доход после внедрения модели обучения при \"Оптимистичном сценарии\". Напомним, что при \"Оптимистичном сценарии\" мы приняли условие отсутствия оттока клиентов при предложении им внесения депозита.  Создадим столбец *income_ml_opti* и рассчитаем в нем доход для каждого объекта:"
   ]
  },
  {
   "cell_type": "code",
   "execution_count": 149,
   "metadata": {},
   "outputs": [],
   "source": [
    "income_ml_opti = []\n",
    "is_canceled_list = list(df_profit['is_canceled'])\n",
    "reserved_room_type_list = list(df_profit['reserved_room_type'])\n",
    "price_of_nights_list = list(df_profit['price_of_nights'])\n",
    "coef_seas_list = list(df_profit['coef_seas'])\n",
    "total_nights_list = list(df_profit['total_nights'])\n",
    "predict_list = list(df_profit['predict'])\n",
    "for index in range(len(is_canceled_list)):\n",
    "    if ((is_canceled_list[index] == 0) & (predict_list[index] == 1)):\n",
    "        income_ml_opti.append(price_of_nights_list[index] * coef_seas_list[index] * total_nights_list[index])\n",
    "    elif ((is_canceled_list[index] == 1) & (predict_list[index] == 0)):\n",
    "        income_ml_opti.append(0)\n",
    "    elif ((is_canceled_list[index] == 1) & (predict_list[index] == 1)):\n",
    "        income_ml_opti.append(price_of_nights_list[index] * 0.8)\n",
    "    else: # (is_canceled_list[index] == 0) & (predict_list[index] == 0)\n",
    "        income_ml_opti.append(price_of_nights_list[index] * coef_seas_list[index] * total_nights_list[index])\n",
    "        \n",
    "        \n",
    "       "
   ]
  },
  {
   "cell_type": "markdown",
   "metadata": {},
   "source": [
    "Добавим столбец *income_ml_opti* рассчета дохода в **df_profit_opti**: "
   ]
  },
  {
   "cell_type": "code",
   "execution_count": 150,
   "metadata": {
    "scrolled": false
   },
   "outputs": [
    {
     "data": {
      "text/html": [
       "<div>\n",
       "<style scoped>\n",
       "    .dataframe tbody tr th:only-of-type {\n",
       "        vertical-align: middle;\n",
       "    }\n",
       "\n",
       "    .dataframe tbody tr th {\n",
       "        vertical-align: top;\n",
       "    }\n",
       "\n",
       "    .dataframe thead th {\n",
       "        text-align: right;\n",
       "    }\n",
       "</style>\n",
       "<table border=\"1\" class=\"dataframe\">\n",
       "  <thead>\n",
       "    <tr style=\"text-align: right;\">\n",
       "      <th></th>\n",
       "      <th>index</th>\n",
       "      <th>id</th>\n",
       "      <th>is_canceled</th>\n",
       "      <th>arrival_date_year</th>\n",
       "      <th>arrival_date_month</th>\n",
       "      <th>arrival_date_week_number</th>\n",
       "      <th>arrival_date_day_of_month</th>\n",
       "      <th>reserved_room_type</th>\n",
       "      <th>total_nights</th>\n",
       "      <th>coef_seas</th>\n",
       "      <th>n_month</th>\n",
       "      <th>price_of_nights</th>\n",
       "      <th>one_time_cost</th>\n",
       "      <th>income</th>\n",
       "      <th>period_cost</th>\n",
       "      <th>profit_before</th>\n",
       "      <th>predict</th>\n",
       "      <th>income_ml_opti</th>\n",
       "    </tr>\n",
       "  </thead>\n",
       "  <tbody>\n",
       "    <tr>\n",
       "      <td>1</td>\n",
       "      <td>1</td>\n",
       "      <td>6087</td>\n",
       "      <td>1</td>\n",
       "      <td>2017</td>\n",
       "      <td>January</td>\n",
       "      <td>1</td>\n",
       "      <td>1</td>\n",
       "      <td>A</td>\n",
       "      <td>4</td>\n",
       "      <td>1.0</td>\n",
       "      <td>1</td>\n",
       "      <td>1000</td>\n",
       "      <td>400</td>\n",
       "      <td>0.0</td>\n",
       "      <td>0.0</td>\n",
       "      <td>-400.0</td>\n",
       "      <td>0</td>\n",
       "      <td>0.0</td>\n",
       "    </tr>\n",
       "    <tr>\n",
       "      <td>2</td>\n",
       "      <td>2</td>\n",
       "      <td>6088</td>\n",
       "      <td>1</td>\n",
       "      <td>2017</td>\n",
       "      <td>January</td>\n",
       "      <td>1</td>\n",
       "      <td>1</td>\n",
       "      <td>A</td>\n",
       "      <td>4</td>\n",
       "      <td>1.0</td>\n",
       "      <td>1</td>\n",
       "      <td>1000</td>\n",
       "      <td>400</td>\n",
       "      <td>0.0</td>\n",
       "      <td>0.0</td>\n",
       "      <td>-400.0</td>\n",
       "      <td>0</td>\n",
       "      <td>0.0</td>\n",
       "    </tr>\n",
       "  </tbody>\n",
       "</table>\n",
       "</div>"
      ],
      "text/plain": [
       "   index    id  is_canceled  arrival_date_year arrival_date_month  \\\n",
       "1      1  6087            1               2017            January   \n",
       "2      2  6088            1               2017            January   \n",
       "\n",
       "   arrival_date_week_number  arrival_date_day_of_month reserved_room_type  \\\n",
       "1                         1                          1                  A   \n",
       "2                         1                          1                  A   \n",
       "\n",
       "   total_nights  coef_seas  n_month  price_of_nights  one_time_cost  income  \\\n",
       "1             4        1.0        1             1000            400     0.0   \n",
       "2             4        1.0        1             1000            400     0.0   \n",
       "\n",
       "   period_cost  profit_before  predict  income_ml_opti  \n",
       "1          0.0         -400.0        0             0.0  \n",
       "2          0.0         -400.0        0             0.0  "
      ]
     },
     "metadata": {},
     "output_type": "display_data"
    }
   ],
   "source": [
    "df_profit['income_ml_opti'] = income_ml_opti\n",
    "display(df_profit.query('is_canceled == 1 and predict == 0').head(2))"
   ]
  },
  {
   "cell_type": "markdown",
   "metadata": {},
   "source": [
    "**Вывод:** доход при оптимистичном сценарии рассчитан в столбце *income_ml_opti*"
   ]
  },
  {
   "cell_type": "markdown",
   "metadata": {},
   "source": [
    "Рассчитаем прибыль отеля после внедрения машинного обучения в новой ячейке *profit_ml_opti*:"
   ]
  },
  {
   "cell_type": "code",
   "execution_count": 151,
   "metadata": {
    "scrolled": true
   },
   "outputs": [
    {
     "data": {
      "text/html": [
       "<div>\n",
       "<style scoped>\n",
       "    .dataframe tbody tr th:only-of-type {\n",
       "        vertical-align: middle;\n",
       "    }\n",
       "\n",
       "    .dataframe tbody tr th {\n",
       "        vertical-align: top;\n",
       "    }\n",
       "\n",
       "    .dataframe thead th {\n",
       "        text-align: right;\n",
       "    }\n",
       "</style>\n",
       "<table border=\"1\" class=\"dataframe\">\n",
       "  <thead>\n",
       "    <tr style=\"text-align: right;\">\n",
       "      <th></th>\n",
       "      <th>index</th>\n",
       "      <th>id</th>\n",
       "      <th>is_canceled</th>\n",
       "      <th>arrival_date_year</th>\n",
       "      <th>arrival_date_month</th>\n",
       "      <th>arrival_date_week_number</th>\n",
       "      <th>arrival_date_day_of_month</th>\n",
       "      <th>reserved_room_type</th>\n",
       "      <th>total_nights</th>\n",
       "      <th>coef_seas</th>\n",
       "      <th>n_month</th>\n",
       "      <th>price_of_nights</th>\n",
       "      <th>one_time_cost</th>\n",
       "      <th>income</th>\n",
       "      <th>period_cost</th>\n",
       "      <th>profit_before</th>\n",
       "      <th>predict</th>\n",
       "      <th>income_ml_opti</th>\n",
       "      <th>profit_ml_opti</th>\n",
       "    </tr>\n",
       "  </thead>\n",
       "  <tbody>\n",
       "    <tr>\n",
       "      <td>2138</td>\n",
       "      <td>2138</td>\n",
       "      <td>8272</td>\n",
       "      <td>0</td>\n",
       "      <td>2017</td>\n",
       "      <td>January</td>\n",
       "      <td>4</td>\n",
       "      <td>23</td>\n",
       "      <td>E</td>\n",
       "      <td>2</td>\n",
       "      <td>1.0</td>\n",
       "      <td>1</td>\n",
       "      <td>500</td>\n",
       "      <td>150</td>\n",
       "      <td>1000.0</td>\n",
       "      <td>0.0</td>\n",
       "      <td>850.0</td>\n",
       "      <td>1</td>\n",
       "      <td>1000.0</td>\n",
       "      <td>850.0</td>\n",
       "    </tr>\n",
       "    <tr>\n",
       "      <td>2165</td>\n",
       "      <td>2165</td>\n",
       "      <td>8324</td>\n",
       "      <td>0</td>\n",
       "      <td>2017</td>\n",
       "      <td>January</td>\n",
       "      <td>5</td>\n",
       "      <td>31</td>\n",
       "      <td>A</td>\n",
       "      <td>1</td>\n",
       "      <td>1.0</td>\n",
       "      <td>1</td>\n",
       "      <td>1000</td>\n",
       "      <td>400</td>\n",
       "      <td>1000.0</td>\n",
       "      <td>0.0</td>\n",
       "      <td>600.0</td>\n",
       "      <td>1</td>\n",
       "      <td>1000.0</td>\n",
       "      <td>600.0</td>\n",
       "    </tr>\n",
       "  </tbody>\n",
       "</table>\n",
       "</div>"
      ],
      "text/plain": [
       "      index    id  is_canceled  arrival_date_year arrival_date_month  \\\n",
       "2138   2138  8272            0               2017            January   \n",
       "2165   2165  8324            0               2017            January   \n",
       "\n",
       "      arrival_date_week_number  arrival_date_day_of_month reserved_room_type  \\\n",
       "2138                         4                         23                  E   \n",
       "2165                         5                         31                  A   \n",
       "\n",
       "      total_nights  coef_seas  n_month  price_of_nights  one_time_cost  \\\n",
       "2138             2        1.0        1              500            150   \n",
       "2165             1        1.0        1             1000            400   \n",
       "\n",
       "      income  period_cost  profit_before  predict  income_ml_opti  \\\n",
       "2138  1000.0          0.0          850.0        1          1000.0   \n",
       "2165  1000.0          0.0          600.0        1          1000.0   \n",
       "\n",
       "      profit_ml_opti  \n",
       "2138           850.0  \n",
       "2165           600.0  "
      ]
     },
     "metadata": {},
     "output_type": "display_data"
    },
    {
     "data": {
      "text/html": [
       "<div>\n",
       "<style scoped>\n",
       "    .dataframe tbody tr th:only-of-type {\n",
       "        vertical-align: middle;\n",
       "    }\n",
       "\n",
       "    .dataframe tbody tr th {\n",
       "        vertical-align: top;\n",
       "    }\n",
       "\n",
       "    .dataframe thead th {\n",
       "        text-align: right;\n",
       "    }\n",
       "</style>\n",
       "<table border=\"1\" class=\"dataframe\">\n",
       "  <thead>\n",
       "    <tr style=\"text-align: right;\">\n",
       "      <th></th>\n",
       "      <th>index</th>\n",
       "      <th>id</th>\n",
       "      <th>is_canceled</th>\n",
       "      <th>arrival_date_year</th>\n",
       "      <th>arrival_date_month</th>\n",
       "      <th>arrival_date_week_number</th>\n",
       "      <th>arrival_date_day_of_month</th>\n",
       "      <th>reserved_room_type</th>\n",
       "      <th>total_nights</th>\n",
       "      <th>coef_seas</th>\n",
       "      <th>n_month</th>\n",
       "      <th>price_of_nights</th>\n",
       "      <th>one_time_cost</th>\n",
       "      <th>income</th>\n",
       "      <th>period_cost</th>\n",
       "      <th>profit_before</th>\n",
       "      <th>predict</th>\n",
       "      <th>income_ml_opti</th>\n",
       "      <th>profit_ml_opti</th>\n",
       "    </tr>\n",
       "  </thead>\n",
       "  <tbody>\n",
       "    <tr>\n",
       "      <td>0</td>\n",
       "      <td>0</td>\n",
       "      <td>6086</td>\n",
       "      <td>1</td>\n",
       "      <td>2017</td>\n",
       "      <td>January</td>\n",
       "      <td>1</td>\n",
       "      <td>1</td>\n",
       "      <td>A</td>\n",
       "      <td>1</td>\n",
       "      <td>1.0</td>\n",
       "      <td>1</td>\n",
       "      <td>1000</td>\n",
       "      <td>400</td>\n",
       "      <td>0.0</td>\n",
       "      <td>0.0</td>\n",
       "      <td>-400.0</td>\n",
       "      <td>1</td>\n",
       "      <td>800.0</td>\n",
       "      <td>400.0</td>\n",
       "    </tr>\n",
       "    <tr>\n",
       "      <td>3</td>\n",
       "      <td>3</td>\n",
       "      <td>6089</td>\n",
       "      <td>1</td>\n",
       "      <td>2017</td>\n",
       "      <td>January</td>\n",
       "      <td>1</td>\n",
       "      <td>1</td>\n",
       "      <td>A</td>\n",
       "      <td>4</td>\n",
       "      <td>1.0</td>\n",
       "      <td>1</td>\n",
       "      <td>1000</td>\n",
       "      <td>400</td>\n",
       "      <td>0.0</td>\n",
       "      <td>0.0</td>\n",
       "      <td>-400.0</td>\n",
       "      <td>1</td>\n",
       "      <td>800.0</td>\n",
       "      <td>400.0</td>\n",
       "    </tr>\n",
       "  </tbody>\n",
       "</table>\n",
       "</div>"
      ],
      "text/plain": [
       "   index    id  is_canceled  arrival_date_year arrival_date_month  \\\n",
       "0      0  6086            1               2017            January   \n",
       "3      3  6089            1               2017            January   \n",
       "\n",
       "   arrival_date_week_number  arrival_date_day_of_month reserved_room_type  \\\n",
       "0                         1                          1                  A   \n",
       "3                         1                          1                  A   \n",
       "\n",
       "   total_nights  coef_seas  n_month  price_of_nights  one_time_cost  income  \\\n",
       "0             1        1.0        1             1000            400     0.0   \n",
       "3             4        1.0        1             1000            400     0.0   \n",
       "\n",
       "   period_cost  profit_before  predict  income_ml_opti  profit_ml_opti  \n",
       "0          0.0         -400.0        1           800.0           400.0  \n",
       "3          0.0         -400.0        1           800.0           400.0  "
      ]
     },
     "metadata": {},
     "output_type": "display_data"
    }
   ],
   "source": [
    "df_profit['profit_ml_opti'] = df_profit['income_ml_opti'] - (df_profit['one_time_cost'] + df_profit['period_cost'])\n",
    "display(df_profit.query('is_canceled == 0 and predict == 1').head(2))\n",
    "display(df_profit.query('is_canceled == 1 and predict == 1').head(2))"
   ]
  },
  {
   "cell_type": "markdown",
   "metadata": {},
   "source": [
    "**Вывод:** столбец прибыли после внедрения модели *profit_ml_opti* рассчитан верно."
   ]
  },
  {
   "cell_type": "markdown",
   "metadata": {},
   "source": [
    "Рассчитаем суммарную прибыль отеля за весь период с учетом внедрения ML при оптимистичном сценарии и сравним с прибылью без ML:"
   ]
  },
  {
   "cell_type": "code",
   "execution_count": 152,
   "metadata": {
    "scrolled": false
   },
   "outputs": [
    {
     "name": "stdout",
     "output_type": "stream",
     "text": [
      "Суммарная прибыль отеля с учетом внедрения ML \"Оптимистичный сценарий\": 54892930.0\n",
      "Суммарная прибыль отеля до внедрения ML: 47664770.0\n",
      "Экономическая эффективность от внедрения ML \"Оптимистичный сценарий\": 7228160.0\n"
     ]
    }
   ],
   "source": [
    "total_profit_ml_opti = df_profit['profit_ml_opti'].sum()\n",
    "print('Суммарная прибыль отеля с учетом внедрения ML \"Оптимистичный сценарий\":', total_profit_ml_opti)\n",
    "print('Суммарная прибыль отеля до внедрения ML:', total_profit_before)\n",
    "print('Экономическая эффективность от внедрения ML \"Оптимистичный сценарий\":', total_profit_ml_opti - total_profit_before)"
   ]
  },
  {
   "cell_type": "markdown",
   "metadata": {},
   "source": [
    "**Вывод:** экономическая эффективность от внедрения ML при \"Оптимистичном сценарии\" больше 7 миллионов за весь период."
   ]
  },
  {
   "cell_type": "markdown",
   "metadata": {},
   "source": [
    "<div class=\"alert alert-block alert-success\">\n",
    "<b>Комментарий ревьюера ✔️</b> \n",
    "\n",
    "👍👍👍    \n",
    "</div>\n"
   ]
  },
  {
   "cell_type": "markdown",
   "metadata": {},
   "source": [
    "#### Пессимистичный сценарий:"
   ]
  },
  {
   "cell_type": "markdown",
   "metadata": {},
   "source": [
    "Рассчитаем доход пессемистичного сценария после внедрения модели обучения. Создадим столбец *income_ml_pess* и рассчитаем в нем доход для каждого объекта. При рассчете дохода учтем случайный отток клиентов в размере 75%:"
   ]
  },
  {
   "cell_type": "code",
   "execution_count": 158,
   "metadata": {},
   "outputs": [],
   "source": [
    "income_ml_pess = []\n",
    "is_canceled_list = list(df_profit['is_canceled'])\n",
    "reserved_room_type_list = list(df_profit['reserved_room_type'])\n",
    "price_of_nights_list = list(df_profit['price_of_nights'])\n",
    "coef_seas_list = list(df_profit['coef_seas'])\n",
    "total_nights_list = list(df_profit['total_nights'])\n",
    "predict_list = list(df_profit['predict'])\n",
    "for index in range(len(is_canceled_list)):\n",
    "    var = random.choices([0, 1], weights=[25, 75])\n",
    "    if ((is_canceled_list[index] == 0) & (predict_list[index] == 1)):\n",
    "        if var == 0:\n",
    "            income_ml_pess.append(price_of_nights_list[index] *\n",
    "                             coef_seas_list[index] *\n",
    "                             total_nights_list[index])\n",
    "        else:\n",
    "            income_ml_pess.append(0)\n",
    "    elif ((is_canceled_list[index] == 1) & (predict_list[index] == 0)):\n",
    "        income_ml_pess.append(0) # промаркируем клиентов, которые приносят нам убыток, чтобы \n",
    "                                 # найти их при рассчете прибыли. Доход ввиде \"1\" не повлияет на \n",
    "                                 # итоговый результат\n",
    "    elif ((is_canceled_list[index] == 1) & (predict_list[index] == 1)):\n",
    "        if var == 0:\n",
    "            income_ml_pess.append(price_of_nights_list[index] * 0.8)\n",
    "        else:\n",
    "            income_ml_pess.append(0)\n",
    "    else: # (is_canceled_list[index] == 0) & (predict_list[index] == 0)\n",
    "        income_ml_pess.append(price_of_nights_list[index] * coef_seas_list[index] * total_nights_list[index])\n",
    "        \n",
    "        \n",
    "       "
   ]
  },
  {
   "cell_type": "markdown",
   "metadata": {},
   "source": [
    "Добавим столбец *income_ml_pess* рассчета дохода в **df_profit_pess**: "
   ]
  },
  {
   "cell_type": "code",
   "execution_count": 159,
   "metadata": {
    "scrolled": false
   },
   "outputs": [
    {
     "data": {
      "text/html": [
       "<div>\n",
       "<style scoped>\n",
       "    .dataframe tbody tr th:only-of-type {\n",
       "        vertical-align: middle;\n",
       "    }\n",
       "\n",
       "    .dataframe tbody tr th {\n",
       "        vertical-align: top;\n",
       "    }\n",
       "\n",
       "    .dataframe thead th {\n",
       "        text-align: right;\n",
       "    }\n",
       "</style>\n",
       "<table border=\"1\" class=\"dataframe\">\n",
       "  <thead>\n",
       "    <tr style=\"text-align: right;\">\n",
       "      <th></th>\n",
       "      <th>index</th>\n",
       "      <th>id</th>\n",
       "      <th>is_canceled</th>\n",
       "      <th>arrival_date_year</th>\n",
       "      <th>arrival_date_month</th>\n",
       "      <th>arrival_date_week_number</th>\n",
       "      <th>arrival_date_day_of_month</th>\n",
       "      <th>reserved_room_type</th>\n",
       "      <th>total_nights</th>\n",
       "      <th>coef_seas</th>\n",
       "      <th>n_month</th>\n",
       "      <th>price_of_nights</th>\n",
       "      <th>one_time_cost</th>\n",
       "      <th>income</th>\n",
       "      <th>period_cost</th>\n",
       "      <th>profit_before</th>\n",
       "      <th>predict</th>\n",
       "      <th>income_ml_opti</th>\n",
       "      <th>profit_ml_opti</th>\n",
       "      <th>income_ml_pess</th>\n",
       "    </tr>\n",
       "  </thead>\n",
       "  <tbody>\n",
       "    <tr>\n",
       "      <td>0</td>\n",
       "      <td>0</td>\n",
       "      <td>6086</td>\n",
       "      <td>1</td>\n",
       "      <td>2017</td>\n",
       "      <td>January</td>\n",
       "      <td>1</td>\n",
       "      <td>1</td>\n",
       "      <td>A</td>\n",
       "      <td>1</td>\n",
       "      <td>1.0</td>\n",
       "      <td>1</td>\n",
       "      <td>1000</td>\n",
       "      <td>400</td>\n",
       "      <td>0.0</td>\n",
       "      <td>0.0</td>\n",
       "      <td>-400.0</td>\n",
       "      <td>1</td>\n",
       "      <td>800.0</td>\n",
       "      <td>400.0</td>\n",
       "      <td>0.0</td>\n",
       "    </tr>\n",
       "    <tr>\n",
       "      <td>1</td>\n",
       "      <td>1</td>\n",
       "      <td>6087</td>\n",
       "      <td>1</td>\n",
       "      <td>2017</td>\n",
       "      <td>January</td>\n",
       "      <td>1</td>\n",
       "      <td>1</td>\n",
       "      <td>A</td>\n",
       "      <td>4</td>\n",
       "      <td>1.0</td>\n",
       "      <td>1</td>\n",
       "      <td>1000</td>\n",
       "      <td>400</td>\n",
       "      <td>0.0</td>\n",
       "      <td>0.0</td>\n",
       "      <td>-400.0</td>\n",
       "      <td>0</td>\n",
       "      <td>0.0</td>\n",
       "      <td>-400.0</td>\n",
       "      <td>0.0</td>\n",
       "    </tr>\n",
       "  </tbody>\n",
       "</table>\n",
       "</div>"
      ],
      "text/plain": [
       "   index    id  is_canceled  arrival_date_year arrival_date_month  \\\n",
       "0      0  6086            1               2017            January   \n",
       "1      1  6087            1               2017            January   \n",
       "\n",
       "   arrival_date_week_number  arrival_date_day_of_month reserved_room_type  \\\n",
       "0                         1                          1                  A   \n",
       "1                         1                          1                  A   \n",
       "\n",
       "   total_nights  coef_seas  n_month  price_of_nights  one_time_cost  income  \\\n",
       "0             1        1.0        1             1000            400     0.0   \n",
       "1             4        1.0        1             1000            400     0.0   \n",
       "\n",
       "   period_cost  profit_before  predict  income_ml_opti  profit_ml_opti  \\\n",
       "0          0.0         -400.0        1           800.0           400.0   \n",
       "1          0.0         -400.0        0             0.0          -400.0   \n",
       "\n",
       "   income_ml_pess  \n",
       "0             0.0  \n",
       "1             0.0  "
      ]
     },
     "metadata": {},
     "output_type": "display_data"
    }
   ],
   "source": [
    "df_profit['income_ml_pess'] = income_ml_pess\n",
    "display(df_profit.head(2))"
   ]
  },
  {
   "cell_type": "markdown",
   "metadata": {},
   "source": [
    "Рассчитаем прибыль отеля  в пессемистичном сценарии  после внедрения машинного обучения в новой ячейке *profit_ml_pess*:"
   ]
  },
  {
   "cell_type": "code",
   "execution_count": null,
   "metadata": {
    "scrolled": true
   },
   "outputs": [],
   "source": [
    "#profit_ml_pess = []\n",
    "#income_ml_pess_list = df_profit['income_ml_pess']\n",
    "#one_cost_list = df_profit['one_time_cost']\n",
    "#period_cost_list = df_profit['period_cost']\n",
    "#for index in tqdm(range(len(income_ml_pess_list))):\n",
    "#    if income_ml_pess_list[index] > 1:\n",
    "#        profit_ml_pess.append(income_ml_pess_list[index] - (one_cost_list[index] + period_cost_list[index]))\n",
    "#    elif income_ml_pess_list[index] == 1:\n",
    "#        profit_ml_pess.append(income_ml_pess_list[index] - one_cost_list[index])                       \n",
    "                              \n",
    "#    else:\n",
    "#        profit_ml_pess.append(0)                      \n"
   ]
  },
  {
   "cell_type": "markdown",
   "metadata": {},
   "source": [
    "<div class=\"alert alert-block alert-danger\">\n",
    "<b>Комментарий ревьюера ❌</b> \n",
    "\n",
    "Поясни, почему для клиентов с income_ml_pess_list[index]=1 (которых модель ошибочно отнесла к классу is_canceled=0), прибыль рассчитывается как\n",
    "    \n",
    "    income_ml_pess_list[index] - one_cost_list[index] \n",
    "</div>"
   ]
  },
  {
   "cell_type": "markdown",
   "metadata": {},
   "source": [
    "<div class=\"alert alert-info\" style=\"border-radius: 15px; box-shadow: 4px 4px 4px; border: 1px solid \">\n",
    "\n",
    "Я уже и сам не помню, почему так так рассчитал *profit_ml_pess*. Какой-то баг призошел в мыслительном процессе). *profit_ml_pess* рассчитываем простыми арифметическими действиями между столбцами:\n",
    "</div>  "
   ]
  },
  {
   "cell_type": "code",
   "execution_count": 160,
   "metadata": {},
   "outputs": [
    {
     "data": {
      "text/html": [
       "<div>\n",
       "<style scoped>\n",
       "    .dataframe tbody tr th:only-of-type {\n",
       "        vertical-align: middle;\n",
       "    }\n",
       "\n",
       "    .dataframe tbody tr th {\n",
       "        vertical-align: top;\n",
       "    }\n",
       "\n",
       "    .dataframe thead th {\n",
       "        text-align: right;\n",
       "    }\n",
       "</style>\n",
       "<table border=\"1\" class=\"dataframe\">\n",
       "  <thead>\n",
       "    <tr style=\"text-align: right;\">\n",
       "      <th></th>\n",
       "      <th>index</th>\n",
       "      <th>id</th>\n",
       "      <th>is_canceled</th>\n",
       "      <th>arrival_date_year</th>\n",
       "      <th>arrival_date_month</th>\n",
       "      <th>arrival_date_week_number</th>\n",
       "      <th>arrival_date_day_of_month</th>\n",
       "      <th>reserved_room_type</th>\n",
       "      <th>total_nights</th>\n",
       "      <th>coef_seas</th>\n",
       "      <th>...</th>\n",
       "      <th>price_of_nights</th>\n",
       "      <th>one_time_cost</th>\n",
       "      <th>income</th>\n",
       "      <th>period_cost</th>\n",
       "      <th>profit_before</th>\n",
       "      <th>predict</th>\n",
       "      <th>income_ml_opti</th>\n",
       "      <th>profit_ml_opti</th>\n",
       "      <th>income_ml_pess</th>\n",
       "      <th>profit_ml_pess</th>\n",
       "    </tr>\n",
       "  </thead>\n",
       "  <tbody>\n",
       "    <tr>\n",
       "      <td>2138</td>\n",
       "      <td>2138</td>\n",
       "      <td>8272</td>\n",
       "      <td>0</td>\n",
       "      <td>2017</td>\n",
       "      <td>January</td>\n",
       "      <td>4</td>\n",
       "      <td>23</td>\n",
       "      <td>E</td>\n",
       "      <td>2</td>\n",
       "      <td>1.0</td>\n",
       "      <td>...</td>\n",
       "      <td>500</td>\n",
       "      <td>150</td>\n",
       "      <td>1000.0</td>\n",
       "      <td>0.0</td>\n",
       "      <td>850.0</td>\n",
       "      <td>1</td>\n",
       "      <td>1000.0</td>\n",
       "      <td>850.0</td>\n",
       "      <td>0.0</td>\n",
       "      <td>-150.0</td>\n",
       "    </tr>\n",
       "    <tr>\n",
       "      <td>2165</td>\n",
       "      <td>2165</td>\n",
       "      <td>8324</td>\n",
       "      <td>0</td>\n",
       "      <td>2017</td>\n",
       "      <td>January</td>\n",
       "      <td>5</td>\n",
       "      <td>31</td>\n",
       "      <td>A</td>\n",
       "      <td>1</td>\n",
       "      <td>1.0</td>\n",
       "      <td>...</td>\n",
       "      <td>1000</td>\n",
       "      <td>400</td>\n",
       "      <td>1000.0</td>\n",
       "      <td>0.0</td>\n",
       "      <td>600.0</td>\n",
       "      <td>1</td>\n",
       "      <td>1000.0</td>\n",
       "      <td>600.0</td>\n",
       "      <td>0.0</td>\n",
       "      <td>-400.0</td>\n",
       "    </tr>\n",
       "  </tbody>\n",
       "</table>\n",
       "<p>2 rows × 21 columns</p>\n",
       "</div>"
      ],
      "text/plain": [
       "      index    id  is_canceled  arrival_date_year arrival_date_month  \\\n",
       "2138   2138  8272            0               2017            January   \n",
       "2165   2165  8324            0               2017            January   \n",
       "\n",
       "      arrival_date_week_number  arrival_date_day_of_month reserved_room_type  \\\n",
       "2138                         4                         23                  E   \n",
       "2165                         5                         31                  A   \n",
       "\n",
       "      total_nights  coef_seas  ...  price_of_nights  one_time_cost  income  \\\n",
       "2138             2        1.0  ...              500            150  1000.0   \n",
       "2165             1        1.0  ...             1000            400  1000.0   \n",
       "\n",
       "      period_cost  profit_before  predict  income_ml_opti  profit_ml_opti  \\\n",
       "2138          0.0          850.0        1          1000.0           850.0   \n",
       "2165          0.0          600.0        1          1000.0           600.0   \n",
       "\n",
       "      income_ml_pess  profit_ml_pess  \n",
       "2138             0.0          -150.0  \n",
       "2165             0.0          -400.0  \n",
       "\n",
       "[2 rows x 21 columns]"
      ]
     },
     "metadata": {},
     "output_type": "display_data"
    },
    {
     "data": {
      "text/html": [
       "<div>\n",
       "<style scoped>\n",
       "    .dataframe tbody tr th:only-of-type {\n",
       "        vertical-align: middle;\n",
       "    }\n",
       "\n",
       "    .dataframe tbody tr th {\n",
       "        vertical-align: top;\n",
       "    }\n",
       "\n",
       "    .dataframe thead th {\n",
       "        text-align: right;\n",
       "    }\n",
       "</style>\n",
       "<table border=\"1\" class=\"dataframe\">\n",
       "  <thead>\n",
       "    <tr style=\"text-align: right;\">\n",
       "      <th></th>\n",
       "      <th>index</th>\n",
       "      <th>id</th>\n",
       "      <th>is_canceled</th>\n",
       "      <th>arrival_date_year</th>\n",
       "      <th>arrival_date_month</th>\n",
       "      <th>arrival_date_week_number</th>\n",
       "      <th>arrival_date_day_of_month</th>\n",
       "      <th>reserved_room_type</th>\n",
       "      <th>total_nights</th>\n",
       "      <th>coef_seas</th>\n",
       "      <th>...</th>\n",
       "      <th>price_of_nights</th>\n",
       "      <th>one_time_cost</th>\n",
       "      <th>income</th>\n",
       "      <th>period_cost</th>\n",
       "      <th>profit_before</th>\n",
       "      <th>predict</th>\n",
       "      <th>income_ml_opti</th>\n",
       "      <th>profit_ml_opti</th>\n",
       "      <th>income_ml_pess</th>\n",
       "      <th>profit_ml_pess</th>\n",
       "    </tr>\n",
       "  </thead>\n",
       "  <tbody>\n",
       "    <tr>\n",
       "      <td>0</td>\n",
       "      <td>0</td>\n",
       "      <td>6086</td>\n",
       "      <td>1</td>\n",
       "      <td>2017</td>\n",
       "      <td>January</td>\n",
       "      <td>1</td>\n",
       "      <td>1</td>\n",
       "      <td>A</td>\n",
       "      <td>1</td>\n",
       "      <td>1.0</td>\n",
       "      <td>...</td>\n",
       "      <td>1000</td>\n",
       "      <td>400</td>\n",
       "      <td>0.0</td>\n",
       "      <td>0.0</td>\n",
       "      <td>-400.0</td>\n",
       "      <td>1</td>\n",
       "      <td>800.0</td>\n",
       "      <td>400.0</td>\n",
       "      <td>0.0</td>\n",
       "      <td>-400.0</td>\n",
       "    </tr>\n",
       "    <tr>\n",
       "      <td>3</td>\n",
       "      <td>3</td>\n",
       "      <td>6089</td>\n",
       "      <td>1</td>\n",
       "      <td>2017</td>\n",
       "      <td>January</td>\n",
       "      <td>1</td>\n",
       "      <td>1</td>\n",
       "      <td>A</td>\n",
       "      <td>4</td>\n",
       "      <td>1.0</td>\n",
       "      <td>...</td>\n",
       "      <td>1000</td>\n",
       "      <td>400</td>\n",
       "      <td>0.0</td>\n",
       "      <td>0.0</td>\n",
       "      <td>-400.0</td>\n",
       "      <td>1</td>\n",
       "      <td>800.0</td>\n",
       "      <td>400.0</td>\n",
       "      <td>0.0</td>\n",
       "      <td>-400.0</td>\n",
       "    </tr>\n",
       "  </tbody>\n",
       "</table>\n",
       "<p>2 rows × 21 columns</p>\n",
       "</div>"
      ],
      "text/plain": [
       "   index    id  is_canceled  arrival_date_year arrival_date_month  \\\n",
       "0      0  6086            1               2017            January   \n",
       "3      3  6089            1               2017            January   \n",
       "\n",
       "   arrival_date_week_number  arrival_date_day_of_month reserved_room_type  \\\n",
       "0                         1                          1                  A   \n",
       "3                         1                          1                  A   \n",
       "\n",
       "   total_nights  coef_seas  ...  price_of_nights  one_time_cost  income  \\\n",
       "0             1        1.0  ...             1000            400     0.0   \n",
       "3             4        1.0  ...             1000            400     0.0   \n",
       "\n",
       "   period_cost  profit_before  predict  income_ml_opti  profit_ml_opti  \\\n",
       "0          0.0         -400.0        1           800.0           400.0   \n",
       "3          0.0         -400.0        1           800.0           400.0   \n",
       "\n",
       "   income_ml_pess  profit_ml_pess  \n",
       "0             0.0          -400.0  \n",
       "3             0.0          -400.0  \n",
       "\n",
       "[2 rows x 21 columns]"
      ]
     },
     "metadata": {},
     "output_type": "display_data"
    }
   ],
   "source": [
    "df_profit['profit_ml_pess'] = df_profit['income_ml_pess'] - (df_profit['one_time_cost'] + df_profit['period_cost'])\n",
    "display(df_profit.query('is_canceled == 0 and predict == 1').head(2))\n",
    "display(df_profit.query('is_canceled == 1 and predict == 1').head(2))"
   ]
  },
  {
   "cell_type": "markdown",
   "metadata": {},
   "source": [
    "**Вывод:** столбец прибыли после внедрения модели *profit_ml_pess* рассчитан верно."
   ]
  },
  {
   "cell_type": "markdown",
   "metadata": {},
   "source": [
    "Рассчитаем суммарную прибыль отеля с учетом внедрения ML и сравним с прибылью без ML:"
   ]
  },
  {
   "cell_type": "code",
   "execution_count": 161,
   "metadata": {
    "scrolled": false
   },
   "outputs": [
    {
     "name": "stdout",
     "output_type": "stream",
     "text": [
      "Суммарная прибыль отеля с учетом внедрения ML \"Оптимистичный сценарий\": 54892930.0\n",
      "Суммарная прибыль отеля с учетом внедрения ML \"Пессимистичный сценарий\": 47658970.0\n",
      "Суммарная прибыль отеля до внедрения ML: 47664770.0\n",
      "Экономическая эффективность от внедрения ML \"Оптимистичный сценарий\": 7228160.0\n",
      "Экономическая эффективность от внедрения ML \"Пессемистичный сценарий\": -5800.0\n"
     ]
    }
   ],
   "source": [
    "total_profit_ml_pess = df_profit['profit_ml_pess'].sum()\n",
    "print('Суммарная прибыль отеля с учетом внедрения ML \"Оптимистичный сценарий\":', total_profit_ml_opti)\n",
    "print('Суммарная прибыль отеля с учетом внедрения ML \"Пессимистичный сценарий\":', total_profit_ml_pess)\n",
    "print('Суммарная прибыль отеля до внедрения ML:', total_profit_before)\n",
    "print('Экономическая эффективность от внедрения ML \"Оптимистичный сценарий\":', total_profit_ml_opti - total_profit_before)\n",
    "print('Экономическая эффективность от внедрения ML \"Пессемистичный сценарий\":', total_profit_ml_pess - total_profit_before)"
   ]
  },
  {
   "cell_type": "markdown",
   "metadata": {},
   "source": [
    "**Вывод:** суммарная прибыль от внедрения ML при Оптимистичном сценарии составила больше 7 миллионов, при Пессимистичном - имеем убыток -5800 рублей.  Вспомним, что бюджет на разработку модели ML - 400000 руб."
   ]
  },
  {
   "cell_type": "markdown",
   "metadata": {},
   "source": [
    "<div class=\"alert alert-block alert-success\">\n",
    "<b>Комментарий ревьюера ✔️</b> \n",
    "\n",
    "Здорово!\n",
    "</div>\n"
   ]
  },
  {
   "cell_type": "markdown",
   "metadata": {},
   "source": [
    "### Срок окупаемости модели"
   ]
  },
  {
   "cell_type": "markdown",
   "metadata": {},
   "source": [
    "Определим срок, после которого модель окупила себя. Переменная *payback* показывает накопленный итог прибыли от внедрения ML. Переменная *index* покажет нам индекс(объект) на котором произошел факт окупаемости модели. Началом отсчета будем считать дату:"
   ]
  },
  {
   "cell_type": "code",
   "execution_count": 162,
   "metadata": {
    "scrolled": true
   },
   "outputs": [
    {
     "data": {
      "text/plain": [
       "index                              0\n",
       "id                              6086\n",
       "is_canceled                        1\n",
       "arrival_date_year               2017\n",
       "arrival_date_month           January\n",
       "arrival_date_week_number           1\n",
       "arrival_date_day_of_month          1\n",
       "reserved_room_type                 A\n",
       "total_nights                       1\n",
       "coef_seas                          1\n",
       "n_month                            1\n",
       "price_of_nights                 1000\n",
       "one_time_cost                    400\n",
       "income                             0\n",
       "period_cost                        0\n",
       "profit_before                   -400\n",
       "predict                            1\n",
       "income_ml_opti                   800\n",
       "profit_ml_opti                   400\n",
       "income_ml_pess                     0\n",
       "profit_ml_pess                  -400\n",
       "Name: 0, dtype: object"
      ]
     },
     "metadata": {},
     "output_type": "display_data"
    }
   ],
   "source": [
    "display(df_profit.loc[0])"
   ]
  },
  {
   "cell_type": "markdown",
   "metadata": {},
   "source": [
    "Дата начала отсчета: 1 января 2017 года."
   ]
  },
  {
   "cell_type": "markdown",
   "metadata": {},
   "source": [
    "<div class=\"alert alert-block alert-success\">\n",
    "<b>Комментарий ревьюера ✔️</b> \n",
    "\n",
    "В обучающей и тестовой выборке года перемешаны (с 2015 по 2017), поэтому о сроках окупаемости говорить сложно :) Если бы в тестовой выборке были данные за 2017 год, а в обучающей – за 2015 и 2016, то такой анализ был бы востребован.     \n",
    "</div>\n"
   ]
  },
  {
   "cell_type": "markdown",
   "metadata": {},
   "source": [
    "<div class=\"alert alert-info\" style=\"border-radius: 15px; box-shadow: 4px 4px 4px; border: 1px solid \">\n",
    "\n",
    "Согласен! Я поднимал этот вопрос в slake в группе обсуждения проекта, нам ответили, что это недоработка и делайте по обычной механике: на трэйне - учимся, на тесте - проверяем. Я хотел сам разделить дата-сеты по правильной логиге, но подумал, что так можно в тупик заехать. Вдруг одного года(2017) не хватит на окупаемость?\n",
    "</div> "
   ]
  },
  {
   "cell_type": "markdown",
   "metadata": {},
   "source": [
    "#### Оптимистичный сценарий:"
   ]
  },
  {
   "cell_type": "code",
   "execution_count": 183,
   "metadata": {
    "scrolled": true
   },
   "outputs": [
    {
     "name": "stdout",
     "output_type": "stream",
     "text": [
      "Первое значение, превышающее бюджет: 400160.0\n",
      "Индекс объекта, на котором наступил факт окупаемости модели 'Оптимист. сцен': 999\n"
     ]
    }
   ],
   "source": [
    "profit_ml_opti_list = list(df_profit['profit_ml_opti'])\n",
    "profit_before_list = list(df_profit['profit_before'])\n",
    "budget = 400000\n",
    "profit_before = 0\n",
    "profit_ml_opti = 0\n",
    "payback_opti = 0\n",
    "index_opti = 0\n",
    "while payback_opti <= budget:\n",
    "    profit_before += profit_before_list[index_opti]\n",
    "    profit_ml_opti += profit_ml_opti_list[index_opti]\n",
    "    payback_opti = profit_ml_opti - profit_before\n",
    "    index_opti += 1\n",
    "    \n",
    "print(\"Первое значение, превышающее бюджет:\", payback_opti)\n",
    "print(\"Индекс объекта, на котором наступил факт окупаемости модели 'Оптимист. сцен':\", index_opti)"
   ]
  },
  {
   "cell_type": "markdown",
   "metadata": {},
   "source": [
    "Определим срок окупаемости при \"Оптимистичном сценарии\":"
   ]
  },
  {
   "cell_type": "code",
   "execution_count": 184,
   "metadata": {
    "scrolled": false
   },
   "outputs": [
    {
     "data": {
      "text/plain": [
       "index                          999\n",
       "id                            7101\n",
       "is_canceled                      1\n",
       "arrival_date_year             2017\n",
       "arrival_date_month           April\n",
       "arrival_date_week_number        18\n",
       "arrival_date_day_of_month       30\n",
       "reserved_room_type               D\n",
       "total_nights                     7\n",
       "coef_seas                      1.2\n",
       "n_month                          4\n",
       "price_of_nights                550\n",
       "one_time_cost                  150\n",
       "income                           0\n",
       "period_cost                      0\n",
       "profit_before                 -150\n",
       "predict                          1\n",
       "income_ml_opti                 440\n",
       "profit_ml_opti                 290\n",
       "income_ml_pess                   0\n",
       "profit_ml_pess                -150\n",
       "Name: 999, dtype: object"
      ]
     },
     "metadata": {},
     "output_type": "display_data"
    }
   ],
   "source": [
    "display(df_profit.loc[999])"
   ]
  },
  {
   "cell_type": "markdown",
   "metadata": {},
   "source": [
    "Мы видим дату, на которой произошла окупаемость внедрения ML: 30 апреля 2017 года."
   ]
  },
  {
   "cell_type": "markdown",
   "metadata": {},
   "source": [
    "**Вывод:** Срок окупаемости при \"Оптимистичном сценарии\": 4 месяца."
   ]
  },
  {
   "cell_type": "markdown",
   "metadata": {},
   "source": [
    "#### Пессемистичный сценарий:"
   ]
  },
  {
   "cell_type": "raw",
   "metadata": {},
   "source": [
    "Окупаемость при \"Пессимистичном сценарии\" не произошла. Мы увидели это в пункте 3.3.2. Мы получили убыток - 5800руб, не считая суммы на внедрение(400000)."
   ]
  },
  {
   "cell_type": "markdown",
   "metadata": {},
   "source": [
    "**Вывод:** Модель при пессимистичном сценарии не окупилась."
   ]
  },
  {
   "cell_type": "markdown",
   "metadata": {},
   "source": [
    "## Итоговый результат внедрения ML"
   ]
  },
  {
   "cell_type": "markdown",
   "metadata": {},
   "source": [
    "Мы проссчитали два сценария работы модели: Оптимистичный - предложение о внесениии депозита не влечет отток клиентов и Пессимистичный - предложение о внесениии депозита влечет отток клиентов в размере 75%. При Оптимистичном варианте срок окупаемости - 4 месяца, при Пессимистичном варианте модель не окупилась. Подведем итог:\n",
    "+ Оптимистичный: суммарная прибыль за весь период - > 7 млн. руб, срок окупаемости - 4 месяца.\n",
    "+ Пессимистичный: суммарная прибыль за весь период - (-5800) руб."
   ]
  },
  {
   "cell_type": "markdown",
   "metadata": {},
   "source": [
    "**Перед внедрением модели провести А/В-тест на проверку оттока клиентов на предложение депозита.**"
   ]
  },
  {
   "cell_type": "markdown",
   "metadata": {},
   "source": [
    "###  Описание портрета «ненадёжного» клиента"
   ]
  },
  {
   "cell_type": "markdown",
   "metadata": {},
   "source": [
    "<div class=\"alert alert-info\" style=\"border-radius: 15px; box-shadow: 4px 4px 4px; border: 1px solid \">\n",
    "\n",
    "на новом дата-сете значимость признаков совсем другая. Появился id клиента.\n",
    "</div> "
   ]
  },
  {
   "cell_type": "markdown",
   "metadata": {},
   "source": [
    "Посмотрим значимость признаков:"
   ]
  },
  {
   "cell_type": "code",
   "execution_count": 186,
   "metadata": {
    "scrolled": true
   },
   "outputs": [
    {
     "name": "stdout",
     "output_type": "stream",
     "text": [
      "                          features  feature_importance\n",
      "0                               id           49.697243\n",
      "15          previous_cancellations            8.968776\n",
      "12                         country            8.019694\n",
      "1                        lead_time            7.432673\n",
      "2                arrival_date_year            5.637629\n",
      "4         arrival_date_week_number            4.479327\n",
      "20                   customer_type            3.092304\n",
      "3               arrival_date_month            1.776581\n",
      "22       total_of_special_requests            1.665774\n",
      "21     required_car_parking_spaces            1.596665\n",
      "13            distribution_channel            1.359122\n",
      "5        arrival_date_day_of_month            1.206662\n",
      "11                            meal            0.899459\n",
      "18                 booking_changes            0.737716\n",
      "7             stays_in_week_nights            0.685723\n",
      "19            days_in_waiting_list            0.522486\n",
      "17              reserved_room_type            0.509782\n",
      "23                    total_nights            0.470029\n",
      "6          stays_in_weekend_nights            0.420997\n",
      "8                           adults            0.300920\n",
      "16  previous_bookings_not_canceled            0.254580\n",
      "14               is_repeated_guest            0.210330\n",
      "9                         children            0.052797\n",
      "10                          babies            0.002729\n"
     ]
    },
    {
     "data": {
      "image/png": "[encoded data removed]",
      "text/plain": [
       "<Figure size 432x288 with 1 Axes>"
      ]
     },
     "metadata": {
      "needs_background": "light"
     },
     "output_type": "display_data"
    }
   ],
   "source": [
    "feature_importances = pd.DataFrame({'features':features_test.columns,'feature_importance':model_best.feature_importances_})\n",
    "print(feature_importances.sort_values('feature_importance',ascending=False))\n",
    "# plot feature importance\n",
    "importance = model_best.feature_importances_\n",
    "pyplot.bar([x for x in range(len(importance))], importance)\n",
    "pyplot.show()"
   ]
  },
  {
   "cell_type": "markdown",
   "metadata": {},
   "source": [
    "Четыре самых значимых признака - это \n",
    "+ *id* - идентификационный номер клиента;\n",
    "+ *country* — гражданство постояльца;  \n",
    "+ *previous_cancellations* — количество подтверждённых заказов у клиента;\n",
    "+ *lead_time* — количество дней между датой бронирования и датой прибытия. "
   ]
  },
  {
   "cell_type": "markdown",
   "metadata": {},
   "source": [
    "Получим рейтинг 10 стран с самой высокой и самой низкой долей отказов от брони:"
   ]
  },
  {
   "cell_type": "code",
   "execution_count": 187,
   "metadata": {
    "scrolled": false
   },
   "outputs": [
    {
     "data": {
      "text/plain": [
       "'Рейтинг 10 \"Плохих\" стран:'"
      ]
     },
     "metadata": {},
     "output_type": "display_data"
    },
    {
     "data": {
      "text/html": [
       "<div>\n",
       "<style scoped>\n",
       "    .dataframe tbody tr th:only-of-type {\n",
       "        vertical-align: middle;\n",
       "    }\n",
       "\n",
       "    .dataframe tbody tr th {\n",
       "        vertical-align: top;\n",
       "    }\n",
       "\n",
       "    .dataframe thead th {\n",
       "        text-align: right;\n",
       "    }\n",
       "</style>\n",
       "<table border=\"1\" class=\"dataframe\">\n",
       "  <thead>\n",
       "    <tr style=\"text-align: right;\">\n",
       "      <th></th>\n",
       "      <th>country</th>\n",
       "      <th>mean</th>\n",
       "      <th>count</th>\n",
       "    </tr>\n",
       "  </thead>\n",
       "  <tbody>\n",
       "    <tr>\n",
       "      <td>0</td>\n",
       "      <td>MAC</td>\n",
       "      <td>0.928571</td>\n",
       "      <td>14</td>\n",
       "    </tr>\n",
       "    <tr>\n",
       "      <td>1</td>\n",
       "      <td>ARE</td>\n",
       "      <td>0.909091</td>\n",
       "      <td>11</td>\n",
       "    </tr>\n",
       "    <tr>\n",
       "      <td>2</td>\n",
       "      <td>HKG</td>\n",
       "      <td>0.750000</td>\n",
       "      <td>12</td>\n",
       "    </tr>\n",
       "    <tr>\n",
       "      <td>3</td>\n",
       "      <td>PHL</td>\n",
       "      <td>0.640000</td>\n",
       "      <td>25</td>\n",
       "    </tr>\n",
       "    <tr>\n",
       "      <td>4</td>\n",
       "      <td>SGP</td>\n",
       "      <td>0.615385</td>\n",
       "      <td>13</td>\n",
       "    </tr>\n",
       "    <tr>\n",
       "      <td>5</td>\n",
       "      <td>PRT</td>\n",
       "      <td>0.596035</td>\n",
       "      <td>9887</td>\n",
       "    </tr>\n",
       "    <tr>\n",
       "      <td>6</td>\n",
       "      <td>SAU</td>\n",
       "      <td>0.545455</td>\n",
       "      <td>11</td>\n",
       "    </tr>\n",
       "    <tr>\n",
       "      <td>7</td>\n",
       "      <td>KOR</td>\n",
       "      <td>0.516667</td>\n",
       "      <td>60</td>\n",
       "    </tr>\n",
       "    <tr>\n",
       "      <td>8</td>\n",
       "      <td>NGA</td>\n",
       "      <td>0.500000</td>\n",
       "      <td>12</td>\n",
       "    </tr>\n",
       "    <tr>\n",
       "      <td>9</td>\n",
       "      <td>CHN</td>\n",
       "      <td>0.493671</td>\n",
       "      <td>395</td>\n",
       "    </tr>\n",
       "  </tbody>\n",
       "</table>\n",
       "</div>"
      ],
      "text/plain": [
       "  country      mean  count\n",
       "0     MAC  0.928571     14\n",
       "1     ARE  0.909091     11\n",
       "2     HKG  0.750000     12\n",
       "3     PHL  0.640000     25\n",
       "4     SGP  0.615385     13\n",
       "5     PRT  0.596035   9887\n",
       "6     SAU  0.545455     11\n",
       "7     KOR  0.516667     60\n",
       "8     NGA  0.500000     12\n",
       "9     CHN  0.493671    395"
      ]
     },
     "metadata": {},
     "output_type": "display_data"
    },
    {
     "name": "stdout",
     "output_type": "stream",
     "text": [
      "-------------------------------------------------------------------------\n"
     ]
    },
    {
     "data": {
      "text/plain": [
       "'Рейтинг 10  \"Хороших\" стран:'"
      ]
     },
     "metadata": {},
     "output_type": "display_data"
    },
    {
     "data": {
      "text/html": [
       "<div>\n",
       "<style scoped>\n",
       "    .dataframe tbody tr th:only-of-type {\n",
       "        vertical-align: middle;\n",
       "    }\n",
       "\n",
       "    .dataframe tbody tr th {\n",
       "        vertical-align: top;\n",
       "    }\n",
       "\n",
       "    .dataframe thead th {\n",
       "        text-align: right;\n",
       "    }\n",
       "</style>\n",
       "<table border=\"1\" class=\"dataframe\">\n",
       "  <thead>\n",
       "    <tr style=\"text-align: right;\">\n",
       "      <th></th>\n",
       "      <th>country</th>\n",
       "      <th>mean</th>\n",
       "      <th>count</th>\n",
       "    </tr>\n",
       "  </thead>\n",
       "  <tbody>\n",
       "    <tr>\n",
       "      <td>55</td>\n",
       "      <td>DZA</td>\n",
       "      <td>0.173913</td>\n",
       "      <td>23</td>\n",
       "    </tr>\n",
       "    <tr>\n",
       "      <td>56</td>\n",
       "      <td>CHL</td>\n",
       "      <td>0.166667</td>\n",
       "      <td>12</td>\n",
       "    </tr>\n",
       "    <tr>\n",
       "      <td>57</td>\n",
       "      <td>NZL</td>\n",
       "      <td>0.166667</td>\n",
       "      <td>18</td>\n",
       "    </tr>\n",
       "    <tr>\n",
       "      <td>58</td>\n",
       "      <td>LTU</td>\n",
       "      <td>0.150000</td>\n",
       "      <td>20</td>\n",
       "    </tr>\n",
       "    <tr>\n",
       "      <td>59</td>\n",
       "      <td>JPN</td>\n",
       "      <td>0.147059</td>\n",
       "      <td>68</td>\n",
       "    </tr>\n",
       "    <tr>\n",
       "      <td>60</td>\n",
       "      <td>SVK</td>\n",
       "      <td>0.133333</td>\n",
       "      <td>15</td>\n",
       "    </tr>\n",
       "    <tr>\n",
       "      <td>61</td>\n",
       "      <td>SRB</td>\n",
       "      <td>0.133333</td>\n",
       "      <td>15</td>\n",
       "    </tr>\n",
       "    <tr>\n",
       "      <td>62</td>\n",
       "      <td>MEX</td>\n",
       "      <td>0.090909</td>\n",
       "      <td>33</td>\n",
       "    </tr>\n",
       "    <tr>\n",
       "      <td>63</td>\n",
       "      <td>BGR</td>\n",
       "      <td>0.041667</td>\n",
       "      <td>24</td>\n",
       "    </tr>\n",
       "    <tr>\n",
       "      <td>64</td>\n",
       "      <td>ISL</td>\n",
       "      <td>0.035714</td>\n",
       "      <td>28</td>\n",
       "    </tr>\n",
       "  </tbody>\n",
       "</table>\n",
       "</div>"
      ],
      "text/plain": [
       "   country      mean  count\n",
       "55     DZA  0.173913     23\n",
       "56     CHL  0.166667     12\n",
       "57     NZL  0.166667     18\n",
       "58     LTU  0.150000     20\n",
       "59     JPN  0.147059     68\n",
       "60     SVK  0.133333     15\n",
       "61     SRB  0.133333     15\n",
       "62     MEX  0.090909     33\n",
       "63     BGR  0.041667     24\n",
       "64     ISL  0.035714     28"
      ]
     },
     "metadata": {},
     "output_type": "display_data"
    }
   ],
   "source": [
    "df_test_filt_country = df_test.groupby('country')['is_canceled'].agg(['mean', 'count']).sort_values('mean', ascending=False)\n",
    "df_test_filt_country = df_test_filt_country.query('count > 10').reset_index()\n",
    "list_country_bad = list(df_test_filt_country['country'][:11])\n",
    "display('Рейтинг 10 \"Плохих\" стран:', df_test_filt_country.head(10))\n",
    "print('-------------------------------------------------------------------------')\n",
    "display('Рейтинг 10  \"Хороших\" стран:', df_test_filt_country.tail(10))\n",
    "list_country_good = list(df_test_filt_country['country'][-10:])"
   ]
  },
  {
   "cell_type": "raw",
   "metadata": {},
   "source": [
    "Найдем клиентов у которых самый высокий процент отказов от брони:"
   ]
  },
  {
   "cell_type": "code",
   "execution_count": 199,
   "metadata": {
    "scrolled": true
   },
   "outputs": [
    {
     "name": "stdout",
     "output_type": "stream",
     "text": [
      "32412\n",
      "32412\n"
     ]
    }
   ],
   "source": [
    "print(len(df_test))\n",
    "print(df_test['id'].nunique())"
   ]
  },
  {
   "cell_type": "markdown",
   "metadata": {},
   "source": [
    "Повторяющихся *id* нет. Поэтому сгруппировать не получится."
   ]
  },
  {
   "cell_type": "code",
   "execution_count": 201,
   "metadata": {
    "scrolled": false
   },
   "outputs": [
    {
     "data": {
      "text/plain": [
       "'Доля от отказов от брони при количестве подтверждённых заказов у клиента:'"
      ]
     },
     "metadata": {},
     "output_type": "display_data"
    },
    {
     "data": {
      "text/html": [
       "<div>\n",
       "<style scoped>\n",
       "    .dataframe tbody tr th:only-of-type {\n",
       "        vertical-align: middle;\n",
       "    }\n",
       "\n",
       "    .dataframe tbody tr th {\n",
       "        vertical-align: top;\n",
       "    }\n",
       "\n",
       "    .dataframe thead th {\n",
       "        text-align: right;\n",
       "    }\n",
       "</style>\n",
       "<table border=\"1\" class=\"dataframe\">\n",
       "  <thead>\n",
       "    <tr style=\"text-align: right;\">\n",
       "      <th></th>\n",
       "      <th>mean</th>\n",
       "      <th>count</th>\n",
       "    </tr>\n",
       "    <tr>\n",
       "      <th>previous_cancellations</th>\n",
       "      <th></th>\n",
       "      <th></th>\n",
       "    </tr>\n",
       "  </thead>\n",
       "  <tbody>\n",
       "    <tr>\n",
       "      <td>0</td>\n",
       "      <td>0.390108</td>\n",
       "      <td>32186</td>\n",
       "    </tr>\n",
       "    <tr>\n",
       "      <td>3</td>\n",
       "      <td>0.333333</td>\n",
       "      <td>6</td>\n",
       "    </tr>\n",
       "    <tr>\n",
       "      <td>4</td>\n",
       "      <td>0.300000</td>\n",
       "      <td>10</td>\n",
       "    </tr>\n",
       "    <tr>\n",
       "      <td>1</td>\n",
       "      <td>0.157576</td>\n",
       "      <td>165</td>\n",
       "    </tr>\n",
       "    <tr>\n",
       "      <td>2</td>\n",
       "      <td>0.137931</td>\n",
       "      <td>29</td>\n",
       "    </tr>\n",
       "    <tr>\n",
       "      <td>5</td>\n",
       "      <td>0.000000</td>\n",
       "      <td>1</td>\n",
       "    </tr>\n",
       "    <tr>\n",
       "      <td>6</td>\n",
       "      <td>0.000000</td>\n",
       "      <td>15</td>\n",
       "    </tr>\n",
       "  </tbody>\n",
       "</table>\n",
       "</div>"
      ],
      "text/plain": [
       "                            mean  count\n",
       "previous_cancellations                 \n",
       "0                       0.390108  32186\n",
       "3                       0.333333      6\n",
       "4                       0.300000     10\n",
       "1                       0.157576    165\n",
       "2                       0.137931     29\n",
       "5                       0.000000      1\n",
       "6                       0.000000     15"
      ]
     },
     "metadata": {},
     "output_type": "display_data"
    }
   ],
   "source": [
    "df_test_previous_cancel = df_test.groupby('previous_cancellations')['is_canceled'].agg(['mean', 'count']).sort_values('mean', ascending=False)\n",
    "display('Доля от отказов от брони при количестве подтверждённых заказов у клиента:', df_test_previous_cancel)"
   ]
  },
  {
   "cell_type": "markdown",
   "metadata": {},
   "source": [
    "Мы видим самый высокий процент отказов от брони(почти 40%) у клиентов, которые бронируют номер впервые. Процент отказов у бронирующих 2-ой и 3-ий раз - немногим больше 10%. Бронирующие 4-ый и 5-ый раз имеют процент отказов больше 30% - объяснение этому мы найти не можем, просто примем как факт. Те кто бронируют 6-ой и 7-ой раз - отказов от брони не имеют.  "
   ]
  },
  {
   "cell_type": "code",
   "execution_count": 202,
   "metadata": {
    "scrolled": false
   },
   "outputs": [
    {
     "data": {
      "text/plain": [
       "'Закономерность увеличения вероятности отказа от брони с увеличением времени между бронированием из заездом:'"
      ]
     },
     "metadata": {},
     "output_type": "display_data"
    },
    {
     "data": {
      "text/html": [
       "<div>\n",
       "<style scoped>\n",
       "    .dataframe tbody tr th:only-of-type {\n",
       "        vertical-align: middle;\n",
       "    }\n",
       "\n",
       "    .dataframe tbody tr th {\n",
       "        vertical-align: top;\n",
       "    }\n",
       "\n",
       "    .dataframe thead th {\n",
       "        text-align: right;\n",
       "    }\n",
       "</style>\n",
       "<table border=\"1\" class=\"dataframe\">\n",
       "  <thead>\n",
       "    <tr style=\"text-align: right;\">\n",
       "      <th></th>\n",
       "      <th>lead_time</th>\n",
       "      <th>mean</th>\n",
       "      <th>count</th>\n",
       "    </tr>\n",
       "  </thead>\n",
       "  <tbody>\n",
       "    <tr>\n",
       "      <td>0</td>\n",
       "      <td>0.0</td>\n",
       "      <td>0.056686</td>\n",
       "      <td>1376</td>\n",
       "    </tr>\n",
       "    <tr>\n",
       "      <td>1</td>\n",
       "      <td>1.0</td>\n",
       "      <td>0.060026</td>\n",
       "      <td>783</td>\n",
       "    </tr>\n",
       "    <tr>\n",
       "      <td>2</td>\n",
       "      <td>2.0</td>\n",
       "      <td>0.101626</td>\n",
       "      <td>492</td>\n",
       "    </tr>\n",
       "    <tr>\n",
       "      <td>3</td>\n",
       "      <td>3.0</td>\n",
       "      <td>0.089330</td>\n",
       "      <td>403</td>\n",
       "    </tr>\n",
       "    <tr>\n",
       "      <td>4</td>\n",
       "      <td>4.0</td>\n",
       "      <td>0.081841</td>\n",
       "      <td>391</td>\n",
       "    </tr>\n",
       "    <tr>\n",
       "      <td>5</td>\n",
       "      <td>5.0</td>\n",
       "      <td>0.136232</td>\n",
       "      <td>345</td>\n",
       "    </tr>\n",
       "    <tr>\n",
       "      <td>6</td>\n",
       "      <td>6.0</td>\n",
       "      <td>0.161202</td>\n",
       "      <td>366</td>\n",
       "    </tr>\n",
       "    <tr>\n",
       "      <td>7</td>\n",
       "      <td>7.0</td>\n",
       "      <td>0.100796</td>\n",
       "      <td>377</td>\n",
       "    </tr>\n",
       "    <tr>\n",
       "      <td>8</td>\n",
       "      <td>8.0</td>\n",
       "      <td>0.196552</td>\n",
       "      <td>290</td>\n",
       "    </tr>\n",
       "    <tr>\n",
       "      <td>9</td>\n",
       "      <td>9.0</td>\n",
       "      <td>0.228814</td>\n",
       "      <td>236</td>\n",
       "    </tr>\n",
       "  </tbody>\n",
       "</table>\n",
       "</div>"
      ],
      "text/plain": [
       "   lead_time      mean  count\n",
       "0        0.0  0.056686   1376\n",
       "1        1.0  0.060026    783\n",
       "2        2.0  0.101626    492\n",
       "3        3.0  0.089330    403\n",
       "4        4.0  0.081841    391\n",
       "5        5.0  0.136232    345\n",
       "6        6.0  0.161202    366\n",
       "7        7.0  0.100796    377\n",
       "8        8.0  0.196552    290\n",
       "9        9.0  0.228814    236"
      ]
     },
     "metadata": {},
     "output_type": "display_data"
    },
    {
     "name": "stdout",
     "output_type": "stream",
     "text": [
      "-------------------------------------------------------------------------------\n"
     ]
    },
    {
     "data": {
      "text/plain": [
       "'Значение lead_time при вероятности от отказа от брони больше 50%: '"
      ]
     },
     "metadata": {},
     "output_type": "display_data"
    },
    {
     "data": {
      "text/html": [
       "<div>\n",
       "<style scoped>\n",
       "    .dataframe tbody tr th:only-of-type {\n",
       "        vertical-align: middle;\n",
       "    }\n",
       "\n",
       "    .dataframe tbody tr th {\n",
       "        vertical-align: top;\n",
       "    }\n",
       "\n",
       "    .dataframe thead th {\n",
       "        text-align: right;\n",
       "    }\n",
       "</style>\n",
       "<table border=\"1\" class=\"dataframe\">\n",
       "  <thead>\n",
       "    <tr style=\"text-align: right;\">\n",
       "      <th></th>\n",
       "      <th>lead_time</th>\n",
       "      <th>mean</th>\n",
       "      <th>count</th>\n",
       "    </tr>\n",
       "  </thead>\n",
       "  <tbody>\n",
       "    <tr>\n",
       "      <td>28</td>\n",
       "      <td>28.0</td>\n",
       "      <td>0.555911</td>\n",
       "      <td>313</td>\n",
       "    </tr>\n",
       "    <tr>\n",
       "      <td>37</td>\n",
       "      <td>37.0</td>\n",
       "      <td>0.556452</td>\n",
       "      <td>124</td>\n",
       "    </tr>\n",
       "    <tr>\n",
       "      <td>38</td>\n",
       "      <td>38.0</td>\n",
       "      <td>0.690265</td>\n",
       "      <td>226</td>\n",
       "    </tr>\n",
       "    <tr>\n",
       "      <td>52</td>\n",
       "      <td>52.0</td>\n",
       "      <td>0.633136</td>\n",
       "      <td>169</td>\n",
       "    </tr>\n",
       "    <tr>\n",
       "      <td>54</td>\n",
       "      <td>54.0</td>\n",
       "      <td>0.637584</td>\n",
       "      <td>149</td>\n",
       "    </tr>\n",
       "    <tr>\n",
       "      <td>...</td>\n",
       "      <td>...</td>\n",
       "      <td>...</td>\n",
       "      <td>...</td>\n",
       "    </tr>\n",
       "    <tr>\n",
       "      <td>362</td>\n",
       "      <td>365.0</td>\n",
       "      <td>1.000000</td>\n",
       "      <td>2</td>\n",
       "    </tr>\n",
       "    <tr>\n",
       "      <td>363</td>\n",
       "      <td>366.0</td>\n",
       "      <td>1.000000</td>\n",
       "      <td>1</td>\n",
       "    </tr>\n",
       "    <tr>\n",
       "      <td>365</td>\n",
       "      <td>368.0</td>\n",
       "      <td>0.805556</td>\n",
       "      <td>36</td>\n",
       "    </tr>\n",
       "    <tr>\n",
       "      <td>366</td>\n",
       "      <td>372.0</td>\n",
       "      <td>1.000000</td>\n",
       "      <td>11</td>\n",
       "    </tr>\n",
       "    <tr>\n",
       "      <td>367</td>\n",
       "      <td>373.0</td>\n",
       "      <td>1.000000</td>\n",
       "      <td>27</td>\n",
       "    </tr>\n",
       "  </tbody>\n",
       "</table>\n",
       "<p>134 rows × 3 columns</p>\n",
       "</div>"
      ],
      "text/plain": [
       "     lead_time      mean  count\n",
       "28        28.0  0.555911    313\n",
       "37        37.0  0.556452    124\n",
       "38        38.0  0.690265    226\n",
       "52        52.0  0.633136    169\n",
       "54        54.0  0.637584    149\n",
       "..         ...       ...    ...\n",
       "362      365.0  1.000000      2\n",
       "363      366.0  1.000000      1\n",
       "365      368.0  0.805556     36\n",
       "366      372.0  1.000000     11\n",
       "367      373.0  1.000000     27\n",
       "\n",
       "[134 rows x 3 columns]"
      ]
     },
     "metadata": {},
     "output_type": "display_data"
    }
   ],
   "source": [
    "df_test_filt_lead_time = df_test.groupby('lead_time')['is_canceled'].agg(['mean', 'count']).reset_index().sort_values('lead_time', ascending=True)\n",
    "display('Закономерность увеличения вероятности отказа от брони с увеличением времени между бронированием из заездом:', df_test_filt_lead_time.head(10))\n",
    "print('-------------------------------------------------------------------------------')\n",
    "display('Значение lead_time при вероятности от отказа от брони больше 50%: ', df_test_filt_lead_time.query('mean > 0.5'))"
   ]
  },
  {
   "cell_type": "markdown",
   "metadata": {},
   "source": [
    "Исходя из выше представленных рассчетов можно составить портрет \"Ненадежного клиента\" и \"Надежного клиета\":\n",
    "- \"Ненадежный клиент\":\n",
    "  + Приезжает из стран: 'MAC', 'HKG', 'ARE', 'NGA', 'QAT', 'DOM', 'IDN', 'PRT', 'PHL', 'SAU'\n",
    "  + Бронирует номер первый раз, а так же четвертый или пятый раз.\n",
    "  + Бронирует номер за 30 дней и более до заезда.\n",
    "- \"Надежный клиент\":\n",
    "  + Приезжает из стран: 'MYS', 'BGR', 'JPN', 'DZA', 'MEX', 'NZL', 'ISL', 'CRI', 'SRB', 'IRQ'\n",
    "  + Бронирует номер второй или третий раз.\n",
    "  + Бронирует номер за менее чем 30 дней до заезда.\n",
    "\n",
    " "
   ]
  },
  {
   "cell_type": "markdown",
   "metadata": {},
   "source": [
    "### Общий вывод:"
   ]
  },
  {
   "cell_type": "markdown",
   "metadata": {},
   "source": [
    "1. Внедрение модели дает прибыль только при низком оттоке клиентов:\n",
    "  - При оптимистичном сценарии - около 7 млн. за весь период.\n",
    "  - При пессимистичном сценарии - около (-5800) за весь период. \n",
    " -  **Перед внедрением модели провести A/B тест на отток клиентов при предложении о внесении депозита при бронировании номера. Рекомендумый отток - не более 30%**\n",
    "2. Окупаемость наступает на сроке:\n",
    "  - При оптимистичном сценарии - 4 месяца.\n",
    "  - При пессимистичном сценарии - нет.\n",
    "3. Портреты клиетов:\n",
    "- \"Ненадежный клиент\":\n",
    "  + Приезжает из стран: 'MAC', 'HKG', 'ARE', 'NGA', 'QAT', 'DOM', 'IDN', 'PRT', 'PHL', 'SAU'\n",
    "  + Бронирует номер первый раз, а так же четвертый или пятый раз.\n",
    "  + Бронирует номер за 30 дней и более до заезда.\n",
    "- \"Надежный клиент\":\n",
    "  + Приезжает из стран: 'MYS', 'BGR', 'JPN', 'DZA', 'MEX', 'NZL', 'ISL', 'CRI', 'SRB', 'IRQ'\n",
    "  + Бронирует номер второй или третий раз.\n",
    "  + Бронирует номер за менее чем 30 дней до заезда."
   ]
  },
  {
   "cell_type": "markdown",
   "metadata": {},
   "source": [
    "<div style=\"border:solid green 2px; padding: 20px\">\n",
    "<b>Комментарий ревьюера:</b>    \n",
    "    \n",
    "Александр, ты провел превосходное исследование, нет слов! 👏👏👏 \n",
    "    \n",
    "Отдельное спасибо за очень качественное оформление проекта, проверять такой проект – одно удовольствие! :)\n",
    "    \n",
    "Доработать нужно следующее:\n",
    "    \n",
    "- разобраться с OneHotEncoder;\n",
    "- корректно рассчитать прибыль при пессимистическом сценарии;\n",
    "- исправить желтые замечания (если их больше двух)."
   ]
  },
  {
   "cell_type": "markdown",
   "metadata": {},
   "source": [
    "<div class=\"alert alert-info\" style=\"border-radius: 15px; box-shadow: 4px 4px 4px; border: 1px solid \">\n",
    "\n",
    "Приятно слышать))\n",
    "Все замечания исправил.\n",
    "Благодарю за качественное ревью)\n",
    "</div> "
   ]
  }
 ],
 "metadata": {
  "ExecuteTimeLog": [
   {
    "duration": 798,
    "start_time": "2021-11-01T23:30:27.837Z"
   },
   {
    "duration": 801,
    "start_time": "2021-11-01T23:39:18.877Z"
   },
   {
    "duration": 87,
    "start_time": "2021-11-01T23:40:21.207Z"
   },
   {
    "duration": 432,
    "start_time": "2021-11-01T23:40:26.927Z"
   },
   {
    "duration": 409,
    "start_time": "2021-11-01T23:41:21.197Z"
   },
   {
    "duration": 24,
    "start_time": "2021-11-01T23:50:17.297Z"
   },
   {
    "duration": 392,
    "start_time": "2021-11-01T23:55:35.357Z"
   },
   {
    "duration": 712,
    "start_time": "2021-11-02T12:00:43.412Z"
   },
   {
    "duration": 811,
    "start_time": "2021-11-02T12:00:44.127Z"
   },
   {
    "duration": 25,
    "start_time": "2021-11-02T12:00:44.941Z"
   },
   {
    "duration": 384,
    "start_time": "2021-11-02T12:07:45.439Z"
   },
   {
    "duration": 9,
    "start_time": "2021-11-02T12:07:58.521Z"
   },
   {
    "duration": 41,
    "start_time": "2021-11-02T12:37:28.641Z"
   },
   {
    "duration": 9,
    "start_time": "2021-11-02T12:40:27.031Z"
   },
   {
    "duration": 8,
    "start_time": "2021-11-02T13:29:06.681Z"
   },
   {
    "duration": 11,
    "start_time": "2021-11-02T13:31:06.051Z"
   },
   {
    "duration": 616,
    "start_time": "2021-11-02T23:14:18.332Z"
   },
   {
    "duration": 1956,
    "start_time": "2021-11-02T23:14:18.950Z"
   },
   {
    "duration": 17,
    "start_time": "2021-11-02T23:14:20.909Z"
   },
   {
    "duration": 13,
    "start_time": "2021-11-02T23:14:20.928Z"
   },
   {
    "duration": 17,
    "start_time": "2021-11-02T23:14:20.943Z"
   },
   {
    "duration": 5,
    "start_time": "2021-11-02T23:20:33.572Z"
   },
   {
    "duration": 4,
    "start_time": "2021-11-02T23:21:40.732Z"
   },
   {
    "duration": 4,
    "start_time": "2021-11-02T23:23:00.332Z"
   },
   {
    "duration": 5,
    "start_time": "2021-11-02T23:24:59.601Z"
   },
   {
    "duration": 5,
    "start_time": "2021-11-02T23:25:27.253Z"
   },
   {
    "duration": 11,
    "start_time": "2021-11-02T23:30:27.492Z"
   },
   {
    "duration": 12,
    "start_time": "2021-11-02T23:31:56.022Z"
   },
   {
    "duration": 19,
    "start_time": "2021-11-02T23:32:27.623Z"
   },
   {
    "duration": 13,
    "start_time": "2021-11-02T23:33:00.400Z"
   },
   {
    "duration": 6,
    "start_time": "2021-11-02T23:38:32.442Z"
   },
   {
    "duration": 13,
    "start_time": "2021-11-02T23:44:25.520Z"
   },
   {
    "duration": 7,
    "start_time": "2021-11-02T23:48:51.240Z"
   },
   {
    "duration": 7,
    "start_time": "2021-11-02T23:50:21.892Z"
   },
   {
    "duration": 6,
    "start_time": "2021-11-02T23:56:54.422Z"
   },
   {
    "duration": 7,
    "start_time": "2021-11-03T00:02:00.200Z"
   },
   {
    "duration": 6,
    "start_time": "2021-11-03T00:04:29.322Z"
   },
   {
    "duration": 6,
    "start_time": "2021-11-03T00:04:52.840Z"
   },
   {
    "duration": 9,
    "start_time": "2021-11-03T00:19:31.782Z"
   },
   {
    "duration": 8,
    "start_time": "2021-11-03T00:23:52.562Z"
   },
   {
    "duration": 9,
    "start_time": "2021-11-03T00:24:24.611Z"
   },
   {
    "duration": 3,
    "start_time": "2021-11-03T00:30:33.812Z"
   },
   {
    "duration": 311,
    "start_time": "2021-11-03T00:30:33.817Z"
   },
   {
    "duration": 18,
    "start_time": "2021-11-03T00:30:34.130Z"
   },
   {
    "duration": 6,
    "start_time": "2021-11-03T00:30:34.150Z"
   },
   {
    "duration": 13,
    "start_time": "2021-11-03T00:30:34.158Z"
   },
   {
    "duration": 37,
    "start_time": "2021-11-03T00:30:34.173Z"
   },
   {
    "duration": 10,
    "start_time": "2021-11-03T00:30:34.212Z"
   },
   {
    "duration": 4,
    "start_time": "2021-11-03T00:30:34.224Z"
   },
   {
    "duration": 10,
    "start_time": "2021-11-03T00:30:34.231Z"
   },
   {
    "duration": 5,
    "start_time": "2021-11-03T00:30:34.243Z"
   },
   {
    "duration": 58,
    "start_time": "2021-11-03T00:30:34.250Z"
   },
   {
    "duration": 6,
    "start_time": "2021-11-03T00:30:34.310Z"
   },
   {
    "duration": 6,
    "start_time": "2021-11-03T00:30:41.728Z"
   },
   {
    "duration": 9,
    "start_time": "2021-11-03T00:30:44.772Z"
   },
   {
    "duration": 22,
    "start_time": "2021-11-03T00:31:36.045Z"
   },
   {
    "duration": 10,
    "start_time": "2021-11-03T00:31:44.492Z"
   },
   {
    "duration": 20,
    "start_time": "2021-11-03T00:35:37.572Z"
   },
   {
    "duration": 8,
    "start_time": "2021-11-03T00:35:40.742Z"
   },
   {
    "duration": 9,
    "start_time": "2021-11-03T01:01:27.972Z"
   },
   {
    "duration": 8,
    "start_time": "2021-11-03T01:01:41.022Z"
   },
   {
    "duration": 25,
    "start_time": "2021-11-03T01:02:09.182Z"
   },
   {
    "duration": 8,
    "start_time": "2021-11-03T01:02:12.052Z"
   },
   {
    "duration": 2,
    "start_time": "2021-11-03T01:02:43.222Z"
   },
   {
    "duration": 328,
    "start_time": "2021-11-03T01:02:43.232Z"
   },
   {
    "duration": 18,
    "start_time": "2021-11-03T01:02:43.562Z"
   },
   {
    "duration": 26,
    "start_time": "2021-11-03T01:02:43.582Z"
   },
   {
    "duration": 11,
    "start_time": "2021-11-03T01:02:43.610Z"
   },
   {
    "duration": 5,
    "start_time": "2021-11-03T01:02:43.623Z"
   },
   {
    "duration": 12,
    "start_time": "2021-11-03T01:02:43.629Z"
   },
   {
    "duration": 5,
    "start_time": "2021-11-03T01:02:43.643Z"
   },
   {
    "duration": 12,
    "start_time": "2021-11-03T01:02:43.650Z"
   },
   {
    "duration": 7,
    "start_time": "2021-11-03T01:02:43.707Z"
   },
   {
    "duration": 5,
    "start_time": "2021-11-03T01:02:43.715Z"
   },
   {
    "duration": 9,
    "start_time": "2021-11-03T01:02:43.722Z"
   },
   {
    "duration": 5,
    "start_time": "2021-11-03T01:02:43.733Z"
   },
   {
    "duration": 6,
    "start_time": "2021-11-03T01:02:48.513Z"
   },
   {
    "duration": 8,
    "start_time": "2021-11-03T01:02:50.762Z"
   },
   {
    "duration": 9,
    "start_time": "2021-11-03T01:03:14.493Z"
   },
   {
    "duration": 8,
    "start_time": "2021-11-03T01:03:16.000Z"
   },
   {
    "duration": 13,
    "start_time": "2021-11-03T01:03:23.542Z"
   },
   {
    "duration": 8,
    "start_time": "2021-11-03T01:03:25.252Z"
   },
   {
    "duration": 20,
    "start_time": "2021-11-03T01:05:28.720Z"
   },
   {
    "duration": 415,
    "start_time": "2021-11-03T01:05:44.520Z"
   },
   {
    "duration": 15,
    "start_time": "2021-11-03T01:06:01.002Z"
   },
   {
    "duration": 8432,
    "start_time": "2021-11-03T01:06:47.089Z"
   },
   {
    "duration": 8318,
    "start_time": "2021-11-03T01:07:11.242Z"
   },
   {
    "duration": 378,
    "start_time": "2021-11-03T01:07:48.382Z"
   },
   {
    "duration": 16,
    "start_time": "2021-11-03T01:09:52.722Z"
   },
   {
    "duration": 752,
    "start_time": "2021-11-07T03:57:55.621Z"
   },
   {
    "duration": 405,
    "start_time": "2021-11-07T03:57:56.376Z"
   },
   {
    "duration": 42,
    "start_time": "2021-11-07T03:57:56.786Z"
   },
   {
    "duration": 10,
    "start_time": "2021-11-07T03:57:56.832Z"
   },
   {
    "duration": 23,
    "start_time": "2021-11-07T03:57:56.845Z"
   },
   {
    "duration": 8,
    "start_time": "2021-11-07T03:57:56.872Z"
   },
   {
    "duration": 52,
    "start_time": "2021-11-07T03:57:56.882Z"
   },
   {
    "duration": 7,
    "start_time": "2021-11-07T03:57:56.938Z"
   },
   {
    "duration": 15,
    "start_time": "2021-11-07T03:57:56.950Z"
   },
   {
    "duration": 58,
    "start_time": "2021-11-07T03:57:56.969Z"
   },
   {
    "duration": 7,
    "start_time": "2021-11-07T03:57:57.029Z"
   },
   {
    "duration": 8,
    "start_time": "2021-11-07T03:57:57.039Z"
   },
   {
    "duration": 6,
    "start_time": "2021-11-07T03:57:57.049Z"
   },
   {
    "duration": 19,
    "start_time": "2021-11-07T03:57:57.058Z"
   },
   {
    "duration": 50,
    "start_time": "2021-11-07T03:57:57.080Z"
   },
   {
    "duration": 11,
    "start_time": "2021-11-07T04:10:10.611Z"
   },
   {
    "duration": 12,
    "start_time": "2021-11-07T04:10:31.801Z"
   },
   {
    "duration": 35,
    "start_time": "2021-11-07T04:12:26.842Z"
   },
   {
    "duration": 34,
    "start_time": "2021-11-07T04:12:33.662Z"
   },
   {
    "duration": 33,
    "start_time": "2021-11-07T04:12:55.329Z"
   },
   {
    "duration": 32,
    "start_time": "2021-11-07T04:13:05.063Z"
   },
   {
    "duration": 20,
    "start_time": "2021-11-07T04:14:27.051Z"
   },
   {
    "duration": 21,
    "start_time": "2021-11-07T04:14:44.461Z"
   },
   {
    "duration": 18,
    "start_time": "2021-11-07T04:14:57.092Z"
   },
   {
    "duration": 11,
    "start_time": "2021-11-07T04:15:01.970Z"
   },
   {
    "duration": 19,
    "start_time": "2021-11-07T04:15:04.182Z"
   },
   {
    "duration": 21,
    "start_time": "2021-11-07T04:16:13.786Z"
   },
   {
    "duration": 10,
    "start_time": "2021-11-07T04:16:17.013Z"
   },
   {
    "duration": 3,
    "start_time": "2021-11-07T04:16:23.793Z"
   },
   {
    "duration": 389,
    "start_time": "2021-11-07T04:16:23.799Z"
   },
   {
    "duration": 42,
    "start_time": "2021-11-07T04:16:24.191Z"
   },
   {
    "duration": 8,
    "start_time": "2021-11-07T04:16:24.237Z"
   },
   {
    "duration": 16,
    "start_time": "2021-11-07T04:16:24.247Z"
   },
   {
    "duration": 7,
    "start_time": "2021-11-07T04:16:24.265Z"
   },
   {
    "duration": 61,
    "start_time": "2021-11-07T04:16:24.274Z"
   },
   {
    "duration": 7,
    "start_time": "2021-11-07T04:16:24.338Z"
   },
   {
    "duration": 15,
    "start_time": "2021-11-07T04:16:24.348Z"
   },
   {
    "duration": 63,
    "start_time": "2021-11-07T04:16:24.366Z"
   },
   {
    "duration": 8,
    "start_time": "2021-11-07T04:16:24.431Z"
   },
   {
    "duration": 9,
    "start_time": "2021-11-07T04:16:24.443Z"
   },
   {
    "duration": 7,
    "start_time": "2021-11-07T04:16:24.454Z"
   },
   {
    "duration": 66,
    "start_time": "2021-11-07T04:16:24.463Z"
   },
   {
    "duration": 15,
    "start_time": "2021-11-07T04:16:33.482Z"
   },
   {
    "duration": 11,
    "start_time": "2021-11-07T04:16:35.422Z"
   },
   {
    "duration": 19,
    "start_time": "2021-11-07T04:16:37.712Z"
   },
   {
    "duration": 20,
    "start_time": "2021-11-07T04:18:10.572Z"
   },
   {
    "duration": 19,
    "start_time": "2021-11-07T04:18:29.101Z"
   },
   {
    "duration": 3,
    "start_time": "2021-11-07T04:18:37.102Z"
   },
   {
    "duration": 396,
    "start_time": "2021-11-07T04:18:37.108Z"
   },
   {
    "duration": 31,
    "start_time": "2021-11-07T04:18:37.507Z"
   },
   {
    "duration": 7,
    "start_time": "2021-11-07T04:18:37.541Z"
   },
   {
    "duration": 14,
    "start_time": "2021-11-07T04:18:37.550Z"
   },
   {
    "duration": 6,
    "start_time": "2021-11-07T04:18:37.566Z"
   },
   {
    "duration": 14,
    "start_time": "2021-11-07T04:18:37.623Z"
   },
   {
    "duration": 7,
    "start_time": "2021-11-07T04:18:37.639Z"
   },
   {
    "duration": 14,
    "start_time": "2021-11-07T04:18:37.649Z"
   },
   {
    "duration": 63,
    "start_time": "2021-11-07T04:18:37.665Z"
   },
   {
    "duration": 6,
    "start_time": "2021-11-07T04:18:37.731Z"
   },
   {
    "duration": 8,
    "start_time": "2021-11-07T04:18:37.739Z"
   },
   {
    "duration": 7,
    "start_time": "2021-11-07T04:18:37.750Z"
   },
   {
    "duration": 8,
    "start_time": "2021-11-07T04:18:39.691Z"
   },
   {
    "duration": 10,
    "start_time": "2021-11-07T04:18:41.262Z"
   },
   {
    "duration": 20,
    "start_time": "2021-11-07T04:18:45.623Z"
   },
   {
    "duration": 14,
    "start_time": "2021-11-07T04:19:41.682Z"
   },
   {
    "duration": 15,
    "start_time": "2021-11-07T04:23:50.194Z"
   },
   {
    "duration": 8,
    "start_time": "2021-11-07T04:28:12.142Z"
   },
   {
    "duration": 11,
    "start_time": "2021-11-07T04:40:21.581Z"
   },
   {
    "duration": 14,
    "start_time": "2021-11-07T04:41:08.991Z"
   },
   {
    "duration": 14,
    "start_time": "2021-11-07T04:42:24.741Z"
   },
   {
    "duration": 8,
    "start_time": "2021-11-07T04:45:11.431Z"
   },
   {
    "duration": 8,
    "start_time": "2021-11-07T04:48:25.548Z"
   },
   {
    "duration": 10,
    "start_time": "2021-11-07T04:50:26.142Z"
   },
   {
    "duration": 10,
    "start_time": "2021-11-07T04:59:22.283Z"
   },
   {
    "duration": 9,
    "start_time": "2021-11-07T05:02:33.372Z"
   },
   {
    "duration": 8,
    "start_time": "2021-11-07T05:06:59.331Z"
   },
   {
    "duration": 7,
    "start_time": "2021-11-07T05:09:54.052Z"
   },
   {
    "duration": 88,
    "start_time": "2021-11-07T05:15:17.009Z"
   },
   {
    "duration": 8,
    "start_time": "2021-11-07T05:16:13.622Z"
   },
   {
    "duration": 11,
    "start_time": "2021-11-07T05:55:30.282Z"
   },
   {
    "duration": 6,
    "start_time": "2021-11-07T05:56:02.982Z"
   },
   {
    "duration": 7,
    "start_time": "2021-11-07T05:56:24.892Z"
   },
   {
    "duration": 6,
    "start_time": "2021-11-07T05:57:25.871Z"
   },
   {
    "duration": 7,
    "start_time": "2021-11-07T06:00:04.482Z"
   },
   {
    "duration": 7,
    "start_time": "2021-11-07T06:05:40.752Z"
   },
   {
    "duration": 6,
    "start_time": "2021-11-07T06:06:42.422Z"
   },
   {
    "duration": 7,
    "start_time": "2021-11-07T06:10:01.791Z"
   },
   {
    "duration": 7,
    "start_time": "2021-11-07T06:13:33.411Z"
   },
   {
    "duration": 410,
    "start_time": "2021-11-07T06:18:55.021Z"
   },
   {
    "duration": 8,
    "start_time": "2021-11-07T06:25:54.661Z"
   },
   {
    "duration": 8,
    "start_time": "2021-11-07T06:28:08.701Z"
   },
   {
    "duration": 8,
    "start_time": "2021-11-07T06:28:39.558Z"
   },
   {
    "duration": 10,
    "start_time": "2021-11-07T06:35:07.471Z"
   },
   {
    "duration": 21,
    "start_time": "2021-11-07T06:54:46.401Z"
   },
   {
    "duration": 21,
    "start_time": "2021-11-07T06:55:07.290Z"
   },
   {
    "duration": 17,
    "start_time": "2021-11-07T06:55:24.451Z"
   },
   {
    "duration": 4,
    "start_time": "2021-11-07T06:55:31.051Z"
   },
   {
    "duration": 4,
    "start_time": "2021-11-07T06:55:33.601Z"
   },
   {
    "duration": 19,
    "start_time": "2021-11-07T06:55:37.752Z"
   },
   {
    "duration": 364,
    "start_time": "2021-11-07T06:56:39.942Z"
   },
   {
    "duration": 16,
    "start_time": "2021-11-07T06:56:47.071Z"
   },
   {
    "duration": 16,
    "start_time": "2021-11-07T06:57:02.191Z"
   },
   {
    "duration": 290,
    "start_time": "2021-11-07T06:57:43.271Z"
   },
   {
    "duration": 284,
    "start_time": "2021-11-07T07:01:59.331Z"
   },
   {
    "duration": 298,
    "start_time": "2021-11-07T07:02:10.741Z"
   },
   {
    "duration": 14,
    "start_time": "2021-11-07T07:03:24.122Z"
   },
   {
    "duration": 15,
    "start_time": "2021-11-07T07:03:25.901Z"
   },
   {
    "duration": 13,
    "start_time": "2021-11-07T07:11:18.911Z"
   },
   {
    "duration": 13,
    "start_time": "2021-11-07T07:11:44.421Z"
   },
   {
    "duration": 13,
    "start_time": "2021-11-07T07:12:06.211Z"
   },
   {
    "duration": 36,
    "start_time": "2021-11-07T07:12:24.721Z"
   },
   {
    "duration": 23,
    "start_time": "2021-11-07T07:12:58.642Z"
   },
   {
    "duration": 23,
    "start_time": "2021-11-07T07:13:05.582Z"
   },
   {
    "duration": 8,
    "start_time": "2021-11-07T07:13:26.261Z"
   },
   {
    "duration": 9,
    "start_time": "2021-11-07T07:13:39.131Z"
   },
   {
    "duration": 23,
    "start_time": "2021-11-07T07:14:06.202Z"
   },
   {
    "duration": 302,
    "start_time": "2021-11-07T07:14:15.731Z"
   },
   {
    "duration": 65,
    "start_time": "2021-11-07T07:17:47.312Z"
   },
   {
    "duration": 27,
    "start_time": "2021-11-07T07:20:11.335Z"
   },
   {
    "duration": 26,
    "start_time": "2021-11-07T07:20:22.980Z"
   },
   {
    "duration": 306,
    "start_time": "2021-11-07T07:20:28.512Z"
   },
   {
    "duration": 118,
    "start_time": "2021-11-07T07:20:35.091Z"
   },
   {
    "duration": 99,
    "start_time": "2021-11-07T07:20:48.082Z"
   },
   {
    "duration": 28,
    "start_time": "2021-11-07T07:20:57.072Z"
   },
   {
    "duration": 19,
    "start_time": "2021-11-07T07:21:17.762Z"
   },
   {
    "duration": 21,
    "start_time": "2021-11-07T07:25:28.363Z"
   },
   {
    "duration": 20,
    "start_time": "2021-11-07T07:25:37.032Z"
   },
   {
    "duration": 16,
    "start_time": "2021-11-07T07:26:27.632Z"
   },
   {
    "duration": 16,
    "start_time": "2021-11-07T07:26:48.074Z"
   },
   {
    "duration": 69,
    "start_time": "2021-11-07T07:31:41.092Z"
   },
   {
    "duration": 16,
    "start_time": "2021-11-07T07:33:01.692Z"
   },
   {
    "duration": 10,
    "start_time": "2021-11-07T07:33:09.962Z"
   },
   {
    "duration": 13,
    "start_time": "2021-11-07T07:33:20.722Z"
   },
   {
    "duration": 13,
    "start_time": "2021-11-07T07:33:41.742Z"
   },
   {
    "duration": 12,
    "start_time": "2021-11-07T07:33:51.132Z"
   },
   {
    "duration": 4,
    "start_time": "2021-11-07T07:33:57.112Z"
   },
   {
    "duration": 419,
    "start_time": "2021-11-07T07:33:57.120Z"
   },
   {
    "duration": 23,
    "start_time": "2021-11-07T07:33:57.543Z"
   },
   {
    "duration": 8,
    "start_time": "2021-11-07T07:33:57.569Z"
   },
   {
    "duration": 55,
    "start_time": "2021-11-07T07:33:57.580Z"
   },
   {
    "duration": 6,
    "start_time": "2021-11-07T07:33:57.638Z"
   },
   {
    "duration": 14,
    "start_time": "2021-11-07T07:33:57.647Z"
   },
   {
    "duration": 60,
    "start_time": "2021-11-07T07:33:57.664Z"
   },
   {
    "duration": 14,
    "start_time": "2021-11-07T07:33:57.728Z"
   },
   {
    "duration": 10,
    "start_time": "2021-11-07T07:33:57.745Z"
   },
   {
    "duration": 7,
    "start_time": "2021-11-07T07:33:57.757Z"
   },
   {
    "duration": 65,
    "start_time": "2021-11-07T07:33:57.767Z"
   },
   {
    "duration": 8,
    "start_time": "2021-11-07T07:33:57.834Z"
   },
   {
    "duration": 15,
    "start_time": "2021-11-07T07:33:57.846Z"
   },
   {
    "duration": 67,
    "start_time": "2021-11-07T07:33:57.864Z"
   },
   {
    "duration": 19,
    "start_time": "2021-11-07T07:33:57.934Z"
   },
   {
    "duration": 17,
    "start_time": "2021-11-07T07:33:57.956Z"
   },
   {
    "duration": 49,
    "start_time": "2021-11-07T07:33:57.975Z"
   },
   {
    "duration": 15,
    "start_time": "2021-11-07T07:33:58.026Z"
   },
   {
    "duration": 15,
    "start_time": "2021-11-07T07:33:58.043Z"
   },
   {
    "duration": 11,
    "start_time": "2021-11-07T07:33:58.060Z"
   },
   {
    "duration": 53,
    "start_time": "2021-11-07T07:33:58.073Z"
   },
   {
    "duration": 7,
    "start_time": "2021-11-07T07:33:58.128Z"
   },
   {
    "duration": 5,
    "start_time": "2021-11-07T07:33:58.138Z"
   },
   {
    "duration": 7,
    "start_time": "2021-11-07T07:33:58.145Z"
   },
   {
    "duration": 6,
    "start_time": "2021-11-07T07:33:58.155Z"
   },
   {
    "duration": 66,
    "start_time": "2021-11-07T07:33:58.165Z"
   },
   {
    "duration": 10,
    "start_time": "2021-11-07T07:33:58.233Z"
   },
   {
    "duration": 12,
    "start_time": "2021-11-07T07:34:04.822Z"
   },
   {
    "duration": 22,
    "start_time": "2021-11-07T07:34:53.102Z"
   },
   {
    "duration": 62,
    "start_time": "2021-11-07T07:34:59.499Z"
   },
   {
    "duration": 78,
    "start_time": "2021-11-07T07:35:10.942Z"
   },
   {
    "duration": 65,
    "start_time": "2021-11-07T07:35:27.682Z"
   },
   {
    "duration": 101,
    "start_time": "2021-11-07T07:39:26.812Z"
   },
   {
    "duration": 327,
    "start_time": "2021-11-07T07:39:46.752Z"
   },
   {
    "duration": 15,
    "start_time": "2021-11-07T07:40:00.631Z"
   },
   {
    "duration": 4,
    "start_time": "2021-11-07T08:47:31.022Z"
   },
   {
    "duration": 446,
    "start_time": "2021-11-07T08:47:31.030Z"
   },
   {
    "duration": 43,
    "start_time": "2021-11-07T08:47:31.479Z"
   },
   {
    "duration": 8,
    "start_time": "2021-11-07T08:47:31.526Z"
   },
   {
    "duration": 19,
    "start_time": "2021-11-07T08:47:31.536Z"
   },
   {
    "duration": 6,
    "start_time": "2021-11-07T08:47:31.558Z"
   },
   {
    "duration": 56,
    "start_time": "2021-11-07T08:47:31.567Z"
   },
   {
    "duration": 6,
    "start_time": "2021-11-07T08:47:31.626Z"
   },
   {
    "duration": 30,
    "start_time": "2021-11-07T08:47:31.636Z"
   },
   {
    "duration": 8,
    "start_time": "2021-11-07T08:47:31.669Z"
   },
   {
    "duration": 46,
    "start_time": "2021-11-07T08:47:31.679Z"
   },
   {
    "duration": 9,
    "start_time": "2021-11-07T08:47:31.728Z"
   },
   {
    "duration": 10,
    "start_time": "2021-11-07T08:47:31.739Z"
   },
   {
    "duration": 14,
    "start_time": "2021-11-07T08:47:31.751Z"
   },
   {
    "duration": 66,
    "start_time": "2021-11-07T08:47:31.767Z"
   },
   {
    "duration": 11,
    "start_time": "2021-11-07T08:47:31.836Z"
   },
   {
    "duration": 17,
    "start_time": "2021-11-07T08:47:31.849Z"
   },
   {
    "duration": 53,
    "start_time": "2021-11-07T08:47:31.869Z"
   },
   {
    "duration": 14,
    "start_time": "2021-11-07T08:47:31.925Z"
   },
   {
    "duration": 16,
    "start_time": "2021-11-07T08:47:31.941Z"
   },
   {
    "duration": 17,
    "start_time": "2021-11-07T08:47:31.959Z"
   },
   {
    "duration": 47,
    "start_time": "2021-11-07T08:47:31.978Z"
   },
   {
    "duration": 9,
    "start_time": "2021-11-07T08:47:32.027Z"
   },
   {
    "duration": 6,
    "start_time": "2021-11-07T08:47:32.038Z"
   },
   {
    "duration": 12,
    "start_time": "2021-11-07T08:47:32.046Z"
   },
   {
    "duration": 7,
    "start_time": "2021-11-07T08:47:32.061Z"
   },
   {
    "duration": 7,
    "start_time": "2021-11-07T08:47:32.125Z"
   },
   {
    "duration": 10,
    "start_time": "2021-11-07T08:47:32.135Z"
   },
   {
    "duration": 16,
    "start_time": "2021-11-07T08:47:43.352Z"
   },
   {
    "duration": 41,
    "start_time": "2021-11-07T08:47:54.921Z"
   },
   {
    "duration": 16,
    "start_time": "2021-11-07T08:48:22.592Z"
   },
   {
    "duration": 17,
    "start_time": "2021-11-07T08:48:32.191Z"
   },
   {
    "duration": 16,
    "start_time": "2021-11-07T08:49:16.082Z"
   },
   {
    "duration": 15,
    "start_time": "2021-11-07T08:49:17.772Z"
   },
   {
    "duration": 15,
    "start_time": "2021-11-07T08:49:53.271Z"
   },
   {
    "duration": 17,
    "start_time": "2021-11-07T08:49:55.891Z"
   },
   {
    "duration": 17,
    "start_time": "2021-11-07T08:49:57.371Z"
   },
   {
    "duration": 3,
    "start_time": "2021-11-07T08:50:05.202Z"
   },
   {
    "duration": 426,
    "start_time": "2021-11-07T08:50:05.208Z"
   },
   {
    "duration": 25,
    "start_time": "2021-11-07T08:50:05.637Z"
   },
   {
    "duration": 8,
    "start_time": "2021-11-07T08:50:05.665Z"
   },
   {
    "duration": 57,
    "start_time": "2021-11-07T08:50:05.676Z"
   },
   {
    "duration": 8,
    "start_time": "2021-11-07T08:50:05.736Z"
   },
   {
    "duration": 16,
    "start_time": "2021-11-07T08:50:05.746Z"
   },
   {
    "duration": 59,
    "start_time": "2021-11-07T08:50:05.766Z"
   },
   {
    "duration": 15,
    "start_time": "2021-11-07T08:50:05.828Z"
   },
   {
    "duration": 8,
    "start_time": "2021-11-07T08:50:05.846Z"
   },
   {
    "duration": 12,
    "start_time": "2021-11-07T08:50:05.857Z"
   },
   {
    "duration": 9,
    "start_time": "2021-11-07T08:50:05.923Z"
   },
   {
    "duration": 8,
    "start_time": "2021-11-07T08:50:05.935Z"
   },
   {
    "duration": 15,
    "start_time": "2021-11-07T08:50:05.946Z"
   },
   {
    "duration": 60,
    "start_time": "2021-11-07T08:50:05.964Z"
   },
   {
    "duration": 20,
    "start_time": "2021-11-07T08:50:06.027Z"
   },
   {
    "duration": 18,
    "start_time": "2021-11-07T08:50:06.049Z"
   },
   {
    "duration": 8,
    "start_time": "2021-11-07T08:50:06.070Z"
   },
   {
    "duration": 50,
    "start_time": "2021-11-07T08:50:06.081Z"
   },
   {
    "duration": 16,
    "start_time": "2021-11-07T08:50:06.134Z"
   },
   {
    "duration": 12,
    "start_time": "2021-11-07T08:50:06.153Z"
   },
   {
    "duration": 7,
    "start_time": "2021-11-07T08:50:06.168Z"
   },
   {
    "duration": 8,
    "start_time": "2021-11-07T08:50:06.224Z"
   },
   {
    "duration": 7,
    "start_time": "2021-11-07T08:50:06.235Z"
   },
   {
    "duration": 10,
    "start_time": "2021-11-07T08:50:06.245Z"
   },
   {
    "duration": 7,
    "start_time": "2021-11-07T08:50:06.258Z"
   },
   {
    "duration": 56,
    "start_time": "2021-11-07T08:50:06.267Z"
   },
   {
    "duration": 9,
    "start_time": "2021-11-07T08:50:06.326Z"
   },
   {
    "duration": 10,
    "start_time": "2021-11-07T08:50:09.759Z"
   },
   {
    "duration": 17,
    "start_time": "2021-11-07T08:50:11.522Z"
   },
   {
    "duration": 10,
    "start_time": "2021-11-07T08:54:08.281Z"
   },
   {
    "duration": 18,
    "start_time": "2021-11-07T08:55:25.791Z"
   },
   {
    "duration": 16,
    "start_time": "2021-11-07T08:55:35.801Z"
   },
   {
    "duration": 16,
    "start_time": "2021-11-07T08:56:15.271Z"
   },
   {
    "duration": 292,
    "start_time": "2021-11-07T09:16:52.938Z"
   },
   {
    "duration": 273,
    "start_time": "2021-11-07T09:18:03.361Z"
   },
   {
    "duration": 6582,
    "start_time": "2021-11-07T09:27:35.561Z"
   },
   {
    "duration": 8604,
    "start_time": "2021-11-07T09:28:25.651Z"
   },
   {
    "duration": 3,
    "start_time": "2021-11-07T09:42:11.973Z"
   },
   {
    "duration": 10,
    "start_time": "2021-11-07T09:43:05.068Z"
   },
   {
    "duration": 8665,
    "start_time": "2021-11-07T10:02:05.192Z"
   },
   {
    "duration": 7207,
    "start_time": "2021-11-07T10:02:32.544Z"
   },
   {
    "duration": 4,
    "start_time": "2021-11-07T10:03:45.086Z"
   },
   {
    "duration": 453,
    "start_time": "2021-11-07T10:03:45.093Z"
   },
   {
    "duration": 27,
    "start_time": "2021-11-07T10:03:45.551Z"
   },
   {
    "duration": 49,
    "start_time": "2021-11-07T10:03:45.582Z"
   },
   {
    "duration": 17,
    "start_time": "2021-11-07T10:03:45.633Z"
   },
   {
    "duration": 6,
    "start_time": "2021-11-07T10:03:45.653Z"
   },
   {
    "duration": 70,
    "start_time": "2021-11-07T10:03:45.662Z"
   },
   {
    "duration": 9,
    "start_time": "2021-11-07T10:03:45.736Z"
   },
   {
    "duration": 17,
    "start_time": "2021-11-07T10:03:45.751Z"
   },
   {
    "duration": 56,
    "start_time": "2021-11-07T10:03:45.773Z"
   },
   {
    "duration": 13,
    "start_time": "2021-11-07T10:03:45.832Z"
   },
   {
    "duration": 14,
    "start_time": "2021-11-07T10:03:45.848Z"
   },
   {
    "duration": 58,
    "start_time": "2021-11-07T10:03:45.865Z"
   },
   {
    "duration": 16,
    "start_time": "2021-11-07T10:03:45.930Z"
   },
   {
    "duration": 18,
    "start_time": "2021-11-07T10:03:45.948Z"
   },
   {
    "duration": 11,
    "start_time": "2021-11-07T10:03:45.969Z"
   },
   {
    "duration": 57,
    "start_time": "2021-11-07T10:03:45.983Z"
   },
   {
    "duration": 27,
    "start_time": "2021-11-07T10:03:46.043Z"
   },
   {
    "duration": 26,
    "start_time": "2021-11-07T10:03:46.072Z"
   },
   {
    "duration": 26,
    "start_time": "2021-11-07T10:03:46.101Z"
   },
   {
    "duration": 13,
    "start_time": "2021-11-07T10:03:46.132Z"
   },
   {
    "duration": 22,
    "start_time": "2021-11-07T10:03:46.148Z"
   },
   {
    "duration": 53,
    "start_time": "2021-11-07T10:03:46.173Z"
   },
   {
    "duration": 10,
    "start_time": "2021-11-07T10:03:46.229Z"
   },
   {
    "duration": 10,
    "start_time": "2021-11-07T10:03:46.243Z"
   },
   {
    "duration": 11,
    "start_time": "2021-11-07T10:03:46.256Z"
   },
   {
    "duration": 60,
    "start_time": "2021-11-07T10:03:46.271Z"
   },
   {
    "duration": 10,
    "start_time": "2021-11-07T10:03:53.350Z"
   },
   {
    "duration": 17,
    "start_time": "2021-11-07T10:03:58.041Z"
   },
   {
    "duration": 21,
    "start_time": "2021-11-07T10:04:05.104Z"
   },
   {
    "duration": 29,
    "start_time": "2021-11-07T10:04:10.392Z"
   },
   {
    "duration": 273,
    "start_time": "2021-11-07T10:04:13.943Z"
   },
   {
    "duration": 289,
    "start_time": "2021-11-07T10:04:42.592Z"
   },
   {
    "duration": 278,
    "start_time": "2021-11-07T10:08:11.022Z"
   },
   {
    "duration": 441,
    "start_time": "2021-11-07T10:18:09.340Z"
   },
   {
    "duration": 402,
    "start_time": "2021-11-07T10:18:19.233Z"
   },
   {
    "duration": 5,
    "start_time": "2021-11-07T10:18:32.723Z"
   },
   {
    "duration": 538,
    "start_time": "2021-11-07T10:18:32.731Z"
   },
   {
    "duration": 55,
    "start_time": "2021-11-07T10:18:33.273Z"
   },
   {
    "duration": 9,
    "start_time": "2021-11-07T10:18:33.332Z"
   },
   {
    "duration": 17,
    "start_time": "2021-11-07T10:18:33.345Z"
   },
   {
    "duration": 6,
    "start_time": "2021-11-07T10:18:33.365Z"
   },
   {
    "duration": 67,
    "start_time": "2021-11-07T10:18:33.373Z"
   },
   {
    "duration": 8,
    "start_time": "2021-11-07T10:18:33.446Z"
   },
   {
    "duration": 68,
    "start_time": "2021-11-07T10:18:33.459Z"
   },
   {
    "duration": 12,
    "start_time": "2021-11-07T10:18:33.532Z"
   },
   {
    "duration": 8,
    "start_time": "2021-11-07T10:18:33.547Z"
   },
   {
    "duration": 11,
    "start_time": "2021-11-07T10:18:33.559Z"
   },
   {
    "duration": 54,
    "start_time": "2021-11-07T10:18:33.573Z"
   },
   {
    "duration": 17,
    "start_time": "2021-11-07T10:18:33.630Z"
   },
   {
    "duration": 16,
    "start_time": "2021-11-07T10:18:33.650Z"
   },
   {
    "duration": 63,
    "start_time": "2021-11-07T10:18:33.669Z"
   },
   {
    "duration": 20,
    "start_time": "2021-11-07T10:18:33.735Z"
   },
   {
    "duration": 9,
    "start_time": "2021-11-07T10:18:33.757Z"
   },
   {
    "duration": 67,
    "start_time": "2021-11-07T10:18:33.768Z"
   },
   {
    "duration": 15,
    "start_time": "2021-11-07T10:18:33.838Z"
   },
   {
    "duration": 13,
    "start_time": "2021-11-07T10:18:33.857Z"
   },
   {
    "duration": 54,
    "start_time": "2021-11-07T10:18:33.873Z"
   },
   {
    "duration": 9,
    "start_time": "2021-11-07T10:18:33.931Z"
   },
   {
    "duration": 21,
    "start_time": "2021-11-07T10:18:33.943Z"
   },
   {
    "duration": 15,
    "start_time": "2021-11-07T10:18:33.966Z"
   },
   {
    "duration": 45,
    "start_time": "2021-11-07T10:18:33.984Z"
   },
   {
    "duration": 12,
    "start_time": "2021-11-07T10:18:34.035Z"
   },
   {
    "duration": 10,
    "start_time": "2021-11-07T10:18:34.049Z"
   },
   {
    "duration": 10,
    "start_time": "2021-11-07T10:18:38.651Z"
   },
   {
    "duration": 5,
    "start_time": "2021-11-07T10:18:42.662Z"
   },
   {
    "duration": 9,
    "start_time": "2021-11-07T10:19:04.082Z"
   },
   {
    "duration": 597,
    "start_time": "2021-11-07T10:19:09.462Z"
   },
   {
    "duration": 22,
    "start_time": "2021-11-07T10:19:42.442Z"
   },
   {
    "duration": 25,
    "start_time": "2021-11-07T10:19:59.442Z"
   },
   {
    "duration": 34,
    "start_time": "2021-11-07T10:20:09.292Z"
   },
   {
    "duration": 271,
    "start_time": "2021-11-07T10:20:16.542Z"
   },
   {
    "duration": 277,
    "start_time": "2021-11-07T10:20:31.183Z"
   },
   {
    "duration": 4,
    "start_time": "2021-11-07T10:20:37.580Z"
   },
   {
    "duration": 403,
    "start_time": "2021-11-07T10:20:37.586Z"
   },
   {
    "duration": 50,
    "start_time": "2021-11-07T10:20:37.992Z"
   },
   {
    "duration": 7,
    "start_time": "2021-11-07T10:20:38.045Z"
   },
   {
    "duration": 14,
    "start_time": "2021-11-07T10:20:38.055Z"
   },
   {
    "duration": 55,
    "start_time": "2021-11-07T10:20:38.072Z"
   },
   {
    "duration": 18,
    "start_time": "2021-11-07T10:20:38.131Z"
   },
   {
    "duration": 7,
    "start_time": "2021-11-07T10:20:38.152Z"
   },
   {
    "duration": 69,
    "start_time": "2021-11-07T10:20:38.161Z"
   },
   {
    "duration": 12,
    "start_time": "2021-11-07T10:20:38.235Z"
   },
   {
    "duration": 7,
    "start_time": "2021-11-07T10:20:38.249Z"
   },
   {
    "duration": 7,
    "start_time": "2021-11-07T10:20:38.259Z"
   },
   {
    "duration": 60,
    "start_time": "2021-11-07T10:20:38.269Z"
   },
   {
    "duration": 15,
    "start_time": "2021-11-07T10:20:38.334Z"
   },
   {
    "duration": 20,
    "start_time": "2021-11-07T10:20:38.353Z"
   },
   {
    "duration": 15,
    "start_time": "2021-11-07T10:20:38.424Z"
   },
   {
    "duration": 16,
    "start_time": "2021-11-07T10:20:38.443Z"
   },
   {
    "duration": 9,
    "start_time": "2021-11-07T10:20:38.461Z"
   },
   {
    "duration": 66,
    "start_time": "2021-11-07T10:20:38.475Z"
   },
   {
    "duration": 14,
    "start_time": "2021-11-07T10:20:38.544Z"
   },
   {
    "duration": 9,
    "start_time": "2021-11-07T10:20:38.560Z"
   },
   {
    "duration": 5,
    "start_time": "2021-11-07T10:20:38.572Z"
   },
   {
    "duration": 13,
    "start_time": "2021-11-07T10:20:38.624Z"
   },
   {
    "duration": 9,
    "start_time": "2021-11-07T10:20:38.640Z"
   },
   {
    "duration": 7,
    "start_time": "2021-11-07T10:20:38.651Z"
   },
   {
    "duration": 7,
    "start_time": "2021-11-07T10:20:38.660Z"
   },
   {
    "duration": 10,
    "start_time": "2021-11-07T10:20:38.722Z"
   },
   {
    "duration": 13,
    "start_time": "2021-11-07T10:20:38.735Z"
   },
   {
    "duration": 44,
    "start_time": "2021-11-07T10:21:58.924Z"
   },
   {
    "duration": 34,
    "start_time": "2021-11-07T10:22:22.113Z"
   },
   {
    "duration": 5,
    "start_time": "2021-11-07T10:22:29.232Z"
   },
   {
    "duration": 405,
    "start_time": "2021-11-07T10:22:29.246Z"
   },
   {
    "duration": 23,
    "start_time": "2021-11-07T10:22:29.654Z"
   },
   {
    "duration": 8,
    "start_time": "2021-11-07T10:22:29.680Z"
   },
   {
    "duration": 19,
    "start_time": "2021-11-07T10:22:29.722Z"
   },
   {
    "duration": 8,
    "start_time": "2021-11-07T10:22:29.745Z"
   },
   {
    "duration": 69,
    "start_time": "2021-11-07T10:22:29.756Z"
   },
   {
    "duration": 11,
    "start_time": "2021-11-07T10:22:29.829Z"
   },
   {
    "duration": 15,
    "start_time": "2021-11-07T10:22:29.844Z"
   },
   {
    "duration": 63,
    "start_time": "2021-11-07T10:22:29.863Z"
   },
   {
    "duration": 12,
    "start_time": "2021-11-07T10:22:29.929Z"
   },
   {
    "duration": 14,
    "start_time": "2021-11-07T10:22:29.943Z"
   },
   {
    "duration": 8,
    "start_time": "2021-11-07T10:22:29.961Z"
   },
   {
    "duration": 19,
    "start_time": "2021-11-07T10:22:30.023Z"
   },
   {
    "duration": 16,
    "start_time": "2021-11-07T10:22:30.045Z"
   },
   {
    "duration": 18,
    "start_time": "2021-11-07T10:22:30.064Z"
   },
   {
    "duration": 21,
    "start_time": "2021-11-07T10:22:30.125Z"
   },
   {
    "duration": 18,
    "start_time": "2021-11-07T10:22:30.148Z"
   },
   {
    "duration": 27,
    "start_time": "2021-11-07T10:22:30.169Z"
   },
   {
    "duration": 35,
    "start_time": "2021-11-07T10:22:30.199Z"
   },
   {
    "duration": 12,
    "start_time": "2021-11-07T10:22:30.238Z"
   },
   {
    "duration": 6,
    "start_time": "2021-11-07T10:22:30.253Z"
   },
   {
    "duration": 61,
    "start_time": "2021-11-07T10:22:30.262Z"
   },
   {
    "duration": 9,
    "start_time": "2021-11-07T10:22:30.327Z"
   },
   {
    "duration": 12,
    "start_time": "2021-11-07T10:22:30.339Z"
   },
   {
    "duration": 13,
    "start_time": "2021-11-07T10:22:30.354Z"
   },
   {
    "duration": 8,
    "start_time": "2021-11-07T10:22:30.369Z"
   },
   {
    "duration": 15,
    "start_time": "2021-11-07T10:22:30.429Z"
   },
   {
    "duration": 29,
    "start_time": "2021-11-07T10:22:36.462Z"
   },
   {
    "duration": 288,
    "start_time": "2021-11-07T10:23:09.173Z"
   },
   {
    "duration": 6,
    "start_time": "2021-11-07T10:24:56.474Z"
   },
   {
    "duration": 10,
    "start_time": "2021-11-07T10:39:55.892Z"
   },
   {
    "duration": 7,
    "start_time": "2021-11-07T10:40:02.562Z"
   },
   {
    "duration": 7,
    "start_time": "2021-11-07T10:40:07.419Z"
   },
   {
    "duration": 6,
    "start_time": "2021-11-07T10:40:11.438Z"
   },
   {
    "duration": 105,
    "start_time": "2021-11-07T10:41:44.921Z"
   },
   {
    "duration": 30,
    "start_time": "2021-11-07T10:41:55.153Z"
   },
   {
    "duration": 750,
    "start_time": "2021-11-07T22:35:37.396Z"
   },
   {
    "duration": 1028,
    "start_time": "2021-11-07T22:35:38.149Z"
   },
   {
    "duration": 27,
    "start_time": "2021-11-07T22:35:39.183Z"
   },
   {
    "duration": 7,
    "start_time": "2021-11-07T22:35:39.213Z"
   },
   {
    "duration": 14,
    "start_time": "2021-11-07T22:35:39.223Z"
   },
   {
    "duration": 7,
    "start_time": "2021-11-07T22:35:39.283Z"
   },
   {
    "duration": 13,
    "start_time": "2021-11-07T22:35:39.292Z"
   },
   {
    "duration": 7,
    "start_time": "2021-11-07T22:35:39.309Z"
   },
   {
    "duration": 15,
    "start_time": "2021-11-07T22:35:39.319Z"
   },
   {
    "duration": 8,
    "start_time": "2021-11-07T22:35:39.383Z"
   },
   {
    "duration": 6,
    "start_time": "2021-11-07T22:35:39.393Z"
   },
   {
    "duration": 9,
    "start_time": "2021-11-07T22:35:39.401Z"
   },
   {
    "duration": 7,
    "start_time": "2021-11-07T22:35:39.412Z"
   },
   {
    "duration": 68,
    "start_time": "2021-11-07T22:35:39.421Z"
   },
   {
    "duration": 15,
    "start_time": "2021-11-07T22:35:39.492Z"
   },
   {
    "duration": 12,
    "start_time": "2021-11-07T22:35:39.510Z"
   },
   {
    "duration": 62,
    "start_time": "2021-11-07T22:35:39.525Z"
   },
   {
    "duration": 9,
    "start_time": "2021-11-07T22:35:39.589Z"
   },
   {
    "duration": 14,
    "start_time": "2021-11-07T22:35:39.600Z"
   },
   {
    "duration": 10,
    "start_time": "2021-11-07T22:35:39.616Z"
   },
   {
    "duration": 9,
    "start_time": "2021-11-07T22:35:39.628Z"
   },
   {
    "duration": 6,
    "start_time": "2021-11-07T22:35:39.683Z"
   },
   {
    "duration": 6,
    "start_time": "2021-11-07T22:35:39.694Z"
   },
   {
    "duration": 6,
    "start_time": "2021-11-07T22:35:39.702Z"
   },
   {
    "duration": 8,
    "start_time": "2021-11-07T22:35:39.710Z"
   },
   {
    "duration": 6,
    "start_time": "2021-11-07T22:35:39.721Z"
   },
   {
    "duration": 7,
    "start_time": "2021-11-07T22:35:39.783Z"
   },
   {
    "duration": 10,
    "start_time": "2021-11-07T22:35:39.792Z"
   },
   {
    "duration": 84,
    "start_time": "2021-11-07T22:35:39.804Z"
   },
   {
    "duration": 9,
    "start_time": "2021-11-07T22:35:39.890Z"
   },
   {
    "duration": 33,
    "start_time": "2021-11-07T22:40:44.804Z"
   },
   {
    "duration": 9,
    "start_time": "2021-11-07T22:42:07.424Z"
   },
   {
    "duration": 9,
    "start_time": "2021-11-07T22:47:05.644Z"
   },
   {
    "duration": 6,
    "start_time": "2021-11-07T22:48:27.164Z"
   },
   {
    "duration": 7,
    "start_time": "2021-11-07T22:50:42.442Z"
   },
   {
    "duration": 6,
    "start_time": "2021-11-07T22:54:28.894Z"
   },
   {
    "duration": 8,
    "start_time": "2021-11-07T22:55:07.054Z"
   },
   {
    "duration": 8,
    "start_time": "2021-11-07T22:56:43.627Z"
   },
   {
    "duration": 8,
    "start_time": "2021-11-07T22:58:53.374Z"
   },
   {
    "duration": 6,
    "start_time": "2021-11-07T23:01:01.764Z"
   },
   {
    "duration": 8,
    "start_time": "2021-11-07T23:05:32.774Z"
   },
   {
    "duration": 11,
    "start_time": "2021-11-07T23:05:49.244Z"
   },
   {
    "duration": 75,
    "start_time": "2021-11-07T23:15:05.864Z"
   },
   {
    "duration": 423,
    "start_time": "2021-11-07T23:17:12.604Z"
   },
   {
    "duration": 24,
    "start_time": "2021-11-07T23:17:31.295Z"
   },
   {
    "duration": 8,
    "start_time": "2021-11-07T23:25:17.004Z"
   },
   {
    "duration": 9,
    "start_time": "2021-11-07T23:27:46.654Z"
   },
   {
    "duration": 10,
    "start_time": "2021-11-07T23:34:58.464Z"
   },
   {
    "duration": 9,
    "start_time": "2021-11-07T23:35:16.174Z"
   },
   {
    "duration": 11,
    "start_time": "2021-11-07T23:35:25.883Z"
   },
   {
    "duration": 18,
    "start_time": "2021-11-07T23:39:51.682Z"
   },
   {
    "duration": 7,
    "start_time": "2021-11-07T23:40:23.526Z"
   },
   {
    "duration": 18,
    "start_time": "2021-11-07T23:41:07.525Z"
   },
   {
    "duration": 96,
    "start_time": "2021-11-07T23:47:50.123Z"
   },
   {
    "duration": 9,
    "start_time": "2021-11-07T23:48:03.694Z"
   },
   {
    "duration": 13,
    "start_time": "2021-11-07T23:52:58.064Z"
   },
   {
    "duration": 12,
    "start_time": "2021-11-07T23:53:47.524Z"
   },
   {
    "duration": 8,
    "start_time": "2021-11-08T00:06:26.015Z"
   },
   {
    "duration": 12,
    "start_time": "2021-11-08T00:07:05.635Z"
   },
   {
    "duration": 8,
    "start_time": "2021-11-08T00:07:23.493Z"
   },
   {
    "duration": 10,
    "start_time": "2021-11-08T00:12:46.485Z"
   },
   {
    "duration": 14,
    "start_time": "2021-11-08T00:14:19.445Z"
   },
   {
    "duration": 54,
    "start_time": "2021-11-08T00:17:01.737Z"
   },
   {
    "duration": 48,
    "start_time": "2021-11-08T00:17:10.085Z"
   },
   {
    "duration": 48,
    "start_time": "2021-11-08T00:17:25.885Z"
   },
   {
    "duration": 48,
    "start_time": "2021-11-08T00:17:44.695Z"
   },
   {
    "duration": 47,
    "start_time": "2021-11-08T00:20:39.246Z"
   },
   {
    "duration": 444,
    "start_time": "2021-11-08T22:47:05.133Z"
   },
   {
    "duration": 796,
    "start_time": "2021-11-08T22:47:20.421Z"
   },
   {
    "duration": 2617,
    "start_time": "2021-11-08T22:47:21.219Z"
   },
   {
    "duration": 27,
    "start_time": "2021-11-08T22:47:23.840Z"
   },
   {
    "duration": 68,
    "start_time": "2021-11-08T22:47:23.871Z"
   },
   {
    "duration": 17,
    "start_time": "2021-11-08T22:47:23.942Z"
   },
   {
    "duration": 42,
    "start_time": "2021-11-08T22:47:23.962Z"
   },
   {
    "duration": 9,
    "start_time": "2021-11-08T22:47:24.007Z"
   },
   {
    "duration": 13,
    "start_time": "2021-11-08T22:47:24.021Z"
   },
   {
    "duration": 6,
    "start_time": "2021-11-08T22:47:24.036Z"
   },
   {
    "duration": 65,
    "start_time": "2021-11-08T22:47:24.045Z"
   },
   {
    "duration": 8,
    "start_time": "2021-11-08T22:47:24.112Z"
   },
   {
    "duration": 7,
    "start_time": "2021-11-08T22:47:24.123Z"
   },
   {
    "duration": 12,
    "start_time": "2021-11-08T22:47:24.133Z"
   },
   {
    "duration": 7,
    "start_time": "2021-11-08T22:47:24.148Z"
   },
   {
    "duration": 50,
    "start_time": "2021-11-08T22:47:24.157Z"
   },
   {
    "duration": 19,
    "start_time": "2021-11-08T22:47:24.210Z"
   },
   {
    "duration": 11,
    "start_time": "2021-11-08T22:47:24.232Z"
   },
   {
    "duration": 19,
    "start_time": "2021-11-08T22:47:24.246Z"
   },
   {
    "duration": 53,
    "start_time": "2021-11-08T22:47:24.267Z"
   },
   {
    "duration": 9,
    "start_time": "2021-11-08T22:47:24.323Z"
   },
   {
    "duration": 14,
    "start_time": "2021-11-08T22:47:24.334Z"
   },
   {
    "duration": 13,
    "start_time": "2021-11-08T22:47:24.350Z"
   },
   {
    "duration": 9,
    "start_time": "2021-11-08T22:47:24.368Z"
   },
   {
    "duration": 8,
    "start_time": "2021-11-08T22:47:24.402Z"
   },
   {
    "duration": 12,
    "start_time": "2021-11-08T22:47:24.412Z"
   },
   {
    "duration": 15,
    "start_time": "2021-11-08T22:47:24.427Z"
   },
   {
    "duration": 11,
    "start_time": "2021-11-08T22:47:24.444Z"
   },
   {
    "duration": 7,
    "start_time": "2021-11-08T22:47:24.457Z"
   },
   {
    "duration": 40,
    "start_time": "2021-11-08T22:47:24.466Z"
   },
   {
    "duration": 13,
    "start_time": "2021-11-08T22:47:24.508Z"
   },
   {
    "duration": 38,
    "start_time": "2021-11-08T22:47:24.524Z"
   },
   {
    "duration": 37,
    "start_time": "2021-11-08T22:47:24.564Z"
   },
   {
    "duration": 44,
    "start_time": "2021-11-08T22:47:24.604Z"
   },
   {
    "duration": 8,
    "start_time": "2021-11-08T22:47:24.650Z"
   },
   {
    "duration": 6,
    "start_time": "2021-11-08T22:47:24.661Z"
   },
   {
    "duration": 32,
    "start_time": "2021-11-08T22:47:24.669Z"
   },
   {
    "duration": 6,
    "start_time": "2021-11-08T22:47:24.703Z"
   },
   {
    "duration": 20,
    "start_time": "2021-11-08T22:47:24.711Z"
   },
   {
    "duration": 28,
    "start_time": "2021-11-08T22:47:24.734Z"
   },
   {
    "duration": 11,
    "start_time": "2021-11-08T22:47:24.765Z"
   },
   {
    "duration": 25,
    "start_time": "2021-11-08T22:47:24.778Z"
   },
   {
    "duration": 8,
    "start_time": "2021-11-08T22:47:24.805Z"
   },
   {
    "duration": 8,
    "start_time": "2021-11-08T22:49:58.203Z"
   },
   {
    "duration": 9,
    "start_time": "2021-11-08T22:54:18.044Z"
   },
   {
    "duration": 9,
    "start_time": "2021-11-08T22:54:55.377Z"
   },
   {
    "duration": 31,
    "start_time": "2021-11-08T22:57:26.143Z"
   },
   {
    "duration": 29,
    "start_time": "2021-11-08T22:58:33.864Z"
   },
   {
    "duration": 764,
    "start_time": "2021-11-09T23:39:55.102Z"
   },
   {
    "duration": 2330,
    "start_time": "2021-11-09T23:39:55.869Z"
   },
   {
    "duration": 26,
    "start_time": "2021-11-09T23:39:58.204Z"
   },
   {
    "duration": 70,
    "start_time": "2021-11-09T23:39:58.234Z"
   },
   {
    "duration": 15,
    "start_time": "2021-11-09T23:39:58.307Z"
   },
   {
    "duration": 38,
    "start_time": "2021-11-09T23:39:58.325Z"
   },
   {
    "duration": 16,
    "start_time": "2021-11-09T23:39:58.365Z"
   },
   {
    "duration": 6,
    "start_time": "2021-11-09T23:39:58.383Z"
   },
   {
    "duration": 12,
    "start_time": "2021-11-09T23:39:58.393Z"
   },
   {
    "duration": 52,
    "start_time": "2021-11-09T23:39:58.408Z"
   },
   {
    "duration": 6,
    "start_time": "2021-11-09T23:39:58.463Z"
   },
   {
    "duration": 10,
    "start_time": "2021-11-09T23:39:58.471Z"
   },
   {
    "duration": 6,
    "start_time": "2021-11-09T23:39:58.483Z"
   },
   {
    "duration": 12,
    "start_time": "2021-11-09T23:39:58.492Z"
   },
   {
    "duration": 59,
    "start_time": "2021-11-09T23:39:58.507Z"
   },
   {
    "duration": 10,
    "start_time": "2021-11-09T23:39:58.569Z"
   },
   {
    "duration": 17,
    "start_time": "2021-11-09T23:39:58.582Z"
   },
   {
    "duration": 16,
    "start_time": "2021-11-09T23:39:58.602Z"
   },
   {
    "duration": 44,
    "start_time": "2021-11-09T23:39:58.621Z"
   },
   {
    "duration": 12,
    "start_time": "2021-11-09T23:39:58.668Z"
   },
   {
    "duration": 14,
    "start_time": "2021-11-09T23:39:58.683Z"
   },
   {
    "duration": 10,
    "start_time": "2021-11-09T23:39:58.699Z"
   },
   {
    "duration": 52,
    "start_time": "2021-11-09T23:39:58.711Z"
   },
   {
    "duration": 9,
    "start_time": "2021-11-09T23:39:58.765Z"
   },
   {
    "duration": 7,
    "start_time": "2021-11-09T23:39:58.777Z"
   },
   {
    "duration": 5,
    "start_time": "2021-11-09T23:39:58.786Z"
   },
   {
    "duration": 6,
    "start_time": "2021-11-09T23:39:58.796Z"
   },
   {
    "duration": 54,
    "start_time": "2021-11-09T23:39:58.805Z"
   },
   {
    "duration": 7,
    "start_time": "2021-11-09T23:39:58.862Z"
   },
   {
    "duration": 13,
    "start_time": "2021-11-09T23:39:58.871Z"
   },
   {
    "duration": 37,
    "start_time": "2021-11-09T23:39:58.887Z"
   },
   {
    "duration": 33,
    "start_time": "2021-11-09T23:39:58.926Z"
   },
   {
    "duration": 43,
    "start_time": "2021-11-09T23:39:58.962Z"
   },
   {
    "duration": 10,
    "start_time": "2021-11-09T23:39:59.007Z"
   },
   {
    "duration": 43,
    "start_time": "2021-11-09T23:39:59.019Z"
   },
   {
    "duration": 8,
    "start_time": "2021-11-09T23:39:59.064Z"
   },
   {
    "duration": 6,
    "start_time": "2021-11-09T23:39:59.075Z"
   },
   {
    "duration": 11,
    "start_time": "2021-11-09T23:39:59.083Z"
   },
   {
    "duration": 13,
    "start_time": "2021-11-09T23:39:59.097Z"
   },
   {
    "duration": 56,
    "start_time": "2021-11-09T23:39:59.112Z"
   },
   {
    "duration": 6,
    "start_time": "2021-11-09T23:39:59.170Z"
   },
   {
    "duration": 7,
    "start_time": "2021-11-09T23:39:59.179Z"
   },
   {
    "duration": 7,
    "start_time": "2021-11-09T23:51:10.461Z"
   },
   {
    "duration": 448,
    "start_time": "2021-11-10T00:45:53.101Z"
   },
   {
    "duration": 6,
    "start_time": "2021-11-10T00:46:38.151Z"
   },
   {
    "duration": 15,
    "start_time": "2021-11-10T00:47:04.151Z"
   },
   {
    "duration": 390,
    "start_time": "2021-11-10T00:48:21.181Z"
   },
   {
    "duration": 14,
    "start_time": "2021-11-10T00:48:27.060Z"
   },
   {
    "duration": 18,
    "start_time": "2021-11-10T00:48:29.793Z"
   },
   {
    "duration": 20,
    "start_time": "2021-11-10T00:56:46.651Z"
   },
   {
    "duration": 20,
    "start_time": "2021-11-10T00:58:03.801Z"
   },
   {
    "duration": 16,
    "start_time": "2021-11-10T00:59:18.921Z"
   },
   {
    "duration": 21,
    "start_time": "2021-11-10T00:59:33.851Z"
   },
   {
    "duration": 15,
    "start_time": "2021-11-10T01:00:53.891Z"
   },
   {
    "duration": 813,
    "start_time": "2021-11-11T11:57:08.215Z"
   },
   {
    "duration": 428,
    "start_time": "2021-11-11T11:57:09.032Z"
   },
   {
    "duration": 23,
    "start_time": "2021-11-11T11:57:09.463Z"
   },
   {
    "duration": 62,
    "start_time": "2021-11-11T11:57:09.489Z"
   },
   {
    "duration": 12,
    "start_time": "2021-11-11T11:57:09.554Z"
   },
   {
    "duration": 14,
    "start_time": "2021-11-11T11:57:09.569Z"
   },
   {
    "duration": 39,
    "start_time": "2021-11-11T11:57:09.585Z"
   },
   {
    "duration": 8,
    "start_time": "2021-11-11T11:57:09.626Z"
   },
   {
    "duration": 14,
    "start_time": "2021-11-11T11:57:09.637Z"
   },
   {
    "duration": 8,
    "start_time": "2021-11-11T11:57:09.654Z"
   },
   {
    "duration": 8,
    "start_time": "2021-11-11T11:57:09.664Z"
   },
   {
    "duration": 59,
    "start_time": "2021-11-11T11:57:09.675Z"
   },
   {
    "duration": 7,
    "start_time": "2021-11-11T11:57:09.736Z"
   },
   {
    "duration": 21,
    "start_time": "2021-11-11T11:57:09.745Z"
   },
   {
    "duration": 20,
    "start_time": "2021-11-11T11:57:09.768Z"
   },
   {
    "duration": 35,
    "start_time": "2021-11-11T11:57:09.790Z"
   },
   {
    "duration": 26,
    "start_time": "2021-11-11T11:57:09.827Z"
   },
   {
    "duration": 19,
    "start_time": "2021-11-11T11:57:09.855Z"
   },
   {
    "duration": 12,
    "start_time": "2021-11-11T11:57:09.876Z"
   },
   {
    "duration": 8,
    "start_time": "2021-11-11T11:57:09.890Z"
   },
   {
    "duration": 15,
    "start_time": "2021-11-11T11:57:09.923Z"
   },
   {
    "duration": 10,
    "start_time": "2021-11-11T11:57:09.940Z"
   },
   {
    "duration": 8,
    "start_time": "2021-11-11T11:57:09.952Z"
   },
   {
    "duration": 9,
    "start_time": "2021-11-11T11:57:09.962Z"
   },
   {
    "duration": 52,
    "start_time": "2021-11-11T11:57:09.973Z"
   },
   {
    "duration": 6,
    "start_time": "2021-11-11T11:57:10.027Z"
   },
   {
    "duration": 19,
    "start_time": "2021-11-11T11:57:10.038Z"
   },
   {
    "duration": 8,
    "start_time": "2021-11-11T11:57:10.060Z"
   },
   {
    "duration": 17,
    "start_time": "2021-11-11T11:57:10.071Z"
   },
   {
    "duration": 36,
    "start_time": "2021-11-11T11:57:10.090Z"
   },
   {
    "duration": 36,
    "start_time": "2021-11-11T11:57:10.128Z"
   },
   {
    "duration": 10,
    "start_time": "2021-11-11T11:57:10.166Z"
   },
   {
    "duration": 60,
    "start_time": "2021-11-11T11:57:10.178Z"
   },
   {
    "duration": 8,
    "start_time": "2021-11-11T11:57:10.240Z"
   },
   {
    "duration": 9,
    "start_time": "2021-11-11T11:57:10.251Z"
   },
   {
    "duration": 10,
    "start_time": "2021-11-11T11:57:10.262Z"
   },
   {
    "duration": 6,
    "start_time": "2021-11-11T11:57:10.276Z"
   },
   {
    "duration": 16,
    "start_time": "2021-11-11T11:57:10.324Z"
   },
   {
    "duration": 24,
    "start_time": "2021-11-11T11:57:10.342Z"
   },
   {
    "duration": 12,
    "start_time": "2021-11-11T11:57:10.368Z"
   },
   {
    "duration": 47,
    "start_time": "2021-11-11T11:57:10.382Z"
   },
   {
    "duration": 12,
    "start_time": "2021-11-11T11:57:10.431Z"
   },
   {
    "duration": 25,
    "start_time": "2021-11-11T11:57:10.446Z"
   },
   {
    "duration": 19,
    "start_time": "2021-11-11T11:57:10.474Z"
   },
   {
    "duration": 37,
    "start_time": "2021-11-11T11:57:10.495Z"
   },
   {
    "duration": 100,
    "start_time": "2021-11-11T12:02:03.866Z"
   },
   {
    "duration": 390,
    "start_time": "2021-11-11T12:02:08.877Z"
   },
   {
    "duration": 314,
    "start_time": "2021-11-11T12:02:41.678Z"
   },
   {
    "duration": 94,
    "start_time": "2021-11-11T12:03:15.577Z"
   },
   {
    "duration": 25,
    "start_time": "2021-11-11T12:03:29.677Z"
   },
   {
    "duration": 23,
    "start_time": "2021-11-11T12:04:23.218Z"
   },
   {
    "duration": 311,
    "start_time": "2021-11-11T12:04:57.827Z"
   },
   {
    "duration": 95,
    "start_time": "2021-11-11T12:05:48.977Z"
   },
   {
    "duration": 102,
    "start_time": "2021-11-11T12:07:24.057Z"
   },
   {
    "duration": 24,
    "start_time": "2021-11-11T12:07:43.226Z"
   },
   {
    "duration": 27,
    "start_time": "2021-11-11T12:07:54.838Z"
   },
   {
    "duration": 24,
    "start_time": "2021-11-11T12:08:48.627Z"
   },
   {
    "duration": 66,
    "start_time": "2021-11-11T13:15:38.397Z"
   },
   {
    "duration": 44,
    "start_time": "2021-11-11T13:15:49.623Z"
   },
   {
    "duration": 73,
    "start_time": "2021-11-11T13:36:54.095Z"
   },
   {
    "duration": 28,
    "start_time": "2021-11-11T13:37:03.565Z"
   },
   {
    "duration": 295,
    "start_time": "2021-11-11T13:38:26.047Z"
   },
   {
    "duration": 203,
    "start_time": "2021-11-11T13:38:34.027Z"
   },
   {
    "duration": 25,
    "start_time": "2021-11-11T13:38:36.535Z"
   },
   {
    "duration": 50,
    "start_time": "2021-11-11T13:39:34.428Z"
   },
   {
    "duration": 732,
    "start_time": "2021-11-13T01:43:14.021Z"
   },
   {
    "duration": 431,
    "start_time": "2021-11-13T01:43:14.755Z"
   },
   {
    "duration": 26,
    "start_time": "2021-11-13T01:43:15.188Z"
   },
   {
    "duration": 66,
    "start_time": "2021-11-13T01:43:15.216Z"
   },
   {
    "duration": 14,
    "start_time": "2021-11-13T01:43:15.284Z"
   },
   {
    "duration": 6,
    "start_time": "2021-11-13T01:43:15.301Z"
   },
   {
    "duration": 14,
    "start_time": "2021-11-13T01:43:15.310Z"
   },
   {
    "duration": 5,
    "start_time": "2021-11-13T01:43:15.328Z"
   },
   {
    "duration": 14,
    "start_time": "2021-11-13T01:43:15.384Z"
   },
   {
    "duration": 8,
    "start_time": "2021-11-13T01:43:15.400Z"
   },
   {
    "duration": 7,
    "start_time": "2021-11-13T01:43:15.410Z"
   },
   {
    "duration": 8,
    "start_time": "2021-11-13T01:43:15.420Z"
   },
   {
    "duration": 57,
    "start_time": "2021-11-13T01:43:15.430Z"
   },
   {
    "duration": 10,
    "start_time": "2021-11-13T01:43:15.490Z"
   },
   {
    "duration": 15,
    "start_time": "2021-11-13T01:43:15.503Z"
   },
   {
    "duration": 12,
    "start_time": "2021-11-13T01:43:15.521Z"
   },
   {
    "duration": 56,
    "start_time": "2021-11-13T01:43:15.535Z"
   },
   {
    "duration": 8,
    "start_time": "2021-11-13T01:43:15.593Z"
   },
   {
    "duration": 7,
    "start_time": "2021-11-13T01:43:15.603Z"
   },
   {
    "duration": 10,
    "start_time": "2021-11-13T01:43:15.612Z"
   },
   {
    "duration": 13,
    "start_time": "2021-11-13T01:43:15.625Z"
   },
   {
    "duration": 48,
    "start_time": "2021-11-13T01:43:15.641Z"
   },
   {
    "duration": 8,
    "start_time": "2021-11-13T01:43:15.695Z"
   },
   {
    "duration": 6,
    "start_time": "2021-11-13T01:43:15.706Z"
   },
   {
    "duration": 9,
    "start_time": "2021-11-13T01:43:15.715Z"
   },
   {
    "duration": 5,
    "start_time": "2021-11-13T01:43:15.727Z"
   },
   {
    "duration": 53,
    "start_time": "2021-11-13T01:43:15.734Z"
   },
   {
    "duration": 8,
    "start_time": "2021-11-13T01:43:15.789Z"
   },
   {
    "duration": 10,
    "start_time": "2021-11-13T01:43:15.800Z"
   },
   {
    "duration": 10,
    "start_time": "2021-11-13T01:43:15.812Z"
   },
   {
    "duration": 66,
    "start_time": "2021-11-13T01:43:15.824Z"
   },
   {
    "duration": 9,
    "start_time": "2021-11-13T01:43:15.893Z"
   },
   {
    "duration": 37,
    "start_time": "2021-11-13T01:43:15.905Z"
   },
   {
    "duration": 8,
    "start_time": "2021-11-13T01:43:15.944Z"
   },
   {
    "duration": 34,
    "start_time": "2021-11-13T01:43:15.954Z"
   },
   {
    "duration": 8,
    "start_time": "2021-11-13T01:43:15.990Z"
   },
   {
    "duration": 6,
    "start_time": "2021-11-13T01:43:16.000Z"
   },
   {
    "duration": 12,
    "start_time": "2021-11-13T01:43:16.009Z"
   },
   {
    "duration": 12,
    "start_time": "2021-11-13T01:43:16.023Z"
   },
   {
    "duration": 54,
    "start_time": "2021-11-13T01:43:16.037Z"
   },
   {
    "duration": 7,
    "start_time": "2021-11-13T01:43:16.093Z"
   },
   {
    "duration": 10,
    "start_time": "2021-11-13T01:43:16.103Z"
   },
   {
    "duration": 24,
    "start_time": "2021-11-13T01:43:16.115Z"
   },
   {
    "duration": 15,
    "start_time": "2021-11-13T01:43:16.182Z"
   },
   {
    "duration": 17,
    "start_time": "2021-11-13T01:43:16.200Z"
   },
   {
    "duration": 212,
    "start_time": "2021-11-13T01:43:16.219Z"
   },
   {
    "duration": 58,
    "start_time": "2021-11-13T01:43:16.433Z"
   },
   {
    "duration": 31,
    "start_time": "2021-11-13T01:47:12.197Z"
   },
   {
    "duration": 13,
    "start_time": "2021-11-13T01:47:15.731Z"
   },
   {
    "duration": 28,
    "start_time": "2021-11-13T01:47:23.351Z"
   },
   {
    "duration": 12,
    "start_time": "2021-11-13T01:47:25.181Z"
   },
   {
    "duration": 29,
    "start_time": "2021-11-13T01:48:01.643Z"
   },
   {
    "duration": 12,
    "start_time": "2021-11-13T01:48:06.291Z"
   },
   {
    "duration": 4,
    "start_time": "2021-11-13T01:49:21.172Z"
   },
   {
    "duration": 417,
    "start_time": "2021-11-13T01:49:21.179Z"
   },
   {
    "duration": 28,
    "start_time": "2021-11-13T01:49:21.599Z"
   },
   {
    "duration": 64,
    "start_time": "2021-11-13T01:49:21.629Z"
   },
   {
    "duration": 13,
    "start_time": "2021-11-13T01:49:21.696Z"
   },
   {
    "duration": 8,
    "start_time": "2021-11-13T01:49:21.712Z"
   },
   {
    "duration": 14,
    "start_time": "2021-11-13T01:49:21.722Z"
   },
   {
    "duration": 48,
    "start_time": "2021-11-13T01:49:21.738Z"
   },
   {
    "duration": 15,
    "start_time": "2021-11-13T01:49:21.789Z"
   },
   {
    "duration": 7,
    "start_time": "2021-11-13T01:49:21.807Z"
   },
   {
    "duration": 6,
    "start_time": "2021-11-13T01:49:21.816Z"
   },
   {
    "duration": 10,
    "start_time": "2021-11-13T01:49:21.825Z"
   },
   {
    "duration": 48,
    "start_time": "2021-11-13T01:49:21.838Z"
   },
   {
    "duration": 8,
    "start_time": "2021-11-13T01:49:28.903Z"
   },
   {
    "duration": 12,
    "start_time": "2021-11-13T01:49:33.461Z"
   },
   {
    "duration": 24,
    "start_time": "2021-11-13T01:49:38.028Z"
   },
   {
    "duration": 13,
    "start_time": "2021-11-13T01:49:43.041Z"
   },
   {
    "duration": 28,
    "start_time": "2021-11-13T01:51:06.383Z"
   },
   {
    "duration": 11,
    "start_time": "2021-11-13T01:51:09.340Z"
   },
   {
    "duration": 11,
    "start_time": "2021-11-13T01:51:11.242Z"
   },
   {
    "duration": 4964,
    "start_time": "2021-11-13T02:03:59.733Z"
   },
   {
    "duration": 4,
    "start_time": "2021-11-13T02:04:17.442Z"
   },
   {
    "duration": 406,
    "start_time": "2021-11-13T02:04:17.448Z"
   },
   {
    "duration": 39,
    "start_time": "2021-11-13T02:04:17.857Z"
   },
   {
    "duration": 39,
    "start_time": "2021-11-13T02:04:17.899Z"
   },
   {
    "duration": 13,
    "start_time": "2021-11-13T02:04:17.940Z"
   },
   {
    "duration": 32,
    "start_time": "2021-11-13T02:04:17.956Z"
   },
   {
    "duration": 16,
    "start_time": "2021-11-13T02:04:17.991Z"
   },
   {
    "duration": 6,
    "start_time": "2021-11-13T02:04:18.009Z"
   },
   {
    "duration": 14,
    "start_time": "2021-11-13T02:04:18.018Z"
   },
   {
    "duration": 54,
    "start_time": "2021-11-13T02:04:18.034Z"
   },
   {
    "duration": 7,
    "start_time": "2021-11-13T02:04:18.090Z"
   },
   {
    "duration": 8,
    "start_time": "2021-11-13T02:04:18.099Z"
   },
   {
    "duration": 5,
    "start_time": "2021-11-13T02:04:18.109Z"
   },
   {
    "duration": 11,
    "start_time": "2021-11-13T02:04:18.117Z"
   },
   {
    "duration": 4000,
    "start_time": "2021-11-13T02:04:24.683Z"
   },
   {
    "duration": 4613,
    "start_time": "2021-11-13T02:08:50.363Z"
   },
   {
    "duration": 3,
    "start_time": "2021-11-13T02:09:06.342Z"
   },
   {
    "duration": 426,
    "start_time": "2021-11-13T02:09:06.348Z"
   },
   {
    "duration": 24,
    "start_time": "2021-11-13T02:09:06.783Z"
   },
   {
    "duration": 43,
    "start_time": "2021-11-13T02:09:06.810Z"
   },
   {
    "duration": 41,
    "start_time": "2021-11-13T02:09:06.855Z"
   },
   {
    "duration": 7,
    "start_time": "2021-11-13T02:09:06.899Z"
   },
   {
    "duration": 13,
    "start_time": "2021-11-13T02:09:06.908Z"
   },
   {
    "duration": 6,
    "start_time": "2021-11-13T02:09:06.924Z"
   },
   {
    "duration": 63,
    "start_time": "2021-11-13T02:09:06.932Z"
   },
   {
    "duration": 7,
    "start_time": "2021-11-13T02:09:06.997Z"
   },
   {
    "duration": 8,
    "start_time": "2021-11-13T02:09:07.006Z"
   },
   {
    "duration": 8,
    "start_time": "2021-11-13T02:09:07.016Z"
   },
   {
    "duration": 6,
    "start_time": "2021-11-13T02:09:07.026Z"
   },
   {
    "duration": 8,
    "start_time": "2021-11-13T02:09:14.971Z"
   },
   {
    "duration": 11,
    "start_time": "2021-11-13T02:09:17.461Z"
   },
   {
    "duration": 33,
    "start_time": "2021-11-13T02:09:22.694Z"
   },
   {
    "duration": 15,
    "start_time": "2021-11-13T02:09:31.616Z"
   },
   {
    "duration": 324,
    "start_time": "2021-11-13T02:14:55.523Z"
   },
   {
    "duration": 28,
    "start_time": "2021-11-13T02:22:49.302Z"
   },
   {
    "duration": 783,
    "start_time": "2021-11-13T02:26:26.038Z"
   },
   {
    "duration": 451,
    "start_time": "2021-11-13T02:26:26.824Z"
   },
   {
    "duration": 27,
    "start_time": "2021-11-13T02:26:27.284Z"
   },
   {
    "duration": 79,
    "start_time": "2021-11-13T02:26:27.315Z"
   },
   {
    "duration": 14,
    "start_time": "2021-11-13T02:26:27.397Z"
   },
   {
    "duration": 7,
    "start_time": "2021-11-13T02:26:27.413Z"
   },
   {
    "duration": 15,
    "start_time": "2021-11-13T02:26:27.423Z"
   },
   {
    "duration": 8,
    "start_time": "2021-11-13T02:26:27.482Z"
   },
   {
    "duration": 14,
    "start_time": "2021-11-13T02:26:27.496Z"
   },
   {
    "duration": 10,
    "start_time": "2021-11-13T02:26:27.514Z"
   },
   {
    "duration": 55,
    "start_time": "2021-11-13T02:26:27.526Z"
   },
   {
    "duration": 11,
    "start_time": "2021-11-13T02:26:27.585Z"
   },
   {
    "duration": 8,
    "start_time": "2021-11-13T02:26:27.599Z"
   },
   {
    "duration": 14,
    "start_time": "2021-11-13T02:26:27.610Z"
   },
   {
    "duration": 76,
    "start_time": "2021-11-13T02:26:27.626Z"
   },
   {
    "duration": 14,
    "start_time": "2021-11-13T02:26:27.705Z"
   },
   {
    "duration": 11,
    "start_time": "2021-11-13T02:26:27.722Z"
   },
   {
    "duration": 54,
    "start_time": "2021-11-13T02:26:27.735Z"
   },
   {
    "duration": 9,
    "start_time": "2021-11-13T02:26:27.792Z"
   },
   {
    "duration": 7,
    "start_time": "2021-11-13T02:26:27.803Z"
   },
   {
    "duration": 8,
    "start_time": "2021-11-13T02:26:27.812Z"
   },
   {
    "duration": 14,
    "start_time": "2021-11-13T02:26:27.822Z"
   },
   {
    "duration": 48,
    "start_time": "2021-11-13T02:26:27.839Z"
   },
   {
    "duration": 8,
    "start_time": "2021-11-13T02:26:27.890Z"
   },
   {
    "duration": 7,
    "start_time": "2021-11-13T02:26:27.900Z"
   },
   {
    "duration": 7,
    "start_time": "2021-11-13T02:26:27.909Z"
   },
   {
    "duration": 6,
    "start_time": "2021-11-13T02:26:27.922Z"
   },
   {
    "duration": 56,
    "start_time": "2021-11-13T02:26:27.931Z"
   },
   {
    "duration": 7,
    "start_time": "2021-11-13T02:26:27.989Z"
   },
   {
    "duration": 7,
    "start_time": "2021-11-13T02:26:27.998Z"
   },
   {
    "duration": 9,
    "start_time": "2021-11-13T02:26:28.008Z"
   },
   {
    "duration": 71,
    "start_time": "2021-11-13T02:26:28.019Z"
   },
   {
    "duration": 9,
    "start_time": "2021-11-13T02:26:28.093Z"
   },
   {
    "duration": 36,
    "start_time": "2021-11-13T02:26:28.104Z"
   },
   {
    "duration": 8,
    "start_time": "2021-11-13T02:26:28.142Z"
   },
   {
    "duration": 9,
    "start_time": "2021-11-13T02:26:28.181Z"
   },
   {
    "duration": 8,
    "start_time": "2021-11-13T02:26:28.193Z"
   },
   {
    "duration": 6,
    "start_time": "2021-11-13T02:26:28.203Z"
   },
   {
    "duration": 10,
    "start_time": "2021-11-13T02:26:28.212Z"
   },
   {
    "duration": 63,
    "start_time": "2021-11-13T02:26:28.224Z"
   },
   {
    "duration": 11,
    "start_time": "2021-11-13T02:26:28.290Z"
   },
   {
    "duration": 7,
    "start_time": "2021-11-13T02:26:28.303Z"
   },
   {
    "duration": 8,
    "start_time": "2021-11-13T02:26:28.312Z"
   },
   {
    "duration": 60,
    "start_time": "2021-11-13T02:26:28.322Z"
   },
   {
    "duration": 16,
    "start_time": "2021-11-13T02:26:28.384Z"
   },
   {
    "duration": 16,
    "start_time": "2021-11-13T02:26:28.402Z"
   },
   {
    "duration": 224,
    "start_time": "2021-11-13T02:26:28.420Z"
   },
   {
    "duration": 56,
    "start_time": "2021-11-13T02:26:28.646Z"
   },
   {
    "duration": 31,
    "start_time": "2021-11-13T02:29:33.217Z"
   },
   {
    "duration": 12,
    "start_time": "2021-11-13T02:29:36.147Z"
   },
   {
    "duration": 30,
    "start_time": "2021-11-13T02:29:42.836Z"
   },
   {
    "duration": 13,
    "start_time": "2021-11-13T02:29:45.246Z"
   },
   {
    "duration": 29,
    "start_time": "2021-11-13T02:30:03.836Z"
   },
   {
    "duration": 14,
    "start_time": "2021-11-13T02:30:06.597Z"
   },
   {
    "duration": 32,
    "start_time": "2021-11-13T02:30:13.528Z"
   },
   {
    "duration": 13,
    "start_time": "2021-11-13T02:30:16.338Z"
   },
   {
    "duration": 30,
    "start_time": "2021-11-13T02:30:49.248Z"
   },
   {
    "duration": 12,
    "start_time": "2021-11-13T02:30:51.657Z"
   },
   {
    "duration": 13,
    "start_time": "2021-11-13T02:30:55.748Z"
   },
   {
    "duration": 29,
    "start_time": "2021-11-13T02:30:58.107Z"
   },
   {
    "duration": 13,
    "start_time": "2021-11-13T02:30:59.857Z"
   },
   {
    "duration": 11,
    "start_time": "2021-11-13T02:31:03.227Z"
   },
   {
    "duration": 30,
    "start_time": "2021-11-13T02:31:06.195Z"
   },
   {
    "duration": 12,
    "start_time": "2021-11-13T02:31:10.447Z"
   },
   {
    "duration": 3,
    "start_time": "2021-11-13T02:31:18.697Z"
   },
   {
    "duration": 411,
    "start_time": "2021-11-13T02:31:18.707Z"
   },
   {
    "duration": 22,
    "start_time": "2021-11-13T02:31:19.120Z"
   },
   {
    "duration": 62,
    "start_time": "2021-11-13T02:31:19.145Z"
   },
   {
    "duration": 14,
    "start_time": "2021-11-13T02:31:19.210Z"
   },
   {
    "duration": 6,
    "start_time": "2021-11-13T02:31:19.227Z"
   },
   {
    "duration": 45,
    "start_time": "2021-11-13T02:31:19.236Z"
   },
   {
    "duration": 8,
    "start_time": "2021-11-13T02:31:19.284Z"
   },
   {
    "duration": 14,
    "start_time": "2021-11-13T02:31:19.296Z"
   },
   {
    "duration": 7,
    "start_time": "2021-11-13T02:31:19.313Z"
   },
   {
    "duration": 7,
    "start_time": "2021-11-13T02:31:19.323Z"
   },
   {
    "duration": 8,
    "start_time": "2021-11-13T02:31:19.383Z"
   },
   {
    "duration": 7,
    "start_time": "2021-11-13T02:31:19.394Z"
   },
   {
    "duration": 7,
    "start_time": "2021-11-13T02:31:21.787Z"
   },
   {
    "duration": 11,
    "start_time": "2021-11-13T02:31:23.137Z"
   },
   {
    "duration": 32,
    "start_time": "2021-11-13T02:31:27.955Z"
   },
   {
    "duration": 13,
    "start_time": "2021-11-13T02:31:30.397Z"
   },
   {
    "duration": 425,
    "start_time": "2021-11-13T02:32:17.687Z"
   },
   {
    "duration": 40,
    "start_time": "2021-11-13T02:33:06.668Z"
   },
   {
    "duration": 12,
    "start_time": "2021-11-13T02:33:09.497Z"
   },
   {
    "duration": 39,
    "start_time": "2021-11-13T02:34:49.848Z"
   },
   {
    "duration": 37,
    "start_time": "2021-11-13T02:35:08.377Z"
   },
   {
    "duration": 36,
    "start_time": "2021-11-13T02:36:16.707Z"
   },
   {
    "duration": 183,
    "start_time": "2021-11-13T02:37:23.767Z"
   },
   {
    "duration": 50,
    "start_time": "2021-11-13T02:37:28.457Z"
   },
   {
    "duration": 4,
    "start_time": "2021-11-13T02:38:23.158Z"
   },
   {
    "duration": 428,
    "start_time": "2021-11-13T02:38:23.170Z"
   },
   {
    "duration": 23,
    "start_time": "2021-11-13T02:38:23.601Z"
   },
   {
    "duration": 62,
    "start_time": "2021-11-13T02:38:23.627Z"
   },
   {
    "duration": 15,
    "start_time": "2021-11-13T02:38:23.692Z"
   },
   {
    "duration": 6,
    "start_time": "2021-11-13T02:38:23.709Z"
   },
   {
    "duration": 12,
    "start_time": "2021-11-13T02:38:23.718Z"
   },
   {
    "duration": 48,
    "start_time": "2021-11-13T02:38:23.733Z"
   },
   {
    "duration": 14,
    "start_time": "2021-11-13T02:38:23.784Z"
   },
   {
    "duration": 8,
    "start_time": "2021-11-13T02:38:23.802Z"
   },
   {
    "duration": 6,
    "start_time": "2021-11-13T02:38:23.813Z"
   },
   {
    "duration": 7,
    "start_time": "2021-11-13T02:38:23.822Z"
   },
   {
    "duration": 51,
    "start_time": "2021-11-13T02:38:23.832Z"
   },
   {
    "duration": 15,
    "start_time": "2021-11-13T02:38:23.886Z"
   },
   {
    "duration": 39,
    "start_time": "2021-11-13T02:38:23.903Z"
   },
   {
    "duration": 11,
    "start_time": "2021-11-13T02:38:23.944Z"
   },
   {
    "duration": 11,
    "start_time": "2021-11-13T02:38:23.982Z"
   },
   {
    "duration": 16,
    "start_time": "2021-11-13T02:38:23.995Z"
   },
   {
    "duration": 9,
    "start_time": "2021-11-13T02:38:24.013Z"
   },
   {
    "duration": 7,
    "start_time": "2021-11-13T02:38:24.024Z"
   },
   {
    "duration": 54,
    "start_time": "2021-11-13T02:38:24.033Z"
   },
   {
    "duration": 14,
    "start_time": "2021-11-13T02:38:24.089Z"
   },
   {
    "duration": 13,
    "start_time": "2021-11-13T02:38:24.105Z"
   },
   {
    "duration": 12,
    "start_time": "2021-11-13T02:38:24.120Z"
   },
   {
    "duration": 9,
    "start_time": "2021-11-13T02:38:24.135Z"
   },
   {
    "duration": 41,
    "start_time": "2021-11-13T02:38:24.146Z"
   },
   {
    "duration": 9,
    "start_time": "2021-11-13T02:38:24.191Z"
   },
   {
    "duration": 7,
    "start_time": "2021-11-13T02:38:24.207Z"
   },
   {
    "duration": 7,
    "start_time": "2021-11-13T02:38:24.217Z"
   },
   {
    "duration": 57,
    "start_time": "2021-11-13T02:38:24.226Z"
   },
   {
    "duration": 15,
    "start_time": "2021-11-13T02:38:24.286Z"
   },
   {
    "duration": 29,
    "start_time": "2021-11-13T02:38:24.304Z"
   },
   {
    "duration": 10,
    "start_time": "2021-11-13T02:38:24.336Z"
   },
   {
    "duration": 32,
    "start_time": "2021-11-13T02:38:24.381Z"
   },
   {
    "duration": 10,
    "start_time": "2021-11-13T02:38:24.416Z"
   },
   {
    "duration": 8,
    "start_time": "2021-11-13T02:38:24.429Z"
   },
   {
    "duration": 49,
    "start_time": "2021-11-13T02:38:24.439Z"
   },
   {
    "duration": 7,
    "start_time": "2021-11-13T02:38:24.492Z"
   },
   {
    "duration": 11,
    "start_time": "2021-11-13T02:38:24.502Z"
   },
   {
    "duration": 13,
    "start_time": "2021-11-13T02:38:24.516Z"
   },
   {
    "duration": 14,
    "start_time": "2021-11-13T02:38:24.583Z"
   },
   {
    "duration": 9,
    "start_time": "2021-11-13T02:38:24.600Z"
   },
   {
    "duration": 9,
    "start_time": "2021-11-13T02:38:24.612Z"
   },
   {
    "duration": 73,
    "start_time": "2021-11-13T02:38:24.624Z"
   },
   {
    "duration": 17,
    "start_time": "2021-11-13T02:38:24.700Z"
   },
   {
    "duration": 21,
    "start_time": "2021-11-13T02:38:24.720Z"
   },
   {
    "duration": 208,
    "start_time": "2021-11-13T02:38:24.744Z"
   },
   {
    "duration": 63,
    "start_time": "2021-11-13T02:38:24.954Z"
   },
   {
    "duration": 41,
    "start_time": "2021-11-13T02:39:07.628Z"
   },
   {
    "duration": 45,
    "start_time": "2021-11-13T02:40:22.992Z"
   },
   {
    "duration": 45,
    "start_time": "2021-11-13T02:41:01.707Z"
   },
   {
    "duration": 43,
    "start_time": "2021-11-13T02:43:18.537Z"
   },
   {
    "duration": 326,
    "start_time": "2021-11-13T02:44:04.060Z"
   },
   {
    "duration": 44,
    "start_time": "2021-11-13T02:44:17.245Z"
   },
   {
    "duration": 45,
    "start_time": "2021-11-13T02:44:39.799Z"
   },
   {
    "duration": 305,
    "start_time": "2021-11-13T02:44:50.647Z"
   },
   {
    "duration": 44,
    "start_time": "2021-11-13T02:44:59.917Z"
   },
   {
    "duration": 45,
    "start_time": "2021-11-13T02:45:10.647Z"
   },
   {
    "duration": 44,
    "start_time": "2021-11-13T02:45:49.347Z"
   },
   {
    "duration": 44,
    "start_time": "2021-11-13T02:46:03.018Z"
   },
   {
    "duration": 45,
    "start_time": "2021-11-13T02:47:30.148Z"
   },
   {
    "duration": 35,
    "start_time": "2021-11-13T02:50:19.938Z"
   },
   {
    "duration": 317,
    "start_time": "2021-11-13T03:04:25.148Z"
   },
   {
    "duration": 295,
    "start_time": "2021-11-13T03:04:40.918Z"
   },
   {
    "duration": 5,
    "start_time": "2021-11-13T03:04:48.594Z"
   },
   {
    "duration": 4,
    "start_time": "2021-11-13T03:04:51.409Z"
   },
   {
    "duration": 4,
    "start_time": "2021-11-13T03:05:06.408Z"
   },
   {
    "duration": 6,
    "start_time": "2021-11-13T03:05:19.818Z"
   },
   {
    "duration": 7,
    "start_time": "2021-11-13T03:08:26.619Z"
   },
   {
    "duration": 9,
    "start_time": "2021-11-13T03:09:15.188Z"
   },
   {
    "duration": 8,
    "start_time": "2021-11-13T03:09:36.568Z"
   },
   {
    "duration": 102,
    "start_time": "2021-11-13T03:15:05.918Z"
   },
   {
    "duration": 103,
    "start_time": "2021-11-13T03:15:26.007Z"
   },
   {
    "duration": 9,
    "start_time": "2021-11-13T03:15:43.049Z"
   },
   {
    "duration": 9,
    "start_time": "2021-11-13T03:16:36.709Z"
   },
   {
    "duration": 408,
    "start_time": "2021-11-13T03:18:15.147Z"
   },
   {
    "duration": 4,
    "start_time": "2021-11-13T03:19:36.336Z"
   },
   {
    "duration": 11,
    "start_time": "2021-11-13T03:21:01.098Z"
   },
   {
    "duration": 9,
    "start_time": "2021-11-13T03:21:54.329Z"
   },
   {
    "duration": 19,
    "start_time": "2021-11-13T03:28:40.299Z"
   },
   {
    "duration": 19,
    "start_time": "2021-11-13T03:29:32.077Z"
   },
   {
    "duration": 19,
    "start_time": "2021-11-13T03:36:06.579Z"
   },
   {
    "duration": 65,
    "start_time": "2021-11-13T06:02:33.275Z"
   },
   {
    "duration": 15,
    "start_time": "2021-11-13T06:03:20.616Z"
   },
   {
    "duration": 9,
    "start_time": "2021-11-13T06:04:37.087Z"
   },
   {
    "duration": 42,
    "start_time": "2021-11-13T06:05:45.548Z"
   },
   {
    "duration": 45,
    "start_time": "2021-11-13T07:57:42.756Z"
   },
   {
    "duration": 10,
    "start_time": "2021-11-13T07:58:02.368Z"
   },
   {
    "duration": 173,
    "start_time": "2021-11-13T07:58:17.116Z"
   },
   {
    "duration": 38,
    "start_time": "2021-11-13T07:58:18.557Z"
   },
   {
    "duration": 596,
    "start_time": "2021-11-13T09:06:26.136Z"
   },
   {
    "duration": 175,
    "start_time": "2021-11-13T09:08:30.076Z"
   },
   {
    "duration": 38,
    "start_time": "2021-11-13T09:08:41.296Z"
   },
   {
    "duration": 50,
    "start_time": "2021-11-13T09:10:56.556Z"
   },
   {
    "duration": 47,
    "start_time": "2021-11-13T09:21:49.736Z"
   },
   {
    "duration": 47,
    "start_time": "2021-11-13T09:22:32.317Z"
   },
   {
    "duration": 15,
    "start_time": "2021-11-13T09:38:06.887Z"
   },
   {
    "duration": 7,
    "start_time": "2021-11-13T09:43:08.087Z"
   },
   {
    "duration": 9,
    "start_time": "2021-11-13T09:43:25.404Z"
   },
   {
    "duration": 4,
    "start_time": "2021-11-14T10:10:03.102Z"
   },
   {
    "duration": 331,
    "start_time": "2021-11-14T10:10:03.107Z"
   },
   {
    "duration": 31,
    "start_time": "2021-11-14T10:10:03.439Z"
   },
   {
    "duration": 28,
    "start_time": "2021-11-14T10:10:03.471Z"
   },
   {
    "duration": 29,
    "start_time": "2021-11-14T10:10:03.501Z"
   },
   {
    "duration": 32,
    "start_time": "2021-11-14T10:10:03.532Z"
   },
   {
    "duration": 6,
    "start_time": "2021-11-14T10:10:03.565Z"
   },
   {
    "duration": 14,
    "start_time": "2021-11-14T10:10:03.572Z"
   },
   {
    "duration": 5,
    "start_time": "2021-11-14T10:10:03.588Z"
   },
   {
    "duration": 19,
    "start_time": "2021-11-14T10:10:03.595Z"
   },
   {
    "duration": 7,
    "start_time": "2021-11-14T10:10:03.615Z"
   },
   {
    "duration": 9,
    "start_time": "2021-11-14T10:10:03.623Z"
   },
   {
    "duration": 7,
    "start_time": "2021-11-14T10:10:03.664Z"
   },
   {
    "duration": 5,
    "start_time": "2021-11-14T10:10:03.672Z"
   },
   {
    "duration": 15,
    "start_time": "2021-11-14T10:10:03.679Z"
   },
   {
    "duration": 31,
    "start_time": "2021-11-14T10:10:03.695Z"
   },
   {
    "duration": 9,
    "start_time": "2021-11-14T10:10:03.727Z"
   },
   {
    "duration": 9,
    "start_time": "2021-11-14T10:10:03.764Z"
   },
   {
    "duration": 15,
    "start_time": "2021-11-14T10:10:03.775Z"
   },
   {
    "duration": 11,
    "start_time": "2021-11-14T10:10:03.791Z"
   },
   {
    "duration": 11,
    "start_time": "2021-11-14T10:10:03.803Z"
   },
   {
    "duration": 13,
    "start_time": "2021-11-14T10:10:03.816Z"
   },
   {
    "duration": 35,
    "start_time": "2021-11-14T10:10:03.830Z"
   },
   {
    "duration": 6,
    "start_time": "2021-11-14T10:10:03.867Z"
   },
   {
    "duration": 9,
    "start_time": "2021-11-14T10:10:03.875Z"
   },
   {
    "duration": 10,
    "start_time": "2021-11-14T10:10:03.885Z"
   },
   {
    "duration": 7,
    "start_time": "2021-11-14T10:10:03.901Z"
   },
   {
    "duration": 13,
    "start_time": "2021-11-14T10:10:03.910Z"
   },
   {
    "duration": 13,
    "start_time": "2021-11-14T10:10:03.925Z"
   },
   {
    "duration": 23,
    "start_time": "2021-11-14T10:10:03.940Z"
   },
   {
    "duration": 6,
    "start_time": "2021-11-14T10:10:03.965Z"
   },
   {
    "duration": 28,
    "start_time": "2021-11-14T10:10:03.972Z"
   },
   {
    "duration": 23,
    "start_time": "2021-11-14T10:10:04.001Z"
   },
   {
    "duration": 18,
    "start_time": "2021-11-14T10:10:04.026Z"
   },
   {
    "duration": 59,
    "start_time": "2021-11-14T10:10:04.046Z"
   },
   {
    "duration": 7,
    "start_time": "2021-11-14T10:10:04.107Z"
   },
   {
    "duration": 13,
    "start_time": "2021-11-14T10:10:04.116Z"
   },
   {
    "duration": 10,
    "start_time": "2021-11-14T10:10:04.131Z"
   },
   {
    "duration": 23,
    "start_time": "2021-11-14T10:10:04.143Z"
   },
   {
    "duration": 15,
    "start_time": "2021-11-14T10:10:04.168Z"
   },
   {
    "duration": 15,
    "start_time": "2021-11-14T10:10:04.185Z"
   },
   {
    "duration": 14,
    "start_time": "2021-11-14T10:10:04.201Z"
   },
   {
    "duration": 19,
    "start_time": "2021-11-14T10:10:04.217Z"
   },
   {
    "duration": 20,
    "start_time": "2021-11-14T10:10:04.238Z"
   },
   {
    "duration": 14,
    "start_time": "2021-11-14T10:10:04.260Z"
   },
   {
    "duration": 25,
    "start_time": "2021-11-14T10:10:04.276Z"
   },
   {
    "duration": 10,
    "start_time": "2021-11-14T10:10:04.303Z"
   },
   {
    "duration": 13,
    "start_time": "2021-11-14T10:10:04.315Z"
   },
   {
    "duration": 7,
    "start_time": "2021-11-14T10:10:04.329Z"
   },
   {
    "duration": 152,
    "start_time": "2021-11-14T10:10:04.338Z"
   },
   {
    "duration": 27,
    "start_time": "2021-11-14T10:10:04.492Z"
   },
   {
    "duration": 58,
    "start_time": "2021-11-14T10:10:04.520Z"
   },
   {
    "duration": 11,
    "start_time": "2021-11-14T10:10:04.580Z"
   },
   {
    "duration": 9,
    "start_time": "2021-11-14T10:10:04.592Z"
   },
   {
    "duration": 45,
    "start_time": "2021-11-14T10:23:22.268Z"
   },
   {
    "duration": 406,
    "start_time": "2021-11-14T10:31:39.648Z"
   },
   {
    "duration": 3,
    "start_time": "2021-11-14T10:31:55.817Z"
   },
   {
    "duration": 4,
    "start_time": "2021-11-14T10:50:00.159Z"
   },
   {
    "duration": 9,
    "start_time": "2021-11-14T10:56:06.955Z"
   },
   {
    "duration": 6,
    "start_time": "2021-11-14T10:56:10.459Z"
   },
   {
    "duration": 280,
    "start_time": "2021-11-14T10:59:24.476Z"
   },
   {
    "duration": 3,
    "start_time": "2021-11-14T10:59:44.105Z"
   },
   {
    "duration": 307,
    "start_time": "2021-11-14T10:59:44.114Z"
   },
   {
    "duration": 17,
    "start_time": "2021-11-14T10:59:44.423Z"
   },
   {
    "duration": 29,
    "start_time": "2021-11-14T10:59:44.462Z"
   },
   {
    "duration": 28,
    "start_time": "2021-11-14T10:59:44.493Z"
   },
   {
    "duration": 45,
    "start_time": "2021-11-14T10:59:44.523Z"
   },
   {
    "duration": 5,
    "start_time": "2021-11-14T10:59:44.569Z"
   },
   {
    "duration": 12,
    "start_time": "2021-11-14T10:59:44.575Z"
   },
   {
    "duration": 4,
    "start_time": "2021-11-14T10:59:44.588Z"
   },
   {
    "duration": 9,
    "start_time": "2021-11-14T10:59:44.595Z"
   },
   {
    "duration": 5,
    "start_time": "2021-11-14T10:59:44.606Z"
   },
   {
    "duration": 55,
    "start_time": "2021-11-14T10:59:44.612Z"
   },
   {
    "duration": 6,
    "start_time": "2021-11-14T10:59:44.669Z"
   },
   {
    "duration": 5,
    "start_time": "2021-11-14T10:59:44.677Z"
   },
   {
    "duration": 8,
    "start_time": "2021-11-14T10:59:44.683Z"
   },
   {
    "duration": 29,
    "start_time": "2021-11-14T10:59:44.693Z"
   },
   {
    "duration": 43,
    "start_time": "2021-11-14T10:59:44.724Z"
   },
   {
    "duration": 10,
    "start_time": "2021-11-14T10:59:44.768Z"
   },
   {
    "duration": 12,
    "start_time": "2021-11-14T10:59:44.780Z"
   },
   {
    "duration": 7,
    "start_time": "2021-11-14T10:59:44.794Z"
   },
   {
    "duration": 7,
    "start_time": "2021-11-14T10:59:44.803Z"
   },
   {
    "duration": 11,
    "start_time": "2021-11-14T10:59:44.811Z"
   },
   {
    "duration": 49,
    "start_time": "2021-11-14T10:59:44.824Z"
   },
   {
    "duration": 7,
    "start_time": "2021-11-14T10:59:44.875Z"
   },
   {
    "duration": 5,
    "start_time": "2021-11-14T10:59:44.884Z"
   },
   {
    "duration": 10,
    "start_time": "2021-11-14T10:59:44.891Z"
   },
   {
    "duration": 14,
    "start_time": "2021-11-14T10:59:44.903Z"
   },
   {
    "duration": 42,
    "start_time": "2021-11-14T10:59:44.921Z"
   },
   {
    "duration": 5,
    "start_time": "2021-11-14T10:59:44.966Z"
   },
   {
    "duration": 7,
    "start_time": "2021-11-14T10:59:44.973Z"
   },
   {
    "duration": 21,
    "start_time": "2021-11-14T10:59:44.982Z"
   },
   {
    "duration": 42,
    "start_time": "2021-11-14T10:59:45.005Z"
   },
   {
    "duration": 41,
    "start_time": "2021-11-14T10:59:45.049Z"
   },
   {
    "duration": 15,
    "start_time": "2021-11-14T10:59:45.092Z"
   },
   {
    "duration": 54,
    "start_time": "2021-11-14T10:59:45.109Z"
   },
   {
    "duration": 6,
    "start_time": "2021-11-14T10:59:45.165Z"
   },
   {
    "duration": 6,
    "start_time": "2021-11-14T10:59:45.173Z"
   },
   {
    "duration": 12,
    "start_time": "2021-11-14T10:59:45.180Z"
   },
   {
    "duration": 7,
    "start_time": "2021-11-14T10:59:45.193Z"
   },
   {
    "duration": 12,
    "start_time": "2021-11-14T10:59:45.202Z"
   },
   {
    "duration": 48,
    "start_time": "2021-11-14T10:59:45.216Z"
   },
   {
    "duration": 8,
    "start_time": "2021-11-14T10:59:45.266Z"
   },
   {
    "duration": 9,
    "start_time": "2021-11-14T10:59:45.276Z"
   },
   {
    "duration": 5,
    "start_time": "2021-11-14T10:59:45.286Z"
   },
   {
    "duration": 12,
    "start_time": "2021-11-14T10:59:45.292Z"
   },
   {
    "duration": 20,
    "start_time": "2021-11-14T10:59:45.305Z"
   },
   {
    "duration": 11,
    "start_time": "2021-11-14T10:59:45.364Z"
   },
   {
    "duration": 13,
    "start_time": "2021-11-14T10:59:45.376Z"
   },
   {
    "duration": 7,
    "start_time": "2021-11-14T10:59:45.390Z"
   },
   {
    "duration": 6,
    "start_time": "2021-11-14T10:59:45.398Z"
   },
   {
    "duration": 2,
    "start_time": "2021-11-14T10:59:48.395Z"
   },
   {
    "duration": 4,
    "start_time": "2021-11-14T10:59:49.595Z"
   },
   {
    "duration": 8,
    "start_time": "2021-11-14T10:59:51.347Z"
   },
   {
    "duration": 274,
    "start_time": "2021-11-14T11:00:12.056Z"
   },
   {
    "duration": 15,
    "start_time": "2021-11-14T11:00:41.813Z"
   },
   {
    "duration": 9,
    "start_time": "2021-11-14T11:00:55.365Z"
   },
   {
    "duration": 5,
    "start_time": "2021-11-14T11:48:40.443Z"
   },
   {
    "duration": 7,
    "start_time": "2021-11-14T11:49:58.562Z"
   },
   {
    "duration": 6,
    "start_time": "2021-11-14T12:14:24.251Z"
   },
   {
    "duration": 12,
    "start_time": "2021-11-14T12:17:23.151Z"
   },
   {
    "duration": 16,
    "start_time": "2021-11-14T12:18:10.123Z"
   },
   {
    "duration": 18,
    "start_time": "2021-11-14T12:20:43.062Z"
   },
   {
    "duration": 20,
    "start_time": "2021-11-14T12:23:02.281Z"
   },
   {
    "duration": 34,
    "start_time": "2021-11-14T12:23:19.391Z"
   },
   {
    "duration": 29,
    "start_time": "2021-11-14T12:23:28.832Z"
   },
   {
    "duration": 17,
    "start_time": "2021-11-14T12:25:58.838Z"
   },
   {
    "duration": 43,
    "start_time": "2021-11-14T12:26:05.501Z"
   },
   {
    "duration": 56,
    "start_time": "2021-11-14T12:26:27.981Z"
   },
   {
    "duration": 14,
    "start_time": "2021-11-14T12:27:12.161Z"
   },
   {
    "duration": 11,
    "start_time": "2021-11-14T12:38:27.530Z"
   },
   {
    "duration": 302,
    "start_time": "2021-11-14T12:38:27.543Z"
   },
   {
    "duration": 29,
    "start_time": "2021-11-14T12:38:27.846Z"
   },
   {
    "duration": 27,
    "start_time": "2021-11-14T12:38:27.877Z"
   },
   {
    "duration": 26,
    "start_time": "2021-11-14T12:38:27.906Z"
   },
   {
    "duration": 30,
    "start_time": "2021-11-14T12:38:27.933Z"
   },
   {
    "duration": 8,
    "start_time": "2021-11-14T12:38:27.965Z"
   },
   {
    "duration": 10,
    "start_time": "2021-11-14T12:38:27.976Z"
   },
   {
    "duration": 4,
    "start_time": "2021-11-14T12:38:27.988Z"
   },
   {
    "duration": 12,
    "start_time": "2021-11-14T12:38:27.994Z"
   },
   {
    "duration": 7,
    "start_time": "2021-11-14T12:38:28.007Z"
   },
   {
    "duration": 4,
    "start_time": "2021-11-14T12:38:28.016Z"
   },
   {
    "duration": 43,
    "start_time": "2021-11-14T12:38:28.021Z"
   },
   {
    "duration": 6,
    "start_time": "2021-11-14T12:38:28.066Z"
   },
   {
    "duration": 13,
    "start_time": "2021-11-14T12:38:28.074Z"
   },
   {
    "duration": 29,
    "start_time": "2021-11-14T12:38:28.089Z"
   },
   {
    "duration": 12,
    "start_time": "2021-11-14T12:38:28.120Z"
   },
   {
    "duration": 10,
    "start_time": "2021-11-14T12:38:28.163Z"
   },
   {
    "duration": 12,
    "start_time": "2021-11-14T12:38:28.175Z"
   },
   {
    "duration": 7,
    "start_time": "2021-11-14T12:38:28.189Z"
   },
   {
    "duration": 8,
    "start_time": "2021-11-14T12:38:28.198Z"
   },
   {
    "duration": 10,
    "start_time": "2021-11-14T12:38:28.208Z"
   },
   {
    "duration": 47,
    "start_time": "2021-11-14T12:38:28.220Z"
   },
   {
    "duration": 8,
    "start_time": "2021-11-14T12:38:28.269Z"
   },
   {
    "duration": 7,
    "start_time": "2021-11-14T12:38:28.279Z"
   },
   {
    "duration": 8,
    "start_time": "2021-11-14T12:38:28.290Z"
   },
   {
    "duration": 9,
    "start_time": "2021-11-14T12:38:28.300Z"
   },
   {
    "duration": 12,
    "start_time": "2021-11-14T12:38:28.311Z"
   },
   {
    "duration": 9,
    "start_time": "2021-11-14T12:38:28.325Z"
   },
   {
    "duration": 29,
    "start_time": "2021-11-14T12:38:28.335Z"
   },
   {
    "duration": 5,
    "start_time": "2021-11-14T12:38:28.366Z"
   },
   {
    "duration": 21,
    "start_time": "2021-11-14T12:38:28.372Z"
   },
   {
    "duration": 24,
    "start_time": "2021-11-14T12:38:28.394Z"
   },
   {
    "duration": 20,
    "start_time": "2021-11-14T12:38:28.419Z"
   },
   {
    "duration": 66,
    "start_time": "2021-11-14T12:38:28.440Z"
   },
   {
    "duration": 6,
    "start_time": "2021-11-14T12:38:28.508Z"
   },
   {
    "duration": 12,
    "start_time": "2021-11-14T12:38:28.516Z"
   },
   {
    "duration": 8,
    "start_time": "2021-11-14T12:38:28.530Z"
   },
   {
    "duration": 27,
    "start_time": "2021-11-14T12:38:28.539Z"
   },
   {
    "duration": 11,
    "start_time": "2021-11-14T12:38:28.568Z"
   },
   {
    "duration": 19,
    "start_time": "2021-11-14T12:38:28.580Z"
   },
   {
    "duration": 15,
    "start_time": "2021-11-14T12:38:28.600Z"
   },
   {
    "duration": 13,
    "start_time": "2021-11-14T12:38:28.617Z"
   },
   {
    "duration": 6,
    "start_time": "2021-11-14T12:38:28.631Z"
   },
   {
    "duration": 12,
    "start_time": "2021-11-14T12:38:28.639Z"
   },
   {
    "duration": 28,
    "start_time": "2021-11-14T12:38:28.652Z"
   },
   {
    "duration": 10,
    "start_time": "2021-11-14T12:38:28.682Z"
   },
   {
    "duration": 17,
    "start_time": "2021-11-14T12:38:28.693Z"
   },
   {
    "duration": 8,
    "start_time": "2021-11-14T12:38:28.712Z"
   },
   {
    "duration": 4,
    "start_time": "2021-11-14T12:38:28.721Z"
   },
   {
    "duration": 1088,
    "start_time": "2021-11-14T22:41:15.917Z"
   },
   {
    "duration": 360,
    "start_time": "2021-11-14T22:41:17.007Z"
   },
   {
    "duration": 18,
    "start_time": "2021-11-14T22:41:17.369Z"
   },
   {
    "duration": 29,
    "start_time": "2021-11-14T22:41:17.389Z"
   },
   {
    "duration": 49,
    "start_time": "2021-11-14T22:41:17.419Z"
   },
   {
    "duration": 10,
    "start_time": "2021-11-14T22:41:17.470Z"
   },
   {
    "duration": 5,
    "start_time": "2021-11-14T22:41:17.482Z"
   },
   {
    "duration": 11,
    "start_time": "2021-11-14T22:41:17.490Z"
   },
   {
    "duration": 5,
    "start_time": "2021-11-14T22:41:17.544Z"
   },
   {
    "duration": 10,
    "start_time": "2021-11-14T22:41:17.551Z"
   },
   {
    "duration": 5,
    "start_time": "2021-11-14T22:41:17.562Z"
   },
   {
    "duration": 5,
    "start_time": "2021-11-14T22:41:17.569Z"
   },
   {
    "duration": 8,
    "start_time": "2021-11-14T22:41:17.576Z"
   },
   {
    "duration": 6,
    "start_time": "2021-11-14T22:41:17.585Z"
   },
   {
    "duration": 54,
    "start_time": "2021-11-14T22:41:17.593Z"
   },
   {
    "duration": 30,
    "start_time": "2021-11-14T22:41:17.648Z"
   },
   {
    "duration": 8,
    "start_time": "2021-11-14T22:41:17.679Z"
   },
   {
    "duration": 13,
    "start_time": "2021-11-14T22:41:17.689Z"
   },
   {
    "duration": 45,
    "start_time": "2021-11-14T22:41:17.704Z"
   },
   {
    "duration": 5,
    "start_time": "2021-11-14T22:41:17.751Z"
   },
   {
    "duration": 7,
    "start_time": "2021-11-14T22:41:17.758Z"
   },
   {
    "duration": 5,
    "start_time": "2021-11-14T22:41:17.767Z"
   },
   {
    "duration": 11,
    "start_time": "2021-11-14T22:41:17.775Z"
   },
   {
    "duration": 7,
    "start_time": "2021-11-14T22:41:17.789Z"
   },
   {
    "duration": 5,
    "start_time": "2021-11-14T22:41:17.845Z"
   },
   {
    "duration": 5,
    "start_time": "2021-11-14T22:41:17.852Z"
   },
   {
    "duration": 6,
    "start_time": "2021-11-14T22:41:17.859Z"
   },
   {
    "duration": 14,
    "start_time": "2021-11-14T22:41:17.866Z"
   },
   {
    "duration": 5,
    "start_time": "2021-11-14T22:41:17.882Z"
   },
   {
    "duration": 5,
    "start_time": "2021-11-14T22:41:17.889Z"
   },
   {
    "duration": 53,
    "start_time": "2021-11-14T22:41:17.895Z"
   },
   {
    "duration": 16,
    "start_time": "2021-11-14T22:41:17.950Z"
   },
   {
    "duration": 27,
    "start_time": "2021-11-14T22:41:17.968Z"
   },
   {
    "duration": 68,
    "start_time": "2021-11-14T22:41:17.997Z"
   },
   {
    "duration": 84,
    "start_time": "2021-11-14T22:41:18.067Z"
   },
   {
    "duration": 7,
    "start_time": "2021-11-14T22:41:18.153Z"
   },
   {
    "duration": 7,
    "start_time": "2021-11-14T22:41:18.162Z"
   },
   {
    "duration": 6,
    "start_time": "2021-11-14T22:41:18.171Z"
   },
   {
    "duration": 6,
    "start_time": "2021-11-14T22:41:18.179Z"
   },
   {
    "duration": 12,
    "start_time": "2021-11-14T22:41:18.187Z"
   },
   {
    "duration": 58,
    "start_time": "2021-11-14T22:41:18.201Z"
   },
   {
    "duration": 10,
    "start_time": "2021-11-14T22:41:18.262Z"
   },
   {
    "duration": 9,
    "start_time": "2021-11-14T22:41:18.274Z"
   },
   {
    "duration": 6,
    "start_time": "2021-11-14T22:41:18.284Z"
   },
   {
    "duration": 7,
    "start_time": "2021-11-14T22:41:18.291Z"
   },
   {
    "duration": 56,
    "start_time": "2021-11-14T22:41:18.300Z"
   },
   {
    "duration": 11,
    "start_time": "2021-11-14T22:41:18.357Z"
   },
   {
    "duration": 13,
    "start_time": "2021-11-14T22:41:18.369Z"
   },
   {
    "duration": 6,
    "start_time": "2021-11-14T22:41:18.384Z"
   },
   {
    "duration": 6,
    "start_time": "2021-11-14T22:41:22.255Z"
   },
   {
    "duration": 2,
    "start_time": "2021-11-14T22:41:24.147Z"
   },
   {
    "duration": 9,
    "start_time": "2021-11-14T22:41:33.906Z"
   },
   {
    "duration": 9,
    "start_time": "2021-11-14T22:41:41.776Z"
   },
   {
    "duration": 14,
    "start_time": "2021-11-14T22:41:52.878Z"
   },
   {
    "duration": 31,
    "start_time": "2021-11-14T22:41:57.927Z"
   },
   {
    "duration": 10,
    "start_time": "2021-11-14T22:43:08.105Z"
   },
   {
    "duration": 45,
    "start_time": "2021-11-14T23:08:44.308Z"
   },
   {
    "duration": 2,
    "start_time": "2021-11-14T23:09:02.798Z"
   },
   {
    "duration": 343,
    "start_time": "2021-11-14T23:09:02.802Z"
   },
   {
    "duration": 17,
    "start_time": "2021-11-14T23:09:03.148Z"
   },
   {
    "duration": 29,
    "start_time": "2021-11-14T23:09:03.167Z"
   },
   {
    "duration": 61,
    "start_time": "2021-11-14T23:09:03.198Z"
   },
   {
    "duration": 10,
    "start_time": "2021-11-14T23:09:03.261Z"
   },
   {
    "duration": 5,
    "start_time": "2021-11-14T23:09:03.273Z"
   },
   {
    "duration": 13,
    "start_time": "2021-11-14T23:09:03.280Z"
   },
   {
    "duration": 55,
    "start_time": "2021-11-14T23:09:03.296Z"
   },
   {
    "duration": 12,
    "start_time": "2021-11-14T23:09:03.354Z"
   },
   {
    "duration": 9,
    "start_time": "2021-11-14T23:09:03.368Z"
   },
   {
    "duration": 10,
    "start_time": "2021-11-14T23:09:03.379Z"
   },
   {
    "duration": 11,
    "start_time": "2021-11-14T23:09:03.391Z"
   },
   {
    "duration": 43,
    "start_time": "2021-11-14T23:09:03.403Z"
   },
   {
    "duration": 9,
    "start_time": "2021-11-14T23:09:03.447Z"
   },
   {
    "duration": 34,
    "start_time": "2021-11-14T23:09:03.457Z"
   },
   {
    "duration": 11,
    "start_time": "2021-11-14T23:09:03.493Z"
   },
   {
    "duration": 40,
    "start_time": "2021-11-14T23:09:03.506Z"
   },
   {
    "duration": 12,
    "start_time": "2021-11-14T23:09:03.548Z"
   },
   {
    "duration": 9,
    "start_time": "2021-11-14T23:09:03.562Z"
   },
   {
    "duration": 7,
    "start_time": "2021-11-14T23:09:03.573Z"
   },
   {
    "duration": 9,
    "start_time": "2021-11-14T23:09:03.581Z"
   },
   {
    "duration": 10,
    "start_time": "2021-11-14T23:09:03.594Z"
   },
   {
    "duration": 7,
    "start_time": "2021-11-14T23:09:03.644Z"
   },
   {
    "duration": 28,
    "start_time": "2021-11-14T23:09:03.652Z"
   },
   {
    "duration": 5,
    "start_time": "2021-11-14T23:09:03.682Z"
   },
   {
    "duration": 9,
    "start_time": "2021-11-14T23:09:03.689Z"
   },
   {
    "duration": 15,
    "start_time": "2021-11-14T23:09:03.700Z"
   },
   {
    "duration": 5,
    "start_time": "2021-11-14T23:09:03.745Z"
   },
   {
    "duration": 10,
    "start_time": "2021-11-14T23:09:03.752Z"
   },
   {
    "duration": 7,
    "start_time": "2021-11-14T23:09:03.763Z"
   },
   {
    "duration": 29,
    "start_time": "2021-11-14T23:09:03.772Z"
   },
   {
    "duration": 57,
    "start_time": "2021-11-14T23:09:03.803Z"
   },
   {
    "duration": 14,
    "start_time": "2021-11-14T23:09:03.862Z"
   },
   {
    "duration": 68,
    "start_time": "2021-11-14T23:09:03.878Z"
   },
   {
    "duration": 6,
    "start_time": "2021-11-14T23:09:03.948Z"
   },
   {
    "duration": 10,
    "start_time": "2021-11-14T23:09:03.956Z"
   },
   {
    "duration": 7,
    "start_time": "2021-11-14T23:09:03.968Z"
   },
   {
    "duration": 12,
    "start_time": "2021-11-14T23:09:03.976Z"
   },
   {
    "duration": 12,
    "start_time": "2021-11-14T23:09:03.989Z"
   },
   {
    "duration": 48,
    "start_time": "2021-11-14T23:09:04.002Z"
   },
   {
    "duration": 10,
    "start_time": "2021-11-14T23:09:04.052Z"
   },
   {
    "duration": 9,
    "start_time": "2021-11-14T23:09:04.064Z"
   },
   {
    "duration": 6,
    "start_time": "2021-11-14T23:09:04.075Z"
   },
   {
    "duration": 8,
    "start_time": "2021-11-14T23:09:04.083Z"
   },
   {
    "duration": 65,
    "start_time": "2021-11-14T23:09:04.093Z"
   },
   {
    "duration": 10,
    "start_time": "2021-11-14T23:09:04.160Z"
   },
   {
    "duration": 15,
    "start_time": "2021-11-14T23:09:04.172Z"
   },
   {
    "duration": 8,
    "start_time": "2021-11-14T23:09:04.188Z"
   },
   {
    "duration": 3,
    "start_time": "2021-11-14T23:09:04.198Z"
   },
   {
    "duration": 44,
    "start_time": "2021-11-14T23:09:04.203Z"
   },
   {
    "duration": 15,
    "start_time": "2021-11-14T23:09:04.249Z"
   },
   {
    "duration": 122,
    "start_time": "2021-11-14T23:09:04.266Z"
   },
   {
    "duration": -2214,
    "start_time": "2021-11-14T23:09:06.604Z"
   },
   {
    "duration": 43,
    "start_time": "2021-11-14T23:09:11.827Z"
   },
   {
    "duration": 39,
    "start_time": "2021-11-14T23:16:08.579Z"
   },
   {
    "duration": 46,
    "start_time": "2021-11-14T23:16:28.847Z"
   },
   {
    "duration": 38,
    "start_time": "2021-11-14T23:17:28.697Z"
   },
   {
    "duration": 56,
    "start_time": "2021-11-14T23:56:48.580Z"
   },
   {
    "duration": 12,
    "start_time": "2021-11-14T23:57:38.078Z"
   },
   {
    "duration": 88,
    "start_time": "2021-11-14T23:58:25.248Z"
   },
   {
    "duration": 24,
    "start_time": "2021-11-14T23:58:31.498Z"
   },
   {
    "duration": 37,
    "start_time": "2021-11-15T00:02:59.048Z"
   },
   {
    "duration": 42,
    "start_time": "2021-11-15T00:04:05.626Z"
   },
   {
    "duration": 3,
    "start_time": "2021-11-15T00:11:03.449Z"
   },
   {
    "duration": 91,
    "start_time": "2021-11-15T00:20:21.318Z"
   },
   {
    "duration": 69,
    "start_time": "2021-11-15T00:20:49.318Z"
   },
   {
    "duration": 36,
    "start_time": "2021-11-15T00:21:22.728Z"
   },
   {
    "duration": 51,
    "start_time": "2021-11-15T00:30:40.426Z"
   },
   {
    "duration": 27,
    "start_time": "2021-11-15T00:30:42.905Z"
   },
   {
    "duration": 121,
    "start_time": "2021-11-15T00:40:40.085Z"
   },
   {
    "duration": 27,
    "start_time": "2021-11-15T00:40:42.645Z"
   },
   {
    "duration": 151,
    "start_time": "2021-11-15T00:47:15.309Z"
   },
   {
    "duration": 29,
    "start_time": "2021-11-15T00:47:20.396Z"
   },
   {
    "duration": 16,
    "start_time": "2021-11-15T00:58:28.326Z"
   },
   {
    "duration": 37,
    "start_time": "2021-11-15T00:58:52.736Z"
   },
   {
    "duration": 5,
    "start_time": "2021-11-15T01:03:59.854Z"
   },
   {
    "duration": 1125,
    "start_time": "2021-11-17T01:27:48.724Z"
   },
   {
    "duration": 799,
    "start_time": "2021-11-17T01:27:49.851Z"
   },
   {
    "duration": 22,
    "start_time": "2021-11-17T01:27:50.653Z"
   },
   {
    "duration": 31,
    "start_time": "2021-11-17T01:27:50.677Z"
   },
   {
    "duration": 57,
    "start_time": "2021-11-17T01:27:50.709Z"
   },
   {
    "duration": 11,
    "start_time": "2021-11-17T01:27:50.768Z"
   },
   {
    "duration": 5,
    "start_time": "2021-11-17T01:27:50.780Z"
   },
   {
    "duration": 10,
    "start_time": "2021-11-17T01:27:50.788Z"
   },
   {
    "duration": 4,
    "start_time": "2021-11-17T01:27:50.800Z"
   },
   {
    "duration": 10,
    "start_time": "2021-11-17T01:27:50.844Z"
   },
   {
    "duration": 6,
    "start_time": "2021-11-17T01:27:50.855Z"
   },
   {
    "duration": 4,
    "start_time": "2021-11-17T01:27:50.863Z"
   },
   {
    "duration": 12,
    "start_time": "2021-11-17T01:27:50.869Z"
   },
   {
    "duration": 5,
    "start_time": "2021-11-17T01:27:50.882Z"
   },
   {
    "duration": 10,
    "start_time": "2021-11-17T01:27:50.888Z"
   },
   {
    "duration": 75,
    "start_time": "2021-11-17T01:27:50.900Z"
   },
   {
    "duration": 8,
    "start_time": "2021-11-17T01:27:50.976Z"
   },
   {
    "duration": 18,
    "start_time": "2021-11-17T01:27:50.986Z"
   },
   {
    "duration": 11,
    "start_time": "2021-11-17T01:27:51.006Z"
   },
   {
    "duration": 6,
    "start_time": "2021-11-17T01:27:51.019Z"
   },
   {
    "duration": 5,
    "start_time": "2021-11-17T01:27:51.045Z"
   },
   {
    "duration": 7,
    "start_time": "2021-11-17T01:27:51.052Z"
   },
   {
    "duration": 10,
    "start_time": "2021-11-17T01:27:51.064Z"
   },
   {
    "duration": 6,
    "start_time": "2021-11-17T01:27:51.077Z"
   },
   {
    "duration": 6,
    "start_time": "2021-11-17T01:27:51.085Z"
   },
   {
    "duration": 53,
    "start_time": "2021-11-17T01:27:51.093Z"
   },
   {
    "duration": 8,
    "start_time": "2021-11-17T01:27:51.147Z"
   },
   {
    "duration": 9,
    "start_time": "2021-11-17T01:27:51.156Z"
   },
   {
    "duration": 6,
    "start_time": "2021-11-17T01:27:51.167Z"
   },
   {
    "duration": 6,
    "start_time": "2021-11-17T01:27:51.175Z"
   },
   {
    "duration": 7,
    "start_time": "2021-11-17T01:27:51.183Z"
   },
   {
    "duration": 59,
    "start_time": "2021-11-17T01:27:51.191Z"
   },
   {
    "duration": 21,
    "start_time": "2021-11-17T01:27:51.252Z"
   },
   {
    "duration": 14,
    "start_time": "2021-11-17T01:27:51.275Z"
   },
   {
    "duration": 73,
    "start_time": "2021-11-17T01:27:51.291Z"
   },
   {
    "duration": 5,
    "start_time": "2021-11-17T01:27:51.366Z"
   },
   {
    "duration": 5,
    "start_time": "2021-11-17T01:27:51.373Z"
   },
   {
    "duration": 7,
    "start_time": "2021-11-17T01:27:51.379Z"
   },
   {
    "duration": 6,
    "start_time": "2021-11-17T01:27:51.387Z"
   },
   {
    "duration": 11,
    "start_time": "2021-11-17T01:27:51.394Z"
   },
   {
    "duration": 43,
    "start_time": "2021-11-17T01:27:51.407Z"
   },
   {
    "duration": 9,
    "start_time": "2021-11-17T01:27:51.452Z"
   },
   {
    "duration": 8,
    "start_time": "2021-11-17T01:27:51.462Z"
   },
   {
    "duration": 5,
    "start_time": "2021-11-17T01:27:51.472Z"
   },
   {
    "duration": 7,
    "start_time": "2021-11-17T01:27:51.478Z"
   },
   {
    "duration": 67,
    "start_time": "2021-11-17T01:27:51.486Z"
   },
   {
    "duration": 11,
    "start_time": "2021-11-17T01:27:51.555Z"
   },
   {
    "duration": 19,
    "start_time": "2021-11-17T01:27:51.568Z"
   },
   {
    "duration": 8,
    "start_time": "2021-11-17T01:27:51.589Z"
   },
   {
    "duration": 3,
    "start_time": "2021-11-17T01:27:51.598Z"
   },
   {
    "duration": 10,
    "start_time": "2021-11-17T01:27:51.645Z"
   },
   {
    "duration": 7,
    "start_time": "2021-11-17T01:27:51.657Z"
   },
   {
    "duration": 21,
    "start_time": "2021-11-17T01:27:51.666Z"
   },
   {
    "duration": 88,
    "start_time": "2021-11-17T01:27:51.688Z"
   },
   {
    "duration": 74,
    "start_time": "2021-11-17T01:27:51.778Z"
   },
   {
    "duration": 39,
    "start_time": "2021-11-17T01:27:51.854Z"
   },
   {
    "duration": 195,
    "start_time": "2021-11-17T01:27:51.895Z"
   },
   {
    "duration": 33,
    "start_time": "2021-11-17T01:27:52.091Z"
   },
   {
    "duration": 54,
    "start_time": "2021-11-17T01:27:52.126Z"
   },
   {
    "duration": 4,
    "start_time": "2021-11-17T01:27:52.182Z"
   },
   {
    "duration": 191,
    "start_time": "2021-11-17T01:27:52.188Z"
   },
   {
    "duration": 29,
    "start_time": "2021-11-17T01:27:52.381Z"
   },
   {
    "duration": 66,
    "start_time": "2021-11-17T01:27:52.412Z"
   },
   {
    "duration": 74,
    "start_time": "2021-11-17T01:27:52.480Z"
   },
   {
    "duration": 7,
    "start_time": "2021-11-17T01:27:52.556Z"
   },
   {
    "duration": 36,
    "start_time": "2021-11-17T02:08:28.344Z"
   },
   {
    "duration": 339,
    "start_time": "2021-11-17T02:13:24.434Z"
   },
   {
    "duration": 4,
    "start_time": "2021-11-17T02:13:28.454Z"
   },
   {
    "duration": 4,
    "start_time": "2021-11-17T02:16:54.424Z"
   },
   {
    "duration": 2,
    "start_time": "2021-11-17T02:17:32.684Z"
   },
   {
    "duration": 3,
    "start_time": "2021-11-17T02:17:36.134Z"
   },
   {
    "duration": 260,
    "start_time": "2021-11-17T02:17:44.764Z"
   },
   {
    "duration": 4,
    "start_time": "2021-11-17T02:18:13.964Z"
   },
   {
    "duration": 7,
    "start_time": "2021-11-17T02:18:31.273Z"
   },
   {
    "duration": 5,
    "start_time": "2021-11-17T03:54:08.724Z"
   },
   {
    "duration": 8,
    "start_time": "2021-11-17T03:54:23.128Z"
   },
   {
    "duration": 9,
    "start_time": "2021-11-17T03:54:44.974Z"
   },
   {
    "duration": 8,
    "start_time": "2021-11-17T03:55:15.775Z"
   },
   {
    "duration": 7,
    "start_time": "2021-11-17T03:55:26.054Z"
   },
   {
    "duration": 8,
    "start_time": "2021-11-17T03:55:38.654Z"
   },
   {
    "duration": 6,
    "start_time": "2021-11-17T03:56:36.214Z"
   },
   {
    "duration": 2912,
    "start_time": "2021-11-17T04:04:12.844Z"
   },
   {
    "duration": 691,
    "start_time": "2021-11-17T04:14:20.864Z"
   },
   {
    "duration": 2,
    "start_time": "2021-11-17T04:14:24.364Z"
   },
   {
    "duration": 2,
    "start_time": "2021-11-17T04:17:36.334Z"
   },
   {
    "duration": 3,
    "start_time": "2021-11-17T04:19:38.162Z"
   },
   {
    "duration": 281,
    "start_time": "2021-11-17T04:24:07.804Z"
   },
   {
    "duration": 302,
    "start_time": "2021-11-17T04:24:46.282Z"
   },
   {
    "duration": 208,
    "start_time": "2021-11-17T04:31:29.916Z"
   },
   {
    "duration": 16,
    "start_time": "2021-11-17T04:39:58.435Z"
   },
   {
    "duration": 3,
    "start_time": "2021-11-17T04:40:15.814Z"
   },
   {
    "duration": 345,
    "start_time": "2021-11-17T04:40:15.820Z"
   },
   {
    "duration": 22,
    "start_time": "2021-11-17T04:40:16.168Z"
   },
   {
    "duration": 74,
    "start_time": "2021-11-17T04:40:16.193Z"
   },
   {
    "duration": 36,
    "start_time": "2021-11-17T04:40:16.269Z"
   },
   {
    "duration": 39,
    "start_time": "2021-11-17T04:40:16.307Z"
   },
   {
    "duration": 5,
    "start_time": "2021-11-17T04:40:16.348Z"
   },
   {
    "duration": 9,
    "start_time": "2021-11-17T04:40:16.355Z"
   },
   {
    "duration": 4,
    "start_time": "2021-11-17T04:40:16.366Z"
   },
   {
    "duration": 9,
    "start_time": "2021-11-17T04:40:16.372Z"
   },
   {
    "duration": 5,
    "start_time": "2021-11-17T04:40:16.383Z"
   },
   {
    "duration": 54,
    "start_time": "2021-11-17T04:40:16.390Z"
   },
   {
    "duration": 6,
    "start_time": "2021-11-17T04:40:16.446Z"
   },
   {
    "duration": 56,
    "start_time": "2021-11-17T04:40:16.453Z"
   },
   {
    "duration": 11,
    "start_time": "2021-11-17T04:40:16.510Z"
   },
   {
    "duration": 45,
    "start_time": "2021-11-17T04:40:16.523Z"
   },
   {
    "duration": 8,
    "start_time": "2021-11-17T04:40:16.570Z"
   },
   {
    "duration": 12,
    "start_time": "2021-11-17T04:40:16.579Z"
   },
   {
    "duration": 15,
    "start_time": "2021-11-17T04:40:16.592Z"
   },
   {
    "duration": 21,
    "start_time": "2021-11-17T04:40:16.609Z"
   },
   {
    "duration": 16,
    "start_time": "2021-11-17T04:40:16.631Z"
   },
   {
    "duration": 10,
    "start_time": "2021-11-17T04:40:16.649Z"
   },
   {
    "duration": 11,
    "start_time": "2021-11-17T04:40:16.663Z"
   },
   {
    "duration": 9,
    "start_time": "2021-11-17T04:40:16.676Z"
   },
   {
    "duration": 6,
    "start_time": "2021-11-17T04:40:16.686Z"
   },
   {
    "duration": 5,
    "start_time": "2021-11-17T04:40:16.694Z"
   },
   {
    "duration": 47,
    "start_time": "2021-11-17T04:40:16.700Z"
   },
   {
    "duration": 8,
    "start_time": "2021-11-17T04:40:16.749Z"
   },
   {
    "duration": 5,
    "start_time": "2021-11-17T04:40:16.759Z"
   },
   {
    "duration": 6,
    "start_time": "2021-11-17T04:40:16.765Z"
   },
   {
    "duration": 9,
    "start_time": "2021-11-17T04:40:16.773Z"
   },
   {
    "duration": 16,
    "start_time": "2021-11-17T04:40:16.784Z"
   },
   {
    "duration": 20,
    "start_time": "2021-11-17T04:40:16.844Z"
   },
   {
    "duration": 17,
    "start_time": "2021-11-17T04:40:16.866Z"
   },
   {
    "duration": 70,
    "start_time": "2021-11-17T04:40:16.884Z"
   },
   {
    "duration": 6,
    "start_time": "2021-11-17T04:40:16.956Z"
   },
   {
    "duration": 6,
    "start_time": "2021-11-17T04:40:16.963Z"
   },
   {
    "duration": 7,
    "start_time": "2021-11-17T04:40:16.971Z"
   },
   {
    "duration": 7,
    "start_time": "2021-11-17T04:40:16.980Z"
   },
   {
    "duration": 11,
    "start_time": "2021-11-17T04:40:16.988Z"
   },
   {
    "duration": 50,
    "start_time": "2021-11-17T04:40:17.001Z"
   },
   {
    "duration": 8,
    "start_time": "2021-11-17T04:40:17.053Z"
   },
   {
    "duration": 8,
    "start_time": "2021-11-17T04:40:17.063Z"
   },
   {
    "duration": 6,
    "start_time": "2021-11-17T04:40:17.073Z"
   },
   {
    "duration": 7,
    "start_time": "2021-11-17T04:40:17.081Z"
   },
   {
    "duration": 66,
    "start_time": "2021-11-17T04:40:17.090Z"
   },
   {
    "duration": 16,
    "start_time": "2021-11-17T04:40:17.158Z"
   },
   {
    "duration": 12,
    "start_time": "2021-11-17T04:40:17.177Z"
   },
   {
    "duration": 9,
    "start_time": "2021-11-17T04:40:17.191Z"
   },
   {
    "duration": 7,
    "start_time": "2021-11-17T04:40:17.201Z"
   },
   {
    "duration": 43,
    "start_time": "2021-11-17T04:40:17.211Z"
   },
   {
    "duration": 10,
    "start_time": "2021-11-17T04:40:17.256Z"
   },
   {
    "duration": 18,
    "start_time": "2021-11-17T04:40:17.268Z"
   },
   {
    "duration": 89,
    "start_time": "2021-11-17T04:40:17.288Z"
   },
   {
    "duration": 89,
    "start_time": "2021-11-17T04:40:17.379Z"
   },
   {
    "duration": 39,
    "start_time": "2021-11-17T04:40:17.469Z"
   },
   {
    "duration": 186,
    "start_time": "2021-11-17T04:40:17.511Z"
   },
   {
    "duration": 50,
    "start_time": "2021-11-17T04:40:17.699Z"
   },
   {
    "duration": 35,
    "start_time": "2021-11-17T04:40:17.751Z"
   },
   {
    "duration": 5,
    "start_time": "2021-11-17T04:40:17.788Z"
   },
   {
    "duration": 2,
    "start_time": "2021-11-17T04:40:24.044Z"
   },
   {
    "duration": 3,
    "start_time": "2021-11-17T04:40:25.174Z"
   },
   {
    "duration": 18,
    "start_time": "2021-11-17T04:40:29.585Z"
   },
   {
    "duration": 38,
    "start_time": "2021-11-17T04:40:56.865Z"
   },
   {
    "duration": 6,
    "start_time": "2021-11-17T04:41:18.162Z"
   },
   {
    "duration": 3,
    "start_time": "2021-11-17T04:41:23.454Z"
   },
   {
    "duration": 2369,
    "start_time": "2021-11-17T04:41:26.842Z"
   },
   {
    "duration": 3,
    "start_time": "2021-11-17T04:41:32.084Z"
   },
   {
    "duration": 3,
    "start_time": "2021-11-17T04:41:33.014Z"
   },
   {
    "duration": 17315,
    "start_time": "2021-11-17T04:41:35.882Z"
   },
   {
    "duration": 84,
    "start_time": "2021-11-17T04:51:16.735Z"
   },
   {
    "duration": 87,
    "start_time": "2021-11-17T04:51:27.055Z"
   },
   {
    "duration": 265,
    "start_time": "2021-11-17T04:52:09.694Z"
   },
   {
    "duration": 317,
    "start_time": "2021-11-17T04:53:14.424Z"
   },
   {
    "duration": 262,
    "start_time": "2021-11-17T05:00:01.985Z"
   },
   {
    "duration": 3,
    "start_time": "2021-11-17T05:02:13.124Z"
   },
   {
    "duration": 3,
    "start_time": "2021-11-17T05:03:39.784Z"
   },
   {
    "duration": 174196,
    "start_time": "2021-11-17T05:03:41.695Z"
   },
   {
    "duration": 249,
    "start_time": "2021-11-17T05:11:21.004Z"
   },
   {
    "duration": 96,
    "start_time": "2021-11-17T05:17:59.294Z"
   },
   {
    "duration": 256,
    "start_time": "2021-11-17T05:18:24.294Z"
   },
   {
    "duration": 3,
    "start_time": "2021-11-17T05:18:39.242Z"
   },
   {
    "duration": 254,
    "start_time": "2021-11-17T05:19:46.775Z"
   },
   {
    "duration": 259,
    "start_time": "2021-11-17T05:20:00.215Z"
   },
   {
    "duration": 4,
    "start_time": "2021-11-17T05:24:21.974Z"
   },
   {
    "duration": 3,
    "start_time": "2021-11-17T05:24:28.362Z"
   },
   {
    "duration": 3,
    "start_time": "2021-11-17T05:24:35.292Z"
   },
   {
    "duration": 2,
    "start_time": "2021-11-17T05:25:02.506Z"
   },
   {
    "duration": 3,
    "start_time": "2021-11-17T05:25:20.684Z"
   },
   {
    "duration": 3,
    "start_time": "2021-11-17T05:27:14.482Z"
   },
   {
    "duration": 3,
    "start_time": "2021-11-17T05:28:05.225Z"
   },
   {
    "duration": 2,
    "start_time": "2021-11-17T05:30:28.065Z"
   },
   {
    "duration": 1837,
    "start_time": "2021-11-17T05:30:31.451Z"
   },
   {
    "duration": 3,
    "start_time": "2021-11-17T05:30:58.144Z"
   },
   {
    "duration": 3,
    "start_time": "2021-11-17T05:30:59.785Z"
   },
   {
    "duration": 1791,
    "start_time": "2021-11-17T05:31:02.015Z"
   },
   {
    "duration": 2,
    "start_time": "2021-11-17T05:31:56.545Z"
   },
   {
    "duration": 2218,
    "start_time": "2021-11-17T05:32:00.522Z"
   },
   {
    "duration": 2,
    "start_time": "2021-11-17T05:32:41.265Z"
   },
   {
    "duration": 2087,
    "start_time": "2021-11-17T05:32:44.855Z"
   },
   {
    "duration": 3,
    "start_time": "2021-11-17T05:33:20.164Z"
   },
   {
    "duration": 2980,
    "start_time": "2021-11-17T05:33:23.724Z"
   },
   {
    "duration": 3,
    "start_time": "2021-11-17T05:35:53.552Z"
   },
   {
    "duration": 2234,
    "start_time": "2021-11-17T05:35:56.164Z"
   },
   {
    "duration": 3,
    "start_time": "2021-11-17T05:37:04.617Z"
   },
   {
    "duration": 1819,
    "start_time": "2021-11-17T05:37:08.344Z"
   },
   {
    "duration": 3,
    "start_time": "2021-11-17T05:37:47.642Z"
   },
   {
    "duration": 1935,
    "start_time": "2021-11-17T05:37:50.162Z"
   },
   {
    "duration": 3,
    "start_time": "2021-11-17T05:38:10.704Z"
   },
   {
    "duration": 1935,
    "start_time": "2021-11-17T05:38:12.774Z"
   },
   {
    "duration": 3,
    "start_time": "2021-11-17T05:44:50.214Z"
   },
   {
    "duration": 115178,
    "start_time": "2021-11-17T05:44:53.606Z"
   },
   {
    "duration": 3,
    "start_time": "2021-11-17T05:48:05.403Z"
   },
   {
    "duration": 175009,
    "start_time": "2021-11-17T05:48:08.890Z"
   },
   {
    "duration": 2181,
    "start_time": "2021-11-17T06:07:50.533Z"
   },
   {
    "duration": 5,
    "start_time": "2021-11-17T06:25:23.663Z"
   },
   {
    "duration": 3,
    "start_time": "2021-11-17T06:25:58.624Z"
   },
   {
    "duration": 4,
    "start_time": "2021-11-17T06:26:30.162Z"
   },
   {
    "duration": 3,
    "start_time": "2021-11-17T06:27:17.294Z"
   },
   {
    "duration": 275,
    "start_time": "2021-11-17T06:27:17.300Z"
   },
   {
    "duration": 17,
    "start_time": "2021-11-17T06:27:17.578Z"
   },
   {
    "duration": 54,
    "start_time": "2021-11-17T06:27:17.596Z"
   },
   {
    "duration": 25,
    "start_time": "2021-11-17T06:27:17.652Z"
   },
   {
    "duration": 10,
    "start_time": "2021-11-17T06:27:17.679Z"
   },
   {
    "duration": 5,
    "start_time": "2021-11-17T06:27:17.690Z"
   },
   {
    "duration": 49,
    "start_time": "2021-11-17T06:27:17.696Z"
   },
   {
    "duration": 4,
    "start_time": "2021-11-17T06:27:17.748Z"
   },
   {
    "duration": 10,
    "start_time": "2021-11-17T06:27:17.754Z"
   },
   {
    "duration": 6,
    "start_time": "2021-11-17T06:27:17.766Z"
   },
   {
    "duration": 6,
    "start_time": "2021-11-17T06:27:17.773Z"
   },
   {
    "duration": 13,
    "start_time": "2021-11-17T06:27:17.781Z"
   },
   {
    "duration": 48,
    "start_time": "2021-11-17T06:27:17.796Z"
   },
   {
    "duration": 14,
    "start_time": "2021-11-17T06:27:17.846Z"
   },
   {
    "duration": 31,
    "start_time": "2021-11-17T06:27:17.862Z"
   },
   {
    "duration": 8,
    "start_time": "2021-11-17T06:27:17.894Z"
   },
   {
    "duration": 11,
    "start_time": "2021-11-17T06:27:17.903Z"
   },
   {
    "duration": 38,
    "start_time": "2021-11-17T06:27:17.915Z"
   },
   {
    "duration": 12,
    "start_time": "2021-11-17T06:27:17.955Z"
   },
   {
    "duration": 10,
    "start_time": "2021-11-17T06:27:17.969Z"
   },
   {
    "duration": 14,
    "start_time": "2021-11-17T06:27:17.981Z"
   },
   {
    "duration": 13,
    "start_time": "2021-11-17T06:27:17.997Z"
   },
   {
    "duration": 48,
    "start_time": "2021-11-17T06:27:18.012Z"
   },
   {
    "duration": 20,
    "start_time": "2021-11-17T06:27:18.062Z"
   },
   {
    "duration": 30,
    "start_time": "2021-11-17T06:27:18.084Z"
   },
   {
    "duration": 63,
    "start_time": "2021-11-17T06:27:18.118Z"
   },
   {
    "duration": 8,
    "start_time": "2021-11-17T06:27:18.183Z"
   },
   {
    "duration": 7,
    "start_time": "2021-11-17T06:27:18.193Z"
   },
   {
    "duration": 10,
    "start_time": "2021-11-17T06:27:18.202Z"
   },
   {
    "duration": 11,
    "start_time": "2021-11-17T06:27:18.214Z"
   },
   {
    "duration": 18,
    "start_time": "2021-11-17T06:27:18.227Z"
   },
   {
    "duration": 32,
    "start_time": "2021-11-17T06:27:18.246Z"
   },
   {
    "duration": 15,
    "start_time": "2021-11-17T06:27:18.280Z"
   },
   {
    "duration": 63,
    "start_time": "2021-11-17T06:27:18.297Z"
   },
   {
    "duration": 8,
    "start_time": "2021-11-17T06:27:18.362Z"
   },
   {
    "duration": 13,
    "start_time": "2021-11-17T06:27:18.371Z"
   },
   {
    "duration": 11,
    "start_time": "2021-11-17T06:27:18.385Z"
   },
   {
    "duration": 8,
    "start_time": "2021-11-17T06:27:18.397Z"
   },
   {
    "duration": 10,
    "start_time": "2021-11-17T06:27:18.407Z"
   },
   {
    "duration": 11,
    "start_time": "2021-11-17T06:27:18.445Z"
   },
   {
    "duration": 13,
    "start_time": "2021-11-17T06:27:18.458Z"
   },
   {
    "duration": 17,
    "start_time": "2021-11-17T06:27:18.472Z"
   },
   {
    "duration": 5,
    "start_time": "2021-11-17T06:27:18.491Z"
   },
   {
    "duration": 6,
    "start_time": "2021-11-17T06:27:18.498Z"
   },
   {
    "duration": 57,
    "start_time": "2021-11-17T06:27:18.506Z"
   },
   {
    "duration": 10,
    "start_time": "2021-11-17T06:27:18.565Z"
   },
   {
    "duration": 24,
    "start_time": "2021-11-17T06:27:18.577Z"
   },
   {
    "duration": 10,
    "start_time": "2021-11-17T06:27:18.603Z"
   },
   {
    "duration": 30,
    "start_time": "2021-11-17T06:27:18.615Z"
   },
   {
    "duration": 13,
    "start_time": "2021-11-17T06:27:18.647Z"
   },
   {
    "duration": 46,
    "start_time": "2021-11-17T06:27:18.662Z"
   },
   {
    "duration": 15,
    "start_time": "2021-11-17T06:27:18.710Z"
   },
   {
    "duration": 45,
    "start_time": "2021-11-17T06:27:18.727Z"
   },
   {
    "duration": 73,
    "start_time": "2021-11-17T06:27:18.774Z"
   },
   {
    "duration": 31,
    "start_time": "2021-11-17T06:27:18.849Z"
   },
   {
    "duration": 191,
    "start_time": "2021-11-17T06:27:18.882Z"
   },
   {
    "duration": 35,
    "start_time": "2021-11-17T06:27:19.075Z"
   },
   {
    "duration": 57,
    "start_time": "2021-11-17T06:27:19.112Z"
   },
   {
    "duration": 4,
    "start_time": "2021-11-17T06:27:19.171Z"
   },
   {
    "duration": 5,
    "start_time": "2021-11-17T06:27:19.176Z"
   },
   {
    "duration": 7,
    "start_time": "2021-11-17T06:27:19.183Z"
   },
   {
    "duration": 18,
    "start_time": "2021-11-17T06:27:25.367Z"
   },
   {
    "duration": 35,
    "start_time": "2021-11-17T06:27:31.694Z"
   },
   {
    "duration": 19,
    "start_time": "2021-11-17T06:29:26.377Z"
   },
   {
    "duration": 3,
    "start_time": "2021-11-17T06:29:40.284Z"
   },
   {
    "duration": 3,
    "start_time": "2021-11-17T06:29:42.002Z"
   },
   {
    "duration": 787,
    "start_time": "2021-11-17T06:30:21.364Z"
   },
   {
    "duration": 695,
    "start_time": "2021-11-17T06:30:38.264Z"
   },
   {
    "duration": 3,
    "start_time": "2021-11-17T07:09:49.624Z"
   },
   {
    "duration": 177514,
    "start_time": "2021-11-17T07:09:59.583Z"
   },
   {
    "duration": 4,
    "start_time": "2021-11-17T07:16:20.641Z"
   },
   {
    "duration": 186542,
    "start_time": "2021-11-17T07:16:23.054Z"
   },
   {
    "duration": 3,
    "start_time": "2021-11-17T07:27:37.062Z"
   },
   {
    "duration": 275,
    "start_time": "2021-11-17T07:35:51.975Z"
   },
   {
    "duration": 293,
    "start_time": "2021-11-17T07:43:42.283Z"
   },
   {
    "duration": 3,
    "start_time": "2021-11-17T07:45:05.242Z"
   },
   {
    "duration": 308,
    "start_time": "2021-11-17T07:45:09.338Z"
   },
   {
    "duration": 4,
    "start_time": "2021-11-17T07:46:34.534Z"
   },
   {
    "duration": 101,
    "start_time": "2021-11-17T07:50:02.714Z"
   },
   {
    "duration": 3,
    "start_time": "2021-11-17T07:50:21.442Z"
   },
   {
    "duration": 13,
    "start_time": "2021-11-17T07:50:47.965Z"
   },
   {
    "duration": 21,
    "start_time": "2021-11-17T07:53:39.644Z"
   },
   {
    "duration": 20,
    "start_time": "2021-11-17T07:54:20.824Z"
   },
   {
    "duration": 18,
    "start_time": "2021-11-17T07:54:32.654Z"
   },
   {
    "duration": 18,
    "start_time": "2021-11-17T07:54:42.094Z"
   },
   {
    "duration": 272,
    "start_time": "2021-11-17T08:01:07.854Z"
   },
   {
    "duration": 2,
    "start_time": "2021-11-17T08:02:45.145Z"
   },
   {
    "duration": 2060,
    "start_time": "2021-11-17T08:02:50.865Z"
   },
   {
    "duration": 3,
    "start_time": "2021-11-17T08:03:34.454Z"
   },
   {
    "duration": 2289,
    "start_time": "2021-11-17T08:03:54.822Z"
   },
   {
    "duration": 12106,
    "start_time": "2021-11-17T08:08:30.364Z"
   },
   {
    "duration": 283,
    "start_time": "2021-11-17T08:09:36.802Z"
   },
   {
    "duration": 4,
    "start_time": "2021-11-17T08:11:04.364Z"
   },
   {
    "duration": 3,
    "start_time": "2021-11-17T08:11:09.854Z"
   },
   {
    "duration": 313,
    "start_time": "2021-11-17T08:11:09.859Z"
   },
   {
    "duration": 16,
    "start_time": "2021-11-17T08:11:10.174Z"
   },
   {
    "duration": 56,
    "start_time": "2021-11-17T08:11:10.192Z"
   },
   {
    "duration": 27,
    "start_time": "2021-11-17T08:11:10.250Z"
   },
   {
    "duration": 12,
    "start_time": "2021-11-17T08:11:10.279Z"
   },
   {
    "duration": 5,
    "start_time": "2021-11-17T08:11:10.294Z"
   },
   {
    "duration": 49,
    "start_time": "2021-11-17T08:11:10.301Z"
   },
   {
    "duration": 4,
    "start_time": "2021-11-17T08:11:10.352Z"
   },
   {
    "duration": 19,
    "start_time": "2021-11-17T08:11:10.358Z"
   },
   {
    "duration": 6,
    "start_time": "2021-11-17T08:11:10.379Z"
   },
   {
    "duration": 9,
    "start_time": "2021-11-17T08:11:10.387Z"
   },
   {
    "duration": 8,
    "start_time": "2021-11-17T08:11:10.397Z"
   },
   {
    "duration": 6,
    "start_time": "2021-11-17T08:11:10.406Z"
   },
   {
    "duration": 9,
    "start_time": "2021-11-17T08:11:10.445Z"
   },
   {
    "duration": 32,
    "start_time": "2021-11-17T08:11:10.455Z"
   },
   {
    "duration": 8,
    "start_time": "2021-11-17T08:11:10.489Z"
   },
   {
    "duration": 21,
    "start_time": "2021-11-17T08:11:10.499Z"
   },
   {
    "duration": 12,
    "start_time": "2021-11-17T08:11:10.544Z"
   },
   {
    "duration": 13,
    "start_time": "2021-11-17T08:11:10.558Z"
   },
   {
    "duration": 17,
    "start_time": "2021-11-17T08:11:10.574Z"
   },
   {
    "duration": 12,
    "start_time": "2021-11-17T08:11:10.593Z"
   },
   {
    "duration": 14,
    "start_time": "2021-11-17T08:11:10.607Z"
   },
   {
    "duration": 22,
    "start_time": "2021-11-17T08:11:10.623Z"
   },
   {
    "duration": 7,
    "start_time": "2021-11-17T08:11:10.647Z"
   },
   {
    "duration": 14,
    "start_time": "2021-11-17T08:11:10.656Z"
   },
   {
    "duration": 21,
    "start_time": "2021-11-17T08:11:10.672Z"
   },
   {
    "duration": 8,
    "start_time": "2021-11-17T08:11:10.695Z"
   },
   {
    "duration": 19,
    "start_time": "2021-11-17T08:11:10.705Z"
   },
   {
    "duration": 9,
    "start_time": "2021-11-17T08:11:10.725Z"
   },
   {
    "duration": 7,
    "start_time": "2021-11-17T08:11:10.745Z"
   },
   {
    "duration": 17,
    "start_time": "2021-11-17T08:11:10.753Z"
   },
   {
    "duration": 22,
    "start_time": "2021-11-17T08:11:10.772Z"
   },
   {
    "duration": 14,
    "start_time": "2021-11-17T08:11:10.796Z"
   },
   {
    "duration": 73,
    "start_time": "2021-11-17T08:11:10.812Z"
   },
   {
    "duration": 6,
    "start_time": "2021-11-17T08:11:10.887Z"
   },
   {
    "duration": 24,
    "start_time": "2021-11-17T08:11:10.895Z"
   },
   {
    "duration": 8,
    "start_time": "2021-11-17T08:11:10.921Z"
   },
   {
    "duration": 25,
    "start_time": "2021-11-17T08:11:10.931Z"
   },
   {
    "duration": 12,
    "start_time": "2021-11-17T08:11:10.958Z"
   },
   {
    "duration": 17,
    "start_time": "2021-11-17T08:11:10.972Z"
   },
   {
    "duration": 14,
    "start_time": "2021-11-17T08:11:10.991Z"
   },
   {
    "duration": 8,
    "start_time": "2021-11-17T08:11:11.007Z"
   },
   {
    "duration": 7,
    "start_time": "2021-11-17T08:11:11.017Z"
   },
   {
    "duration": 19,
    "start_time": "2021-11-17T08:11:11.026Z"
   },
   {
    "duration": 26,
    "start_time": "2021-11-17T08:11:11.047Z"
   },
   {
    "duration": 12,
    "start_time": "2021-11-17T08:11:11.075Z"
   },
   {
    "duration": 28,
    "start_time": "2021-11-17T08:11:11.090Z"
   },
   {
    "duration": 10,
    "start_time": "2021-11-17T08:11:11.120Z"
   },
   {
    "duration": 4,
    "start_time": "2021-11-17T08:11:11.145Z"
   },
   {
    "duration": 12,
    "start_time": "2021-11-17T08:11:11.150Z"
   },
   {
    "duration": 10,
    "start_time": "2021-11-17T08:11:11.163Z"
   },
   {
    "duration": 23,
    "start_time": "2021-11-17T08:11:11.175Z"
   },
   {
    "duration": 68,
    "start_time": "2021-11-17T08:11:11.204Z"
   },
   {
    "duration": 78,
    "start_time": "2021-11-17T08:11:11.275Z"
   },
   {
    "duration": 34,
    "start_time": "2021-11-17T08:11:11.355Z"
   },
   {
    "duration": 185,
    "start_time": "2021-11-17T08:11:11.391Z"
   },
   {
    "duration": 31,
    "start_time": "2021-11-17T08:11:11.578Z"
   },
   {
    "duration": 55,
    "start_time": "2021-11-17T08:11:11.611Z"
   },
   {
    "duration": 5,
    "start_time": "2021-11-17T08:11:11.668Z"
   },
   {
    "duration": 10,
    "start_time": "2021-11-17T08:11:11.675Z"
   },
   {
    "duration": 6,
    "start_time": "2021-11-17T08:11:11.687Z"
   },
   {
    "duration": 20,
    "start_time": "2021-11-17T08:11:11.695Z"
   },
   {
    "duration": 41,
    "start_time": "2021-11-17T08:11:11.717Z"
   },
   {
    "duration": 7,
    "start_time": "2021-11-17T08:11:11.760Z"
   },
   {
    "duration": 2325,
    "start_time": "2021-11-17T08:11:11.769Z"
   },
   {
    "duration": 4,
    "start_time": "2021-11-17T08:11:14.096Z"
   },
   {
    "duration": 10,
    "start_time": "2021-11-17T08:11:14.102Z"
   },
   {
    "duration": 15,
    "start_time": "2021-11-17T08:11:14.114Z"
   },
   {
    "duration": 232570,
    "start_time": "2021-11-17T08:11:14.131Z"
   },
   {
    "duration": 977,
    "start_time": "2021-11-17T08:15:06.702Z"
   },
   {
    "duration": 69,
    "start_time": "2021-11-17T08:15:07.681Z"
   },
   {
    "duration": 11958,
    "start_time": "2021-11-17T08:15:07.752Z"
   },
   {
    "duration": 15310,
    "start_time": "2021-11-17T08:15:19.713Z"
   },
   {
    "duration": 307,
    "start_time": "2021-11-17T08:21:46.455Z"
   },
   {
    "duration": 3,
    "start_time": "2021-11-17T08:46:34.000Z"
   },
   {
    "duration": 303,
    "start_time": "2021-11-17T08:46:34.025Z"
   },
   {
    "duration": 30,
    "start_time": "2021-11-17T08:46:34.330Z"
   },
   {
    "duration": 32,
    "start_time": "2021-11-17T08:46:34.362Z"
   },
   {
    "duration": 26,
    "start_time": "2021-11-17T08:46:34.396Z"
   },
   {
    "duration": 11,
    "start_time": "2021-11-17T08:46:34.445Z"
   },
   {
    "duration": 18,
    "start_time": "2021-11-17T08:46:34.457Z"
   },
   {
    "duration": 16,
    "start_time": "2021-11-17T08:46:34.477Z"
   },
   {
    "duration": 18,
    "start_time": "2021-11-17T08:46:34.495Z"
   },
   {
    "duration": 28,
    "start_time": "2021-11-17T08:46:34.517Z"
   },
   {
    "duration": 8,
    "start_time": "2021-11-17T08:46:34.548Z"
   },
   {
    "duration": 8,
    "start_time": "2021-11-17T08:46:34.558Z"
   },
   {
    "duration": 10,
    "start_time": "2021-11-17T08:46:34.568Z"
   },
   {
    "duration": 6,
    "start_time": "2021-11-17T08:46:34.580Z"
   },
   {
    "duration": 10,
    "start_time": "2021-11-17T08:46:34.588Z"
   },
   {
    "duration": 64,
    "start_time": "2021-11-17T08:46:34.600Z"
   },
   {
    "duration": 9,
    "start_time": "2021-11-17T08:46:34.666Z"
   },
   {
    "duration": 12,
    "start_time": "2021-11-17T08:46:34.677Z"
   },
   {
    "duration": 17,
    "start_time": "2021-11-17T08:46:34.691Z"
   },
   {
    "duration": 37,
    "start_time": "2021-11-17T08:46:34.710Z"
   },
   {
    "duration": 5,
    "start_time": "2021-11-17T08:46:34.749Z"
   },
   {
    "duration": 20,
    "start_time": "2021-11-17T08:46:34.756Z"
   },
   {
    "duration": 11,
    "start_time": "2021-11-17T08:46:34.778Z"
   },
   {
    "duration": 9,
    "start_time": "2021-11-17T08:46:34.791Z"
   },
   {
    "duration": 13,
    "start_time": "2021-11-17T08:46:34.802Z"
   },
   {
    "duration": 7,
    "start_time": "2021-11-17T08:46:34.816Z"
   },
   {
    "duration": 23,
    "start_time": "2021-11-17T08:46:34.825Z"
   },
   {
    "duration": 6,
    "start_time": "2021-11-17T08:46:34.853Z"
   },
   {
    "duration": 8,
    "start_time": "2021-11-17T08:46:34.861Z"
   },
   {
    "duration": 6,
    "start_time": "2021-11-17T08:46:34.871Z"
   },
   {
    "duration": 5,
    "start_time": "2021-11-17T08:46:34.879Z"
   },
   {
    "duration": 15,
    "start_time": "2021-11-17T08:46:34.885Z"
   },
   {
    "duration": 51,
    "start_time": "2021-11-17T08:46:34.901Z"
   },
   {
    "duration": 13,
    "start_time": "2021-11-17T08:46:34.953Z"
   },
   {
    "duration": 46,
    "start_time": "2021-11-17T08:46:34.968Z"
   },
   {
    "duration": 5,
    "start_time": "2021-11-17T08:46:35.016Z"
   },
   {
    "duration": 26,
    "start_time": "2021-11-17T08:46:35.023Z"
   },
   {
    "duration": 13,
    "start_time": "2021-11-17T08:46:35.050Z"
   },
   {
    "duration": 14,
    "start_time": "2021-11-17T08:46:35.064Z"
   },
   {
    "duration": 16,
    "start_time": "2021-11-17T08:46:35.079Z"
   },
   {
    "duration": 28,
    "start_time": "2021-11-17T08:46:35.097Z"
   },
   {
    "duration": 13,
    "start_time": "2021-11-17T08:46:35.127Z"
   },
   {
    "duration": 12,
    "start_time": "2021-11-17T08:46:35.142Z"
   },
   {
    "duration": 7,
    "start_time": "2021-11-17T08:46:35.156Z"
   },
   {
    "duration": 11,
    "start_time": "2021-11-17T08:46:35.165Z"
   },
   {
    "duration": 59,
    "start_time": "2021-11-17T08:46:35.178Z"
   },
   {
    "duration": 21,
    "start_time": "2021-11-17T08:46:35.239Z"
   },
   {
    "duration": 12,
    "start_time": "2021-11-17T08:46:35.262Z"
   },
   {
    "duration": 8,
    "start_time": "2021-11-17T08:46:35.276Z"
   },
   {
    "duration": 5,
    "start_time": "2021-11-17T08:46:35.286Z"
   },
   {
    "duration": 12,
    "start_time": "2021-11-17T08:46:35.293Z"
   },
   {
    "duration": 12,
    "start_time": "2021-11-17T08:46:35.306Z"
   },
   {
    "duration": 37,
    "start_time": "2021-11-17T08:46:35.320Z"
   },
   {
    "duration": 41,
    "start_time": "2021-11-17T08:46:35.359Z"
   },
   {
    "duration": 85,
    "start_time": "2021-11-17T08:46:35.402Z"
   },
   {
    "duration": 47,
    "start_time": "2021-11-17T08:46:35.489Z"
   },
   {
    "duration": 171,
    "start_time": "2021-11-17T08:46:35.544Z"
   },
   {
    "duration": 39,
    "start_time": "2021-11-17T08:46:35.717Z"
   },
   {
    "duration": 36,
    "start_time": "2021-11-17T08:46:35.758Z"
   },
   {
    "duration": 4,
    "start_time": "2021-11-17T08:46:35.796Z"
   },
   {
    "duration": 11,
    "start_time": "2021-11-17T08:46:35.802Z"
   },
   {
    "duration": 8,
    "start_time": "2021-11-17T08:46:35.815Z"
   },
   {
    "duration": 18,
    "start_time": "2021-11-17T08:46:35.845Z"
   },
   {
    "duration": 27,
    "start_time": "2021-11-17T08:46:35.865Z"
   },
   {
    "duration": 9,
    "start_time": "2021-11-17T08:46:35.894Z"
   },
   {
    "duration": 2250,
    "start_time": "2021-11-17T08:46:35.904Z"
   },
   {
    "duration": 3,
    "start_time": "2021-11-17T08:46:38.156Z"
   },
   {
    "duration": 12,
    "start_time": "2021-11-17T08:46:38.160Z"
   },
   {
    "duration": 9,
    "start_time": "2021-11-17T08:46:38.174Z"
   },
   {
    "duration": 178117,
    "start_time": "2021-11-17T08:46:38.185Z"
   },
   {
    "duration": 843,
    "start_time": "2021-11-17T08:49:36.304Z"
   },
   {
    "duration": 25,
    "start_time": "2021-11-17T08:49:37.149Z"
   },
   {
    "duration": 10696,
    "start_time": "2021-11-17T08:49:37.175Z"
   },
   {
    "duration": 297,
    "start_time": "2021-11-17T08:49:47.873Z"
   },
   {
    "duration": 10519,
    "start_time": "2021-11-17T09:08:23.971Z"
   },
   {
    "duration": 443,
    "start_time": "2021-11-17T09:15:10.661Z"
   },
   {
    "duration": 9700,
    "start_time": "2021-11-17T09:15:15.091Z"
   },
   {
    "duration": 9594,
    "start_time": "2021-11-17T09:15:35.359Z"
   },
   {
    "duration": 96,
    "start_time": "2021-11-17T09:20:40.331Z"
   },
   {
    "duration": 5560,
    "start_time": "2021-11-17T09:21:10.441Z"
   },
   {
    "duration": 10582,
    "start_time": "2021-11-17T09:21:43.982Z"
   },
   {
    "duration": 9618,
    "start_time": "2021-11-17T09:24:25.457Z"
   },
   {
    "duration": 10419,
    "start_time": "2021-11-17T09:25:27.162Z"
   },
   {
    "duration": 10626,
    "start_time": "2021-11-17T09:27:59.244Z"
   },
   {
    "duration": 568,
    "start_time": "2021-11-17T09:29:18.204Z"
   },
   {
    "duration": 92,
    "start_time": "2021-11-17T09:29:25.614Z"
   },
   {
    "duration": 80,
    "start_time": "2021-11-17T09:32:20.223Z"
   },
   {
    "duration": 83,
    "start_time": "2021-11-17T09:32:36.124Z"
   },
   {
    "duration": 98,
    "start_time": "2021-11-17T09:32:41.883Z"
   },
   {
    "duration": 3105,
    "start_time": "2021-11-17T09:32:53.594Z"
   },
   {
    "duration": 11137,
    "start_time": "2021-11-17T09:33:19.221Z"
   },
   {
    "duration": 10279,
    "start_time": "2021-11-17T09:40:38.081Z"
   },
   {
    "duration": 10327,
    "start_time": "2021-11-17T09:41:13.030Z"
   },
   {
    "duration": 94,
    "start_time": "2021-11-17T09:47:49.921Z"
   },
   {
    "duration": 3,
    "start_time": "2021-11-17T09:48:15.681Z"
   },
   {
    "duration": 8,
    "start_time": "2021-11-17T09:48:31.941Z"
   },
   {
    "duration": 1113,
    "start_time": "2021-11-17T10:10:42.455Z"
   },
   {
    "duration": 316,
    "start_time": "2021-11-17T10:10:43.570Z"
   },
   {
    "duration": 18,
    "start_time": "2021-11-17T10:10:43.888Z"
   },
   {
    "duration": 85,
    "start_time": "2021-11-17T10:10:43.908Z"
   },
   {
    "duration": 44,
    "start_time": "2021-11-17T10:10:43.995Z"
   },
   {
    "duration": 11,
    "start_time": "2021-11-17T10:10:44.041Z"
   },
   {
    "duration": 38,
    "start_time": "2021-11-17T10:10:44.054Z"
   },
   {
    "duration": 47,
    "start_time": "2021-11-17T10:10:44.094Z"
   },
   {
    "duration": 24,
    "start_time": "2021-11-17T10:10:44.144Z"
   },
   {
    "duration": 40,
    "start_time": "2021-11-17T10:10:44.172Z"
   },
   {
    "duration": 31,
    "start_time": "2021-11-17T10:10:44.214Z"
   },
   {
    "duration": 20,
    "start_time": "2021-11-17T10:10:44.247Z"
   },
   {
    "duration": 28,
    "start_time": "2021-11-17T10:10:44.269Z"
   },
   {
    "duration": 28,
    "start_time": "2021-11-17T10:10:44.299Z"
   },
   {
    "duration": 30,
    "start_time": "2021-11-17T10:10:44.329Z"
   },
   {
    "duration": 35,
    "start_time": "2021-11-17T10:10:44.361Z"
   },
   {
    "duration": 24,
    "start_time": "2021-11-17T10:10:44.398Z"
   },
   {
    "duration": 22,
    "start_time": "2021-11-17T10:10:44.424Z"
   },
   {
    "duration": 36,
    "start_time": "2021-11-17T10:10:44.448Z"
   },
   {
    "duration": 56,
    "start_time": "2021-11-17T10:10:44.485Z"
   },
   {
    "duration": 94,
    "start_time": "2021-11-17T10:10:44.543Z"
   },
   {
    "duration": 20,
    "start_time": "2021-11-17T10:10:44.639Z"
   },
   {
    "duration": 21,
    "start_time": "2021-11-17T10:10:44.661Z"
   },
   {
    "duration": 44,
    "start_time": "2021-11-17T10:10:44.684Z"
   },
   {
    "duration": 10,
    "start_time": "2021-11-17T10:10:44.730Z"
   },
   {
    "duration": 28,
    "start_time": "2021-11-17T10:10:44.742Z"
   },
   {
    "duration": 20,
    "start_time": "2021-11-17T10:10:44.774Z"
   },
   {
    "duration": 15,
    "start_time": "2021-11-17T10:10:44.796Z"
   },
   {
    "duration": 17,
    "start_time": "2021-11-17T10:10:44.813Z"
   },
   {
    "duration": 30,
    "start_time": "2021-11-17T10:10:44.832Z"
   },
   {
    "duration": 22,
    "start_time": "2021-11-17T10:10:44.864Z"
   },
   {
    "duration": 34,
    "start_time": "2021-11-17T10:10:44.888Z"
   },
   {
    "duration": 47,
    "start_time": "2021-11-17T10:10:44.924Z"
   },
   {
    "duration": 27,
    "start_time": "2021-11-17T10:10:44.973Z"
   },
   {
    "duration": 73,
    "start_time": "2021-11-17T10:10:45.002Z"
   },
   {
    "duration": 5,
    "start_time": "2021-11-17T10:10:45.077Z"
   },
   {
    "duration": 7,
    "start_time": "2021-11-17T10:10:45.084Z"
   },
   {
    "duration": 43,
    "start_time": "2021-11-17T10:10:45.093Z"
   },
   {
    "duration": 13,
    "start_time": "2021-11-17T10:10:45.138Z"
   },
   {
    "duration": 11,
    "start_time": "2021-11-17T10:10:45.153Z"
   },
   {
    "duration": 39,
    "start_time": "2021-11-17T10:10:45.166Z"
   },
   {
    "duration": 28,
    "start_time": "2021-11-17T10:10:45.207Z"
   },
   {
    "duration": 24,
    "start_time": "2021-11-17T10:10:45.237Z"
   },
   {
    "duration": 26,
    "start_time": "2021-11-17T10:10:45.263Z"
   },
   {
    "duration": 24,
    "start_time": "2021-11-17T10:10:45.290Z"
   },
   {
    "duration": 25,
    "start_time": "2021-11-17T10:10:45.317Z"
   },
   {
    "duration": 12,
    "start_time": "2021-11-17T10:10:45.344Z"
   },
   {
    "duration": 18,
    "start_time": "2021-11-17T10:10:45.357Z"
   },
   {
    "duration": 7,
    "start_time": "2021-11-17T10:10:45.377Z"
   },
   {
    "duration": 28,
    "start_time": "2021-11-17T10:10:45.385Z"
   },
   {
    "duration": 37,
    "start_time": "2021-11-17T10:10:45.415Z"
   },
   {
    "duration": 20,
    "start_time": "2021-11-17T10:10:45.454Z"
   },
   {
    "duration": 61,
    "start_time": "2021-11-17T10:10:45.475Z"
   },
   {
    "duration": 58,
    "start_time": "2021-11-17T10:10:45.538Z"
   },
   {
    "duration": 64,
    "start_time": "2021-11-17T10:10:45.598Z"
   },
   {
    "duration": 38,
    "start_time": "2021-11-17T10:10:45.663Z"
   },
   {
    "duration": 189,
    "start_time": "2021-11-17T10:10:45.702Z"
   },
   {
    "duration": 30,
    "start_time": "2021-11-17T10:10:45.893Z"
   },
   {
    "duration": 51,
    "start_time": "2021-11-17T10:10:45.925Z"
   },
   {
    "duration": 5,
    "start_time": "2021-11-17T10:10:45.978Z"
   },
   {
    "duration": 38,
    "start_time": "2021-11-17T10:10:45.985Z"
   },
   {
    "duration": 491,
    "start_time": "2021-11-17T10:10:46.025Z"
   },
   {
    "duration": -4558,
    "start_time": "2021-11-17T10:10:51.077Z"
   },
   {
    "duration": -4568,
    "start_time": "2021-11-17T10:10:51.088Z"
   },
   {
    "duration": -4577,
    "start_time": "2021-11-17T10:10:51.099Z"
   },
   {
    "duration": -4600,
    "start_time": "2021-11-17T10:10:51.124Z"
   },
   {
    "duration": -4611,
    "start_time": "2021-11-17T10:10:51.136Z"
   },
   {
    "duration": -4620,
    "start_time": "2021-11-17T10:10:51.147Z"
   },
   {
    "duration": -4630,
    "start_time": "2021-11-17T10:10:51.158Z"
   },
   {
    "duration": 24,
    "start_time": "2021-11-17T10:11:10.212Z"
   },
   {
    "duration": 8,
    "start_time": "2021-11-17T10:11:21.104Z"
   },
   {
    "duration": 2219,
    "start_time": "2021-11-17T10:11:21.114Z"
   },
   {
    "duration": 44,
    "start_time": "2021-11-17T10:11:23.336Z"
   },
   {
    "duration": 2,
    "start_time": "2021-11-17T10:11:23.383Z"
   },
   {
    "duration": 14,
    "start_time": "2021-11-17T10:11:23.387Z"
   },
   {
    "duration": 174495,
    "start_time": "2021-11-17T10:11:23.403Z"
   },
   {
    "duration": 761,
    "start_time": "2021-11-17T10:14:17.901Z"
   },
   {
    "duration": 22,
    "start_time": "2021-11-17T10:14:18.664Z"
   },
   {
    "duration": 3,
    "start_time": "2021-11-17T10:14:18.688Z"
   },
   {
    "duration": 10062,
    "start_time": "2021-11-17T10:14:18.693Z"
   },
   {
    "duration": 281,
    "start_time": "2021-11-17T10:14:28.758Z"
   },
   {
    "duration": -3129,
    "start_time": "2021-11-17T10:14:32.171Z"
   },
   {
    "duration": 3,
    "start_time": "2021-11-17T10:16:24.134Z"
   },
   {
    "duration": 16,
    "start_time": "2021-11-17T10:20:08.411Z"
   },
   {
    "duration": 970,
    "start_time": "2021-11-19T02:43:00.343Z"
   },
   {
    "duration": 349,
    "start_time": "2021-11-19T02:43:01.315Z"
   },
   {
    "duration": 30,
    "start_time": "2021-11-19T02:43:01.666Z"
   },
   {
    "duration": 29,
    "start_time": "2021-11-19T02:43:01.698Z"
   },
   {
    "duration": 36,
    "start_time": "2021-11-19T02:43:01.729Z"
   },
   {
    "duration": 26,
    "start_time": "2021-11-19T02:43:01.767Z"
   },
   {
    "duration": 5,
    "start_time": "2021-11-19T02:43:01.795Z"
   },
   {
    "duration": 19,
    "start_time": "2021-11-19T02:43:01.802Z"
   },
   {
    "duration": 11,
    "start_time": "2021-11-19T02:43:01.823Z"
   },
   {
    "duration": 48,
    "start_time": "2021-11-19T02:43:01.836Z"
   },
   {
    "duration": 31,
    "start_time": "2021-11-19T02:43:01.886Z"
   },
   {
    "duration": 28,
    "start_time": "2021-11-19T02:43:01.919Z"
   },
   {
    "duration": 34,
    "start_time": "2021-11-19T02:43:01.949Z"
   },
   {
    "duration": 37,
    "start_time": "2021-11-19T02:43:01.985Z"
   },
   {
    "duration": 58,
    "start_time": "2021-11-19T02:43:02.024Z"
   },
   {
    "duration": 58,
    "start_time": "2021-11-19T02:43:02.084Z"
   },
   {
    "duration": 18,
    "start_time": "2021-11-19T02:43:02.144Z"
   },
   {
    "duration": 54,
    "start_time": "2021-11-19T02:43:02.164Z"
   },
   {
    "duration": 53,
    "start_time": "2021-11-19T02:43:02.220Z"
   },
   {
    "duration": 45,
    "start_time": "2021-11-19T02:43:02.275Z"
   },
   {
    "duration": 44,
    "start_time": "2021-11-19T02:43:02.323Z"
   },
   {
    "duration": 36,
    "start_time": "2021-11-19T02:43:02.369Z"
   },
   {
    "duration": 58,
    "start_time": "2021-11-19T02:43:02.410Z"
   },
   {
    "duration": 27,
    "start_time": "2021-11-19T02:43:02.470Z"
   },
   {
    "duration": 30,
    "start_time": "2021-11-19T02:43:02.498Z"
   },
   {
    "duration": 33,
    "start_time": "2021-11-19T02:43:02.530Z"
   },
   {
    "duration": 34,
    "start_time": "2021-11-19T02:43:02.565Z"
   },
   {
    "duration": 55,
    "start_time": "2021-11-19T02:43:02.601Z"
   },
   {
    "duration": 57,
    "start_time": "2021-11-19T02:43:02.658Z"
   },
   {
    "duration": 27,
    "start_time": "2021-11-19T02:43:02.717Z"
   },
   {
    "duration": 49,
    "start_time": "2021-11-19T02:43:02.746Z"
   },
   {
    "duration": 60,
    "start_time": "2021-11-19T02:43:02.797Z"
   },
   {
    "duration": 69,
    "start_time": "2021-11-19T02:43:02.858Z"
   },
   {
    "duration": 42,
    "start_time": "2021-11-19T02:43:02.929Z"
   },
   {
    "duration": 72,
    "start_time": "2021-11-19T02:43:02.973Z"
   },
   {
    "duration": 81,
    "start_time": "2021-11-19T02:43:03.046Z"
   },
   {
    "duration": 26,
    "start_time": "2021-11-19T02:43:03.128Z"
   },
   {
    "duration": 27,
    "start_time": "2021-11-19T02:43:03.156Z"
   },
   {
    "duration": 49,
    "start_time": "2021-11-19T02:43:03.185Z"
   },
   {
    "duration": 58,
    "start_time": "2021-11-19T02:43:03.236Z"
   },
   {
    "duration": 60,
    "start_time": "2021-11-19T02:43:03.296Z"
   },
   {
    "duration": 41,
    "start_time": "2021-11-19T02:43:03.358Z"
   },
   {
    "duration": 61,
    "start_time": "2021-11-19T02:43:03.400Z"
   },
   {
    "duration": 62,
    "start_time": "2021-11-19T02:43:03.463Z"
   },
   {
    "duration": 37,
    "start_time": "2021-11-19T02:43:03.527Z"
   },
   {
    "duration": 36,
    "start_time": "2021-11-19T02:43:03.565Z"
   },
   {
    "duration": 74,
    "start_time": "2021-11-19T02:43:03.602Z"
   },
   {
    "duration": 55,
    "start_time": "2021-11-19T02:43:03.678Z"
   },
   {
    "duration": 22,
    "start_time": "2021-11-19T02:43:03.735Z"
   },
   {
    "duration": 46,
    "start_time": "2021-11-19T02:43:03.758Z"
   },
   {
    "duration": 56,
    "start_time": "2021-11-19T02:43:03.806Z"
   },
   {
    "duration": 28,
    "start_time": "2021-11-19T02:43:03.864Z"
   },
   {
    "duration": 62,
    "start_time": "2021-11-19T02:43:03.893Z"
   },
   {
    "duration": 91,
    "start_time": "2021-11-19T02:43:03.957Z"
   },
   {
    "duration": 79,
    "start_time": "2021-11-19T02:43:04.050Z"
   },
   {
    "duration": 59,
    "start_time": "2021-11-19T02:43:04.131Z"
   },
   {
    "duration": 160,
    "start_time": "2021-11-19T02:43:04.192Z"
   },
   {
    "duration": 39,
    "start_time": "2021-11-19T02:43:04.354Z"
   },
   {
    "duration": 33,
    "start_time": "2021-11-19T02:43:04.394Z"
   },
   {
    "duration": 3,
    "start_time": "2021-11-19T02:43:04.429Z"
   },
   {
    "duration": 34,
    "start_time": "2021-11-19T02:43:04.434Z"
   },
   {
    "duration": 33,
    "start_time": "2021-11-19T02:43:04.469Z"
   },
   {
    "duration": 6,
    "start_time": "2021-11-19T02:43:04.503Z"
   },
   {
    "duration": 2108,
    "start_time": "2021-11-19T02:43:04.511Z"
   },
   {
    "duration": 44,
    "start_time": "2021-11-19T02:43:06.621Z"
   },
   {
    "duration": 3,
    "start_time": "2021-11-19T02:43:06.666Z"
   },
   {
    "duration": 22,
    "start_time": "2021-11-19T02:43:06.670Z"
   },
   {
    "duration": 163134,
    "start_time": "2021-11-19T02:43:06.696Z"
   },
   {
    "duration": 762,
    "start_time": "2021-11-19T02:45:49.832Z"
   },
   {
    "duration": 26,
    "start_time": "2021-11-19T02:45:50.596Z"
   },
   {
    "duration": 13,
    "start_time": "2021-11-19T02:45:50.623Z"
   },
   {
    "duration": 5,
    "start_time": "2021-11-19T02:45:50.638Z"
   },
   {
    "duration": 10526,
    "start_time": "2021-11-19T02:45:50.644Z"
   },
   {
    "duration": 256,
    "start_time": "2021-11-19T02:46:01.172Z"
   },
   {
    "duration": 9589,
    "start_time": "2021-11-19T02:57:13.043Z"
   },
   {
    "duration": 213,
    "start_time": "2021-11-19T02:57:36.541Z"
   },
   {
    "duration": 8378,
    "start_time": "2021-11-19T03:39:53.255Z"
   },
   {
    "duration": 297671,
    "start_time": "2021-11-19T03:50:26.655Z"
   },
   {
    "duration": 216,
    "start_time": "2021-11-19T03:56:31.355Z"
   },
   {
    "duration": 192,
    "start_time": "2021-11-19T03:57:55.180Z"
   },
   {
    "duration": 180,
    "start_time": "2021-11-19T04:12:44.318Z"
   },
   {
    "duration": 1036,
    "start_time": "2021-11-19T04:31:29.027Z"
   },
   {
    "duration": 3,
    "start_time": "2021-11-19T04:32:52.484Z"
   },
   {
    "duration": 3,
    "start_time": "2021-11-19T05:38:21.556Z"
   },
   {
    "duration": 368,
    "start_time": "2021-11-19T05:38:21.624Z"
   },
   {
    "duration": 17,
    "start_time": "2021-11-19T05:38:21.994Z"
   },
   {
    "duration": 27,
    "start_time": "2021-11-19T05:38:22.013Z"
   },
   {
    "duration": 52,
    "start_time": "2021-11-19T05:38:22.041Z"
   },
   {
    "duration": 9,
    "start_time": "2021-11-19T05:38:22.095Z"
   },
   {
    "duration": 6,
    "start_time": "2021-11-19T05:38:22.106Z"
   },
   {
    "duration": 9,
    "start_time": "2021-11-19T05:38:22.113Z"
   },
   {
    "duration": 4,
    "start_time": "2021-11-19T05:38:22.125Z"
   },
   {
    "duration": 12,
    "start_time": "2021-11-19T05:38:22.131Z"
   },
   {
    "duration": 46,
    "start_time": "2021-11-19T05:38:22.144Z"
   },
   {
    "duration": 5,
    "start_time": "2021-11-19T05:38:22.193Z"
   },
   {
    "duration": 7,
    "start_time": "2021-11-19T05:38:22.200Z"
   },
   {
    "duration": 4,
    "start_time": "2021-11-19T05:38:22.209Z"
   },
   {
    "duration": 9,
    "start_time": "2021-11-19T05:38:22.215Z"
   },
   {
    "duration": 27,
    "start_time": "2021-11-19T05:38:22.226Z"
   },
   {
    "duration": 40,
    "start_time": "2021-11-19T05:38:22.255Z"
   },
   {
    "duration": 10,
    "start_time": "2021-11-19T05:38:22.296Z"
   },
   {
    "duration": 12,
    "start_time": "2021-11-19T05:38:22.307Z"
   },
   {
    "duration": 5,
    "start_time": "2021-11-19T05:38:22.320Z"
   },
   {
    "duration": 6,
    "start_time": "2021-11-19T05:38:22.327Z"
   },
   {
    "duration": 4,
    "start_time": "2021-11-19T05:38:22.335Z"
   },
   {
    "duration": 53,
    "start_time": "2021-11-19T05:38:22.341Z"
   },
   {
    "duration": 6,
    "start_time": "2021-11-19T05:38:22.398Z"
   },
   {
    "duration": 7,
    "start_time": "2021-11-19T05:38:22.407Z"
   },
   {
    "duration": 13,
    "start_time": "2021-11-19T05:38:22.416Z"
   },
   {
    "duration": 11,
    "start_time": "2021-11-19T05:38:22.431Z"
   },
   {
    "duration": 16,
    "start_time": "2021-11-19T05:38:22.444Z"
   },
   {
    "duration": 8,
    "start_time": "2021-11-19T05:38:22.462Z"
   },
   {
    "duration": 23,
    "start_time": "2021-11-19T05:38:22.471Z"
   },
   {
    "duration": 11,
    "start_time": "2021-11-19T05:38:22.496Z"
   },
   {
    "duration": 27,
    "start_time": "2021-11-19T05:38:22.509Z"
   },
   {
    "duration": 34,
    "start_time": "2021-11-19T05:38:22.538Z"
   },
   {
    "duration": 18,
    "start_time": "2021-11-19T05:38:22.573Z"
   },
   {
    "duration": 48,
    "start_time": "2021-11-19T05:38:22.593Z"
   },
   {
    "duration": 5,
    "start_time": "2021-11-19T05:38:22.643Z"
   },
   {
    "duration": 10,
    "start_time": "2021-11-19T05:38:22.649Z"
   },
   {
    "duration": 4,
    "start_time": "2021-11-19T05:38:22.661Z"
   },
   {
    "duration": 26,
    "start_time": "2021-11-19T05:38:22.666Z"
   },
   {
    "duration": 7,
    "start_time": "2021-11-19T05:38:22.694Z"
   },
   {
    "duration": 27,
    "start_time": "2021-11-19T05:38:22.703Z"
   },
   {
    "duration": 34,
    "start_time": "2021-11-19T05:38:22.731Z"
   },
   {
    "duration": 29,
    "start_time": "2021-11-19T05:38:22.766Z"
   },
   {
    "duration": 27,
    "start_time": "2021-11-19T05:38:22.796Z"
   },
   {
    "duration": 32,
    "start_time": "2021-11-19T05:38:22.825Z"
   },
   {
    "duration": 35,
    "start_time": "2021-11-19T05:38:22.859Z"
   },
   {
    "duration": 24,
    "start_time": "2021-11-19T05:38:22.896Z"
   },
   {
    "duration": 39,
    "start_time": "2021-11-19T05:38:22.921Z"
   },
   {
    "duration": 34,
    "start_time": "2021-11-19T05:38:22.962Z"
   },
   {
    "duration": 17,
    "start_time": "2021-11-19T05:38:22.997Z"
   },
   {
    "duration": 40,
    "start_time": "2021-11-19T05:38:23.016Z"
   },
   {
    "duration": 40,
    "start_time": "2021-11-19T05:38:23.058Z"
   },
   {
    "duration": 30,
    "start_time": "2021-11-19T05:38:23.100Z"
   },
   {
    "duration": 45,
    "start_time": "2021-11-19T05:38:23.132Z"
   },
   {
    "duration": 66,
    "start_time": "2021-11-19T05:38:23.179Z"
   },
   {
    "duration": 52,
    "start_time": "2021-11-19T05:38:23.247Z"
   },
   {
    "duration": 160,
    "start_time": "2021-11-19T05:38:23.300Z"
   },
   {
    "duration": 37,
    "start_time": "2021-11-19T05:38:23.461Z"
   },
   {
    "duration": 32,
    "start_time": "2021-11-19T05:38:23.500Z"
   },
   {
    "duration": 3,
    "start_time": "2021-11-19T05:38:23.535Z"
   },
   {
    "duration": 18,
    "start_time": "2021-11-19T05:38:23.540Z"
   },
   {
    "duration": 50,
    "start_time": "2021-11-19T05:38:23.560Z"
   },
   {
    "duration": 6,
    "start_time": "2021-11-19T05:38:23.611Z"
   },
   {
    "duration": 3,
    "start_time": "2021-11-19T05:38:23.618Z"
   },
   {
    "duration": 5,
    "start_time": "2021-11-19T05:38:23.622Z"
   },
   {
    "duration": 6,
    "start_time": "2021-11-19T05:38:23.628Z"
   },
   {
    "duration": 5,
    "start_time": "2021-11-19T05:38:23.636Z"
   },
   {
    "duration": 5,
    "start_time": "2021-11-19T05:38:23.642Z"
   },
   {
    "duration": 13273737,
    "start_time": "2021-11-19T05:38:23.648Z"
   },
   {
    "duration": -1817,
    "start_time": "2021-11-19T09:19:39.205Z"
   },
   {
    "duration": -1830,
    "start_time": "2021-11-19T09:19:39.219Z"
   },
   {
    "duration": -1841,
    "start_time": "2021-11-19T09:19:39.231Z"
   },
   {
    "duration": -1851,
    "start_time": "2021-11-19T09:19:39.242Z"
   },
   {
    "duration": -1864,
    "start_time": "2021-11-19T09:19:39.256Z"
   },
   {
    "duration": -1878,
    "start_time": "2021-11-19T09:19:39.270Z"
   },
   {
    "duration": -1889,
    "start_time": "2021-11-19T09:19:39.282Z"
   },
   {
    "duration": -1900,
    "start_time": "2021-11-19T09:19:39.294Z"
   },
   {
    "duration": 183,
    "start_time": "2021-11-19T09:19:42.612Z"
   },
   {
    "duration": 63,
    "start_time": "2021-11-19T09:20:52.483Z"
   },
   {
    "duration": 3437,
    "start_time": "2021-11-19T09:21:21.341Z"
   },
   {
    "duration": 201,
    "start_time": "2021-11-19T09:23:35.641Z"
   },
   {
    "duration": 182,
    "start_time": "2021-11-19T09:25:19.521Z"
   },
   {
    "duration": 3387,
    "start_time": "2021-11-19T09:26:27.276Z"
   },
   {
    "duration": 213,
    "start_time": "2021-11-19T09:26:37.211Z"
   },
   {
    "duration": 73,
    "start_time": "2021-11-19T09:27:25.501Z"
   },
   {
    "duration": 75578,
    "start_time": "2021-11-19T09:27:31.970Z"
   },
   {
    "duration": 62,
    "start_time": "2021-11-19T09:30:01.676Z"
   },
   {
    "duration": 5484,
    "start_time": "2021-11-19T09:30:09.768Z"
   },
   {
    "duration": 9324,
    "start_time": "2021-11-19T09:31:22.328Z"
   },
   {
    "duration": 177,
    "start_time": "2021-11-19T09:31:50.170Z"
   },
   {
    "duration": 8915,
    "start_time": "2021-11-19T09:32:35.583Z"
   },
   {
    "duration": 596,
    "start_time": "2021-11-19T09:35:02.720Z"
   },
   {
    "duration": 2107,
    "start_time": "2021-11-19T09:35:11.815Z"
   },
   {
    "duration": 9380,
    "start_time": "2021-11-19T09:41:43.304Z"
   },
   {
    "duration": 1075,
    "start_time": "2021-11-19T09:52:12.865Z"
   },
   {
    "duration": 305,
    "start_time": "2021-11-19T09:52:13.942Z"
   },
   {
    "duration": 17,
    "start_time": "2021-11-19T09:52:14.249Z"
   },
   {
    "duration": 39,
    "start_time": "2021-11-19T09:52:14.268Z"
   },
   {
    "duration": 27,
    "start_time": "2021-11-19T09:52:14.308Z"
   },
   {
    "duration": 9,
    "start_time": "2021-11-19T09:52:14.337Z"
   },
   {
    "duration": 4,
    "start_time": "2021-11-19T09:52:14.347Z"
   },
   {
    "duration": 38,
    "start_time": "2021-11-19T09:52:14.354Z"
   },
   {
    "duration": 4,
    "start_time": "2021-11-19T09:52:14.394Z"
   },
   {
    "duration": 11,
    "start_time": "2021-11-19T09:52:14.399Z"
   },
   {
    "duration": 5,
    "start_time": "2021-11-19T09:52:14.411Z"
   },
   {
    "duration": 3,
    "start_time": "2021-11-19T09:52:14.418Z"
   },
   {
    "duration": 6,
    "start_time": "2021-11-19T09:52:14.423Z"
   },
   {
    "duration": 5,
    "start_time": "2021-11-19T09:52:14.431Z"
   },
   {
    "duration": 8,
    "start_time": "2021-11-19T09:52:14.438Z"
   },
   {
    "duration": 64,
    "start_time": "2021-11-19T09:52:14.447Z"
   },
   {
    "duration": 8,
    "start_time": "2021-11-19T09:52:14.513Z"
   },
   {
    "duration": 10,
    "start_time": "2021-11-19T09:52:14.522Z"
   },
   {
    "duration": 13,
    "start_time": "2021-11-19T09:52:14.533Z"
   },
   {
    "duration": 9,
    "start_time": "2021-11-19T09:52:14.547Z"
   },
   {
    "duration": 5,
    "start_time": "2021-11-19T09:52:14.557Z"
   },
   {
    "duration": 7,
    "start_time": "2021-11-19T09:52:14.591Z"
   },
   {
    "duration": 11,
    "start_time": "2021-11-19T09:52:14.603Z"
   },
   {
    "duration": 6,
    "start_time": "2021-11-19T09:52:14.616Z"
   },
   {
    "duration": 7,
    "start_time": "2021-11-19T09:52:14.624Z"
   },
   {
    "duration": 6,
    "start_time": "2021-11-19T09:52:14.632Z"
   },
   {
    "duration": 8,
    "start_time": "2021-11-19T09:52:14.640Z"
   },
   {
    "duration": 48,
    "start_time": "2021-11-19T09:52:14.649Z"
   },
   {
    "duration": 6,
    "start_time": "2021-11-19T09:52:14.699Z"
   },
   {
    "duration": 7,
    "start_time": "2021-11-19T09:52:14.707Z"
   },
   {
    "duration": 5,
    "start_time": "2021-11-19T09:52:14.715Z"
   },
   {
    "duration": 15,
    "start_time": "2021-11-19T09:52:14.721Z"
   },
   {
    "duration": 19,
    "start_time": "2021-11-19T09:52:14.737Z"
   },
   {
    "duration": 37,
    "start_time": "2021-11-19T09:52:14.757Z"
   },
   {
    "duration": 45,
    "start_time": "2021-11-19T09:52:14.796Z"
   },
   {
    "duration": 6,
    "start_time": "2021-11-19T09:52:14.843Z"
   },
   {
    "duration": 7,
    "start_time": "2021-11-19T09:52:14.850Z"
   },
   {
    "duration": 6,
    "start_time": "2021-11-19T09:52:14.859Z"
   },
   {
    "duration": 30,
    "start_time": "2021-11-19T09:52:14.866Z"
   },
   {
    "duration": 9,
    "start_time": "2021-11-19T09:52:14.897Z"
   },
   {
    "duration": 11,
    "start_time": "2021-11-19T09:52:14.908Z"
   },
   {
    "duration": 8,
    "start_time": "2021-11-19T09:52:14.921Z"
   },
   {
    "duration": 8,
    "start_time": "2021-11-19T09:52:14.931Z"
   },
   {
    "duration": 6,
    "start_time": "2021-11-19T09:52:14.940Z"
   },
   {
    "duration": 6,
    "start_time": "2021-11-19T09:52:14.947Z"
   },
   {
    "duration": 53,
    "start_time": "2021-11-19T09:52:14.954Z"
   },
   {
    "duration": 11,
    "start_time": "2021-11-19T09:52:15.009Z"
   },
   {
    "duration": 14,
    "start_time": "2021-11-19T09:52:15.021Z"
   },
   {
    "duration": 8,
    "start_time": "2021-11-19T09:52:15.036Z"
   },
   {
    "duration": 3,
    "start_time": "2021-11-19T09:52:15.045Z"
   },
   {
    "duration": 44,
    "start_time": "2021-11-19T09:52:15.049Z"
   },
   {
    "duration": 8,
    "start_time": "2021-11-19T09:52:15.095Z"
   },
   {
    "duration": 16,
    "start_time": "2021-11-19T09:52:15.104Z"
   },
   {
    "duration": 48,
    "start_time": "2021-11-19T09:52:15.122Z"
   },
   {
    "duration": 62,
    "start_time": "2021-11-19T09:52:15.192Z"
   },
   {
    "duration": 48,
    "start_time": "2021-11-19T09:52:15.255Z"
   },
   {
    "duration": 159,
    "start_time": "2021-11-19T09:52:15.305Z"
   },
   {
    "duration": 37,
    "start_time": "2021-11-19T09:52:15.466Z"
   },
   {
    "duration": 35,
    "start_time": "2021-11-19T09:52:15.505Z"
   },
   {
    "duration": 4,
    "start_time": "2021-11-19T09:52:15.541Z"
   },
   {
    "duration": 19,
    "start_time": "2021-11-19T09:52:15.546Z"
   },
   {
    "duration": 43,
    "start_time": "2021-11-19T09:52:15.567Z"
   },
   {
    "duration": 8,
    "start_time": "2021-11-19T09:52:15.612Z"
   },
   {
    "duration": 2,
    "start_time": "2021-11-19T09:52:15.622Z"
   },
   {
    "duration": 5,
    "start_time": "2021-11-19T09:52:15.625Z"
   },
   {
    "duration": 4,
    "start_time": "2021-11-19T09:52:15.632Z"
   },
   {
    "duration": 4,
    "start_time": "2021-11-19T09:52:15.638Z"
   },
   {
    "duration": 3,
    "start_time": "2021-11-19T09:52:20.314Z"
   },
   {
    "duration": 63,
    "start_time": "2021-11-19T09:52:22.764Z"
   },
   {
    "duration": 68,
    "start_time": "2021-11-19T09:52:45.094Z"
   },
   {
    "duration": 269,
    "start_time": "2021-11-19T09:53:06.694Z"
   },
   {
    "duration": 62,
    "start_time": "2021-11-19T09:53:54.565Z"
   },
   {
    "duration": 59,
    "start_time": "2021-11-19T09:54:05.287Z"
   },
   {
    "duration": 62,
    "start_time": "2021-11-19T09:58:49.067Z"
   },
   {
    "duration": 165,
    "start_time": "2021-11-19T09:59:00.747Z"
   },
   {
    "duration": 171,
    "start_time": "2021-11-19T09:59:09.643Z"
   },
   {
    "duration": 186,
    "start_time": "2021-11-19T09:59:17.337Z"
   },
   {
    "duration": 4,
    "start_time": "2021-11-19T10:00:05.087Z"
   },
   {
    "duration": 3,
    "start_time": "2021-11-19T10:00:07.827Z"
   },
   {
    "duration": 3,
    "start_time": "2021-11-19T10:00:10.277Z"
   },
   {
    "duration": 3,
    "start_time": "2021-11-19T10:00:11.658Z"
   },
   {
    "duration": 3,
    "start_time": "2021-11-19T10:00:15.458Z"
   },
   {
    "duration": 9770,
    "start_time": "2021-11-19T10:00:43.667Z"
   },
   {
    "duration": 66,
    "start_time": "2021-11-19T10:01:39.508Z"
   },
   {
    "duration": 58,
    "start_time": "2021-11-19T10:01:42.446Z"
   },
   {
    "duration": 3,
    "start_time": "2021-11-19T10:01:46.998Z"
   },
   {
    "duration": 9,
    "start_time": "2021-11-19T10:01:49.038Z"
   },
   {
    "duration": 3,
    "start_time": "2021-11-19T10:01:50.668Z"
   },
   {
    "duration": 3,
    "start_time": "2021-11-19T10:01:52.168Z"
   },
   {
    "duration": 1014,
    "start_time": "2021-11-19T12:00:40.521Z"
   },
   {
    "duration": 314,
    "start_time": "2021-11-19T12:00:41.537Z"
   },
   {
    "duration": 17,
    "start_time": "2021-11-19T12:00:41.852Z"
   },
   {
    "duration": 42,
    "start_time": "2021-11-19T12:00:41.871Z"
   },
   {
    "duration": 43,
    "start_time": "2021-11-19T12:00:41.915Z"
   },
   {
    "duration": 9,
    "start_time": "2021-11-19T12:00:41.960Z"
   },
   {
    "duration": 23,
    "start_time": "2021-11-19T12:00:41.970Z"
   },
   {
    "duration": 31,
    "start_time": "2021-11-19T12:00:41.995Z"
   },
   {
    "duration": 11,
    "start_time": "2021-11-19T12:00:42.028Z"
   },
   {
    "duration": 34,
    "start_time": "2021-11-19T12:00:42.041Z"
   },
   {
    "duration": 28,
    "start_time": "2021-11-19T12:00:42.077Z"
   },
   {
    "duration": 20,
    "start_time": "2021-11-19T12:00:42.107Z"
   },
   {
    "duration": 33,
    "start_time": "2021-11-19T12:00:42.128Z"
   },
   {
    "duration": 16,
    "start_time": "2021-11-19T12:00:42.162Z"
   },
   {
    "duration": 29,
    "start_time": "2021-11-19T12:00:42.180Z"
   },
   {
    "duration": 34,
    "start_time": "2021-11-19T12:00:42.211Z"
   },
   {
    "duration": 12,
    "start_time": "2021-11-19T12:00:42.246Z"
   },
   {
    "duration": 26,
    "start_time": "2021-11-19T12:00:42.260Z"
   },
   {
    "duration": 37,
    "start_time": "2021-11-19T12:00:42.287Z"
   },
   {
    "duration": 53,
    "start_time": "2021-11-19T12:00:42.326Z"
   },
   {
    "duration": 22,
    "start_time": "2021-11-19T12:00:42.381Z"
   },
   {
    "duration": 32,
    "start_time": "2021-11-19T12:00:42.404Z"
   },
   {
    "duration": 34,
    "start_time": "2021-11-19T12:00:42.437Z"
   },
   {
    "duration": 26,
    "start_time": "2021-11-19T12:00:42.472Z"
   },
   {
    "duration": 32,
    "start_time": "2021-11-19T12:00:42.499Z"
   },
   {
    "duration": 18,
    "start_time": "2021-11-19T12:00:42.533Z"
   },
   {
    "duration": 22,
    "start_time": "2021-11-19T12:00:42.556Z"
   },
   {
    "duration": 29,
    "start_time": "2021-11-19T12:00:42.581Z"
   },
   {
    "duration": 49,
    "start_time": "2021-11-19T12:00:42.611Z"
   },
   {
    "duration": 6,
    "start_time": "2021-11-19T12:00:42.661Z"
   },
   {
    "duration": 7,
    "start_time": "2021-11-19T12:00:42.669Z"
   },
   {
    "duration": 19,
    "start_time": "2021-11-19T12:00:42.677Z"
   },
   {
    "duration": 21,
    "start_time": "2021-11-19T12:00:42.698Z"
   },
   {
    "duration": 14,
    "start_time": "2021-11-19T12:00:42.721Z"
   },
   {
    "duration": 66,
    "start_time": "2021-11-19T12:00:42.738Z"
   },
   {
    "duration": 5,
    "start_time": "2021-11-19T12:00:42.806Z"
   },
   {
    "duration": 16,
    "start_time": "2021-11-19T12:00:42.813Z"
   },
   {
    "duration": 19,
    "start_time": "2021-11-19T12:00:42.830Z"
   },
   {
    "duration": 10,
    "start_time": "2021-11-19T12:00:42.851Z"
   },
   {
    "duration": 26,
    "start_time": "2021-11-19T12:00:42.863Z"
   },
   {
    "duration": 23,
    "start_time": "2021-11-19T12:00:42.891Z"
   },
   {
    "duration": 18,
    "start_time": "2021-11-19T12:00:42.916Z"
   },
   {
    "duration": 12,
    "start_time": "2021-11-19T12:00:42.935Z"
   },
   {
    "duration": 15,
    "start_time": "2021-11-19T12:00:42.949Z"
   },
   {
    "duration": 11,
    "start_time": "2021-11-19T12:00:42.966Z"
   },
   {
    "duration": 18,
    "start_time": "2021-11-19T12:00:42.979Z"
   },
   {
    "duration": 11,
    "start_time": "2021-11-19T12:00:42.998Z"
   },
   {
    "duration": 17,
    "start_time": "2021-11-19T12:00:43.011Z"
   },
   {
    "duration": 8,
    "start_time": "2021-11-19T12:00:43.029Z"
   },
   {
    "duration": 11,
    "start_time": "2021-11-19T12:00:43.039Z"
   },
   {
    "duration": 12,
    "start_time": "2021-11-19T12:00:43.051Z"
   },
   {
    "duration": 10,
    "start_time": "2021-11-19T12:00:43.065Z"
   },
   {
    "duration": 18,
    "start_time": "2021-11-19T12:00:43.092Z"
   },
   {
    "duration": 46,
    "start_time": "2021-11-19T12:00:43.112Z"
   },
   {
    "duration": 81,
    "start_time": "2021-11-19T12:00:43.159Z"
   },
   {
    "duration": 35,
    "start_time": "2021-11-19T12:00:43.242Z"
   },
   {
    "duration": 163,
    "start_time": "2021-11-19T12:00:43.291Z"
   },
   {
    "duration": 36,
    "start_time": "2021-11-19T12:00:43.456Z"
   },
   {
    "duration": 34,
    "start_time": "2021-11-19T12:00:43.494Z"
   },
   {
    "duration": 4,
    "start_time": "2021-11-19T12:00:43.529Z"
   },
   {
    "duration": 29,
    "start_time": "2021-11-19T12:00:43.534Z"
   },
   {
    "duration": 37,
    "start_time": "2021-11-19T12:00:43.565Z"
   },
   {
    "duration": 7,
    "start_time": "2021-11-19T12:00:43.604Z"
   },
   {
    "duration": 11,
    "start_time": "2021-11-19T12:00:43.612Z"
   },
   {
    "duration": 20,
    "start_time": "2021-11-19T12:00:43.624Z"
   },
   {
    "duration": 13,
    "start_time": "2021-11-19T12:00:43.646Z"
   },
   {
    "duration": 9,
    "start_time": "2021-11-19T12:00:43.661Z"
   },
   {
    "duration": 5,
    "start_time": "2021-11-19T12:00:43.672Z"
   },
   {
    "duration": 14400761,
    "start_time": "2021-11-19T12:00:43.678Z"
   },
   {
    "duration": 3,
    "start_time": "2021-11-19T16:00:44.441Z"
   },
   {
    "duration": 5,
    "start_time": "2021-11-19T16:00:44.446Z"
   },
   {
    "duration": 273,
    "start_time": "2021-11-19T16:00:44.452Z"
   },
   {
    "duration": -280,
    "start_time": "2021-11-19T16:00:45.006Z"
   },
   {
    "duration": -321,
    "start_time": "2021-11-19T16:00:45.048Z"
   },
   {
    "duration": -331,
    "start_time": "2021-11-19T16:00:45.060Z"
   },
   {
    "duration": -340,
    "start_time": "2021-11-19T16:00:45.070Z"
   },
   {
    "duration": -350,
    "start_time": "2021-11-19T16:00:45.081Z"
   },
   {
    "duration": -391,
    "start_time": "2021-11-19T16:00:45.123Z"
   },
   {
    "duration": -400,
    "start_time": "2021-11-19T16:00:45.133Z"
   },
   {
    "duration": -409,
    "start_time": "2021-11-19T16:00:45.143Z"
   },
   {
    "duration": 114,
    "start_time": "2021-11-20T09:28:14.222Z"
   },
   {
    "duration": 105,
    "start_time": "2021-11-20T09:28:45.653Z"
   },
   {
    "duration": 111,
    "start_time": "2021-11-20T09:28:59.240Z"
   },
   {
    "duration": 1151,
    "start_time": "2021-11-20T09:29:54.252Z"
   },
   {
    "duration": 109,
    "start_time": "2021-11-20T09:30:11.143Z"
   },
   {
    "duration": 104,
    "start_time": "2021-11-20T09:30:46.383Z"
   },
   {
    "duration": 6,
    "start_time": "2021-11-20T09:31:13.811Z"
   },
   {
    "duration": 1756,
    "start_time": "2021-11-20T09:31:59.284Z"
   },
   {
    "duration": 674,
    "start_time": "2021-11-20T09:32:01.043Z"
   },
   {
    "duration": 37,
    "start_time": "2021-11-20T09:32:01.721Z"
   },
   {
    "duration": 80,
    "start_time": "2021-11-20T09:32:01.762Z"
   },
   {
    "duration": 68,
    "start_time": "2021-11-20T09:32:01.845Z"
   },
   {
    "duration": 15,
    "start_time": "2021-11-20T09:32:01.916Z"
   },
   {
    "duration": 8,
    "start_time": "2021-11-20T09:32:01.934Z"
   },
   {
    "duration": 48,
    "start_time": "2021-11-20T09:32:01.947Z"
   },
   {
    "duration": 13,
    "start_time": "2021-11-20T09:32:01.998Z"
   },
   {
    "duration": 17,
    "start_time": "2021-11-20T09:32:02.014Z"
   },
   {
    "duration": 10,
    "start_time": "2021-11-20T09:32:02.034Z"
   },
   {
    "duration": 8,
    "start_time": "2021-11-20T09:32:02.082Z"
   },
   {
    "duration": 24,
    "start_time": "2021-11-20T09:32:02.092Z"
   },
   {
    "duration": 10,
    "start_time": "2021-11-20T09:32:02.118Z"
   },
   {
    "duration": 17,
    "start_time": "2021-11-20T09:32:02.131Z"
   },
   {
    "duration": 82,
    "start_time": "2021-11-20T09:32:02.150Z"
   },
   {
    "duration": 17,
    "start_time": "2021-11-20T09:32:02.234Z"
   },
   {
    "duration": 57,
    "start_time": "2021-11-20T09:32:02.254Z"
   },
   {
    "duration": 16,
    "start_time": "2021-11-20T09:32:02.314Z"
   },
   {
    "duration": 10,
    "start_time": "2021-11-20T09:32:02.333Z"
   },
   {
    "duration": 11,
    "start_time": "2021-11-20T09:32:02.345Z"
   },
   {
    "duration": 27,
    "start_time": "2021-11-20T09:32:02.358Z"
   },
   {
    "duration": 14,
    "start_time": "2021-11-20T09:32:02.392Z"
   },
   {
    "duration": 10,
    "start_time": "2021-11-20T09:32:02.410Z"
   },
   {
    "duration": 13,
    "start_time": "2021-11-20T09:32:02.422Z"
   },
   {
    "duration": 48,
    "start_time": "2021-11-20T09:32:02.438Z"
   },
   {
    "duration": 20,
    "start_time": "2021-11-20T09:32:02.489Z"
   },
   {
    "duration": 30,
    "start_time": "2021-11-20T09:32:02.513Z"
   },
   {
    "duration": 9,
    "start_time": "2021-11-20T09:32:02.545Z"
   },
   {
    "duration": 28,
    "start_time": "2021-11-20T09:32:02.557Z"
   },
   {
    "duration": 8,
    "start_time": "2021-11-20T09:32:02.587Z"
   },
   {
    "duration": 35,
    "start_time": "2021-11-20T09:32:02.597Z"
   },
   {
    "duration": 72,
    "start_time": "2021-11-20T09:32:02.635Z"
   },
   {
    "duration": 27,
    "start_time": "2021-11-20T09:32:02.710Z"
   },
   {
    "duration": 96,
    "start_time": "2021-11-20T09:32:02.740Z"
   },
   {
    "duration": 10,
    "start_time": "2021-11-20T09:32:02.839Z"
   },
   {
    "duration": 33,
    "start_time": "2021-11-20T09:32:02.852Z"
   },
   {
    "duration": 15,
    "start_time": "2021-11-20T09:32:02.889Z"
   },
   {
    "duration": 8,
    "start_time": "2021-11-20T09:32:02.906Z"
   },
   {
    "duration": 29,
    "start_time": "2021-11-20T09:32:02.917Z"
   },
   {
    "duration": 38,
    "start_time": "2021-11-20T09:32:02.949Z"
   },
   {
    "duration": 20,
    "start_time": "2021-11-20T09:32:02.989Z"
   },
   {
    "duration": 12,
    "start_time": "2021-11-20T09:32:03.012Z"
   },
   {
    "duration": 15,
    "start_time": "2021-11-20T09:32:03.027Z"
   },
   {
    "duration": 45,
    "start_time": "2021-11-20T09:32:03.045Z"
   },
   {
    "duration": 25,
    "start_time": "2021-11-20T09:32:03.093Z"
   },
   {
    "duration": 15,
    "start_time": "2021-11-20T09:32:03.120Z"
   },
   {
    "duration": 58,
    "start_time": "2021-11-20T09:32:03.138Z"
   },
   {
    "duration": 13,
    "start_time": "2021-11-20T09:32:03.199Z"
   },
   {
    "duration": 5,
    "start_time": "2021-11-20T09:32:03.215Z"
   },
   {
    "duration": 18,
    "start_time": "2021-11-20T09:32:03.223Z"
   },
   {
    "duration": 13,
    "start_time": "2021-11-20T09:32:03.282Z"
   },
   {
    "duration": 30,
    "start_time": "2021-11-20T09:32:03.298Z"
   },
   {
    "duration": 111,
    "start_time": "2021-11-20T09:32:03.331Z"
   },
   {
    "duration": 192,
    "start_time": "2021-11-20T09:32:03.445Z"
   },
   {
    "duration": 87,
    "start_time": "2021-11-20T09:32:03.640Z"
   },
   {
    "duration": 459,
    "start_time": "2021-11-20T09:32:03.730Z"
   },
   {
    "duration": 48,
    "start_time": "2021-11-20T09:32:04.192Z"
   },
   {
    "duration": 74,
    "start_time": "2021-11-20T09:32:04.242Z"
   },
   {
    "duration": 6,
    "start_time": "2021-11-20T09:32:04.318Z"
   },
   {
    "duration": 62,
    "start_time": "2021-11-20T09:32:04.327Z"
   },
   {
    "duration": 32,
    "start_time": "2021-11-20T09:32:04.391Z"
   },
   {
    "duration": 9,
    "start_time": "2021-11-20T09:32:04.426Z"
   },
   {
    "duration": 43,
    "start_time": "2021-11-20T09:32:04.439Z"
   },
   {
    "duration": 4,
    "start_time": "2021-11-20T09:32:04.485Z"
   },
   {
    "duration": 6,
    "start_time": "2021-11-20T09:32:04.493Z"
   },
   {
    "duration": 13,
    "start_time": "2021-11-20T09:32:04.502Z"
   },
   {
    "duration": 5,
    "start_time": "2021-11-20T09:32:04.522Z"
   },
   {
    "duration": 1033,
    "start_time": "2021-11-20T09:32:04.529Z"
   },
   {
    "duration": -1616,
    "start_time": "2021-11-20T09:32:07.181Z"
   },
   {
    "duration": -1627,
    "start_time": "2021-11-20T09:32:07.195Z"
   },
   {
    "duration": -1635,
    "start_time": "2021-11-20T09:32:07.205Z"
   },
   {
    "duration": -1694,
    "start_time": "2021-11-20T09:32:07.267Z"
   },
   {
    "duration": -1706,
    "start_time": "2021-11-20T09:32:07.281Z"
   },
   {
    "duration": -1720,
    "start_time": "2021-11-20T09:32:07.297Z"
   },
   {
    "duration": -1731,
    "start_time": "2021-11-20T09:32:07.310Z"
   },
   {
    "duration": -1740,
    "start_time": "2021-11-20T09:32:07.321Z"
   },
   {
    "duration": -1752,
    "start_time": "2021-11-20T09:32:07.335Z"
   },
   {
    "duration": -1768,
    "start_time": "2021-11-20T09:32:07.354Z"
   },
   {
    "duration": -1801,
    "start_time": "2021-11-20T09:32:07.389Z"
   },
   {
    "duration": -1813,
    "start_time": "2021-11-20T09:32:07.403Z"
   },
   {
    "duration": 123,
    "start_time": "2021-11-20T09:33:50.373Z"
   },
   {
    "duration": 473,
    "start_time": "2021-11-20T09:34:00.092Z"
   },
   {
    "duration": 4,
    "start_time": "2021-11-20T09:34:19.413Z"
   },
   {
    "duration": 6,
    "start_time": "2021-11-20T09:57:11.359Z"
   },
   {
    "duration": 455,
    "start_time": "2021-11-20T09:57:11.368Z"
   },
   {
    "duration": 33,
    "start_time": "2021-11-20T09:57:11.827Z"
   },
   {
    "duration": 44,
    "start_time": "2021-11-20T09:57:11.884Z"
   },
   {
    "duration": 72,
    "start_time": "2021-11-20T09:57:11.930Z"
   },
   {
    "duration": 15,
    "start_time": "2021-11-20T09:57:12.004Z"
   },
   {
    "duration": 7,
    "start_time": "2021-11-20T09:57:12.021Z"
   },
   {
    "duration": 56,
    "start_time": "2021-11-20T09:57:12.030Z"
   },
   {
    "duration": 7,
    "start_time": "2021-11-20T09:57:12.090Z"
   },
   {
    "duration": 14,
    "start_time": "2021-11-20T09:57:12.100Z"
   },
   {
    "duration": 7,
    "start_time": "2021-11-20T09:57:12.116Z"
   },
   {
    "duration": 13,
    "start_time": "2021-11-20T09:57:12.125Z"
   },
   {
    "duration": 8,
    "start_time": "2021-11-20T09:57:12.183Z"
   },
   {
    "duration": 7,
    "start_time": "2021-11-20T09:57:12.193Z"
   },
   {
    "duration": 14,
    "start_time": "2021-11-20T09:57:12.202Z"
   },
   {
    "duration": 90,
    "start_time": "2021-11-20T09:57:12.218Z"
   },
   {
    "duration": 11,
    "start_time": "2021-11-20T09:57:12.310Z"
   },
   {
    "duration": 12,
    "start_time": "2021-11-20T09:57:12.323Z"
   },
   {
    "duration": 50,
    "start_time": "2021-11-20T09:57:12.337Z"
   },
   {
    "duration": 7,
    "start_time": "2021-11-20T09:57:12.390Z"
   },
   {
    "duration": 8,
    "start_time": "2021-11-20T09:57:12.400Z"
   },
   {
    "duration": 17,
    "start_time": "2021-11-20T09:57:12.410Z"
   },
   {
    "duration": 14,
    "start_time": "2021-11-20T09:57:12.429Z"
   },
   {
    "duration": 9,
    "start_time": "2021-11-20T09:57:12.483Z"
   },
   {
    "duration": 11,
    "start_time": "2021-11-20T09:57:12.494Z"
   },
   {
    "duration": 8,
    "start_time": "2021-11-20T09:57:12.507Z"
   },
   {
    "duration": 7,
    "start_time": "2021-11-20T09:57:12.521Z"
   },
   {
    "duration": 57,
    "start_time": "2021-11-20T09:57:12.531Z"
   },
   {
    "duration": 7,
    "start_time": "2021-11-20T09:57:12.591Z"
   },
   {
    "duration": 10,
    "start_time": "2021-11-20T09:57:12.600Z"
   },
   {
    "duration": 8,
    "start_time": "2021-11-20T09:57:12.612Z"
   },
   {
    "duration": 66,
    "start_time": "2021-11-20T09:57:12.622Z"
   },
   {
    "duration": 31,
    "start_time": "2021-11-20T09:57:12.690Z"
   },
   {
    "duration": 18,
    "start_time": "2021-11-20T09:57:12.723Z"
   },
   {
    "duration": 97,
    "start_time": "2021-11-20T09:57:12.744Z"
   },
   {
    "duration": 7,
    "start_time": "2021-11-20T09:57:12.844Z"
   },
   {
    "duration": 30,
    "start_time": "2021-11-20T09:57:12.854Z"
   },
   {
    "duration": 9,
    "start_time": "2021-11-20T09:57:12.887Z"
   },
   {
    "duration": 8,
    "start_time": "2021-11-20T09:57:12.899Z"
   },
   {
    "duration": 14,
    "start_time": "2021-11-20T09:57:12.910Z"
   },
   {
    "duration": 63,
    "start_time": "2021-11-20T09:57:12.927Z"
   },
   {
    "duration": 12,
    "start_time": "2021-11-20T09:57:12.993Z"
   },
   {
    "duration": 14,
    "start_time": "2021-11-20T09:57:13.008Z"
   },
   {
    "duration": 10,
    "start_time": "2021-11-20T09:57:13.025Z"
   },
   {
    "duration": 51,
    "start_time": "2021-11-20T09:57:13.038Z"
   },
   {
    "duration": 27,
    "start_time": "2021-11-20T09:57:13.092Z"
   },
   {
    "duration": 17,
    "start_time": "2021-11-20T09:57:13.122Z"
   },
   {
    "duration": 17,
    "start_time": "2021-11-20T09:57:13.182Z"
   },
   {
    "duration": 14,
    "start_time": "2021-11-20T09:57:13.202Z"
   },
   {
    "duration": 5,
    "start_time": "2021-11-20T09:57:13.218Z"
   },
   {
    "duration": 58,
    "start_time": "2021-11-20T09:57:13.225Z"
   },
   {
    "duration": 14,
    "start_time": "2021-11-20T09:57:13.285Z"
   },
   {
    "duration": 26,
    "start_time": "2021-11-20T09:57:13.303Z"
   },
   {
    "duration": 98,
    "start_time": "2021-11-20T09:57:13.331Z"
   },
   {
    "duration": 109,
    "start_time": "2021-11-20T09:57:13.431Z"
   },
   {
    "duration": 64,
    "start_time": "2021-11-20T09:57:13.543Z"
   },
   {
    "duration": 248,
    "start_time": "2021-11-20T09:57:13.610Z"
   },
   {
    "duration": 59,
    "start_time": "2021-11-20T09:57:13.861Z"
   },
   {
    "duration": 77,
    "start_time": "2021-11-20T09:57:13.923Z"
   },
   {
    "duration": 6,
    "start_time": "2021-11-20T09:57:14.002Z"
   },
   {
    "duration": 29,
    "start_time": "2021-11-20T09:57:14.011Z"
   },
   {
    "duration": 64,
    "start_time": "2021-11-20T09:57:14.044Z"
   },
   {
    "duration": 10,
    "start_time": "2021-11-20T09:57:14.111Z"
   },
   {
    "duration": 4,
    "start_time": "2021-11-20T09:57:14.123Z"
   },
   {
    "duration": 6,
    "start_time": "2021-11-20T09:57:14.129Z"
   },
   {
    "duration": 44,
    "start_time": "2021-11-20T09:57:14.138Z"
   },
   {
    "duration": 9,
    "start_time": "2021-11-20T09:57:14.185Z"
   },
   {
    "duration": 6,
    "start_time": "2021-11-20T09:57:14.197Z"
   },
   {
    "duration": 116,
    "start_time": "2021-11-20T09:57:14.205Z"
   },
   {
    "duration": -2132,
    "start_time": "2021-11-20T09:57:16.455Z"
   },
   {
    "duration": 5,
    "start_time": "2021-11-20T09:57:24.652Z"
   },
   {
    "duration": 5,
    "start_time": "2021-11-20T10:09:48.303Z"
   },
   {
    "duration": 323,
    "start_time": "2021-11-20T10:16:45.112Z"
   },
   {
    "duration": 5,
    "start_time": "2021-11-20T10:21:17.422Z"
   },
   {
    "duration": 265557,
    "start_time": "2021-11-20T10:21:23.271Z"
   },
   {
    "duration": 1182,
    "start_time": "2021-11-20T10:28:34.421Z"
   },
   {
    "duration": 338,
    "start_time": "2021-11-20T10:28:39.272Z"
   },
   {
    "duration": 418,
    "start_time": "2021-11-20T10:30:29.061Z"
   },
   {
    "duration": 1420,
    "start_time": "2021-11-20T10:34:33.112Z"
   },
   {
    "duration": 530,
    "start_time": "2021-11-20T10:34:38.323Z"
   },
   {
    "duration": 1332,
    "start_time": "2021-11-20T10:40:24.662Z"
   },
   {
    "duration": 5,
    "start_time": "2021-11-20T10:41:27.332Z"
   },
   {
    "duration": 4,
    "start_time": "2021-11-20T10:42:02.953Z"
   },
   {
    "duration": 514,
    "start_time": "2021-11-20T10:42:29.052Z"
   },
   {
    "duration": 360,
    "start_time": "2021-11-20T10:42:57.652Z"
   },
   {
    "duration": 4,
    "start_time": "2021-11-20T10:43:20.673Z"
   },
   {
    "duration": 654454,
    "start_time": "2021-11-20T10:43:32.032Z"
   },
   {
    "duration": 3798,
    "start_time": "2021-11-20T10:54:39.912Z"
   },
   {
    "duration": 3273,
    "start_time": "2021-11-20T10:54:47.261Z"
   },
   {
    "duration": 311,
    "start_time": "2021-11-20T10:55:45.192Z"
   },
   {
    "duration": 466,
    "start_time": "2021-11-20T10:56:59.482Z"
   },
   {
    "duration": 120,
    "start_time": "2021-11-20T10:57:35.462Z"
   },
   {
    "duration": 323,
    "start_time": "2021-11-20T10:57:42.643Z"
   },
   {
    "duration": 5,
    "start_time": "2021-11-20T10:58:16.386Z"
   },
   {
    "duration": 5,
    "start_time": "2021-11-20T10:59:30.042Z"
   },
   {
    "duration": 5,
    "start_time": "2021-11-20T10:59:41.151Z"
   },
   {
    "duration": 41,
    "start_time": "2021-11-20T11:00:04.292Z"
   },
   {
    "duration": 21,
    "start_time": "2021-11-20T11:00:31.095Z"
   },
   {
    "duration": 1072,
    "start_time": "2021-11-21T04:54:43.772Z"
   },
   {
    "duration": 469,
    "start_time": "2021-11-21T04:54:44.846Z"
   },
   {
    "duration": 16,
    "start_time": "2021-11-21T04:54:45.317Z"
   },
   {
    "duration": 27,
    "start_time": "2021-11-21T04:54:45.334Z"
   },
   {
    "duration": 42,
    "start_time": "2021-11-21T04:54:45.362Z"
   },
   {
    "duration": 8,
    "start_time": "2021-11-21T04:54:45.406Z"
   },
   {
    "duration": 4,
    "start_time": "2021-11-21T04:54:45.416Z"
   },
   {
    "duration": 13,
    "start_time": "2021-11-21T04:54:45.421Z"
   },
   {
    "duration": 5,
    "start_time": "2021-11-21T04:54:45.436Z"
   },
   {
    "duration": 9,
    "start_time": "2021-11-21T04:54:45.443Z"
   },
   {
    "duration": 39,
    "start_time": "2021-11-21T04:54:45.453Z"
   },
   {
    "duration": 5,
    "start_time": "2021-11-21T04:54:45.493Z"
   },
   {
    "duration": 5,
    "start_time": "2021-11-21T04:54:45.499Z"
   },
   {
    "duration": 4,
    "start_time": "2021-11-21T04:54:45.506Z"
   },
   {
    "duration": 7,
    "start_time": "2021-11-21T04:54:45.511Z"
   },
   {
    "duration": 26,
    "start_time": "2021-11-21T04:54:45.520Z"
   },
   {
    "duration": 7,
    "start_time": "2021-11-21T04:54:45.548Z"
   },
   {
    "duration": 7,
    "start_time": "2021-11-21T04:54:45.591Z"
   },
   {
    "duration": 11,
    "start_time": "2021-11-21T04:54:45.600Z"
   },
   {
    "duration": 5,
    "start_time": "2021-11-21T04:54:45.612Z"
   },
   {
    "duration": 8,
    "start_time": "2021-11-21T04:54:45.618Z"
   },
   {
    "duration": 7,
    "start_time": "2021-11-21T04:54:45.627Z"
   },
   {
    "duration": 9,
    "start_time": "2021-11-21T04:54:45.636Z"
   },
   {
    "duration": 6,
    "start_time": "2021-11-21T04:54:45.647Z"
   },
   {
    "duration": 39,
    "start_time": "2021-11-21T04:54:45.654Z"
   },
   {
    "duration": 4,
    "start_time": "2021-11-21T04:54:45.694Z"
   },
   {
    "duration": 4,
    "start_time": "2021-11-21T04:54:45.702Z"
   },
   {
    "duration": 9,
    "start_time": "2021-11-21T04:54:45.708Z"
   },
   {
    "duration": 4,
    "start_time": "2021-11-21T04:54:45.718Z"
   },
   {
    "duration": 4,
    "start_time": "2021-11-21T04:54:45.723Z"
   },
   {
    "duration": 4,
    "start_time": "2021-11-21T04:54:45.729Z"
   },
   {
    "duration": 12,
    "start_time": "2021-11-21T04:54:45.734Z"
   },
   {
    "duration": 59,
    "start_time": "2021-11-21T04:54:45.747Z"
   },
   {
    "duration": 12,
    "start_time": "2021-11-21T04:54:45.807Z"
   },
   {
    "duration": 46,
    "start_time": "2021-11-21T04:54:45.821Z"
   },
   {
    "duration": 24,
    "start_time": "2021-11-21T04:54:45.868Z"
   },
   {
    "duration": 4,
    "start_time": "2021-11-21T04:54:45.893Z"
   },
   {
    "duration": 5,
    "start_time": "2021-11-21T04:54:45.899Z"
   },
   {
    "duration": 4,
    "start_time": "2021-11-21T04:54:45.906Z"
   },
   {
    "duration": 7,
    "start_time": "2021-11-21T04:54:45.911Z"
   },
   {
    "duration": 12,
    "start_time": "2021-11-21T04:54:45.920Z"
   },
   {
    "duration": 6,
    "start_time": "2021-11-21T04:54:45.933Z"
   },
   {
    "duration": 8,
    "start_time": "2021-11-21T04:54:45.941Z"
   },
   {
    "duration": 42,
    "start_time": "2021-11-21T04:54:45.950Z"
   },
   {
    "duration": 5,
    "start_time": "2021-11-21T04:54:45.993Z"
   },
   {
    "duration": 16,
    "start_time": "2021-11-21T04:54:46.000Z"
   },
   {
    "duration": 9,
    "start_time": "2021-11-21T04:54:46.017Z"
   },
   {
    "duration": 10,
    "start_time": "2021-11-21T04:54:46.027Z"
   },
   {
    "duration": 6,
    "start_time": "2021-11-21T04:54:46.039Z"
   },
   {
    "duration": 2,
    "start_time": "2021-11-21T04:54:46.047Z"
   },
   {
    "duration": 45,
    "start_time": "2021-11-21T04:54:46.051Z"
   },
   {
    "duration": 8,
    "start_time": "2021-11-21T04:54:46.097Z"
   },
   {
    "duration": 14,
    "start_time": "2021-11-21T04:54:46.106Z"
   },
   {
    "duration": 48,
    "start_time": "2021-11-21T04:54:46.121Z"
   },
   {
    "duration": 75,
    "start_time": "2021-11-21T04:54:46.171Z"
   },
   {
    "duration": 53,
    "start_time": "2021-11-21T04:54:46.248Z"
   },
   {
    "duration": 162,
    "start_time": "2021-11-21T04:54:46.303Z"
   },
   {
    "duration": 42,
    "start_time": "2021-11-21T04:54:46.467Z"
   },
   {
    "duration": 32,
    "start_time": "2021-11-21T04:54:46.510Z"
   },
   {
    "duration": 4,
    "start_time": "2021-11-21T04:54:46.543Z"
   },
   {
    "duration": 16,
    "start_time": "2021-11-21T04:54:46.548Z"
   },
   {
    "duration": 44,
    "start_time": "2021-11-21T04:54:46.566Z"
   },
   {
    "duration": 5,
    "start_time": "2021-11-21T04:54:46.612Z"
   },
   {
    "duration": 2,
    "start_time": "2021-11-21T04:54:46.619Z"
   },
   {
    "duration": 4,
    "start_time": "2021-11-21T04:54:46.623Z"
   },
   {
    "duration": 4,
    "start_time": "2021-11-21T04:54:46.629Z"
   },
   {
    "duration": 5,
    "start_time": "2021-11-21T04:54:46.634Z"
   },
   {
    "duration": 4,
    "start_time": "2021-11-21T04:54:46.640Z"
   },
   {
    "duration": 68,
    "start_time": "2021-11-21T04:54:46.645Z"
   },
   {
    "duration": -2857,
    "start_time": "2021-11-21T04:54:49.572Z"
   },
   {
    "duration": -2866,
    "start_time": "2021-11-21T04:54:49.582Z"
   },
   {
    "duration": -2874,
    "start_time": "2021-11-21T04:54:49.591Z"
   },
   {
    "duration": -2886,
    "start_time": "2021-11-21T04:54:49.603Z"
   },
   {
    "duration": -2935,
    "start_time": "2021-11-21T04:54:49.653Z"
   },
   {
    "duration": -2948,
    "start_time": "2021-11-21T04:54:49.667Z"
   },
   {
    "duration": -2961,
    "start_time": "2021-11-21T04:54:49.681Z"
   },
   {
    "duration": -2977,
    "start_time": "2021-11-21T04:54:49.697Z"
   },
   {
    "duration": -2986,
    "start_time": "2021-11-21T04:54:49.707Z"
   },
   {
    "duration": 3,
    "start_time": "2021-11-21T04:55:09.683Z"
   },
   {
    "duration": 461513,
    "start_time": "2021-11-21T04:55:28.341Z"
   },
   {
    "duration": 1682,
    "start_time": "2021-11-21T05:06:40.830Z"
   },
   {
    "duration": 1586,
    "start_time": "2021-11-21T05:06:44.551Z"
   },
   {
    "duration": 3,
    "start_time": "2021-11-21T05:07:27.891Z"
   },
   {
    "duration": 3,
    "start_time": "2021-11-21T05:08:25.812Z"
   },
   {
    "duration": 901290,
    "start_time": "2021-11-21T05:08:28.971Z"
   },
   {
    "duration": 2021,
    "start_time": "2021-11-21T05:32:06.572Z"
   },
   {
    "duration": 1944,
    "start_time": "2021-11-21T05:32:11.452Z"
   },
   {
    "duration": 3,
    "start_time": "2021-11-21T05:32:38.172Z"
   },
   {
    "duration": 22824,
    "start_time": "2021-11-21T05:32:46.460Z"
   },
   {
    "duration": 3,
    "start_time": "2021-11-21T05:33:20.192Z"
   },
   {
    "duration": 469486,
    "start_time": "2021-11-21T05:33:24.348Z"
   },
   {
    "duration": 1454,
    "start_time": "2021-11-21T05:47:07.263Z"
   },
   {
    "duration": 1356,
    "start_time": "2021-11-21T05:47:11.263Z"
   },
   {
    "duration": 3,
    "start_time": "2021-11-21T05:47:27.043Z"
   },
   {
    "duration": 468379,
    "start_time": "2021-11-21T05:47:31.152Z"
   },
   {
    "duration": 1648,
    "start_time": "2021-11-21T06:06:51.069Z"
   },
   {
    "duration": 1687,
    "start_time": "2021-11-21T06:06:54.941Z"
   },
   {
    "duration": 15,
    "start_time": "2021-11-21T06:07:02.822Z"
   },
   {
    "duration": 15,
    "start_time": "2021-11-21T06:07:16.214Z"
   },
   {
    "duration": 13,
    "start_time": "2021-11-21T06:11:45.574Z"
   },
   {
    "duration": 12,
    "start_time": "2021-11-21T06:36:08.778Z"
   },
   {
    "duration": 179,
    "start_time": "2021-11-21T06:40:35.703Z"
   },
   {
    "duration": 13,
    "start_time": "2021-11-21T06:40:47.130Z"
   },
   {
    "duration": 13,
    "start_time": "2021-11-21T06:41:17.810Z"
   },
   {
    "duration": 56,
    "start_time": "2021-11-21T06:56:48.249Z"
   },
   {
    "duration": 244,
    "start_time": "2021-11-21T06:58:11.453Z"
   },
   {
    "duration": 234,
    "start_time": "2021-11-21T06:59:07.135Z"
   },
   {
    "duration": 70,
    "start_time": "2021-11-21T07:00:37.424Z"
   },
   {
    "duration": 70,
    "start_time": "2021-11-21T07:00:41.151Z"
   },
   {
    "duration": 169,
    "start_time": "2021-11-21T07:02:05.234Z"
   },
   {
    "duration": 4,
    "start_time": "2021-11-21T07:02:54.353Z"
   },
   {
    "duration": 4,
    "start_time": "2021-11-21T07:03:12.453Z"
   },
   {
    "duration": 62,
    "start_time": "2021-11-21T07:04:41.053Z"
   },
   {
    "duration": 58,
    "start_time": "2021-11-21T07:05:04.753Z"
   },
   {
    "duration": 76,
    "start_time": "2021-11-21T07:05:17.043Z"
   },
   {
    "duration": 3,
    "start_time": "2021-11-21T07:05:21.223Z"
   },
   {
    "duration": 3,
    "start_time": "2021-11-21T07:05:59.374Z"
   },
   {
    "duration": 4,
    "start_time": "2021-11-21T07:06:30.373Z"
   },
   {
    "duration": 31,
    "start_time": "2021-11-21T07:07:58.703Z"
   },
   {
    "duration": 8,
    "start_time": "2021-11-21T07:08:11.093Z"
   },
   {
    "duration": 7,
    "start_time": "2021-11-21T07:09:49.552Z"
   },
   {
    "duration": 8,
    "start_time": "2021-11-21T07:10:08.210Z"
   },
   {
    "duration": 14,
    "start_time": "2021-11-21T07:10:14.930Z"
   },
   {
    "duration": 8,
    "start_time": "2021-11-21T07:11:08.970Z"
   },
   {
    "duration": 9,
    "start_time": "2021-11-21T07:12:05.560Z"
   },
   {
    "duration": 3,
    "start_time": "2021-11-21T07:13:04.202Z"
   },
   {
    "duration": 77,
    "start_time": "2021-11-21T07:15:24.862Z"
   },
   {
    "duration": 3,
    "start_time": "2021-11-21T07:15:27.352Z"
   },
   {
    "duration": 88,
    "start_time": "2021-11-21T07:15:55.680Z"
   },
   {
    "duration": 4,
    "start_time": "2021-11-21T07:15:57.081Z"
   },
   {
    "duration": 3,
    "start_time": "2021-11-21T07:16:28.451Z"
   },
   {
    "duration": 63,
    "start_time": "2021-11-21T07:17:14.769Z"
   },
   {
    "duration": 92,
    "start_time": "2021-11-21T07:17:26.713Z"
   },
   {
    "duration": 81,
    "start_time": "2021-11-21T07:18:13.533Z"
   },
   {
    "duration": 3,
    "start_time": "2021-11-21T07:18:16.049Z"
   },
   {
    "duration": 79,
    "start_time": "2021-11-21T07:23:21.521Z"
   },
   {
    "duration": 4,
    "start_time": "2021-11-21T07:23:23.349Z"
   },
   {
    "duration": 64,
    "start_time": "2021-11-21T07:23:48.363Z"
   },
   {
    "duration": 30,
    "start_time": "2021-11-21T07:23:51.821Z"
   },
   {
    "duration": 4,
    "start_time": "2021-11-21T07:27:54.250Z"
   },
   {
    "duration": 11,
    "start_time": "2021-11-21T07:28:25.371Z"
   },
   {
    "duration": 22,
    "start_time": "2021-11-21T07:31:51.572Z"
   },
   {
    "duration": 41,
    "start_time": "2021-11-21T07:38:05.275Z"
   },
   {
    "duration": 31,
    "start_time": "2021-11-21T07:40:08.115Z"
   },
   {
    "duration": 31,
    "start_time": "2021-11-21T07:41:41.266Z"
   },
   {
    "duration": 4,
    "start_time": "2021-11-21T08:01:06.704Z"
   },
   {
    "duration": 5,
    "start_time": "2021-11-21T08:02:10.974Z"
   },
   {
    "duration": 3,
    "start_time": "2021-11-21T08:08:20.014Z"
   },
   {
    "duration": 13,
    "start_time": "2021-11-21T08:27:03.052Z"
   },
   {
    "duration": 181,
    "start_time": "2021-11-21T08:41:15.569Z"
   },
   {
    "duration": 27747,
    "start_time": "2021-11-21T08:41:28.412Z"
   },
   {
    "duration": 6098,
    "start_time": "2021-11-21T08:42:06.732Z"
   },
   {
    "duration": 4072,
    "start_time": "2021-11-21T08:44:00.453Z"
   },
   {
    "duration": 240,
    "start_time": "2021-11-21T08:45:06.798Z"
   },
   {
    "duration": 8958,
    "start_time": "2021-11-21T08:45:44.981Z"
   },
   {
    "duration": 186,
    "start_time": "2021-11-21T08:46:02.714Z"
   },
   {
    "duration": 204,
    "start_time": "2021-11-21T08:46:18.462Z"
   },
   {
    "duration": 176,
    "start_time": "2021-11-21T08:46:39.711Z"
   },
   {
    "duration": 10,
    "start_time": "2021-11-21T08:48:57.108Z"
   },
   {
    "duration": 206,
    "start_time": "2021-11-21T08:49:18.146Z"
   },
   {
    "duration": 58389,
    "start_time": "2021-11-21T08:55:24.739Z"
   },
   {
    "duration": 2,
    "start_time": "2021-11-21T08:59:29.211Z"
   },
   {
    "duration": 4,
    "start_time": "2021-11-21T08:59:30.290Z"
   },
   {
    "duration": 169,
    "start_time": "2021-11-21T08:59:41.180Z"
   },
   {
    "duration": 5,
    "start_time": "2021-11-21T08:59:58.210Z"
   },
   {
    "duration": 170,
    "start_time": "2021-11-21T09:00:20.490Z"
   },
   {
    "duration": 11067,
    "start_time": "2021-11-21T09:02:28.562Z"
   },
   {
    "duration": -1417,
    "start_time": "2021-11-21T09:21:30.790Z"
   },
   {
    "duration": 13485,
    "start_time": "2021-11-21T09:23:51.078Z"
   },
   {
    "duration": 175,
    "start_time": "2021-11-21T09:27:29.259Z"
   },
   {
    "duration": 211,
    "start_time": "2021-11-21T09:32:40.461Z"
   },
   {
    "duration": 17,
    "start_time": "2021-11-21T09:40:05.269Z"
   },
   {
    "duration": 22,
    "start_time": "2021-11-21T09:40:38.137Z"
   },
   {
    "duration": 18,
    "start_time": "2021-11-21T09:48:36.406Z"
   },
   {
    "duration": 4325,
    "start_time": "2021-11-21T09:49:50.424Z"
   },
   {
    "duration": 163,
    "start_time": "2021-11-21T09:50:09.713Z"
   },
   {
    "duration": 7,
    "start_time": "2021-11-21T09:52:45.533Z"
   },
   {
    "duration": 5,
    "start_time": "2021-11-21T09:53:03.231Z"
   },
   {
    "duration": 6,
    "start_time": "2021-11-21T09:54:52.192Z"
   },
   {
    "duration": 184,
    "start_time": "2021-11-21T10:48:00.813Z"
   },
   {
    "duration": 4,
    "start_time": "2021-11-21T10:48:49.554Z"
   },
   {
    "duration": 4,
    "start_time": "2021-11-21T10:50:29.493Z"
   },
   {
    "duration": 4,
    "start_time": "2021-11-21T10:50:32.314Z"
   },
   {
    "duration": 4,
    "start_time": "2021-11-21T10:50:33.384Z"
   },
   {
    "duration": 4,
    "start_time": "2021-11-21T10:50:34.422Z"
   },
   {
    "duration": 4,
    "start_time": "2021-11-21T10:50:53.139Z"
   },
   {
    "duration": 4,
    "start_time": "2021-11-21T10:50:55.374Z"
   },
   {
    "duration": 4,
    "start_time": "2021-11-21T10:50:56.743Z"
   },
   {
    "duration": 5,
    "start_time": "2021-11-21T10:51:01.041Z"
   },
   {
    "duration": 4,
    "start_time": "2021-11-21T10:51:02.162Z"
   },
   {
    "duration": 6,
    "start_time": "2021-11-21T10:51:03.073Z"
   },
   {
    "duration": 4,
    "start_time": "2021-11-21T10:51:04.044Z"
   },
   {
    "duration": 4,
    "start_time": "2021-11-21T10:51:05.092Z"
   },
   {
    "duration": 4,
    "start_time": "2021-11-21T10:51:06.254Z"
   },
   {
    "duration": 171,
    "start_time": "2021-11-21T10:52:57.613Z"
   },
   {
    "duration": 188,
    "start_time": "2021-11-21T11:22:53.820Z"
   },
   {
    "duration": 171,
    "start_time": "2021-11-21T11:23:38.771Z"
   },
   {
    "duration": 168,
    "start_time": "2021-11-21T11:23:51.209Z"
   },
   {
    "duration": 17870,
    "start_time": "2021-11-21T11:25:02.022Z"
   },
   {
    "duration": 6,
    "start_time": "2021-11-21T11:26:43.752Z"
   },
   {
    "duration": 176,
    "start_time": "2021-11-21T11:27:19.945Z"
   },
   {
    "duration": 6,
    "start_time": "2021-11-21T11:27:38.984Z"
   },
   {
    "duration": 169,
    "start_time": "2021-11-21T11:28:01.864Z"
   },
   {
    "duration": 6,
    "start_time": "2021-11-21T11:28:10.985Z"
   },
   {
    "duration": 168,
    "start_time": "2021-11-21T11:28:34.413Z"
   },
   {
    "duration": 6,
    "start_time": "2021-11-21T11:28:59.964Z"
   },
   {
    "duration": 5,
    "start_time": "2021-11-21T11:29:12.675Z"
   },
   {
    "duration": 4,
    "start_time": "2021-11-21T11:29:28.175Z"
   },
   {
    "duration": 3,
    "start_time": "2021-11-21T11:29:41.726Z"
   },
   {
    "duration": 4,
    "start_time": "2021-11-21T11:29:51.385Z"
   },
   {
    "duration": 4,
    "start_time": "2021-11-21T11:30:13.731Z"
   },
   {
    "duration": 58,
    "start_time": "2021-11-21T11:33:11.755Z"
   },
   {
    "duration": 4,
    "start_time": "2021-11-21T11:33:17.696Z"
   },
   {
    "duration": 168,
    "start_time": "2021-11-21T11:33:49.106Z"
   },
   {
    "duration": 195,
    "start_time": "2021-11-21T11:34:22.797Z"
   },
   {
    "duration": 4,
    "start_time": "2021-11-21T11:34:35.427Z"
   },
   {
    "duration": 200,
    "start_time": "2021-11-21T11:36:40.568Z"
   },
   {
    "duration": 1011,
    "start_time": "2021-11-21T11:36:52.948Z"
   },
   {
    "duration": 5,
    "start_time": "2021-11-21T11:37:07.948Z"
   },
   {
    "duration": 5,
    "start_time": "2021-11-21T11:37:17.625Z"
   },
   {
    "duration": 4,
    "start_time": "2021-11-21T11:37:29.978Z"
   },
   {
    "duration": 4,
    "start_time": "2021-11-21T11:37:34.264Z"
   },
   {
    "duration": 4,
    "start_time": "2021-11-21T11:37:40.108Z"
   },
   {
    "duration": 4,
    "start_time": "2021-11-21T11:37:43.358Z"
   },
   {
    "duration": 4,
    "start_time": "2021-11-21T11:37:56.337Z"
   },
   {
    "duration": 4,
    "start_time": "2021-11-21T11:38:09.648Z"
   },
   {
    "duration": 4,
    "start_time": "2021-11-21T11:38:13.469Z"
   },
   {
    "duration": 4,
    "start_time": "2021-11-21T11:38:17.737Z"
   },
   {
    "duration": 4,
    "start_time": "2021-11-21T11:38:21.369Z"
   },
   {
    "duration": 4,
    "start_time": "2021-11-21T11:38:25.038Z"
   },
   {
    "duration": 4,
    "start_time": "2021-11-21T11:38:28.829Z"
   },
   {
    "duration": 4,
    "start_time": "2021-11-21T11:38:32.736Z"
   },
   {
    "duration": 4,
    "start_time": "2021-11-21T11:38:36.978Z"
   },
   {
    "duration": 4,
    "start_time": "2021-11-21T11:38:43.777Z"
   },
   {
    "duration": 3,
    "start_time": "2021-11-21T11:39:36.651Z"
   },
   {
    "duration": 170,
    "start_time": "2021-11-21T11:49:26.141Z"
   },
   {
    "duration": 2,
    "start_time": "2021-11-21T11:49:54.404Z"
   },
   {
    "duration": 14,
    "start_time": "2021-11-21T11:49:55.658Z"
   },
   {
    "duration": 32,
    "start_time": "2021-11-21T11:51:44.771Z"
   },
   {
    "duration": 5,
    "start_time": "2021-11-21T11:52:31.171Z"
   },
   {
    "duration": 4,
    "start_time": "2021-11-21T11:54:19.112Z"
   },
   {
    "duration": 5,
    "start_time": "2021-11-21T11:54:28.061Z"
   },
   {
    "duration": 5,
    "start_time": "2021-11-21T11:54:36.162Z"
   },
   {
    "duration": 3,
    "start_time": "2021-11-21T11:57:14.088Z"
   },
   {
    "duration": 15,
    "start_time": "2021-11-21T11:57:22.081Z"
   },
   {
    "duration": 4,
    "start_time": "2021-11-21T11:59:30.660Z"
   },
   {
    "duration": 4,
    "start_time": "2021-11-21T11:59:33.610Z"
   },
   {
    "duration": 4,
    "start_time": "2021-11-21T11:59:38.019Z"
   },
   {
    "duration": 4,
    "start_time": "2021-11-21T11:59:39.431Z"
   },
   {
    "duration": 5,
    "start_time": "2021-11-21T11:59:40.569Z"
   },
   {
    "duration": 4,
    "start_time": "2021-11-21T11:59:41.708Z"
   },
   {
    "duration": 4,
    "start_time": "2021-11-21T11:59:42.839Z"
   },
   {
    "duration": 4,
    "start_time": "2021-11-21T11:59:43.880Z"
   },
   {
    "duration": 4,
    "start_time": "2021-11-21T11:59:47.258Z"
   },
   {
    "duration": 5,
    "start_time": "2021-11-21T11:59:48.438Z"
   },
   {
    "duration": 5,
    "start_time": "2021-11-21T11:59:49.500Z"
   },
   {
    "duration": 4,
    "start_time": "2021-11-21T11:59:50.538Z"
   },
   {
    "duration": 4,
    "start_time": "2021-11-21T11:59:51.589Z"
   },
   {
    "duration": 4,
    "start_time": "2021-11-21T11:59:52.661Z"
   },
   {
    "duration": 5,
    "start_time": "2021-11-21T11:59:55.398Z"
   },
   {
    "duration": 4,
    "start_time": "2021-11-21T11:59:56.509Z"
   },
   {
    "duration": 4,
    "start_time": "2021-11-21T11:59:57.619Z"
   },
   {
    "duration": 4,
    "start_time": "2021-11-21T11:59:58.740Z"
   },
   {
    "duration": 4,
    "start_time": "2021-11-21T11:59:59.779Z"
   },
   {
    "duration": 4,
    "start_time": "2021-11-21T12:00:01.127Z"
   },
   {
    "duration": 4,
    "start_time": "2021-11-21T12:00:02.540Z"
   },
   {
    "duration": 5,
    "start_time": "2021-11-21T12:00:03.617Z"
   },
   {
    "duration": 197,
    "start_time": "2021-11-21T12:07:41.786Z"
   },
   {
    "duration": 22,
    "start_time": "2021-11-21T12:07:45.998Z"
   },
   {
    "duration": 24,
    "start_time": "2021-11-21T12:08:16.758Z"
   },
   {
    "duration": 34,
    "start_time": "2021-11-21T12:11:36.615Z"
   },
   {
    "duration": 26,
    "start_time": "2021-11-21T12:16:31.998Z"
   },
   {
    "duration": 5,
    "start_time": "2021-11-21T12:25:21.868Z"
   },
   {
    "duration": 78,
    "start_time": "2021-11-21T12:27:16.998Z"
   },
   {
    "duration": 210,
    "start_time": "2021-11-21T12:27:35.958Z"
   },
   {
    "duration": 83,
    "start_time": "2021-11-21T12:28:14.537Z"
   },
   {
    "duration": 34,
    "start_time": "2021-11-21T12:28:18.958Z"
   },
   {
    "duration": 199,
    "start_time": "2021-11-21T12:30:03.792Z"
   },
   {
    "duration": 25,
    "start_time": "2021-11-21T12:30:27.784Z"
   },
   {
    "duration": 41,
    "start_time": "2021-11-21T12:30:38.957Z"
   },
   {
    "duration": 6,
    "start_time": "2021-11-21T12:30:57.645Z"
   },
   {
    "duration": 45,
    "start_time": "2021-11-21T12:31:15.216Z"
   },
   {
    "duration": 5,
    "start_time": "2021-11-21T12:31:54.327Z"
   },
   {
    "duration": 3,
    "start_time": "2021-11-21T12:32:37.667Z"
   },
   {
    "duration": 291,
    "start_time": "2021-11-21T12:32:37.677Z"
   },
   {
    "duration": 31,
    "start_time": "2021-11-21T12:32:37.970Z"
   },
   {
    "duration": 26,
    "start_time": "2021-11-21T12:32:38.003Z"
   },
   {
    "duration": 25,
    "start_time": "2021-11-21T12:32:38.031Z"
   },
   {
    "duration": 39,
    "start_time": "2021-11-21T12:32:38.058Z"
   },
   {
    "duration": 6,
    "start_time": "2021-11-21T12:32:38.098Z"
   },
   {
    "duration": 12,
    "start_time": "2021-11-21T12:32:38.105Z"
   },
   {
    "duration": 4,
    "start_time": "2021-11-21T12:32:38.119Z"
   },
   {
    "duration": 11,
    "start_time": "2021-11-21T12:32:38.125Z"
   },
   {
    "duration": 5,
    "start_time": "2021-11-21T12:32:38.137Z"
   },
   {
    "duration": 5,
    "start_time": "2021-11-21T12:32:38.144Z"
   },
   {
    "duration": 42,
    "start_time": "2021-11-21T12:32:38.150Z"
   },
   {
    "duration": 5,
    "start_time": "2021-11-21T12:32:38.194Z"
   },
   {
    "duration": 7,
    "start_time": "2021-11-21T12:32:38.201Z"
   },
   {
    "duration": 26,
    "start_time": "2021-11-21T12:32:38.210Z"
   },
   {
    "duration": 8,
    "start_time": "2021-11-21T12:32:38.238Z"
   },
   {
    "duration": 52,
    "start_time": "2021-11-21T12:32:38.247Z"
   },
   {
    "duration": 12,
    "start_time": "2021-11-21T12:32:38.300Z"
   },
   {
    "duration": 6,
    "start_time": "2021-11-21T12:32:38.314Z"
   },
   {
    "duration": 6,
    "start_time": "2021-11-21T12:32:38.321Z"
   },
   {
    "duration": 5,
    "start_time": "2021-11-21T12:32:38.328Z"
   },
   {
    "duration": 9,
    "start_time": "2021-11-21T12:32:38.335Z"
   },
   {
    "duration": 46,
    "start_time": "2021-11-21T12:32:38.348Z"
   },
   {
    "duration": 6,
    "start_time": "2021-11-21T12:32:38.396Z"
   },
   {
    "duration": 4,
    "start_time": "2021-11-21T12:32:38.404Z"
   },
   {
    "duration": 7,
    "start_time": "2021-11-21T12:32:38.410Z"
   },
   {
    "duration": 7,
    "start_time": "2021-11-21T12:32:38.418Z"
   },
   {
    "duration": 4,
    "start_time": "2021-11-21T12:32:38.427Z"
   },
   {
    "duration": 5,
    "start_time": "2021-11-21T12:32:38.432Z"
   },
   {
    "duration": 4,
    "start_time": "2021-11-21T12:32:38.439Z"
   },
   {
    "duration": 59,
    "start_time": "2021-11-21T12:32:38.445Z"
   },
   {
    "duration": 18,
    "start_time": "2021-11-21T12:32:38.506Z"
   },
   {
    "duration": 13,
    "start_time": "2021-11-21T12:32:38.526Z"
   },
   {
    "duration": 71,
    "start_time": "2021-11-21T12:32:38.540Z"
   },
   {
    "duration": 5,
    "start_time": "2021-11-21T12:32:38.613Z"
   },
   {
    "duration": 5,
    "start_time": "2021-11-21T12:32:38.619Z"
   },
   {
    "duration": 4,
    "start_time": "2021-11-21T12:32:38.626Z"
   },
   {
    "duration": 7,
    "start_time": "2021-11-21T12:32:38.631Z"
   },
   {
    "duration": 7,
    "start_time": "2021-11-21T12:32:38.640Z"
   },
   {
    "duration": 43,
    "start_time": "2021-11-21T12:32:38.648Z"
   },
   {
    "duration": 13,
    "start_time": "2021-11-21T12:32:38.693Z"
   },
   {
    "duration": 9,
    "start_time": "2021-11-21T12:32:38.707Z"
   },
   {
    "duration": 17,
    "start_time": "2021-11-21T12:32:38.718Z"
   },
   {
    "duration": 12,
    "start_time": "2021-11-21T12:32:38.737Z"
   },
   {
    "duration": 32,
    "start_time": "2021-11-21T12:32:38.750Z"
   },
   {
    "duration": 21,
    "start_time": "2021-11-21T12:32:38.783Z"
   },
   {
    "duration": 21,
    "start_time": "2021-11-21T12:32:38.805Z"
   },
   {
    "duration": 19,
    "start_time": "2021-11-21T12:32:38.827Z"
   },
   {
    "duration": 10,
    "start_time": "2021-11-21T12:32:38.848Z"
   },
   {
    "duration": 19,
    "start_time": "2021-11-21T12:32:38.860Z"
   },
   {
    "duration": 25,
    "start_time": "2021-11-21T12:32:38.881Z"
   },
   {
    "duration": 15,
    "start_time": "2021-11-21T12:32:38.908Z"
   },
   {
    "duration": 49,
    "start_time": "2021-11-21T12:32:38.927Z"
   },
   {
    "duration": 58,
    "start_time": "2021-11-21T12:32:38.979Z"
   },
   {
    "duration": 43,
    "start_time": "2021-11-21T12:32:39.038Z"
   },
   {
    "duration": 160,
    "start_time": "2021-11-21T12:32:39.091Z"
   },
   {
    "duration": 39,
    "start_time": "2021-11-21T12:32:39.252Z"
   },
   {
    "duration": 37,
    "start_time": "2021-11-21T12:32:39.293Z"
   },
   {
    "duration": 4,
    "start_time": "2021-11-21T12:32:39.332Z"
   },
   {
    "duration": 24,
    "start_time": "2021-11-21T12:32:39.337Z"
   },
   {
    "duration": 40,
    "start_time": "2021-11-21T12:32:39.362Z"
   },
   {
    "duration": 20,
    "start_time": "2021-11-21T12:32:39.403Z"
   },
   {
    "duration": 10,
    "start_time": "2021-11-21T12:32:39.425Z"
   },
   {
    "duration": 20,
    "start_time": "2021-11-21T12:32:39.436Z"
   },
   {
    "duration": 23,
    "start_time": "2021-11-21T12:32:39.457Z"
   },
   {
    "duration": 8,
    "start_time": "2021-11-21T12:32:39.481Z"
   },
   {
    "duration": 4,
    "start_time": "2021-11-21T12:32:39.490Z"
   },
   {
    "duration": 60,
    "start_time": "2021-11-21T12:32:39.496Z"
   },
   {
    "duration": -7311,
    "start_time": "2021-11-21T12:32:46.869Z"
   },
   {
    "duration": -7324,
    "start_time": "2021-11-21T12:32:46.883Z"
   },
   {
    "duration": -7334,
    "start_time": "2021-11-21T12:32:46.894Z"
   },
   {
    "duration": -7346,
    "start_time": "2021-11-21T12:32:46.907Z"
   },
   {
    "duration": -7357,
    "start_time": "2021-11-21T12:32:46.919Z"
   },
   {
    "duration": -7370,
    "start_time": "2021-11-21T12:32:46.932Z"
   },
   {
    "duration": -7426,
    "start_time": "2021-11-21T12:32:46.989Z"
   },
   {
    "duration": -7443,
    "start_time": "2021-11-21T12:32:47.007Z"
   },
   {
    "duration": -7461,
    "start_time": "2021-11-21T12:32:47.026Z"
   },
   {
    "duration": -7473,
    "start_time": "2021-11-21T12:32:47.039Z"
   },
   {
    "duration": -7482,
    "start_time": "2021-11-21T12:32:47.050Z"
   },
   {
    "duration": -7495,
    "start_time": "2021-11-21T12:32:47.064Z"
   },
   {
    "duration": -7506,
    "start_time": "2021-11-21T12:32:47.076Z"
   },
   {
    "duration": -7534,
    "start_time": "2021-11-21T12:32:47.105Z"
   },
   {
    "duration": -7546,
    "start_time": "2021-11-21T12:32:47.117Z"
   },
   {
    "duration": -7558,
    "start_time": "2021-11-21T12:32:47.130Z"
   },
   {
    "duration": -7568,
    "start_time": "2021-11-21T12:32:47.141Z"
   },
   {
    "duration": 5,
    "start_time": "2021-11-21T12:32:39.690Z"
   },
   {
    "duration": 34,
    "start_time": "2021-11-21T12:32:39.707Z"
   },
   {
    "duration": 5,
    "start_time": "2021-11-21T12:32:39.742Z"
   },
   {
    "duration": 5,
    "start_time": "2021-11-21T12:32:39.748Z"
   },
   {
    "duration": 4238,
    "start_time": "2021-11-21T12:32:39.755Z"
   },
   {
    "duration": -3881,
    "start_time": "2021-11-21T12:32:47.876Z"
   },
   {
    "duration": -3893,
    "start_time": "2021-11-21T12:32:47.889Z"
   },
   {
    "duration": -3903,
    "start_time": "2021-11-21T12:32:47.900Z"
   },
   {
    "duration": -3916,
    "start_time": "2021-11-21T12:32:47.914Z"
   },
   {
    "duration": 3,
    "start_time": "2021-11-21T12:33:28.457Z"
   },
   {
    "duration": 295,
    "start_time": "2021-11-21T12:33:28.462Z"
   },
   {
    "duration": 32,
    "start_time": "2021-11-21T12:33:28.759Z"
   },
   {
    "duration": 26,
    "start_time": "2021-11-21T12:33:28.793Z"
   },
   {
    "duration": 27,
    "start_time": "2021-11-21T12:33:28.821Z"
   },
   {
    "duration": 10,
    "start_time": "2021-11-21T12:33:28.850Z"
   },
   {
    "duration": 34,
    "start_time": "2021-11-21T12:33:28.861Z"
   },
   {
    "duration": 13,
    "start_time": "2021-11-21T12:33:28.897Z"
   },
   {
    "duration": 4,
    "start_time": "2021-11-21T12:33:28.911Z"
   },
   {
    "duration": 11,
    "start_time": "2021-11-21T12:33:28.917Z"
   },
   {
    "duration": 6,
    "start_time": "2021-11-21T12:33:28.929Z"
   },
   {
    "duration": 4,
    "start_time": "2021-11-21T12:33:28.936Z"
   },
   {
    "duration": 50,
    "start_time": "2021-11-21T12:33:28.942Z"
   },
   {
    "duration": 5,
    "start_time": "2021-11-21T12:33:28.993Z"
   },
   {
    "duration": 12,
    "start_time": "2021-11-21T12:33:29.000Z"
   },
   {
    "duration": 28,
    "start_time": "2021-11-21T12:33:29.014Z"
   },
   {
    "duration": 9,
    "start_time": "2021-11-21T12:33:29.044Z"
   },
   {
    "duration": 39,
    "start_time": "2021-11-21T12:33:29.054Z"
   },
   {
    "duration": 17,
    "start_time": "2021-11-21T12:33:29.095Z"
   },
   {
    "duration": 12,
    "start_time": "2021-11-21T12:33:29.113Z"
   },
   {
    "duration": 16,
    "start_time": "2021-11-21T12:33:29.127Z"
   },
   {
    "duration": 11,
    "start_time": "2021-11-21T12:33:29.144Z"
   },
   {
    "duration": 24,
    "start_time": "2021-11-21T12:33:29.159Z"
   },
   {
    "duration": 10,
    "start_time": "2021-11-21T12:33:29.186Z"
   },
   {
    "duration": 21,
    "start_time": "2021-11-21T12:33:29.198Z"
   },
   {
    "duration": 15,
    "start_time": "2021-11-21T12:33:29.220Z"
   },
   {
    "duration": 14,
    "start_time": "2021-11-21T12:33:29.236Z"
   },
   {
    "duration": 20,
    "start_time": "2021-11-21T12:33:29.252Z"
   },
   {
    "duration": 15,
    "start_time": "2021-11-21T12:33:29.274Z"
   },
   {
    "duration": 16,
    "start_time": "2021-11-21T12:33:29.290Z"
   },
   {
    "duration": 8,
    "start_time": "2021-11-21T12:33:29.307Z"
   },
   {
    "duration": 23,
    "start_time": "2021-11-21T12:33:29.317Z"
   },
   {
    "duration": 23,
    "start_time": "2021-11-21T12:33:29.341Z"
   },
   {
    "duration": 26,
    "start_time": "2021-11-21T12:33:29.365Z"
   },
   {
    "duration": 45,
    "start_time": "2021-11-21T12:33:29.393Z"
   },
   {
    "duration": 7,
    "start_time": "2021-11-21T12:33:29.440Z"
   },
   {
    "duration": 6,
    "start_time": "2021-11-21T12:33:29.449Z"
   },
   {
    "duration": 34,
    "start_time": "2021-11-21T12:33:29.457Z"
   },
   {
    "duration": 5,
    "start_time": "2021-11-21T12:33:29.494Z"
   },
   {
    "duration": 9,
    "start_time": "2021-11-21T12:33:29.501Z"
   },
   {
    "duration": 11,
    "start_time": "2021-11-21T12:33:29.511Z"
   },
   {
    "duration": 6,
    "start_time": "2021-11-21T12:33:29.524Z"
   },
   {
    "duration": 7,
    "start_time": "2021-11-21T12:33:29.532Z"
   },
   {
    "duration": 6,
    "start_time": "2021-11-21T12:33:29.541Z"
   },
   {
    "duration": 44,
    "start_time": "2021-11-21T12:33:29.548Z"
   },
   {
    "duration": 16,
    "start_time": "2021-11-21T12:33:29.594Z"
   },
   {
    "duration": 9,
    "start_time": "2021-11-21T12:33:29.611Z"
   },
   {
    "duration": 15,
    "start_time": "2021-11-21T12:33:29.621Z"
   },
   {
    "duration": 8,
    "start_time": "2021-11-21T12:33:29.638Z"
   },
   {
    "duration": 3,
    "start_time": "2021-11-21T12:33:29.647Z"
   },
   {
    "duration": 47,
    "start_time": "2021-11-21T12:33:29.651Z"
   },
   {
    "duration": 8,
    "start_time": "2021-11-21T12:33:29.700Z"
   },
   {
    "duration": 14,
    "start_time": "2021-11-21T12:33:29.710Z"
   },
   {
    "duration": 66,
    "start_time": "2021-11-21T12:33:29.726Z"
   },
   {
    "duration": 62,
    "start_time": "2021-11-21T12:33:29.794Z"
   },
   {
    "duration": 50,
    "start_time": "2021-11-21T12:33:29.858Z"
   },
   {
    "duration": 181,
    "start_time": "2021-11-21T12:33:29.910Z"
   },
   {
    "duration": 31,
    "start_time": "2021-11-21T12:33:30.093Z"
   },
   {
    "duration": 33,
    "start_time": "2021-11-21T12:33:30.125Z"
   },
   {
    "duration": 3,
    "start_time": "2021-11-21T12:33:30.160Z"
   },
   {
    "duration": 19,
    "start_time": "2021-11-21T12:33:30.191Z"
   },
   {
    "duration": 21,
    "start_time": "2021-11-21T12:33:30.212Z"
   },
   {
    "duration": 9,
    "start_time": "2021-11-21T12:33:30.235Z"
   },
   {
    "duration": 5,
    "start_time": "2021-11-21T12:33:30.245Z"
   },
   {
    "duration": 7,
    "start_time": "2021-11-21T12:33:30.252Z"
   },
   {
    "duration": 31,
    "start_time": "2021-11-21T12:33:30.260Z"
   },
   {
    "duration": 2,
    "start_time": "2021-11-21T12:33:30.293Z"
   },
   {
    "duration": 14,
    "start_time": "2021-11-21T12:33:30.297Z"
   },
   {
    "duration": 72,
    "start_time": "2021-11-21T12:33:30.313Z"
   },
   {
    "duration": -6677,
    "start_time": "2021-11-21T12:33:37.064Z"
   },
   {
    "duration": -6736,
    "start_time": "2021-11-21T12:33:37.124Z"
   },
   {
    "duration": -6750,
    "start_time": "2021-11-21T12:33:37.139Z"
   },
   {
    "duration": -6763,
    "start_time": "2021-11-21T12:33:37.153Z"
   },
   {
    "duration": -6773,
    "start_time": "2021-11-21T12:33:37.165Z"
   },
   {
    "duration": -6787,
    "start_time": "2021-11-21T12:33:37.180Z"
   },
   {
    "duration": -6800,
    "start_time": "2021-11-21T12:33:37.194Z"
   },
   {
    "duration": -6813,
    "start_time": "2021-11-21T12:33:37.208Z"
   },
   {
    "duration": -6849,
    "start_time": "2021-11-21T12:33:37.245Z"
   },
   {
    "duration": -6861,
    "start_time": "2021-11-21T12:33:37.258Z"
   },
   {
    "duration": -6872,
    "start_time": "2021-11-21T12:33:37.270Z"
   },
   {
    "duration": -6884,
    "start_time": "2021-11-21T12:33:37.283Z"
   },
   {
    "duration": -6895,
    "start_time": "2021-11-21T12:33:37.295Z"
   },
   {
    "duration": -6907,
    "start_time": "2021-11-21T12:33:37.308Z"
   },
   {
    "duration": -6918,
    "start_time": "2021-11-21T12:33:37.320Z"
   },
   {
    "duration": -6931,
    "start_time": "2021-11-21T12:33:37.334Z"
   },
   {
    "duration": -6961,
    "start_time": "2021-11-21T12:33:37.365Z"
   },
   {
    "duration": -6974,
    "start_time": "2021-11-21T12:33:37.379Z"
   },
   {
    "duration": -6987,
    "start_time": "2021-11-21T12:33:37.393Z"
   },
   {
    "duration": -7000,
    "start_time": "2021-11-21T12:33:37.407Z"
   },
   {
    "duration": -7009,
    "start_time": "2021-11-21T12:33:37.418Z"
   },
   {
    "duration": -7024,
    "start_time": "2021-11-21T12:33:37.434Z"
   },
   {
    "duration": -7035,
    "start_time": "2021-11-21T12:33:37.446Z"
   },
   {
    "duration": -7048,
    "start_time": "2021-11-21T12:33:37.460Z"
   },
   {
    "duration": -7076,
    "start_time": "2021-11-21T12:33:37.489Z"
   },
   {
    "duration": -7088,
    "start_time": "2021-11-21T12:33:37.502Z"
   },
   {
    "duration": 3,
    "start_time": "2021-11-21T12:33:55.506Z"
   },
   {
    "duration": 496622,
    "start_time": "2021-11-21T12:33:57.956Z"
   },
   {
    "duration": 1630,
    "start_time": "2021-11-21T12:42:14.580Z"
   },
   {
    "duration": 1694,
    "start_time": "2021-11-21T13:14:27.821Z"
   },
   {
    "duration": 1703,
    "start_time": "2021-11-21T13:14:32.111Z"
   },
   {
    "duration": 13,
    "start_time": "2021-11-21T13:14:39.051Z"
   },
   {
    "duration": 2,
    "start_time": "2021-11-21T13:15:04.272Z"
   },
   {
    "duration": 22,
    "start_time": "2021-11-21T13:15:04.277Z"
   },
   {
    "duration": 96,
    "start_time": "2021-11-21T13:15:04.302Z"
   },
   {
    "duration": 32,
    "start_time": "2021-11-21T13:15:04.400Z"
   },
   {
    "duration": 3,
    "start_time": "2021-11-21T13:15:04.434Z"
   },
   {
    "duration": 25,
    "start_time": "2021-11-21T13:15:04.439Z"
   },
   {
    "duration": 208,
    "start_time": "2021-11-21T13:15:04.466Z"
   },
   {
    "duration": 34,
    "start_time": "2021-11-21T13:15:04.676Z"
   },
   {
    "duration": 4693,
    "start_time": "2021-11-21T13:15:04.712Z"
   },
   {
    "duration": -2600,
    "start_time": "2021-11-21T13:15:12.008Z"
   },
   {
    "duration": -2615,
    "start_time": "2021-11-21T13:15:12.024Z"
   },
   {
    "duration": -2628,
    "start_time": "2021-11-21T13:15:12.038Z"
   },
   {
    "duration": -2643,
    "start_time": "2021-11-21T13:15:12.054Z"
   },
   {
    "duration": -2660,
    "start_time": "2021-11-21T13:15:12.072Z"
   },
   {
    "duration": -2706,
    "start_time": "2021-11-21T13:15:12.118Z"
   },
   {
    "duration": -2719,
    "start_time": "2021-11-21T13:15:12.133Z"
   },
   {
    "duration": -2733,
    "start_time": "2021-11-21T13:15:12.148Z"
   },
   {
    "duration": -2746,
    "start_time": "2021-11-21T13:15:12.162Z"
   },
   {
    "duration": 38,
    "start_time": "2021-11-21T13:22:29.421Z"
   },
   {
    "duration": 4615,
    "start_time": "2021-11-21T13:23:25.951Z"
   },
   {
    "duration": 5,
    "start_time": "2021-11-21T13:24:17.009Z"
   },
   {
    "duration": 16,
    "start_time": "2021-11-21T13:26:46.850Z"
   },
   {
    "duration": 214,
    "start_time": "2021-11-21T13:28:02.648Z"
   },
   {
    "duration": 29,
    "start_time": "2021-11-21T13:28:04.980Z"
   },
   {
    "duration": 212,
    "start_time": "2021-11-21T13:32:41.297Z"
   },
   {
    "duration": 23,
    "start_time": "2021-11-21T13:32:49.050Z"
   },
   {
    "duration": 36,
    "start_time": "2021-11-21T13:34:21.031Z"
   },
   {
    "duration": 60,
    "start_time": "2021-11-21T13:44:58.367Z"
   },
   {
    "duration": 76,
    "start_time": "2021-11-21T13:46:15.508Z"
   },
   {
    "duration": 69,
    "start_time": "2021-11-21T13:46:30.249Z"
   },
   {
    "duration": 135,
    "start_time": "2021-11-21T13:47:08.099Z"
   },
   {
    "duration": 68,
    "start_time": "2021-11-21T13:47:21.313Z"
   },
   {
    "duration": 56,
    "start_time": "2021-11-21T13:47:36.828Z"
   },
   {
    "duration": 59,
    "start_time": "2021-11-21T13:47:45.566Z"
   },
   {
    "duration": 60,
    "start_time": "2021-11-21T13:48:40.699Z"
   },
   {
    "duration": 60,
    "start_time": "2021-11-21T13:49:48.046Z"
   },
   {
    "duration": 84,
    "start_time": "2021-11-21T13:50:06.510Z"
   },
   {
    "duration": 63,
    "start_time": "2021-11-21T13:51:13.248Z"
   },
   {
    "duration": 61,
    "start_time": "2021-11-21T13:53:27.738Z"
   },
   {
    "duration": 57,
    "start_time": "2021-11-21T13:54:30.808Z"
   },
   {
    "duration": 1158,
    "start_time": "2021-11-21T22:28:56.326Z"
   },
   {
    "duration": 359,
    "start_time": "2021-11-21T22:28:57.486Z"
   },
   {
    "duration": 18,
    "start_time": "2021-11-21T22:28:57.847Z"
   },
   {
    "duration": 41,
    "start_time": "2021-11-21T22:28:57.867Z"
   },
   {
    "duration": 29,
    "start_time": "2021-11-21T22:28:57.910Z"
   },
   {
    "duration": 10,
    "start_time": "2021-11-21T22:28:57.940Z"
   },
   {
    "duration": 5,
    "start_time": "2021-11-21T22:28:57.951Z"
   },
   {
    "duration": 10,
    "start_time": "2021-11-21T22:28:57.958Z"
   },
   {
    "duration": 40,
    "start_time": "2021-11-21T22:28:57.969Z"
   },
   {
    "duration": 12,
    "start_time": "2021-11-21T22:28:58.011Z"
   },
   {
    "duration": 7,
    "start_time": "2021-11-21T22:28:58.025Z"
   },
   {
    "duration": 6,
    "start_time": "2021-11-21T22:28:58.034Z"
   },
   {
    "duration": 12,
    "start_time": "2021-11-21T22:28:58.042Z"
   },
   {
    "duration": 25,
    "start_time": "2021-11-21T22:28:58.056Z"
   },
   {
    "duration": 19,
    "start_time": "2021-11-21T22:28:58.082Z"
   },
   {
    "duration": 42,
    "start_time": "2021-11-21T22:28:58.107Z"
   },
   {
    "duration": 26,
    "start_time": "2021-11-21T22:28:58.151Z"
   },
   {
    "duration": 13,
    "start_time": "2021-11-21T22:28:58.179Z"
   },
   {
    "duration": 14,
    "start_time": "2021-11-21T22:28:58.193Z"
   },
   {
    "duration": 7,
    "start_time": "2021-11-21T22:28:58.208Z"
   },
   {
    "duration": 14,
    "start_time": "2021-11-21T22:28:58.216Z"
   },
   {
    "duration": 9,
    "start_time": "2021-11-21T22:28:58.232Z"
   },
   {
    "duration": 10,
    "start_time": "2021-11-21T22:28:58.246Z"
   },
   {
    "duration": 8,
    "start_time": "2021-11-21T22:28:58.259Z"
   },
   {
    "duration": 15,
    "start_time": "2021-11-21T22:28:58.269Z"
   },
   {
    "duration": 20,
    "start_time": "2021-11-21T22:28:58.286Z"
   },
   {
    "duration": 5,
    "start_time": "2021-11-21T22:28:58.308Z"
   },
   {
    "duration": 17,
    "start_time": "2021-11-21T22:28:58.315Z"
   },
   {
    "duration": 9,
    "start_time": "2021-11-21T22:28:58.334Z"
   },
   {
    "duration": 7,
    "start_time": "2021-11-21T22:28:58.344Z"
   },
   {
    "duration": 10,
    "start_time": "2021-11-21T22:28:58.353Z"
   },
   {
    "duration": 20,
    "start_time": "2021-11-21T22:28:58.365Z"
   },
   {
    "duration": 31,
    "start_time": "2021-11-21T22:28:58.387Z"
   },
   {
    "duration": 16,
    "start_time": "2021-11-21T22:28:58.420Z"
   },
   {
    "duration": 61,
    "start_time": "2021-11-21T22:28:58.438Z"
   },
   {
    "duration": 10,
    "start_time": "2021-11-21T22:28:58.501Z"
   },
   {
    "duration": 24,
    "start_time": "2021-11-21T22:28:58.513Z"
   },
   {
    "duration": 11,
    "start_time": "2021-11-21T22:28:58.538Z"
   },
   {
    "duration": 6,
    "start_time": "2021-11-21T22:28:58.551Z"
   },
   {
    "duration": 14,
    "start_time": "2021-11-21T22:28:58.559Z"
   },
   {
    "duration": 20,
    "start_time": "2021-11-21T22:28:58.575Z"
   },
   {
    "duration": 33,
    "start_time": "2021-11-21T22:28:58.597Z"
   },
   {
    "duration": 11,
    "start_time": "2021-11-21T22:28:58.632Z"
   },
   {
    "duration": 15,
    "start_time": "2021-11-21T22:28:58.644Z"
   },
   {
    "duration": 16,
    "start_time": "2021-11-21T22:28:58.661Z"
   },
   {
    "duration": 24,
    "start_time": "2021-11-21T22:28:58.679Z"
   },
   {
    "duration": 12,
    "start_time": "2021-11-21T22:28:58.705Z"
   },
   {
    "duration": 34,
    "start_time": "2021-11-21T22:28:58.719Z"
   },
   {
    "duration": 12,
    "start_time": "2021-11-21T22:28:58.755Z"
   },
   {
    "duration": 15,
    "start_time": "2021-11-21T22:28:58.769Z"
   },
   {
    "duration": 21,
    "start_time": "2021-11-21T22:28:58.786Z"
   },
   {
    "duration": 19,
    "start_time": "2021-11-21T22:28:58.809Z"
   },
   {
    "duration": 23,
    "start_time": "2021-11-21T22:28:58.829Z"
   },
   {
    "duration": 47,
    "start_time": "2021-11-21T22:28:58.854Z"
   },
   {
    "duration": 62,
    "start_time": "2021-11-21T22:28:58.903Z"
   },
   {
    "duration": 55,
    "start_time": "2021-11-21T22:28:58.967Z"
   },
   {
    "duration": 166,
    "start_time": "2021-11-21T22:28:59.024Z"
   },
   {
    "duration": 38,
    "start_time": "2021-11-21T22:28:59.192Z"
   },
   {
    "duration": 32,
    "start_time": "2021-11-21T22:28:59.231Z"
   },
   {
    "duration": 4,
    "start_time": "2021-11-21T22:28:59.265Z"
   },
   {
    "duration": 41,
    "start_time": "2021-11-21T22:28:59.270Z"
   },
   {
    "duration": 21,
    "start_time": "2021-11-21T22:28:59.313Z"
   },
   {
    "duration": 14,
    "start_time": "2021-11-21T22:28:59.336Z"
   },
   {
    "duration": 12,
    "start_time": "2021-11-21T22:28:59.352Z"
   },
   {
    "duration": 11,
    "start_time": "2021-11-21T22:28:59.366Z"
   },
   {
    "duration": 6,
    "start_time": "2021-11-21T22:28:59.379Z"
   },
   {
    "duration": 6,
    "start_time": "2021-11-21T22:28:59.387Z"
   },
   {
    "duration": 2,
    "start_time": "2021-11-21T22:28:59.407Z"
   },
   {
    "duration": 119,
    "start_time": "2021-11-21T22:28:59.411Z"
   },
   {
    "duration": -4807,
    "start_time": "2021-11-21T22:29:04.339Z"
   },
   {
    "duration": -4819,
    "start_time": "2021-11-21T22:29:04.352Z"
   },
   {
    "duration": -4831,
    "start_time": "2021-11-21T22:29:04.365Z"
   },
   {
    "duration": -4841,
    "start_time": "2021-11-21T22:29:04.376Z"
   },
   {
    "duration": -4853,
    "start_time": "2021-11-21T22:29:04.389Z"
   },
   {
    "duration": -4863,
    "start_time": "2021-11-21T22:29:04.400Z"
   },
   {
    "duration": -4874,
    "start_time": "2021-11-21T22:29:04.412Z"
   },
   {
    "duration": -4884,
    "start_time": "2021-11-21T22:29:04.423Z"
   },
   {
    "duration": -4913,
    "start_time": "2021-11-21T22:29:04.453Z"
   },
   {
    "duration": -4924,
    "start_time": "2021-11-21T22:29:04.465Z"
   },
   {
    "duration": -4936,
    "start_time": "2021-11-21T22:29:04.478Z"
   },
   {
    "duration": -4946,
    "start_time": "2021-11-21T22:29:04.489Z"
   },
   {
    "duration": -4957,
    "start_time": "2021-11-21T22:29:04.501Z"
   },
   {
    "duration": -4968,
    "start_time": "2021-11-21T22:29:04.513Z"
   },
   {
    "duration": -4979,
    "start_time": "2021-11-21T22:29:04.525Z"
   },
   {
    "duration": -4989,
    "start_time": "2021-11-21T22:29:04.536Z"
   },
   {
    "duration": -5000,
    "start_time": "2021-11-21T22:29:04.548Z"
   },
   {
    "duration": -5026,
    "start_time": "2021-11-21T22:29:04.575Z"
   },
   {
    "duration": -5039,
    "start_time": "2021-11-21T22:29:04.589Z"
   },
   {
    "duration": -5050,
    "start_time": "2021-11-21T22:29:04.601Z"
   },
   {
    "duration": -5060,
    "start_time": "2021-11-21T22:29:04.612Z"
   },
   {
    "duration": -5072,
    "start_time": "2021-11-21T22:29:04.625Z"
   },
   {
    "duration": -5083,
    "start_time": "2021-11-21T22:29:04.637Z"
   },
   {
    "duration": -5094,
    "start_time": "2021-11-21T22:29:04.649Z"
   },
   {
    "duration": -5109,
    "start_time": "2021-11-21T22:29:04.665Z"
   },
   {
    "duration": -5137,
    "start_time": "2021-11-21T22:29:04.694Z"
   },
   {
    "duration": -5149,
    "start_time": "2021-11-21T22:29:04.707Z"
   },
   {
    "duration": -5160,
    "start_time": "2021-11-21T22:29:04.719Z"
   },
   {
    "duration": 3,
    "start_time": "2021-11-21T22:29:29.086Z"
   },
   {
    "duration": 4,
    "start_time": "2021-11-21T22:29:31.695Z"
   },
   {
    "duration": 480940,
    "start_time": "2021-11-21T22:29:36.245Z"
   },
   {
    "duration": 1718,
    "start_time": "2021-11-21T22:37:47.215Z"
   },
   {
    "duration": 1675,
    "start_time": "2021-11-21T22:37:51.669Z"
   },
   {
    "duration": 4,
    "start_time": "2021-11-21T22:37:57.415Z"
   },
   {
    "duration": 13,
    "start_time": "2021-11-21T22:38:05.536Z"
   },
   {
    "duration": 3,
    "start_time": "2021-11-21T23:40:08.625Z"
   },
   {
    "duration": 21,
    "start_time": "2021-11-21T23:40:08.630Z"
   },
   {
    "duration": 92,
    "start_time": "2021-11-21T23:40:08.653Z"
   },
   {
    "duration": 35,
    "start_time": "2021-11-21T23:40:08.747Z"
   },
   {
    "duration": 48,
    "start_time": "2021-11-21T23:40:08.783Z"
   },
   {
    "duration": 5,
    "start_time": "2021-11-21T23:40:08.857Z"
   },
   {
    "duration": 5,
    "start_time": "2021-11-21T23:40:08.867Z"
   },
   {
    "duration": 41,
    "start_time": "2021-11-21T23:40:08.874Z"
   },
   {
    "duration": 219,
    "start_time": "2021-11-21T23:40:09.004Z"
   },
   {
    "duration": 25,
    "start_time": "2021-11-21T23:40:09.225Z"
   },
   {
    "duration": 127,
    "start_time": "2021-11-21T23:40:09.253Z"
   },
   {
    "duration": -1213,
    "start_time": "2021-11-21T23:40:10.595Z"
   },
   {
    "duration": -1228,
    "start_time": "2021-11-21T23:40:10.611Z"
   },
   {
    "duration": -1246,
    "start_time": "2021-11-21T23:40:10.629Z"
   },
   {
    "duration": -1259,
    "start_time": "2021-11-21T23:40:10.643Z"
   },
   {
    "duration": -1329,
    "start_time": "2021-11-21T23:40:10.714Z"
   },
   {
    "duration": -1342,
    "start_time": "2021-11-21T23:40:10.728Z"
   },
   {
    "duration": -1354,
    "start_time": "2021-11-21T23:40:10.741Z"
   },
   {
    "duration": -1365,
    "start_time": "2021-11-21T23:40:10.753Z"
   },
   {
    "duration": 80,
    "start_time": "2021-11-21T23:50:35.127Z"
   },
   {
    "duration": 30,
    "start_time": "2021-11-21T23:50:51.715Z"
   },
   {
    "duration": 32,
    "start_time": "2021-11-21T23:51:38.315Z"
   },
   {
    "duration": 5,
    "start_time": "2021-11-21T23:53:20.067Z"
   },
   {
    "duration": 124,
    "start_time": "2021-11-21T23:58:29.586Z"
   },
   {
    "duration": 1737,
    "start_time": "2021-11-21T23:59:04.974Z"
   },
   {
    "duration": 1973,
    "start_time": "2021-11-21T23:59:22.517Z"
   },
   {
    "duration": 32,
    "start_time": "2021-11-21T23:59:40.475Z"
   },
   {
    "duration": 11,
    "start_time": "2021-11-22T00:02:24.625Z"
   },
   {
    "duration": 37,
    "start_time": "2021-11-22T00:02:26.455Z"
   },
   {
    "duration": 6,
    "start_time": "2021-11-22T00:03:36.907Z"
   },
   {
    "duration": 8491,
    "start_time": "2021-11-22T00:09:13.106Z"
   },
   {
    "duration": 50101,
    "start_time": "2021-11-22T00:10:32.586Z"
   },
   {
    "duration": 5944,
    "start_time": "2021-11-22T00:11:36.447Z"
   },
   {
    "duration": 30421,
    "start_time": "2021-11-22T00:15:21.456Z"
   },
   {
    "duration": 23299,
    "start_time": "2021-11-22T00:16:23.577Z"
   },
   {
    "duration": 79,
    "start_time": "2021-11-22T00:17:06.596Z"
   },
   {
    "duration": 38,
    "start_time": "2021-11-22T00:17:06.677Z"
   },
   {
    "duration": 37,
    "start_time": "2021-11-22T00:17:06.717Z"
   },
   {
    "duration": 5,
    "start_time": "2021-11-22T00:17:06.756Z"
   },
   {
    "duration": 232,
    "start_time": "2021-11-22T00:17:06.763Z"
   },
   {
    "duration": 23,
    "start_time": "2021-11-22T00:17:06.997Z"
   },
   {
    "duration": 2229,
    "start_time": "2021-11-22T00:17:07.022Z"
   },
   {
    "duration": 11,
    "start_time": "2021-11-22T00:17:09.254Z"
   },
   {
    "duration": 61,
    "start_time": "2021-11-22T00:17:09.267Z"
   },
   {
    "duration": 5,
    "start_time": "2021-11-22T00:17:09.330Z"
   },
   {
    "duration": 29748,
    "start_time": "2021-11-22T00:17:09.337Z"
   },
   {
    "duration": -1052,
    "start_time": "2021-11-22T00:17:40.139Z"
   },
   {
    "duration": -1068,
    "start_time": "2021-11-22T00:17:40.156Z"
   },
   {
    "duration": -1084,
    "start_time": "2021-11-22T00:17:40.173Z"
   },
   {
    "duration": -1098,
    "start_time": "2021-11-22T00:17:40.188Z"
   },
   {
    "duration": -1113,
    "start_time": "2021-11-22T00:17:40.204Z"
   },
   {
    "duration": 6,
    "start_time": "2021-11-22T00:17:57.605Z"
   },
   {
    "duration": 6,
    "start_time": "2021-11-22T00:18:13.865Z"
   },
   {
    "duration": 436,
    "start_time": "2021-11-22T00:18:40.776Z"
   },
   {
    "duration": 3585,
    "start_time": "2021-11-22T00:20:24.046Z"
   },
   {
    "duration": 4043,
    "start_time": "2021-11-22T00:20:47.418Z"
   },
   {
    "duration": 11200,
    "start_time": "2021-11-22T00:22:45.063Z"
   },
   {
    "duration": 464921,
    "start_time": "2021-11-22T00:23:55.436Z"
   },
   {
    "duration": 3936,
    "start_time": "2021-11-22T00:32:54.607Z"
   },
   {
    "duration": 3260,
    "start_time": "2021-11-22T00:33:07.978Z"
   },
   {
    "duration": 25,
    "start_time": "2021-11-22T00:34:33.576Z"
   },
   {
    "duration": 3581,
    "start_time": "2021-11-22T00:35:22.069Z"
   },
   {
    "duration": 5,
    "start_time": "2021-11-22T00:35:39.766Z"
   },
   {
    "duration": -1101,
    "start_time": "2021-11-22T00:35:53.200Z"
   },
   {
    "duration": 6,
    "start_time": "2021-11-22T00:36:00.375Z"
   },
   {
    "duration": 4,
    "start_time": "2021-11-22T00:36:53.406Z"
   },
   {
    "duration": 34,
    "start_time": "2021-11-22T00:36:55.576Z"
   },
   {
    "duration": 78,
    "start_time": "2021-11-22T00:38:39.346Z"
   },
   {
    "duration": 29,
    "start_time": "2021-11-22T00:38:39.426Z"
   },
   {
    "duration": 51,
    "start_time": "2021-11-22T00:38:39.457Z"
   },
   {
    "duration": 5,
    "start_time": "2021-11-22T00:38:39.510Z"
   },
   {
    "duration": 210,
    "start_time": "2021-11-22T00:38:39.517Z"
   },
   {
    "duration": 23,
    "start_time": "2021-11-22T00:38:39.729Z"
   },
   {
    "duration": 2069,
    "start_time": "2021-11-22T00:38:39.754Z"
   },
   {
    "duration": 11,
    "start_time": "2021-11-22T00:38:41.825Z"
   },
   {
    "duration": 38,
    "start_time": "2021-11-22T00:38:41.838Z"
   },
   {
    "duration": 30,
    "start_time": "2021-11-22T00:38:41.877Z"
   },
   {
    "duration": 5,
    "start_time": "2021-11-22T00:38:41.908Z"
   },
   {
    "duration": 155,
    "start_time": "2021-11-22T00:38:41.915Z"
   },
   {
    "duration": -1259,
    "start_time": "2021-11-22T00:38:43.331Z"
   },
   {
    "duration": -1273,
    "start_time": "2021-11-22T00:38:43.346Z"
   },
   {
    "duration": -1287,
    "start_time": "2021-11-22T00:38:43.361Z"
   },
   {
    "duration": -1300,
    "start_time": "2021-11-22T00:38:43.376Z"
   },
   {
    "duration": -1370,
    "start_time": "2021-11-22T00:38:43.447Z"
   },
   {
    "duration": 6,
    "start_time": "2021-11-22T00:39:29.817Z"
   },
   {
    "duration": 3581,
    "start_time": "2021-11-22T00:39:53.625Z"
   },
   {
    "duration": 247,
    "start_time": "2021-11-22T00:40:03.716Z"
   },
   {
    "duration": 25,
    "start_time": "2021-11-22T00:40:33.386Z"
   },
   {
    "duration": 18078,
    "start_time": "2021-11-22T00:42:29.667Z"
   },
   {
    "duration": 3632,
    "start_time": "2021-11-22T00:43:57.885Z"
   },
   {
    "duration": 17,
    "start_time": "2021-11-22T00:44:35.524Z"
   },
   {
    "duration": -1090,
    "start_time": "2021-11-22T00:47:41.773Z"
   },
   {
    "duration": 66,
    "start_time": "2021-11-22T00:48:26.215Z"
   },
   {
    "duration": 3743,
    "start_time": "2021-11-22T00:49:14.487Z"
   },
   {
    "duration": 20,
    "start_time": "2021-11-22T00:49:45.435Z"
   },
   {
    "duration": 16339,
    "start_time": "2021-11-22T00:51:38.377Z"
   },
   {
    "duration": 22,
    "start_time": "2021-11-22T00:52:04.035Z"
   },
   {
    "duration": 3672,
    "start_time": "2021-11-22T00:53:09.766Z"
   },
   {
    "duration": 38,
    "start_time": "2021-11-22T00:55:02.226Z"
   },
   {
    "duration": 75,
    "start_time": "2021-11-22T00:55:27.986Z"
   },
   {
    "duration": 25,
    "start_time": "2021-11-22T00:55:28.063Z"
   },
   {
    "duration": 54,
    "start_time": "2021-11-22T00:55:28.090Z"
   },
   {
    "duration": 4,
    "start_time": "2021-11-22T00:55:28.146Z"
   },
   {
    "duration": 211,
    "start_time": "2021-11-22T00:55:28.152Z"
   },
   {
    "duration": 23,
    "start_time": "2021-11-22T00:55:28.365Z"
   },
   {
    "duration": 1991,
    "start_time": "2021-11-22T00:55:28.390Z"
   },
   {
    "duration": 27,
    "start_time": "2021-11-22T00:55:30.383Z"
   },
   {
    "duration": 59,
    "start_time": "2021-11-22T00:55:30.413Z"
   },
   {
    "duration": 6,
    "start_time": "2021-11-22T00:55:30.475Z"
   },
   {
    "duration": 94,
    "start_time": "2021-11-22T00:55:30.483Z"
   },
   {
    "duration": 3572,
    "start_time": "2021-11-22T00:55:30.579Z"
   },
   {
    "duration": 6,
    "start_time": "2021-11-22T00:55:34.208Z"
   },
   {
    "duration": 21,
    "start_time": "2021-11-22T00:55:34.216Z"
   },
   {
    "duration": 31,
    "start_time": "2021-11-22T00:55:34.239Z"
   },
   {
    "duration": 22,
    "start_time": "2021-11-22T00:55:34.272Z"
   },
   {
    "duration": 26,
    "start_time": "2021-11-22T00:55:34.296Z"
   },
   {
    "duration": 9,
    "start_time": "2021-11-22T00:58:28.645Z"
   },
   {
    "duration": 4,
    "start_time": "2021-11-22T00:58:41.265Z"
   },
   {
    "duration": 4,
    "start_time": "2021-11-22T00:59:04.785Z"
   },
   {
    "duration": 1514,
    "start_time": "2021-11-22T23:56:03.262Z"
   },
   {
    "duration": 1005,
    "start_time": "2021-11-22T23:56:04.779Z"
   },
   {
    "duration": 37,
    "start_time": "2021-11-22T23:56:05.788Z"
   },
   {
    "duration": 74,
    "start_time": "2021-11-22T23:56:05.829Z"
   },
   {
    "duration": 76,
    "start_time": "2021-11-22T23:56:05.906Z"
   },
   {
    "duration": 16,
    "start_time": "2021-11-22T23:56:05.984Z"
   },
   {
    "duration": 7,
    "start_time": "2021-11-22T23:56:06.002Z"
   },
   {
    "duration": 56,
    "start_time": "2021-11-22T23:56:06.013Z"
   },
   {
    "duration": 7,
    "start_time": "2021-11-22T23:56:06.072Z"
   },
   {
    "duration": 14,
    "start_time": "2021-11-22T23:56:06.082Z"
   },
   {
    "duration": 8,
    "start_time": "2021-11-22T23:56:06.100Z"
   },
   {
    "duration": 56,
    "start_time": "2021-11-22T23:56:06.111Z"
   },
   {
    "duration": 8,
    "start_time": "2021-11-22T23:56:06.170Z"
   },
   {
    "duration": 7,
    "start_time": "2021-11-22T23:56:06.181Z"
   },
   {
    "duration": 11,
    "start_time": "2021-11-22T23:56:06.190Z"
   },
   {
    "duration": 88,
    "start_time": "2021-11-22T23:56:06.204Z"
   },
   {
    "duration": 12,
    "start_time": "2021-11-22T23:56:06.294Z"
   },
   {
    "duration": 20,
    "start_time": "2021-11-22T23:56:06.309Z"
   },
   {
    "duration": 37,
    "start_time": "2021-11-22T23:56:06.332Z"
   },
   {
    "duration": 9,
    "start_time": "2021-11-22T23:56:06.371Z"
   },
   {
    "duration": 10,
    "start_time": "2021-11-22T23:56:06.383Z"
   },
   {
    "duration": 8,
    "start_time": "2021-11-22T23:56:06.396Z"
   },
   {
    "duration": 60,
    "start_time": "2021-11-22T23:56:06.412Z"
   },
   {
    "duration": 11,
    "start_time": "2021-11-22T23:56:06.476Z"
   },
   {
    "duration": 7,
    "start_time": "2021-11-22T23:56:06.490Z"
   },
   {
    "duration": 10,
    "start_time": "2021-11-22T23:56:06.500Z"
   },
   {
    "duration": 54,
    "start_time": "2021-11-22T23:56:06.513Z"
   },
   {
    "duration": 11,
    "start_time": "2021-11-22T23:56:06.570Z"
   },
   {
    "duration": 7,
    "start_time": "2021-11-22T23:56:06.583Z"
   },
   {
    "duration": 7,
    "start_time": "2021-11-22T23:56:06.593Z"
   },
   {
    "duration": 8,
    "start_time": "2021-11-22T23:56:06.602Z"
   },
   {
    "duration": 68,
    "start_time": "2021-11-22T23:56:06.613Z"
   },
   {
    "duration": 30,
    "start_time": "2021-11-22T23:56:06.684Z"
   },
   {
    "duration": 21,
    "start_time": "2021-11-22T23:56:06.716Z"
   },
   {
    "duration": 71,
    "start_time": "2021-11-22T23:56:06.768Z"
   },
   {
    "duration": 28,
    "start_time": "2021-11-22T23:56:06.841Z"
   },
   {
    "duration": 8,
    "start_time": "2021-11-22T23:56:06.872Z"
   },
   {
    "duration": 8,
    "start_time": "2021-11-22T23:56:06.882Z"
   },
   {
    "duration": 5,
    "start_time": "2021-11-22T23:56:06.893Z"
   },
   {
    "duration": 12,
    "start_time": "2021-11-22T23:56:06.901Z"
   },
   {
    "duration": 62,
    "start_time": "2021-11-22T23:56:06.915Z"
   },
   {
    "duration": 12,
    "start_time": "2021-11-22T23:56:06.979Z"
   },
   {
    "duration": 14,
    "start_time": "2021-11-22T23:56:06.994Z"
   },
   {
    "duration": 8,
    "start_time": "2021-11-22T23:56:07.011Z"
   },
   {
    "duration": 50,
    "start_time": "2021-11-22T23:56:07.022Z"
   },
   {
    "duration": 25,
    "start_time": "2021-11-22T23:56:07.075Z"
   },
   {
    "duration": 17,
    "start_time": "2021-11-22T23:56:07.102Z"
   },
   {
    "duration": 59,
    "start_time": "2021-11-22T23:56:07.121Z"
   },
   {
    "duration": 12,
    "start_time": "2021-11-22T23:56:07.182Z"
   },
   {
    "duration": 3,
    "start_time": "2021-11-22T23:56:07.197Z"
   },
   {
    "duration": 14,
    "start_time": "2021-11-22T23:56:07.203Z"
   },
   {
    "duration": 48,
    "start_time": "2021-11-22T23:56:07.219Z"
   },
   {
    "duration": 22,
    "start_time": "2021-11-22T23:56:07.270Z"
   },
   {
    "duration": 104,
    "start_time": "2021-11-22T23:56:07.295Z"
   },
   {
    "duration": 109,
    "start_time": "2021-11-22T23:56:07.402Z"
   },
   {
    "duration": 69,
    "start_time": "2021-11-22T23:56:07.514Z"
   },
   {
    "duration": 262,
    "start_time": "2021-11-22T23:56:07.586Z"
   },
   {
    "duration": 55,
    "start_time": "2021-11-22T23:56:07.851Z"
   },
   {
    "duration": 67,
    "start_time": "2021-11-22T23:56:07.909Z"
   },
   {
    "duration": 6,
    "start_time": "2021-11-22T23:56:07.978Z"
   },
   {
    "duration": 32,
    "start_time": "2021-11-22T23:56:07.986Z"
   },
   {
    "duration": 64,
    "start_time": "2021-11-22T23:56:08.020Z"
   },
   {
    "duration": 9,
    "start_time": "2021-11-22T23:56:08.086Z"
   },
   {
    "duration": 6,
    "start_time": "2021-11-22T23:56:08.097Z"
   },
   {
    "duration": 5,
    "start_time": "2021-11-22T23:56:08.105Z"
   },
   {
    "duration": 6,
    "start_time": "2021-11-22T23:56:08.113Z"
   },
   {
    "duration": 7,
    "start_time": "2021-11-22T23:56:08.121Z"
   },
   {
    "duration": 5,
    "start_time": "2021-11-22T23:56:08.174Z"
   },
   {
    "duration": 86,
    "start_time": "2021-11-22T23:56:08.183Z"
   },
   {
    "duration": -5364,
    "start_time": "2021-11-22T23:56:13.635Z"
   },
   {
    "duration": -5375,
    "start_time": "2021-11-22T23:56:13.648Z"
   },
   {
    "duration": -5390,
    "start_time": "2021-11-22T23:56:13.664Z"
   },
   {
    "duration": -5401,
    "start_time": "2021-11-22T23:56:13.677Z"
   },
   {
    "duration": -5414,
    "start_time": "2021-11-22T23:56:13.691Z"
   },
   {
    "duration": -5425,
    "start_time": "2021-11-22T23:56:13.704Z"
   },
   {
    "duration": -5456,
    "start_time": "2021-11-22T23:56:13.737Z"
   },
   {
    "duration": -5467,
    "start_time": "2021-11-22T23:56:13.749Z"
   },
   {
    "duration": -5480,
    "start_time": "2021-11-22T23:56:13.764Z"
   },
   {
    "duration": -5491,
    "start_time": "2021-11-22T23:56:13.776Z"
   },
   {
    "duration": -5504,
    "start_time": "2021-11-22T23:56:13.791Z"
   },
   {
    "duration": -5516,
    "start_time": "2021-11-22T23:56:13.804Z"
   },
   {
    "duration": -5527,
    "start_time": "2021-11-22T23:56:13.817Z"
   },
   {
    "duration": -5538,
    "start_time": "2021-11-22T23:56:13.830Z"
   },
   {
    "duration": -5568,
    "start_time": "2021-11-22T23:56:13.861Z"
   },
   {
    "duration": -5579,
    "start_time": "2021-11-22T23:56:13.874Z"
   },
   {
    "duration": -5592,
    "start_time": "2021-11-22T23:56:13.888Z"
   },
   {
    "duration": -5603,
    "start_time": "2021-11-22T23:56:13.901Z"
   },
   {
    "duration": -5615,
    "start_time": "2021-11-22T23:56:13.915Z"
   },
   {
    "duration": -5628,
    "start_time": "2021-11-22T23:56:13.929Z"
   },
   {
    "duration": -5641,
    "start_time": "2021-11-22T23:56:13.943Z"
   },
   {
    "duration": -5652,
    "start_time": "2021-11-22T23:56:13.956Z"
   },
   {
    "duration": -5683,
    "start_time": "2021-11-22T23:56:13.988Z"
   },
   {
    "duration": -5695,
    "start_time": "2021-11-22T23:56:14.002Z"
   },
   {
    "duration": -5731,
    "start_time": "2021-11-22T23:56:14.039Z"
   },
   {
    "duration": 4,
    "start_time": "2021-11-22T23:56:33.961Z"
   },
   {
    "duration": 672716,
    "start_time": "2021-11-22T23:56:42.911Z"
   },
   {
    "duration": 2373,
    "start_time": "2021-11-23T00:13:09.702Z"
   },
   {
    "duration": 2359,
    "start_time": "2021-11-23T00:13:13.312Z"
   },
   {
    "duration": 23,
    "start_time": "2021-11-23T00:13:20.484Z"
   },
   {
    "duration": 134,
    "start_time": "2021-11-23T00:13:36.542Z"
   },
   {
    "duration": 471,
    "start_time": "2021-11-23T00:13:36.679Z"
   },
   {
    "duration": -570,
    "start_time": "2021-11-23T00:13:37.723Z"
   },
   {
    "duration": -581,
    "start_time": "2021-11-23T00:13:37.735Z"
   },
   {
    "duration": -592,
    "start_time": "2021-11-23T00:13:37.747Z"
   },
   {
    "duration": -604,
    "start_time": "2021-11-23T00:13:37.760Z"
   },
   {
    "duration": -613,
    "start_time": "2021-11-23T00:13:37.770Z"
   },
   {
    "duration": -641,
    "start_time": "2021-11-23T00:13:37.799Z"
   },
   {
    "duration": -652,
    "start_time": "2021-11-23T00:13:37.811Z"
   },
   {
    "duration": -663,
    "start_time": "2021-11-23T00:13:37.823Z"
   },
   {
    "duration": -673,
    "start_time": "2021-11-23T00:13:37.834Z"
   },
   {
    "duration": -688,
    "start_time": "2021-11-23T00:13:37.851Z"
   },
   {
    "duration": -698,
    "start_time": "2021-11-23T00:13:37.862Z"
   },
   {
    "duration": -709,
    "start_time": "2021-11-23T00:13:37.874Z"
   },
   {
    "duration": -718,
    "start_time": "2021-11-23T00:13:37.885Z"
   },
   {
    "duration": -749,
    "start_time": "2021-11-23T00:13:37.917Z"
   },
   {
    "duration": -759,
    "start_time": "2021-11-23T00:13:37.931Z"
   },
   {
    "duration": 49,
    "start_time": "2021-11-23T00:14:16.212Z"
   },
   {
    "duration": 74,
    "start_time": "2021-11-23T00:14:27.472Z"
   },
   {
    "duration": 6,
    "start_time": "2021-11-23T00:14:42.323Z"
   },
   {
    "duration": 369,
    "start_time": "2021-11-23T00:15:06.951Z"
   },
   {
    "duration": 52,
    "start_time": "2021-11-23T00:15:33.422Z"
   },
   {
    "duration": 1568,
    "start_time": "2021-11-23T11:54:01.055Z"
   },
   {
    "duration": 463,
    "start_time": "2021-11-23T11:54:02.625Z"
   },
   {
    "duration": 26,
    "start_time": "2021-11-23T11:54:03.091Z"
   },
   {
    "duration": 68,
    "start_time": "2021-11-23T11:54:03.120Z"
   },
   {
    "duration": 46,
    "start_time": "2021-11-23T11:54:03.191Z"
   },
   {
    "duration": 36,
    "start_time": "2021-11-23T11:54:03.239Z"
   },
   {
    "duration": 8,
    "start_time": "2021-11-23T11:54:03.277Z"
   },
   {
    "duration": 80,
    "start_time": "2021-11-23T11:54:03.289Z"
   },
   {
    "duration": 29,
    "start_time": "2021-11-23T11:54:03.372Z"
   },
   {
    "duration": 25,
    "start_time": "2021-11-23T11:54:03.404Z"
   },
   {
    "duration": 16,
    "start_time": "2021-11-23T11:54:03.432Z"
   },
   {
    "duration": 8,
    "start_time": "2021-11-23T11:54:03.467Z"
   },
   {
    "duration": 23,
    "start_time": "2021-11-23T11:54:03.479Z"
   },
   {
    "duration": 7,
    "start_time": "2021-11-23T11:54:03.505Z"
   },
   {
    "duration": 20,
    "start_time": "2021-11-23T11:54:03.514Z"
   },
   {
    "duration": 46,
    "start_time": "2021-11-23T11:54:03.569Z"
   },
   {
    "duration": 14,
    "start_time": "2021-11-23T11:54:03.618Z"
   },
   {
    "duration": 40,
    "start_time": "2021-11-23T11:54:03.635Z"
   },
   {
    "duration": 19,
    "start_time": "2021-11-23T11:54:03.679Z"
   },
   {
    "duration": 27,
    "start_time": "2021-11-23T11:54:03.701Z"
   },
   {
    "duration": 38,
    "start_time": "2021-11-23T11:54:03.731Z"
   },
   {
    "duration": 8,
    "start_time": "2021-11-23T11:54:03.772Z"
   },
   {
    "duration": 15,
    "start_time": "2021-11-23T11:54:03.790Z"
   },
   {
    "duration": 12,
    "start_time": "2021-11-23T11:54:03.810Z"
   },
   {
    "duration": 13,
    "start_time": "2021-11-23T11:54:03.869Z"
   },
   {
    "duration": 10,
    "start_time": "2021-11-23T11:54:03.885Z"
   },
   {
    "duration": 11,
    "start_time": "2021-11-23T11:54:03.898Z"
   },
   {
    "duration": 55,
    "start_time": "2021-11-23T11:54:03.912Z"
   },
   {
    "duration": 11,
    "start_time": "2021-11-23T11:54:03.972Z"
   },
   {
    "duration": 10,
    "start_time": "2021-11-23T11:54:03.987Z"
   },
   {
    "duration": 20,
    "start_time": "2021-11-23T11:54:04.000Z"
   },
   {
    "duration": 67,
    "start_time": "2021-11-23T11:54:04.023Z"
   },
   {
    "duration": 30,
    "start_time": "2021-11-23T11:54:04.093Z"
   },
   {
    "duration": 50,
    "start_time": "2021-11-23T11:54:04.126Z"
   },
   {
    "duration": 89,
    "start_time": "2021-11-23T11:54:04.179Z"
   },
   {
    "duration": 7,
    "start_time": "2021-11-23T11:54:04.271Z"
   },
   {
    "duration": 12,
    "start_time": "2021-11-23T11:54:04.281Z"
   },
   {
    "duration": 12,
    "start_time": "2021-11-23T11:54:04.296Z"
   },
   {
    "duration": 7,
    "start_time": "2021-11-23T11:54:04.311Z"
   },
   {
    "duration": 49,
    "start_time": "2021-11-23T11:54:04.320Z"
   },
   {
    "duration": 18,
    "start_time": "2021-11-23T11:54:04.371Z"
   },
   {
    "duration": 19,
    "start_time": "2021-11-23T11:54:04.392Z"
   },
   {
    "duration": 14,
    "start_time": "2021-11-23T11:54:04.413Z"
   },
   {
    "duration": 41,
    "start_time": "2021-11-23T11:54:04.430Z"
   },
   {
    "duration": 14,
    "start_time": "2021-11-23T11:54:04.473Z"
   },
   {
    "duration": 42,
    "start_time": "2021-11-23T11:54:04.490Z"
   },
   {
    "duration": 50,
    "start_time": "2021-11-23T11:54:04.535Z"
   },
   {
    "duration": 33,
    "start_time": "2021-11-23T11:54:04.588Z"
   },
   {
    "duration": 14,
    "start_time": "2021-11-23T11:54:04.625Z"
   },
   {
    "duration": 5,
    "start_time": "2021-11-23T11:54:04.669Z"
   },
   {
    "duration": 25,
    "start_time": "2021-11-23T11:54:04.678Z"
   },
   {
    "duration": 24,
    "start_time": "2021-11-23T11:54:04.707Z"
   },
   {
    "duration": 52,
    "start_time": "2021-11-23T11:54:04.734Z"
   },
   {
    "duration": 99,
    "start_time": "2021-11-23T11:54:04.789Z"
   },
   {
    "duration": 115,
    "start_time": "2021-11-23T11:54:04.890Z"
   },
   {
    "duration": 72,
    "start_time": "2021-11-23T11:54:05.007Z"
   },
   {
    "duration": 267,
    "start_time": "2021-11-23T11:54:05.082Z"
   },
   {
    "duration": 57,
    "start_time": "2021-11-23T11:54:05.352Z"
   },
   {
    "duration": 82,
    "start_time": "2021-11-23T11:54:05.412Z"
   },
   {
    "duration": 6,
    "start_time": "2021-11-23T11:54:05.496Z"
   },
   {
    "duration": 35,
    "start_time": "2021-11-23T11:54:05.504Z"
   },
   {
    "duration": 54,
    "start_time": "2021-11-23T11:54:05.542Z"
   },
   {
    "duration": 22,
    "start_time": "2021-11-23T11:54:05.599Z"
   },
   {
    "duration": 8,
    "start_time": "2021-11-23T11:54:05.625Z"
   },
   {
    "duration": 35,
    "start_time": "2021-11-23T11:54:05.637Z"
   },
   {
    "duration": 9,
    "start_time": "2021-11-23T11:54:05.674Z"
   },
   {
    "duration": 7,
    "start_time": "2021-11-23T11:54:05.686Z"
   },
   {
    "duration": 4,
    "start_time": "2021-11-23T11:54:05.702Z"
   },
   {
    "duration": 109,
    "start_time": "2021-11-23T11:54:05.709Z"
   },
   {
    "duration": -3723,
    "start_time": "2021-11-23T11:54:09.543Z"
   },
   {
    "duration": -3735,
    "start_time": "2021-11-23T11:54:09.557Z"
   },
   {
    "duration": -3748,
    "start_time": "2021-11-23T11:54:09.571Z"
   },
   {
    "duration": -3760,
    "start_time": "2021-11-23T11:54:09.584Z"
   },
   {
    "duration": -3772,
    "start_time": "2021-11-23T11:54:09.598Z"
   },
   {
    "duration": -3784,
    "start_time": "2021-11-23T11:54:09.611Z"
   },
   {
    "duration": -3838,
    "start_time": "2021-11-23T11:54:09.666Z"
   },
   {
    "duration": -3850,
    "start_time": "2021-11-23T11:54:09.681Z"
   },
   {
    "duration": -3862,
    "start_time": "2021-11-23T11:54:09.695Z"
   },
   {
    "duration": -3874,
    "start_time": "2021-11-23T11:54:09.709Z"
   },
   {
    "duration": -3885,
    "start_time": "2021-11-23T11:54:09.723Z"
   },
   {
    "duration": -3895,
    "start_time": "2021-11-23T11:54:09.736Z"
   },
   {
    "duration": -3907,
    "start_time": "2021-11-23T11:54:09.751Z"
   },
   {
    "duration": -3949,
    "start_time": "2021-11-23T11:54:09.795Z"
   },
   {
    "duration": -3962,
    "start_time": "2021-11-23T11:54:09.811Z"
   },
   {
    "duration": -3972,
    "start_time": "2021-11-23T11:54:09.824Z"
   },
   {
    "duration": -3984,
    "start_time": "2021-11-23T11:54:09.838Z"
   },
   {
    "duration": -3994,
    "start_time": "2021-11-23T11:54:09.851Z"
   },
   {
    "duration": -4009,
    "start_time": "2021-11-23T11:54:09.868Z"
   },
   {
    "duration": -4015,
    "start_time": "2021-11-23T11:54:09.881Z"
   },
   {
    "duration": -4045,
    "start_time": "2021-11-23T11:54:09.914Z"
   },
   {
    "duration": -4058,
    "start_time": "2021-11-23T11:54:09.930Z"
   },
   {
    "duration": -4177,
    "start_time": "2021-11-23T11:54:10.052Z"
   },
   {
    "duration": -4204,
    "start_time": "2021-11-23T11:54:10.082Z"
   },
   {
    "duration": -4220,
    "start_time": "2021-11-23T11:54:10.101Z"
   },
   {
    "duration": 6,
    "start_time": "2021-11-23T11:54:22.165Z"
   },
   {
    "duration": 668153,
    "start_time": "2021-11-23T11:54:23.924Z"
   },
   {
    "duration": 2355,
    "start_time": "2021-11-23T12:07:07.025Z"
   },
   {
    "duration": 2257,
    "start_time": "2021-11-23T12:07:11.136Z"
   },
   {
    "duration": 21,
    "start_time": "2021-11-23T12:07:16.763Z"
   },
   {
    "duration": 142,
    "start_time": "2021-11-23T12:07:36.612Z"
   },
   {
    "duration": 59,
    "start_time": "2021-11-23T12:07:36.757Z"
   },
   {
    "duration": 87,
    "start_time": "2021-11-23T12:07:36.820Z"
   },
   {
    "duration": 8,
    "start_time": "2021-11-23T12:07:36.911Z"
   },
   {
    "duration": 405,
    "start_time": "2021-11-23T12:07:36.921Z"
   },
   {
    "duration": 47,
    "start_time": "2021-11-23T12:07:37.328Z"
   },
   {
    "duration": 3509,
    "start_time": "2021-11-23T12:07:37.378Z"
   },
   {
    "duration": 16,
    "start_time": "2021-11-23T12:07:40.889Z"
   },
   {
    "duration": 98,
    "start_time": "2021-11-23T12:07:40.909Z"
   },
   {
    "duration": 7,
    "start_time": "2021-11-23T12:07:41.010Z"
   },
   {
    "duration": 6095,
    "start_time": "2021-11-23T12:07:41.020Z"
   },
   {
    "duration": 51,
    "start_time": "2021-11-23T12:07:47.118Z"
   },
   {
    "duration": 13,
    "start_time": "2021-11-23T12:07:47.173Z"
   },
   {
    "duration": 685,
    "start_time": "2021-11-23T12:07:47.189Z"
   },
   {
    "duration": -262,
    "start_time": "2021-11-23T12:07:48.139Z"
   },
   {
    "duration": -274,
    "start_time": "2021-11-23T12:07:48.153Z"
   },
   {
    "duration": -290,
    "start_time": "2021-11-23T12:07:48.171Z"
   },
   {
    "duration": 39,
    "start_time": "2021-11-23T12:08:05.666Z"
   },
   {
    "duration": 26019,
    "start_time": "2021-11-23T12:09:31.266Z"
   },
   {
    "duration": 4,
    "start_time": "2021-11-23T12:12:40.325Z"
   },
   {
    "duration": 313,
    "start_time": "2021-11-23T12:13:13.205Z"
   },
   {
    "duration": 300,
    "start_time": "2021-11-23T12:13:27.004Z"
   },
   {
    "duration": 5,
    "start_time": "2021-11-23T12:13:56.444Z"
   },
   {
    "duration": 27738,
    "start_time": "2021-11-23T12:15:43.655Z"
   },
   {
    "duration": 5,
    "start_time": "2021-11-23T12:17:06.015Z"
   },
   {
    "duration": 41,
    "start_time": "2021-11-23T12:17:42.113Z"
   },
   {
    "duration": 7,
    "start_time": "2021-11-23T12:19:13.505Z"
   },
   {
    "duration": 6,
    "start_time": "2021-11-23T12:19:16.325Z"
   },
   {
    "duration": 6,
    "start_time": "2021-11-23T12:22:20.935Z"
   },
   {
    "duration": 8,
    "start_time": "2021-11-23T12:23:14.513Z"
   },
   {
    "duration": 62,
    "start_time": "2021-11-23T12:24:33.845Z"
   },
   {
    "duration": 28,
    "start_time": "2021-11-23T12:24:50.323Z"
   },
   {
    "duration": 6,
    "start_time": "2021-11-23T12:24:53.215Z"
   },
   {
    "duration": 6,
    "start_time": "2021-11-23T12:24:55.425Z"
   },
   {
    "duration": 15792,
    "start_time": "2021-11-23T12:25:05.204Z"
   },
   {
    "duration": 42,
    "start_time": "2021-11-23T12:25:33.216Z"
   },
   {
    "duration": 7,
    "start_time": "2021-11-23T12:27:01.643Z"
   },
   {
    "duration": 7,
    "start_time": "2021-11-23T12:27:14.145Z"
   },
   {
    "duration": 7,
    "start_time": "2021-11-23T12:27:24.485Z"
   },
   {
    "duration": 7,
    "start_time": "2021-11-23T12:27:37.763Z"
   },
   {
    "duration": 7,
    "start_time": "2021-11-23T12:27:51.271Z"
   },
   {
    "duration": 17,
    "start_time": "2021-11-23T12:28:07.325Z"
   },
   {
    "duration": 22,
    "start_time": "2021-11-23T12:29:56.683Z"
   },
   {
    "duration": 33,
    "start_time": "2021-11-23T12:32:45.427Z"
   },
   {
    "duration": 1444,
    "start_time": "2021-11-23T12:34:01.823Z"
   },
   {
    "duration": 438,
    "start_time": "2021-11-23T12:34:06.160Z"
   },
   {
    "duration": 40,
    "start_time": "2021-11-23T12:34:40.004Z"
   },
   {
    "duration": 427,
    "start_time": "2021-11-23T12:36:09.681Z"
   },
   {
    "duration": 5,
    "start_time": "2021-11-23T12:36:22.926Z"
   },
   {
    "duration": 494,
    "start_time": "2021-11-23T12:36:22.933Z"
   },
   {
    "duration": 47,
    "start_time": "2021-11-23T12:36:23.431Z"
   },
   {
    "duration": 42,
    "start_time": "2021-11-23T12:36:23.481Z"
   },
   {
    "duration": 76,
    "start_time": "2021-11-23T12:36:23.526Z"
   },
   {
    "duration": 16,
    "start_time": "2021-11-23T12:36:23.605Z"
   },
   {
    "duration": 40,
    "start_time": "2021-11-23T12:36:23.627Z"
   },
   {
    "duration": 17,
    "start_time": "2021-11-23T12:36:23.672Z"
   },
   {
    "duration": 8,
    "start_time": "2021-11-23T12:36:23.692Z"
   },
   {
    "duration": 65,
    "start_time": "2021-11-23T12:36:23.703Z"
   },
   {
    "duration": 10,
    "start_time": "2021-11-23T12:36:23.770Z"
   },
   {
    "duration": 11,
    "start_time": "2021-11-23T12:36:23.782Z"
   },
   {
    "duration": 8,
    "start_time": "2021-11-23T12:36:23.796Z"
   },
   {
    "duration": 7,
    "start_time": "2021-11-23T12:36:23.807Z"
   },
   {
    "duration": 57,
    "start_time": "2021-11-23T12:36:23.817Z"
   },
   {
    "duration": 48,
    "start_time": "2021-11-23T12:36:23.877Z"
   },
   {
    "duration": 13,
    "start_time": "2021-11-23T12:36:23.928Z"
   },
   {
    "duration": 12,
    "start_time": "2021-11-23T12:36:23.968Z"
   },
   {
    "duration": 17,
    "start_time": "2021-11-23T12:36:23.985Z"
   },
   {
    "duration": 12,
    "start_time": "2021-11-23T12:36:24.005Z"
   },
   {
    "duration": 7,
    "start_time": "2021-11-23T12:36:24.019Z"
   },
   {
    "duration": 46,
    "start_time": "2021-11-23T12:36:24.028Z"
   },
   {
    "duration": 15,
    "start_time": "2021-11-23T12:36:24.076Z"
   },
   {
    "duration": 11,
    "start_time": "2021-11-23T12:36:24.094Z"
   },
   {
    "duration": 9,
    "start_time": "2021-11-23T12:36:24.107Z"
   },
   {
    "duration": 49,
    "start_time": "2021-11-23T12:36:24.119Z"
   },
   {
    "duration": 15,
    "start_time": "2021-11-23T12:36:24.172Z"
   },
   {
    "duration": 13,
    "start_time": "2021-11-23T12:36:24.189Z"
   },
   {
    "duration": 8,
    "start_time": "2021-11-23T12:36:24.205Z"
   },
   {
    "duration": 57,
    "start_time": "2021-11-23T12:36:24.216Z"
   },
   {
    "duration": 9,
    "start_time": "2021-11-23T12:36:24.276Z"
   },
   {
    "duration": 21,
    "start_time": "2021-11-23T12:36:24.288Z"
   },
   {
    "duration": 63,
    "start_time": "2021-11-23T12:36:24.311Z"
   },
   {
    "duration": 19,
    "start_time": "2021-11-23T12:36:24.377Z"
   },
   {
    "duration": 92,
    "start_time": "2021-11-23T12:36:24.399Z"
   },
   {
    "duration": 8,
    "start_time": "2021-11-23T12:36:24.493Z"
   },
   {
    "duration": 8,
    "start_time": "2021-11-23T12:36:24.504Z"
   },
   {
    "duration": 8,
    "start_time": "2021-11-23T12:36:24.514Z"
   },
   {
    "duration": 44,
    "start_time": "2021-11-23T12:36:24.525Z"
   },
   {
    "duration": 10,
    "start_time": "2021-11-23T12:36:24.572Z"
   },
   {
    "duration": 17,
    "start_time": "2021-11-23T12:36:24.584Z"
   },
   {
    "duration": 16,
    "start_time": "2021-11-23T12:36:24.603Z"
   },
   {
    "duration": 46,
    "start_time": "2021-11-23T12:36:24.621Z"
   },
   {
    "duration": 8,
    "start_time": "2021-11-23T12:36:24.670Z"
   },
   {
    "duration": 16,
    "start_time": "2021-11-23T12:36:24.680Z"
   },
   {
    "duration": 24,
    "start_time": "2021-11-23T12:36:24.699Z"
   },
   {
    "duration": 50,
    "start_time": "2021-11-23T12:36:24.725Z"
   },
   {
    "duration": 20,
    "start_time": "2021-11-23T12:36:24.778Z"
   },
   {
    "duration": 10,
    "start_time": "2021-11-23T12:36:24.800Z"
   },
   {
    "duration": 4,
    "start_time": "2021-11-23T12:36:31.173Z"
   },
   {
    "duration": 11,
    "start_time": "2021-11-23T12:36:33.202Z"
   },
   {
    "duration": 13,
    "start_time": "2021-11-23T12:36:34.382Z"
   },
   {
    "duration": 17,
    "start_time": "2021-11-23T12:36:36.743Z"
   },
   {
    "duration": 16,
    "start_time": "2021-11-23T12:37:19.733Z"
   },
   {
    "duration": 8160,
    "start_time": "2021-11-23T12:38:13.801Z"
   },
   {
    "duration": 24,
    "start_time": "2021-11-23T12:38:41.103Z"
   },
   {
    "duration": 64,
    "start_time": "2021-11-23T12:38:44.603Z"
   },
   {
    "duration": 180,
    "start_time": "2021-11-23T12:38:48.025Z"
   },
   {
    "duration": 24,
    "start_time": "2021-11-23T12:38:51.712Z"
   },
   {
    "duration": 19,
    "start_time": "2021-11-23T12:39:53.462Z"
   },
   {
    "duration": 5,
    "start_time": "2021-11-23T12:40:07.989Z"
   },
   {
    "duration": 470,
    "start_time": "2021-11-23T12:40:07.999Z"
   },
   {
    "duration": 24,
    "start_time": "2021-11-23T12:40:08.471Z"
   },
   {
    "duration": 69,
    "start_time": "2021-11-23T12:40:08.498Z"
   },
   {
    "duration": 46,
    "start_time": "2021-11-23T12:40:08.570Z"
   },
   {
    "duration": 16,
    "start_time": "2021-11-23T12:40:08.618Z"
   },
   {
    "duration": 36,
    "start_time": "2021-11-23T12:40:08.636Z"
   },
   {
    "duration": 18,
    "start_time": "2021-11-23T12:40:08.675Z"
   },
   {
    "duration": 7,
    "start_time": "2021-11-23T12:40:08.697Z"
   },
   {
    "duration": 22,
    "start_time": "2021-11-23T12:40:08.707Z"
   },
   {
    "duration": 9,
    "start_time": "2021-11-23T12:40:08.768Z"
   },
   {
    "duration": 16,
    "start_time": "2021-11-23T12:40:08.779Z"
   },
   {
    "duration": 16,
    "start_time": "2021-11-23T12:40:08.797Z"
   },
   {
    "duration": 14,
    "start_time": "2021-11-23T12:40:08.816Z"
   },
   {
    "duration": 40,
    "start_time": "2021-11-23T12:40:08.833Z"
   },
   {
    "duration": 50,
    "start_time": "2021-11-23T12:40:08.877Z"
   },
   {
    "duration": 14,
    "start_time": "2021-11-23T12:40:08.930Z"
   },
   {
    "duration": 35,
    "start_time": "2021-11-23T12:40:08.946Z"
   },
   {
    "duration": 25,
    "start_time": "2021-11-23T12:40:08.983Z"
   },
   {
    "duration": 9,
    "start_time": "2021-11-23T12:40:09.011Z"
   },
   {
    "duration": 12,
    "start_time": "2021-11-23T12:40:09.023Z"
   },
   {
    "duration": 8,
    "start_time": "2021-11-23T12:40:09.067Z"
   },
   {
    "duration": 23,
    "start_time": "2021-11-23T12:40:09.078Z"
   },
   {
    "duration": 11,
    "start_time": "2021-11-23T12:40:09.109Z"
   },
   {
    "duration": 50,
    "start_time": "2021-11-23T12:40:09.125Z"
   },
   {
    "duration": 10,
    "start_time": "2021-11-23T12:40:09.178Z"
   },
   {
    "duration": 9,
    "start_time": "2021-11-23T12:40:09.191Z"
   },
   {
    "duration": 17,
    "start_time": "2021-11-23T12:40:09.203Z"
   },
   {
    "duration": 47,
    "start_time": "2021-11-23T12:40:09.223Z"
   },
   {
    "duration": 7,
    "start_time": "2021-11-23T12:40:09.273Z"
   },
   {
    "duration": 7,
    "start_time": "2021-11-23T12:40:09.283Z"
   },
   {
    "duration": 24,
    "start_time": "2021-11-23T12:40:09.293Z"
   },
   {
    "duration": 72,
    "start_time": "2021-11-23T12:40:09.319Z"
   },
   {
    "duration": 21,
    "start_time": "2021-11-23T12:40:09.393Z"
   },
   {
    "duration": 132,
    "start_time": "2021-11-23T12:40:09.417Z"
   },
   {
    "duration": 21,
    "start_time": "2021-11-23T12:40:09.552Z"
   },
   {
    "duration": 12,
    "start_time": "2021-11-23T12:40:09.577Z"
   },
   {
    "duration": 9,
    "start_time": "2021-11-23T12:40:09.592Z"
   },
   {
    "duration": 11,
    "start_time": "2021-11-23T12:40:09.604Z"
   },
   {
    "duration": 51,
    "start_time": "2021-11-23T12:40:09.618Z"
   },
   {
    "duration": 22,
    "start_time": "2021-11-23T12:40:09.672Z"
   },
   {
    "duration": 17,
    "start_time": "2021-11-23T12:40:09.697Z"
   },
   {
    "duration": 13,
    "start_time": "2021-11-23T12:40:09.716Z"
   },
   {
    "duration": 38,
    "start_time": "2021-11-23T12:40:09.732Z"
   },
   {
    "duration": 15,
    "start_time": "2021-11-23T12:40:09.773Z"
   },
   {
    "duration": 27,
    "start_time": "2021-11-23T12:40:09.792Z"
   },
   {
    "duration": 51,
    "start_time": "2021-11-23T12:40:09.822Z"
   },
   {
    "duration": 33,
    "start_time": "2021-11-23T12:40:09.876Z"
   },
   {
    "duration": 14,
    "start_time": "2021-11-23T12:40:09.912Z"
   },
   {
    "duration": 3,
    "start_time": "2021-11-23T12:40:09.929Z"
   },
   {
    "duration": 12,
    "start_time": "2021-11-23T12:40:09.969Z"
   },
   {
    "duration": 20,
    "start_time": "2021-11-23T12:40:09.983Z"
   },
   {
    "duration": 26,
    "start_time": "2021-11-23T12:40:10.005Z"
   },
   {
    "duration": 23,
    "start_time": "2021-11-23T12:40:18.722Z"
   },
   {
    "duration": 18,
    "start_time": "2021-11-23T12:40:33.533Z"
   },
   {
    "duration": 64,
    "start_time": "2021-11-23T12:40:56.133Z"
   },
   {
    "duration": 24,
    "start_time": "2021-11-23T12:41:03.543Z"
   },
   {
    "duration": 14,
    "start_time": "2021-11-23T12:44:36.680Z"
   },
   {
    "duration": 71,
    "start_time": "2021-11-23T12:54:23.443Z"
   },
   {
    "duration": 50,
    "start_time": "2021-11-23T12:54:51.643Z"
   },
   {
    "duration": 11,
    "start_time": "2021-11-23T13:01:08.443Z"
   },
   {
    "duration": 5,
    "start_time": "2021-11-23T13:05:02.123Z"
   },
   {
    "duration": 483,
    "start_time": "2021-11-23T13:05:02.130Z"
   },
   {
    "duration": 23,
    "start_time": "2021-11-23T13:05:02.616Z"
   },
   {
    "duration": 63,
    "start_time": "2021-11-23T13:05:02.641Z"
   },
   {
    "duration": 70,
    "start_time": "2021-11-23T13:05:02.706Z"
   },
   {
    "duration": 14,
    "start_time": "2021-11-23T13:05:02.778Z"
   },
   {
    "duration": 7,
    "start_time": "2021-11-23T13:05:02.794Z"
   },
   {
    "duration": 20,
    "start_time": "2021-11-23T13:05:02.804Z"
   },
   {
    "duration": 43,
    "start_time": "2021-11-23T13:05:02.828Z"
   },
   {
    "duration": 17,
    "start_time": "2021-11-23T13:05:02.874Z"
   },
   {
    "duration": 9,
    "start_time": "2021-11-23T13:05:02.893Z"
   },
   {
    "duration": 8,
    "start_time": "2021-11-23T13:05:02.904Z"
   },
   {
    "duration": 52,
    "start_time": "2021-11-23T13:05:02.915Z"
   },
   {
    "duration": 7,
    "start_time": "2021-11-23T13:05:02.969Z"
   },
   {
    "duration": 13,
    "start_time": "2021-11-23T13:05:02.979Z"
   },
   {
    "duration": 88,
    "start_time": "2021-11-23T13:05:02.994Z"
   },
   {
    "duration": 16,
    "start_time": "2021-11-23T13:05:03.085Z"
   },
   {
    "duration": 14,
    "start_time": "2021-11-23T13:05:03.104Z"
   },
   {
    "duration": 17,
    "start_time": "2021-11-23T13:05:03.167Z"
   },
   {
    "duration": 17,
    "start_time": "2021-11-23T13:05:03.186Z"
   },
   {
    "duration": 10,
    "start_time": "2021-11-23T13:05:03.205Z"
   },
   {
    "duration": 8,
    "start_time": "2021-11-23T13:05:03.218Z"
   },
   {
    "duration": 48,
    "start_time": "2021-11-23T13:05:03.228Z"
   },
   {
    "duration": 17,
    "start_time": "2021-11-23T13:05:03.279Z"
   },
   {
    "duration": 9,
    "start_time": "2021-11-23T13:05:03.299Z"
   },
   {
    "duration": 11,
    "start_time": "2021-11-23T13:05:03.310Z"
   },
   {
    "duration": 42,
    "start_time": "2021-11-23T13:05:03.330Z"
   },
   {
    "duration": 14,
    "start_time": "2021-11-23T13:05:03.377Z"
   },
   {
    "duration": 9,
    "start_time": "2021-11-23T13:05:03.394Z"
   },
   {
    "duration": 9,
    "start_time": "2021-11-23T13:05:03.406Z"
   },
   {
    "duration": 53,
    "start_time": "2021-11-23T13:05:03.419Z"
   },
   {
    "duration": 34,
    "start_time": "2021-11-23T13:05:03.474Z"
   },
   {
    "duration": 58,
    "start_time": "2021-11-23T13:05:03.511Z"
   },
   {
    "duration": 21,
    "start_time": "2021-11-23T13:05:03.571Z"
   },
   {
    "duration": 105,
    "start_time": "2021-11-23T13:05:03.594Z"
   },
   {
    "duration": 8,
    "start_time": "2021-11-23T13:05:03.702Z"
   },
   {
    "duration": 9,
    "start_time": "2021-11-23T13:05:03.712Z"
   },
   {
    "duration": 9,
    "start_time": "2021-11-23T13:05:03.723Z"
   },
   {
    "duration": 37,
    "start_time": "2021-11-23T13:05:03.734Z"
   },
   {
    "duration": 16,
    "start_time": "2021-11-23T13:05:03.773Z"
   },
   {
    "duration": 21,
    "start_time": "2021-11-23T13:05:03.791Z"
   },
   {
    "duration": 12,
    "start_time": "2021-11-23T13:05:03.815Z"
   },
   {
    "duration": 48,
    "start_time": "2021-11-23T13:05:03.830Z"
   },
   {
    "duration": 7,
    "start_time": "2021-11-23T13:05:03.880Z"
   },
   {
    "duration": 8,
    "start_time": "2021-11-23T13:05:03.890Z"
   },
   {
    "duration": 25,
    "start_time": "2021-11-23T13:05:03.900Z"
   },
   {
    "duration": 15,
    "start_time": "2021-11-23T13:05:03.968Z"
   },
   {
    "duration": 17,
    "start_time": "2021-11-23T13:05:03.985Z"
   },
   {
    "duration": 12,
    "start_time": "2021-11-23T13:05:04.005Z"
   },
   {
    "duration": 48,
    "start_time": "2021-11-23T13:05:04.020Z"
   },
   {
    "duration": 12,
    "start_time": "2021-11-23T13:05:04.071Z"
   },
   {
    "duration": 25,
    "start_time": "2021-11-23T13:05:04.086Z"
   },
   {
    "duration": 27,
    "start_time": "2021-11-23T13:05:04.114Z"
   },
   {
    "duration": 63,
    "start_time": "2021-11-23T13:05:04.167Z"
   },
   {
    "duration": 117,
    "start_time": "2021-11-23T13:05:04.232Z"
   },
   {
    "duration": 58,
    "start_time": "2021-11-23T13:05:04.351Z"
   },
   {
    "duration": 292,
    "start_time": "2021-11-23T13:05:04.411Z"
   },
   {
    "duration": 61,
    "start_time": "2021-11-23T13:05:04.706Z"
   },
   {
    "duration": 50,
    "start_time": "2021-11-23T13:05:04.770Z"
   },
   {
    "duration": 7,
    "start_time": "2021-11-23T13:05:04.823Z"
   },
   {
    "duration": 60,
    "start_time": "2021-11-23T13:05:04.833Z"
   },
   {
    "duration": 31,
    "start_time": "2021-11-23T13:05:04.896Z"
   },
   {
    "duration": 42,
    "start_time": "2021-11-23T13:05:04.929Z"
   },
   {
    "duration": 5,
    "start_time": "2021-11-23T13:05:04.973Z"
   },
   {
    "duration": 8,
    "start_time": "2021-11-23T13:05:04.980Z"
   },
   {
    "duration": 7,
    "start_time": "2021-11-23T13:05:04.990Z"
   },
   {
    "duration": 7,
    "start_time": "2021-11-23T13:05:04.999Z"
   },
   {
    "duration": 7,
    "start_time": "2021-11-23T13:05:05.008Z"
   },
   {
    "duration": 152,
    "start_time": "2021-11-23T13:05:05.017Z"
   },
   {
    "duration": -5237,
    "start_time": "2021-11-23T13:05:10.409Z"
   },
   {
    "duration": -5247,
    "start_time": "2021-11-23T13:05:10.421Z"
   },
   {
    "duration": -5258,
    "start_time": "2021-11-23T13:05:10.433Z"
   },
   {
    "duration": -5269,
    "start_time": "2021-11-23T13:05:10.445Z"
   },
   {
    "duration": -5281,
    "start_time": "2021-11-23T13:05:10.459Z"
   },
   {
    "duration": -5292,
    "start_time": "2021-11-23T13:05:10.471Z"
   },
   {
    "duration": -5305,
    "start_time": "2021-11-23T13:05:10.485Z"
   },
   {
    "duration": -5361,
    "start_time": "2021-11-23T13:05:10.543Z"
   },
   {
    "duration": -5373,
    "start_time": "2021-11-23T13:05:10.557Z"
   },
   {
    "duration": -5383,
    "start_time": "2021-11-23T13:05:10.569Z"
   },
   {
    "duration": -5393,
    "start_time": "2021-11-23T13:05:10.581Z"
   },
   {
    "duration": -5403,
    "start_time": "2021-11-23T13:05:10.593Z"
   },
   {
    "duration": -5413,
    "start_time": "2021-11-23T13:05:10.605Z"
   },
   {
    "duration": -5423,
    "start_time": "2021-11-23T13:05:10.617Z"
   },
   {
    "duration": -5433,
    "start_time": "2021-11-23T13:05:10.629Z"
   },
   {
    "duration": -5459,
    "start_time": "2021-11-23T13:05:10.657Z"
   },
   {
    "duration": -5470,
    "start_time": "2021-11-23T13:05:10.670Z"
   },
   {
    "duration": -5477,
    "start_time": "2021-11-23T13:05:10.680Z"
   },
   {
    "duration": -5488,
    "start_time": "2021-11-23T13:05:10.693Z"
   },
   {
    "duration": -5497,
    "start_time": "2021-11-23T13:05:10.704Z"
   },
   {
    "duration": -5507,
    "start_time": "2021-11-23T13:05:10.716Z"
   },
   {
    "duration": -5460,
    "start_time": "2021-11-23T13:05:10.728Z"
   },
   {
    "duration": -5470,
    "start_time": "2021-11-23T13:05:10.740Z"
   },
   {
    "duration": -5478,
    "start_time": "2021-11-23T13:05:10.751Z"
   },
   {
    "duration": 4,
    "start_time": "2021-11-23T13:06:31.083Z"
   },
   {
    "duration": 640801,
    "start_time": "2021-11-23T13:06:33.681Z"
   },
   {
    "duration": 2259,
    "start_time": "2021-11-23T13:17:57.361Z"
   },
   {
    "duration": 2273,
    "start_time": "2021-11-23T13:18:02.224Z"
   },
   {
    "duration": 27,
    "start_time": "2021-11-23T13:18:08.464Z"
   },
   {
    "duration": 25,
    "start_time": "2021-11-23T13:18:17.853Z"
   },
   {
    "duration": 149,
    "start_time": "2021-11-23T13:18:30.866Z"
   },
   {
    "duration": 56,
    "start_time": "2021-11-23T13:18:31.017Z"
   },
   {
    "duration": 55,
    "start_time": "2021-11-23T13:18:31.076Z"
   },
   {
    "duration": 8,
    "start_time": "2021-11-23T13:18:31.134Z"
   },
   {
    "duration": 388,
    "start_time": "2021-11-23T13:18:31.168Z"
   },
   {
    "duration": 42,
    "start_time": "2021-11-23T13:18:31.558Z"
   },
   {
    "duration": 4096,
    "start_time": "2021-11-23T13:18:31.603Z"
   },
   {
    "duration": 16,
    "start_time": "2021-11-23T13:18:35.702Z"
   },
   {
    "duration": 106,
    "start_time": "2021-11-23T13:18:35.721Z"
   },
   {
    "duration": 8,
    "start_time": "2021-11-23T13:18:35.830Z"
   },
   {
    "duration": 32,
    "start_time": "2021-11-23T13:18:35.841Z"
   },
   {
    "duration": 34,
    "start_time": "2021-11-23T13:18:35.876Z"
   },
   {
    "duration": 19,
    "start_time": "2021-11-23T13:18:35.913Z"
   },
   {
    "duration": 72,
    "start_time": "2021-11-23T13:18:35.935Z"
   },
   {
    "duration": 10,
    "start_time": "2021-11-23T13:18:36.009Z"
   },
   {
    "duration": 7,
    "start_time": "2021-11-23T13:20:54.321Z"
   },
   {
    "duration": 9,
    "start_time": "2021-11-23T13:24:09.881Z"
   },
   {
    "duration": 111,
    "start_time": "2021-11-23T13:32:02.361Z"
   },
   {
    "duration": 114,
    "start_time": "2021-11-23T13:32:25.263Z"
   },
   {
    "duration": 500,
    "start_time": "2021-11-23T13:32:31.109Z"
   },
   {
    "duration": 145,
    "start_time": "2021-11-23T13:33:01.091Z"
   },
   {
    "duration": 121,
    "start_time": "2021-11-23T13:36:15.893Z"
   },
   {
    "duration": 453,
    "start_time": "2021-11-23T13:37:31.493Z"
   },
   {
    "duration": 315,
    "start_time": "2021-11-23T13:37:46.881Z"
   },
   {
    "duration": 306,
    "start_time": "2021-11-23T13:38:43.164Z"
   },
   {
    "duration": 366,
    "start_time": "2021-11-23T13:40:40.841Z"
   },
   {
    "duration": 307,
    "start_time": "2021-11-23T13:42:16.413Z"
   },
   {
    "duration": 357,
    "start_time": "2021-11-23T13:42:24.445Z"
   },
   {
    "duration": 277,
    "start_time": "2021-11-23T13:46:08.843Z"
   },
   {
    "duration": 290,
    "start_time": "2021-11-23T13:47:03.163Z"
   },
   {
    "duration": 5,
    "start_time": "2021-11-23T13:47:16.683Z"
   },
   {
    "duration": 5,
    "start_time": "2021-11-23T13:47:40.663Z"
   },
   {
    "duration": 7,
    "start_time": "2021-11-23T13:47:56.323Z"
   },
   {
    "duration": 1620,
    "start_time": "2021-11-24T22:34:30.297Z"
   },
   {
    "duration": 4068,
    "start_time": "2021-11-24T22:34:31.920Z"
   },
   {
    "duration": 25,
    "start_time": "2021-11-24T22:34:35.991Z"
   },
   {
    "duration": 50,
    "start_time": "2021-11-24T22:34:36.018Z"
   },
   {
    "duration": 43,
    "start_time": "2021-11-24T22:34:36.071Z"
   },
   {
    "duration": 42,
    "start_time": "2021-11-24T22:34:36.117Z"
   },
   {
    "duration": 8,
    "start_time": "2021-11-24T22:34:36.162Z"
   },
   {
    "duration": 18,
    "start_time": "2021-11-24T22:34:36.176Z"
   },
   {
    "duration": 8,
    "start_time": "2021-11-24T22:34:36.198Z"
   },
   {
    "duration": 57,
    "start_time": "2021-11-24T22:34:36.208Z"
   },
   {
    "duration": 8,
    "start_time": "2021-11-24T22:34:36.267Z"
   },
   {
    "duration": 16,
    "start_time": "2021-11-24T22:34:36.277Z"
   },
   {
    "duration": 8,
    "start_time": "2021-11-24T22:34:36.296Z"
   },
   {
    "duration": 6,
    "start_time": "2021-11-24T22:34:36.306Z"
   },
   {
    "duration": 50,
    "start_time": "2021-11-24T22:34:36.314Z"
   },
   {
    "duration": 45,
    "start_time": "2021-11-24T22:34:36.367Z"
   },
   {
    "duration": 11,
    "start_time": "2021-11-24T22:34:36.414Z"
   },
   {
    "duration": 37,
    "start_time": "2021-11-24T22:34:36.427Z"
   },
   {
    "duration": 15,
    "start_time": "2021-11-24T22:34:36.467Z"
   },
   {
    "duration": 15,
    "start_time": "2021-11-24T22:34:36.484Z"
   },
   {
    "duration": 14,
    "start_time": "2021-11-24T22:34:36.502Z"
   },
   {
    "duration": 11,
    "start_time": "2021-11-24T22:34:36.518Z"
   },
   {
    "duration": 14,
    "start_time": "2021-11-24T22:34:36.559Z"
   },
   {
    "duration": 14,
    "start_time": "2021-11-24T22:34:36.576Z"
   },
   {
    "duration": 8,
    "start_time": "2021-11-24T22:34:36.592Z"
   },
   {
    "duration": 8,
    "start_time": "2021-11-24T22:34:36.602Z"
   },
   {
    "duration": 8,
    "start_time": "2021-11-24T22:34:36.612Z"
   },
   {
    "duration": 10,
    "start_time": "2021-11-24T22:34:36.660Z"
   },
   {
    "duration": 7,
    "start_time": "2021-11-24T22:34:36.672Z"
   },
   {
    "duration": 18,
    "start_time": "2021-11-24T22:34:36.682Z"
   },
   {
    "duration": 20,
    "start_time": "2021-11-24T22:34:36.702Z"
   },
   {
    "duration": 41,
    "start_time": "2021-11-24T22:34:36.725Z"
   },
   {
    "duration": 35,
    "start_time": "2021-11-24T22:34:36.768Z"
   },
   {
    "duration": 19,
    "start_time": "2021-11-24T22:34:36.805Z"
   },
   {
    "duration": 107,
    "start_time": "2021-11-24T22:34:36.826Z"
   },
   {
    "duration": 8,
    "start_time": "2021-11-24T22:34:36.935Z"
   },
   {
    "duration": 27,
    "start_time": "2021-11-24T22:34:36.945Z"
   },
   {
    "duration": 17,
    "start_time": "2021-11-24T22:34:36.975Z"
   },
   {
    "duration": 23,
    "start_time": "2021-11-24T22:34:36.995Z"
   },
   {
    "duration": 19,
    "start_time": "2021-11-24T22:34:37.020Z"
   },
   {
    "duration": 27,
    "start_time": "2021-11-24T22:34:37.041Z"
   },
   {
    "duration": 29,
    "start_time": "2021-11-24T22:34:37.070Z"
   },
   {
    "duration": 22,
    "start_time": "2021-11-24T22:34:37.101Z"
   },
   {
    "duration": 20,
    "start_time": "2021-11-24T22:34:37.126Z"
   },
   {
    "duration": 23,
    "start_time": "2021-11-24T22:34:37.148Z"
   },
   {
    "duration": 29,
    "start_time": "2021-11-24T22:34:37.174Z"
   },
   {
    "duration": 15,
    "start_time": "2021-11-24T22:34:37.206Z"
   },
   {
    "duration": 21,
    "start_time": "2021-11-24T22:34:37.223Z"
   },
   {
    "duration": 10,
    "start_time": "2021-11-24T22:34:37.259Z"
   },
   {
    "duration": 12,
    "start_time": "2021-11-24T22:34:37.271Z"
   },
   {
    "duration": 25,
    "start_time": "2021-11-24T22:34:37.285Z"
   },
   {
    "duration": 22,
    "start_time": "2021-11-24T22:34:37.312Z"
   },
   {
    "duration": 35,
    "start_time": "2021-11-24T22:34:37.337Z"
   },
   {
    "duration": 84,
    "start_time": "2021-11-24T22:34:37.375Z"
   },
   {
    "duration": 111,
    "start_time": "2021-11-24T22:34:37.462Z"
   },
   {
    "duration": 53,
    "start_time": "2021-11-24T22:34:37.576Z"
   },
   {
    "duration": 267,
    "start_time": "2021-11-24T22:34:37.632Z"
   },
   {
    "duration": 58,
    "start_time": "2021-11-24T22:34:37.901Z"
   },
   {
    "duration": 49,
    "start_time": "2021-11-24T22:34:37.961Z"
   },
   {
    "duration": 5,
    "start_time": "2021-11-24T22:34:38.013Z"
   },
   {
    "duration": 54,
    "start_time": "2021-11-24T22:34:38.021Z"
   },
   {
    "duration": 33,
    "start_time": "2021-11-24T22:34:38.078Z"
   },
   {
    "duration": 9,
    "start_time": "2021-11-24T22:34:38.113Z"
   },
   {
    "duration": 22,
    "start_time": "2021-11-24T22:34:38.125Z"
   },
   {
    "duration": 8,
    "start_time": "2021-11-24T22:34:38.160Z"
   },
   {
    "duration": 16,
    "start_time": "2021-11-24T22:34:38.171Z"
   },
   {
    "duration": 14,
    "start_time": "2021-11-24T22:34:38.189Z"
   },
   {
    "duration": 13,
    "start_time": "2021-11-24T22:34:38.210Z"
   },
   {
    "duration": 145,
    "start_time": "2021-11-24T22:34:38.225Z"
   },
   {
    "duration": -3127,
    "start_time": "2021-11-24T22:34:41.500Z"
   },
   {
    "duration": -3182,
    "start_time": "2021-11-24T22:34:41.556Z"
   },
   {
    "duration": -3193,
    "start_time": "2021-11-24T22:34:41.569Z"
   },
   {
    "duration": -3204,
    "start_time": "2021-11-24T22:34:41.582Z"
   },
   {
    "duration": -3215,
    "start_time": "2021-11-24T22:34:41.594Z"
   },
   {
    "duration": -3226,
    "start_time": "2021-11-24T22:34:41.606Z"
   },
   {
    "duration": -3237,
    "start_time": "2021-11-24T22:34:41.619Z"
   },
   {
    "duration": -3248,
    "start_time": "2021-11-24T22:34:41.631Z"
   },
   {
    "duration": -3259,
    "start_time": "2021-11-24T22:34:41.644Z"
   },
   {
    "duration": -3284,
    "start_time": "2021-11-24T22:34:41.671Z"
   },
   {
    "duration": -3296,
    "start_time": "2021-11-24T22:34:41.684Z"
   },
   {
    "duration": -3308,
    "start_time": "2021-11-24T22:34:41.697Z"
   },
   {
    "duration": -3319,
    "start_time": "2021-11-24T22:34:41.710Z"
   },
   {
    "duration": -3329,
    "start_time": "2021-11-24T22:34:41.722Z"
   },
   {
    "duration": -3343,
    "start_time": "2021-11-24T22:34:41.737Z"
   },
   {
    "duration": -3352,
    "start_time": "2021-11-24T22:34:41.748Z"
   },
   {
    "duration": -3364,
    "start_time": "2021-11-24T22:34:41.761Z"
   },
   {
    "duration": -3705,
    "start_time": "2021-11-24T22:34:42.103Z"
   },
   {
    "duration": -3743,
    "start_time": "2021-11-24T22:34:42.143Z"
   },
   {
    "duration": -3825,
    "start_time": "2021-11-24T22:34:42.226Z"
   },
   {
    "duration": -3930,
    "start_time": "2021-11-24T22:34:42.333Z"
   },
   {
    "duration": -3946,
    "start_time": "2021-11-24T22:34:42.350Z"
   },
   {
    "duration": -3957,
    "start_time": "2021-11-24T22:34:42.363Z"
   },
   {
    "duration": -3968,
    "start_time": "2021-11-24T22:34:42.375Z"
   },
   {
    "duration": -4002,
    "start_time": "2021-11-24T22:34:42.411Z"
   },
   {
    "duration": 4,
    "start_time": "2021-11-24T22:35:07.948Z"
   },
   {
    "duration": 638155,
    "start_time": "2021-11-24T22:35:09.718Z"
   },
   {
    "duration": 2366,
    "start_time": "2021-11-24T22:46:00.538Z"
   },
   {
    "duration": 2394,
    "start_time": "2021-11-24T22:46:02.907Z"
   },
   {
    "duration": 5,
    "start_time": "2021-11-24T22:46:05.304Z"
   },
   {
    "duration": 59,
    "start_time": "2021-11-24T22:46:05.311Z"
   },
   {
    "duration": 140,
    "start_time": "2021-11-24T22:46:05.372Z"
   },
   {
    "duration": 61,
    "start_time": "2021-11-24T22:46:05.515Z"
   },
   {
    "duration": 58,
    "start_time": "2021-11-24T22:46:05.578Z"
   },
   {
    "duration": 23,
    "start_time": "2021-11-24T22:46:05.639Z"
   },
   {
    "duration": 378,
    "start_time": "2021-11-24T22:46:05.665Z"
   },
   {
    "duration": 39,
    "start_time": "2021-11-24T22:46:06.046Z"
   },
   {
    "duration": 3700,
    "start_time": "2021-11-24T22:46:06.087Z"
   },
   {
    "duration": 16,
    "start_time": "2021-11-24T22:46:09.790Z"
   },
   {
    "duration": 92,
    "start_time": "2021-11-24T22:46:09.809Z"
   },
   {
    "duration": 8,
    "start_time": "2021-11-24T22:46:09.904Z"
   },
   {
    "duration": 7,
    "start_time": "2021-11-24T22:46:09.915Z"
   },
   {
    "duration": 59,
    "start_time": "2021-11-24T22:46:09.925Z"
   },
   {
    "duration": 10,
    "start_time": "2021-11-24T22:46:09.986Z"
   },
   {
    "duration": 70,
    "start_time": "2021-11-24T22:46:09.999Z"
   },
   {
    "duration": 8,
    "start_time": "2021-11-24T22:46:10.071Z"
   },
   {
    "duration": 563,
    "start_time": "2021-11-24T22:46:10.081Z"
   },
   {
    "duration": -900,
    "start_time": "2021-11-24T22:46:11.547Z"
   },
   {
    "duration": 380,
    "start_time": "2021-11-24T22:50:59.718Z"
   },
   {
    "duration": 28,
    "start_time": "2021-11-24T22:51:27.557Z"
   },
   {
    "duration": 419,
    "start_time": "2021-11-24T22:54:36.238Z"
   },
   {
    "duration": 399,
    "start_time": "2021-11-24T22:55:40.550Z"
   },
   {
    "duration": 647,
    "start_time": "2021-11-24T22:56:09.458Z"
   },
   {
    "duration": 400,
    "start_time": "2021-11-24T23:00:55.228Z"
   },
   {
    "duration": 333,
    "start_time": "2021-11-24T23:07:15.008Z"
   },
   {
    "duration": 25,
    "start_time": "2021-11-24T23:10:23.497Z"
   },
   {
    "duration": 24,
    "start_time": "2021-11-24T23:11:10.668Z"
   },
   {
    "duration": 29,
    "start_time": "2021-11-24T23:11:59.928Z"
   },
   {
    "duration": 30,
    "start_time": "2021-11-24T23:12:32.002Z"
   },
   {
    "duration": 141,
    "start_time": "2021-11-24T23:14:53.998Z"
   },
   {
    "duration": 32,
    "start_time": "2021-11-24T23:15:01.978Z"
   },
   {
    "duration": 32,
    "start_time": "2021-11-24T23:15:46.797Z"
   },
   {
    "duration": 33,
    "start_time": "2021-11-24T23:16:18.457Z"
   },
   {
    "duration": 131,
    "start_time": "2021-11-24T23:16:55.548Z"
   },
   {
    "duration": 34,
    "start_time": "2021-11-24T23:17:05.268Z"
   },
   {
    "duration": 13,
    "start_time": "2021-11-24T23:18:49.097Z"
   },
   {
    "duration": 38,
    "start_time": "2021-11-24T23:23:01.339Z"
   },
   {
    "duration": 36,
    "start_time": "2021-11-24T23:23:38.248Z"
   },
   {
    "duration": 9595,
    "start_time": "2021-11-24T23:28:26.057Z"
   },
   {
    "duration": 13,
    "start_time": "2021-11-24T23:30:17.796Z"
   },
   {
    "duration": 10185,
    "start_time": "2021-11-24T23:30:29.766Z"
   },
   {
    "duration": 5,
    "start_time": "2021-11-24T23:31:09.076Z"
   },
   {
    "duration": 5,
    "start_time": "2021-11-24T23:31:27.706Z"
   },
   {
    "duration": 37,
    "start_time": "2021-11-24T23:32:34.867Z"
   },
   {
    "duration": 36,
    "start_time": "2021-11-24T23:34:21.679Z"
   },
   {
    "duration": 6,
    "start_time": "2021-11-24T23:35:08.438Z"
   },
   {
    "duration": 423,
    "start_time": "2021-11-24T23:37:03.049Z"
   },
   {
    "duration": 38,
    "start_time": "2021-11-24T23:37:45.595Z"
   },
   {
    "duration": 8,
    "start_time": "2021-11-24T23:38:01.478Z"
   },
   {
    "duration": 5885,
    "start_time": "2021-11-24T23:38:24.108Z"
   },
   {
    "duration": 5,
    "start_time": "2021-11-24T23:39:04.148Z"
   },
   {
    "duration": 7,
    "start_time": "2021-11-24T23:39:16.068Z"
   },
   {
    "duration": 6,
    "start_time": "2021-11-24T23:39:48.638Z"
   },
   {
    "duration": 37,
    "start_time": "2021-11-24T23:44:52.210Z"
   },
   {
    "duration": 4,
    "start_time": "2021-11-24T23:46:15.939Z"
   },
   {
    "duration": 5,
    "start_time": "2021-11-24T23:46:38.939Z"
   },
   {
    "duration": 5,
    "start_time": "2021-11-24T23:46:53.038Z"
   },
   {
    "duration": 5,
    "start_time": "2021-11-24T23:47:04.689Z"
   },
   {
    "duration": 5,
    "start_time": "2021-11-24T23:47:20.109Z"
   },
   {
    "duration": 5,
    "start_time": "2021-11-24T23:50:18.938Z"
   },
   {
    "duration": 35,
    "start_time": "2021-11-24T23:55:22.490Z"
   },
   {
    "duration": 9027,
    "start_time": "2021-11-24T23:58:26.060Z"
   },
   {
    "duration": 41,
    "start_time": "2021-11-24T23:59:36.550Z"
   },
   {
    "duration": 35,
    "start_time": "2021-11-25T00:08:53.721Z"
   },
   {
    "duration": 35,
    "start_time": "2021-11-25T00:46:33.318Z"
   },
   {
    "duration": 34,
    "start_time": "2021-11-25T00:46:56.555Z"
   },
   {
    "duration": 35,
    "start_time": "2021-11-25T00:47:11.508Z"
   },
   {
    "duration": 33,
    "start_time": "2021-11-25T00:47:41.440Z"
   },
   {
    "duration": 16,
    "start_time": "2021-11-25T00:50:12.775Z"
   },
   {
    "duration": 19,
    "start_time": "2021-11-25T00:52:08.678Z"
   },
   {
    "duration": 21,
    "start_time": "2021-11-25T00:54:00.279Z"
   },
   {
    "duration": 20,
    "start_time": "2021-11-25T00:54:34.807Z"
   },
   {
    "duration": 18,
    "start_time": "2021-11-25T00:54:56.417Z"
   },
   {
    "duration": 19,
    "start_time": "2021-11-25T00:55:17.917Z"
   },
   {
    "duration": 21,
    "start_time": "2021-11-25T00:56:49.457Z"
   },
   {
    "duration": 19,
    "start_time": "2021-11-25T00:57:29.877Z"
   },
   {
    "duration": 21,
    "start_time": "2021-11-25T00:58:13.710Z"
   },
   {
    "duration": 21,
    "start_time": "2021-11-25T00:58:22.968Z"
   },
   {
    "duration": 24,
    "start_time": "2021-11-25T00:59:28.421Z"
   },
   {
    "duration": 35,
    "start_time": "2021-11-25T00:59:46.991Z"
   },
   {
    "duration": 35,
    "start_time": "2021-11-25T01:02:07.606Z"
   },
   {
    "duration": 38,
    "start_time": "2021-11-25T01:03:30.036Z"
   },
   {
    "duration": 37,
    "start_time": "2021-11-25T01:04:09.917Z"
   },
   {
    "duration": 4,
    "start_time": "2021-11-25T01:07:59.811Z"
   },
   {
    "duration": 4,
    "start_time": "2021-11-25T01:09:13.333Z"
   },
   {
    "duration": 4,
    "start_time": "2021-11-25T01:12:40.284Z"
   },
   {
    "duration": 4,
    "start_time": "2021-11-25T01:13:21.023Z"
   },
   {
    "duration": 1579,
    "start_time": "2021-11-25T06:19:07.663Z"
   },
   {
    "duration": 424,
    "start_time": "2021-11-25T06:19:09.245Z"
   },
   {
    "duration": 26,
    "start_time": "2021-11-25T06:19:09.672Z"
   },
   {
    "duration": 38,
    "start_time": "2021-11-25T06:19:09.701Z"
   },
   {
    "duration": 43,
    "start_time": "2021-11-25T06:19:09.768Z"
   },
   {
    "duration": 14,
    "start_time": "2021-11-25T06:19:09.814Z"
   },
   {
    "duration": 6,
    "start_time": "2021-11-25T06:19:09.831Z"
   },
   {
    "duration": 13,
    "start_time": "2021-11-25T06:19:09.870Z"
   },
   {
    "duration": 7,
    "start_time": "2021-11-25T06:19:09.886Z"
   },
   {
    "duration": 17,
    "start_time": "2021-11-25T06:19:09.895Z"
   },
   {
    "duration": 8,
    "start_time": "2021-11-25T06:19:09.914Z"
   },
   {
    "duration": 7,
    "start_time": "2021-11-25T06:19:09.968Z"
   },
   {
    "duration": 10,
    "start_time": "2021-11-25T06:19:09.977Z"
   },
   {
    "duration": 7,
    "start_time": "2021-11-25T06:19:09.990Z"
   },
   {
    "duration": 10,
    "start_time": "2021-11-25T06:19:10.000Z"
   },
   {
    "duration": 91,
    "start_time": "2021-11-25T06:19:10.013Z"
   },
   {
    "duration": 25,
    "start_time": "2021-11-25T06:19:10.107Z"
   },
   {
    "duration": 22,
    "start_time": "2021-11-25T06:19:10.135Z"
   },
   {
    "duration": 26,
    "start_time": "2021-11-25T06:19:10.160Z"
   },
   {
    "duration": 9,
    "start_time": "2021-11-25T06:19:10.189Z"
   },
   {
    "duration": 7,
    "start_time": "2021-11-25T06:19:10.200Z"
   },
   {
    "duration": 7,
    "start_time": "2021-11-25T06:19:10.210Z"
   },
   {
    "duration": 16,
    "start_time": "2021-11-25T06:19:10.267Z"
   },
   {
    "duration": 8,
    "start_time": "2021-11-25T06:19:10.287Z"
   },
   {
    "duration": 8,
    "start_time": "2021-11-25T06:19:10.298Z"
   },
   {
    "duration": 7,
    "start_time": "2021-11-25T06:19:10.308Z"
   },
   {
    "duration": 55,
    "start_time": "2021-11-25T06:19:10.318Z"
   },
   {
    "duration": 19,
    "start_time": "2021-11-25T06:19:10.375Z"
   },
   {
    "duration": 7,
    "start_time": "2021-11-25T06:19:10.397Z"
   },
   {
    "duration": 8,
    "start_time": "2021-11-25T06:19:10.407Z"
   },
   {
    "duration": 8,
    "start_time": "2021-11-25T06:19:10.418Z"
   },
   {
    "duration": 55,
    "start_time": "2021-11-25T06:19:10.429Z"
   },
   {
    "duration": 30,
    "start_time": "2021-11-25T06:19:10.487Z"
   },
   {
    "duration": 20,
    "start_time": "2021-11-25T06:19:10.519Z"
   },
   {
    "duration": 79,
    "start_time": "2021-11-25T06:19:10.568Z"
   },
   {
    "duration": 31,
    "start_time": "2021-11-25T06:19:10.649Z"
   },
   {
    "duration": 6,
    "start_time": "2021-11-25T06:19:10.683Z"
   },
   {
    "duration": 7,
    "start_time": "2021-11-25T06:19:10.692Z"
   },
   {
    "duration": 6,
    "start_time": "2021-11-25T06:19:10.702Z"
   },
   {
    "duration": 59,
    "start_time": "2021-11-25T06:19:10.710Z"
   },
   {
    "duration": 17,
    "start_time": "2021-11-25T06:19:10.771Z"
   },
   {
    "duration": 14,
    "start_time": "2021-11-25T06:19:10.791Z"
   },
   {
    "duration": 10,
    "start_time": "2021-11-25T06:19:10.807Z"
   },
   {
    "duration": 7,
    "start_time": "2021-11-25T06:19:10.820Z"
   },
   {
    "duration": 8,
    "start_time": "2021-11-25T06:19:10.867Z"
   },
   {
    "duration": 25,
    "start_time": "2021-11-25T06:19:10.877Z"
   },
   {
    "duration": 15,
    "start_time": "2021-11-25T06:19:10.904Z"
   },
   {
    "duration": 51,
    "start_time": "2021-11-25T06:19:10.921Z"
   },
   {
    "duration": 10,
    "start_time": "2021-11-25T06:19:10.975Z"
   },
   {
    "duration": 7,
    "start_time": "2021-11-25T06:19:10.987Z"
   },
   {
    "duration": 13,
    "start_time": "2021-11-25T06:19:23.575Z"
   },
   {
    "duration": 78,
    "start_time": "2021-11-25T06:19:27.650Z"
   },
   {
    "duration": 5,
    "start_time": "2021-11-25T06:20:33.227Z"
   },
   {
    "duration": 9,
    "start_time": "2021-11-25T06:20:35.192Z"
   },
   {
    "duration": 22,
    "start_time": "2021-11-25T06:20:40.893Z"
   },
   {
    "duration": 357,
    "start_time": "2021-11-25T13:31:17.260Z"
   },
   {
    "duration": 1521,
    "start_time": "2021-11-25T13:31:35.420Z"
   },
   {
    "duration": 1329,
    "start_time": "2021-11-25T13:31:36.943Z"
   },
   {
    "duration": -646,
    "start_time": "2021-11-25T13:31:38.922Z"
   },
   {
    "duration": 21,
    "start_time": "2021-11-25T13:32:10.750Z"
   },
   {
    "duration": 81,
    "start_time": "2021-11-25T13:32:58.560Z"
   },
   {
    "duration": 1288,
    "start_time": "2021-11-25T22:41:04.478Z"
   },
   {
    "duration": 676,
    "start_time": "2021-11-25T22:41:05.769Z"
   },
   {
    "duration": -1724,
    "start_time": "2021-11-25T22:41:08.175Z"
   },
   {
    "duration": -1739,
    "start_time": "2021-11-25T22:41:08.191Z"
   },
   {
    "duration": -1754,
    "start_time": "2021-11-25T22:41:08.207Z"
   },
   {
    "duration": -1768,
    "start_time": "2021-11-25T22:41:08.222Z"
   },
   {
    "duration": -1785,
    "start_time": "2021-11-25T22:41:08.240Z"
   },
   {
    "duration": -1803,
    "start_time": "2021-11-25T22:41:08.259Z"
   },
   {
    "duration": -1838,
    "start_time": "2021-11-25T22:41:08.295Z"
   },
   {
    "duration": -1854,
    "start_time": "2021-11-25T22:41:08.312Z"
   },
   {
    "duration": -1869,
    "start_time": "2021-11-25T22:41:08.328Z"
   },
   {
    "duration": -1882,
    "start_time": "2021-11-25T22:41:08.342Z"
   },
   {
    "duration": -1900,
    "start_time": "2021-11-25T22:41:08.361Z"
   },
   {
    "duration": -1916,
    "start_time": "2021-11-25T22:41:08.378Z"
   },
   {
    "duration": -1948,
    "start_time": "2021-11-25T22:41:08.411Z"
   },
   {
    "duration": -1960,
    "start_time": "2021-11-25T22:41:08.424Z"
   },
   {
    "duration": -1977,
    "start_time": "2021-11-25T22:41:08.442Z"
   },
   {
    "duration": -1990,
    "start_time": "2021-11-25T22:41:08.456Z"
   },
   {
    "duration": -2003,
    "start_time": "2021-11-25T22:41:08.470Z"
   },
   {
    "duration": -2021,
    "start_time": "2021-11-25T22:41:08.489Z"
   },
   {
    "duration": -2035,
    "start_time": "2021-11-25T22:41:08.504Z"
   },
   {
    "duration": -2066,
    "start_time": "2021-11-25T22:41:08.536Z"
   },
   {
    "duration": -2081,
    "start_time": "2021-11-25T22:41:08.552Z"
   },
   {
    "duration": -2094,
    "start_time": "2021-11-25T22:41:08.566Z"
   },
   {
    "duration": -2107,
    "start_time": "2021-11-25T22:41:08.580Z"
   },
   {
    "duration": -2119,
    "start_time": "2021-11-25T22:41:08.593Z"
   },
   {
    "duration": -2134,
    "start_time": "2021-11-25T22:41:08.609Z"
   },
   {
    "duration": -2148,
    "start_time": "2021-11-25T22:41:08.624Z"
   },
   {
    "duration": -2181,
    "start_time": "2021-11-25T22:41:08.658Z"
   },
   {
    "duration": -2195,
    "start_time": "2021-11-25T22:41:08.673Z"
   },
   {
    "duration": -2210,
    "start_time": "2021-11-25T22:41:08.689Z"
   },
   {
    "duration": -2223,
    "start_time": "2021-11-25T22:41:08.703Z"
   },
   {
    "duration": -2237,
    "start_time": "2021-11-25T22:41:08.718Z"
   },
   {
    "duration": -2251,
    "start_time": "2021-11-25T22:41:08.733Z"
   },
   {
    "duration": -2266,
    "start_time": "2021-11-25T22:41:08.749Z"
   },
   {
    "duration": -2301,
    "start_time": "2021-11-25T22:41:08.785Z"
   },
   {
    "duration": -2317,
    "start_time": "2021-11-25T22:41:08.802Z"
   },
   {
    "duration": -2334,
    "start_time": "2021-11-25T22:41:08.820Z"
   },
   {
    "duration": -2349,
    "start_time": "2021-11-25T22:41:08.836Z"
   },
   {
    "duration": -2366,
    "start_time": "2021-11-25T22:41:08.854Z"
   },
   {
    "duration": -2367,
    "start_time": "2021-11-25T22:41:08.873Z"
   },
   {
    "duration": -2402,
    "start_time": "2021-11-25T22:41:08.909Z"
   },
   {
    "duration": -2416,
    "start_time": "2021-11-25T22:41:08.925Z"
   },
   {
    "duration": -2431,
    "start_time": "2021-11-25T22:41:08.941Z"
   },
   {
    "duration": -2447,
    "start_time": "2021-11-25T22:41:08.958Z"
   },
   {
    "duration": -2460,
    "start_time": "2021-11-25T22:41:08.972Z"
   },
   {
    "duration": -2474,
    "start_time": "2021-11-25T22:41:08.987Z"
   },
   {
    "duration": -2488,
    "start_time": "2021-11-25T22:41:09.002Z"
   },
   {
    "duration": -2521,
    "start_time": "2021-11-25T22:41:09.037Z"
   },
   {
    "duration": -2534,
    "start_time": "2021-11-25T22:41:09.051Z"
   },
   {
    "duration": -2548,
    "start_time": "2021-11-25T22:41:09.066Z"
   },
   {
    "duration": -2562,
    "start_time": "2021-11-25T22:41:09.081Z"
   },
   {
    "duration": -2577,
    "start_time": "2021-11-25T22:41:09.097Z"
   },
   {
    "duration": -2589,
    "start_time": "2021-11-25T22:41:09.110Z"
   },
   {
    "duration": -2606,
    "start_time": "2021-11-25T22:41:09.128Z"
   },
   {
    "duration": -2639,
    "start_time": "2021-11-25T22:41:09.162Z"
   },
   {
    "duration": -2653,
    "start_time": "2021-11-25T22:41:09.177Z"
   },
   {
    "duration": -2666,
    "start_time": "2021-11-25T22:41:09.191Z"
   },
   {
    "duration": -2680,
    "start_time": "2021-11-25T22:41:09.206Z"
   },
   {
    "duration": -2693,
    "start_time": "2021-11-25T22:41:09.220Z"
   },
   {
    "duration": -2823,
    "start_time": "2021-11-25T22:41:09.351Z"
   },
   {
    "duration": -2837,
    "start_time": "2021-11-25T22:41:09.366Z"
   },
   {
    "duration": -2851,
    "start_time": "2021-11-25T22:41:09.381Z"
   },
   {
    "duration": -2863,
    "start_time": "2021-11-25T22:41:09.394Z"
   },
   {
    "duration": -2877,
    "start_time": "2021-11-25T22:41:09.409Z"
   },
   {
    "duration": -2889,
    "start_time": "2021-11-25T22:41:09.422Z"
   },
   {
    "duration": -2902,
    "start_time": "2021-11-25T22:41:09.436Z"
   },
   {
    "duration": -2931,
    "start_time": "2021-11-25T22:41:09.466Z"
   },
   {
    "duration": -2944,
    "start_time": "2021-11-25T22:41:09.480Z"
   },
   {
    "duration": -2957,
    "start_time": "2021-11-25T22:41:09.494Z"
   },
   {
    "duration": -2970,
    "start_time": "2021-11-25T22:41:09.508Z"
   },
   {
    "duration": -2983,
    "start_time": "2021-11-25T22:41:09.522Z"
   },
   {
    "duration": -2996,
    "start_time": "2021-11-25T22:41:09.536Z"
   },
   {
    "duration": -3009,
    "start_time": "2021-11-25T22:41:09.550Z"
   },
   {
    "duration": -3041,
    "start_time": "2021-11-25T22:41:09.583Z"
   },
   {
    "duration": -3052,
    "start_time": "2021-11-25T22:41:09.596Z"
   },
   {
    "duration": -3099,
    "start_time": "2021-11-25T22:41:09.643Z"
   },
   {
    "duration": -3159,
    "start_time": "2021-11-25T22:41:09.704Z"
   },
   {
    "duration": -3180,
    "start_time": "2021-11-25T22:41:09.786Z"
   },
   {
    "duration": -3216,
    "start_time": "2021-11-25T22:41:09.823Z"
   },
   {
    "duration": -3281,
    "start_time": "2021-11-25T22:41:09.890Z"
   },
   {
    "duration": -3319,
    "start_time": "2021-11-25T22:41:09.929Z"
   },
   {
    "duration": -3334,
    "start_time": "2021-11-25T22:41:09.945Z"
   },
   {
    "duration": -3347,
    "start_time": "2021-11-25T22:41:09.959Z"
   },
   {
    "duration": -3360,
    "start_time": "2021-11-25T22:41:09.973Z"
   },
   {
    "duration": -3372,
    "start_time": "2021-11-25T22:41:09.986Z"
   },
   {
    "duration": -3385,
    "start_time": "2021-11-25T22:41:10.000Z"
   },
   {
    "duration": -3398,
    "start_time": "2021-11-25T22:41:10.014Z"
   },
   {
    "duration": -3437,
    "start_time": "2021-11-25T22:41:10.054Z"
   },
   {
    "duration": -3451,
    "start_time": "2021-11-25T22:41:10.069Z"
   },
   {
    "duration": -3466,
    "start_time": "2021-11-25T22:41:10.085Z"
   },
   {
    "duration": -3478,
    "start_time": "2021-11-25T22:41:10.098Z"
   },
   {
    "duration": -3491,
    "start_time": "2021-11-25T22:41:10.112Z"
   },
   {
    "duration": -3504,
    "start_time": "2021-11-25T22:41:10.126Z"
   },
   {
    "duration": -3518,
    "start_time": "2021-11-25T22:41:10.141Z"
   },
   {
    "duration": -3554,
    "start_time": "2021-11-25T22:41:10.178Z"
   },
   {
    "duration": -3568,
    "start_time": "2021-11-25T22:41:10.193Z"
   },
   {
    "duration": -3582,
    "start_time": "2021-11-25T22:41:10.208Z"
   },
   {
    "duration": 4,
    "start_time": "2021-11-25T22:41:35.958Z"
   },
   {
    "duration": 633,
    "start_time": "2021-11-25T22:41:35.967Z"
   },
   {
    "duration": -2597,
    "start_time": "2021-11-25T22:41:39.200Z"
   },
   {
    "duration": -2613,
    "start_time": "2021-11-25T22:41:39.217Z"
   },
   {
    "duration": -2627,
    "start_time": "2021-11-25T22:41:39.232Z"
   },
   {
    "duration": -2642,
    "start_time": "2021-11-25T22:41:39.248Z"
   },
   {
    "duration": -2655,
    "start_time": "2021-11-25T22:41:39.263Z"
   },
   {
    "duration": -2671,
    "start_time": "2021-11-25T22:41:39.280Z"
   },
   {
    "duration": -2704,
    "start_time": "2021-11-25T22:41:39.314Z"
   },
   {
    "duration": -2718,
    "start_time": "2021-11-25T22:41:39.329Z"
   },
   {
    "duration": -2729,
    "start_time": "2021-11-25T22:41:39.342Z"
   },
   {
    "duration": -2745,
    "start_time": "2021-11-25T22:41:39.359Z"
   },
   {
    "duration": -2759,
    "start_time": "2021-11-25T22:41:39.374Z"
   },
   {
    "duration": -2771,
    "start_time": "2021-11-25T22:41:39.387Z"
   },
   {
    "duration": -2786,
    "start_time": "2021-11-25T22:41:39.403Z"
   },
   {
    "duration": -2818,
    "start_time": "2021-11-25T22:41:39.436Z"
   },
   {
    "duration": -2833,
    "start_time": "2021-11-25T22:41:39.452Z"
   },
   {
    "duration": -2847,
    "start_time": "2021-11-25T22:41:39.467Z"
   },
   {
    "duration": -2861,
    "start_time": "2021-11-25T22:41:39.482Z"
   },
   {
    "duration": -2874,
    "start_time": "2021-11-25T22:41:39.496Z"
   },
   {
    "duration": -2888,
    "start_time": "2021-11-25T22:41:39.510Z"
   },
   {
    "duration": -2937,
    "start_time": "2021-11-25T22:41:39.560Z"
   },
   {
    "duration": -2967,
    "start_time": "2021-11-25T22:41:39.591Z"
   },
   {
    "duration": -2996,
    "start_time": "2021-11-25T22:41:39.621Z"
   },
   {
    "duration": -3010,
    "start_time": "2021-11-25T22:41:39.635Z"
   },
   {
    "duration": -3023,
    "start_time": "2021-11-25T22:41:39.649Z"
   },
   {
    "duration": -3036,
    "start_time": "2021-11-25T22:41:39.663Z"
   },
   {
    "duration": -3049,
    "start_time": "2021-11-25T22:41:39.677Z"
   },
   {
    "duration": -3062,
    "start_time": "2021-11-25T22:41:39.691Z"
   },
   {
    "duration": -3074,
    "start_time": "2021-11-25T22:41:39.704Z"
   },
   {
    "duration": -3103,
    "start_time": "2021-11-25T22:41:39.733Z"
   },
   {
    "duration": -3119,
    "start_time": "2021-11-25T22:41:39.750Z"
   },
   {
    "duration": -3133,
    "start_time": "2021-11-25T22:41:39.765Z"
   },
   {
    "duration": -3146,
    "start_time": "2021-11-25T22:41:39.779Z"
   },
   {
    "duration": -3160,
    "start_time": "2021-11-25T22:41:39.793Z"
   },
   {
    "duration": -3175,
    "start_time": "2021-11-25T22:41:39.809Z"
   },
   {
    "duration": -3187,
    "start_time": "2021-11-25T22:41:39.822Z"
   },
   {
    "duration": -3223,
    "start_time": "2021-11-25T22:41:39.858Z"
   },
   {
    "duration": -3236,
    "start_time": "2021-11-25T22:41:39.872Z"
   },
   {
    "duration": -3252,
    "start_time": "2021-11-25T22:41:39.889Z"
   },
   {
    "duration": -3264,
    "start_time": "2021-11-25T22:41:39.902Z"
   },
   {
    "duration": -3277,
    "start_time": "2021-11-25T22:41:39.915Z"
   },
   {
    "duration": -3290,
    "start_time": "2021-11-25T22:41:39.929Z"
   },
   {
    "duration": -3303,
    "start_time": "2021-11-25T22:41:39.943Z"
   },
   {
    "duration": -3332,
    "start_time": "2021-11-25T22:41:39.972Z"
   },
   {
    "duration": -3345,
    "start_time": "2021-11-25T22:41:39.986Z"
   },
   {
    "duration": -3359,
    "start_time": "2021-11-25T22:41:40.001Z"
   },
   {
    "duration": -3372,
    "start_time": "2021-11-25T22:41:40.014Z"
   },
   {
    "duration": -3383,
    "start_time": "2021-11-25T22:41:40.026Z"
   },
   {
    "duration": -3396,
    "start_time": "2021-11-25T22:41:40.040Z"
   },
   {
    "duration": -3409,
    "start_time": "2021-11-25T22:41:40.054Z"
   },
   {
    "duration": 394,
    "start_time": "2021-11-25T22:41:36.647Z"
   },
   {
    "duration": -3334,
    "start_time": "2021-11-25T22:41:40.377Z"
   },
   {
    "duration": -3350,
    "start_time": "2021-11-25T22:41:40.394Z"
   },
   {
    "duration": -3363,
    "start_time": "2021-11-25T22:41:40.408Z"
   },
   {
    "duration": -3376,
    "start_time": "2021-11-25T22:41:40.422Z"
   },
   {
    "duration": -3390,
    "start_time": "2021-11-25T22:41:40.437Z"
   },
   {
    "duration": -3405,
    "start_time": "2021-11-25T22:41:40.453Z"
   },
   {
    "duration": -3448,
    "start_time": "2021-11-25T22:41:40.497Z"
   },
   {
    "duration": -3462,
    "start_time": "2021-11-25T22:41:40.512Z"
   },
   {
    "duration": -3477,
    "start_time": "2021-11-25T22:41:40.528Z"
   },
   {
    "duration": -3492,
    "start_time": "2021-11-25T22:41:40.544Z"
   },
   {
    "duration": -3504,
    "start_time": "2021-11-25T22:41:40.557Z"
   },
   {
    "duration": -3520,
    "start_time": "2021-11-25T22:41:40.574Z"
   },
   {
    "duration": -3533,
    "start_time": "2021-11-25T22:41:40.588Z"
   },
   {
    "duration": -3574,
    "start_time": "2021-11-25T22:41:40.630Z"
   },
   {
    "duration": -3588,
    "start_time": "2021-11-25T22:41:40.645Z"
   },
   {
    "duration": -3606,
    "start_time": "2021-11-25T22:41:40.664Z"
   },
   {
    "duration": -3649,
    "start_time": "2021-11-25T22:41:40.708Z"
   },
   {
    "duration": -3661,
    "start_time": "2021-11-25T22:41:40.721Z"
   },
   {
    "duration": -3688,
    "start_time": "2021-11-25T22:41:40.749Z"
   },
   {
    "duration": -3717,
    "start_time": "2021-11-25T22:41:40.779Z"
   },
   {
    "duration": -3742,
    "start_time": "2021-11-25T22:41:40.805Z"
   },
   {
    "duration": -3769,
    "start_time": "2021-11-25T22:41:40.833Z"
   },
   {
    "duration": -3783,
    "start_time": "2021-11-25T22:41:40.848Z"
   },
   {
    "duration": -3798,
    "start_time": "2021-11-25T22:41:40.864Z"
   },
   {
    "duration": -3812,
    "start_time": "2021-11-25T22:41:40.878Z"
   },
   {
    "duration": -3825,
    "start_time": "2021-11-25T22:41:40.892Z"
   },
   {
    "duration": -3839,
    "start_time": "2021-11-25T22:41:40.907Z"
   },
   {
    "duration": -3854,
    "start_time": "2021-11-25T22:41:40.923Z"
   },
   {
    "duration": -3881,
    "start_time": "2021-11-25T22:41:40.951Z"
   },
   {
    "duration": 341,
    "start_time": "2021-11-25T22:41:37.072Z"
   },
   {
    "duration": -3598,
    "start_time": "2021-11-25T22:41:41.014Z"
   },
   {
    "duration": -3614,
    "start_time": "2021-11-25T22:41:41.031Z"
   },
   {
    "duration": -3628,
    "start_time": "2021-11-25T22:41:41.045Z"
   },
   {
    "duration": -3825,
    "start_time": "2021-11-25T22:41:41.243Z"
   },
   {
    "duration": -3866,
    "start_time": "2021-11-25T22:41:41.285Z"
   },
   {
    "duration": -3906,
    "start_time": "2021-11-25T22:41:41.326Z"
   },
   {
    "duration": -3920,
    "start_time": "2021-11-25T22:41:41.341Z"
   },
   {
    "duration": -3936,
    "start_time": "2021-11-25T22:41:41.357Z"
   },
   {
    "duration": -3949,
    "start_time": "2021-11-25T22:41:41.372Z"
   },
   {
    "duration": -3964,
    "start_time": "2021-11-25T22:41:41.387Z"
   },
   {
    "duration": -3978,
    "start_time": "2021-11-25T22:41:41.402Z"
   },
   {
    "duration": -3993,
    "start_time": "2021-11-25T22:41:41.418Z"
   },
   {
    "duration": -4038,
    "start_time": "2021-11-25T22:41:41.464Z"
   },
   {
    "duration": -4053,
    "start_time": "2021-11-25T22:41:41.480Z"
   },
   {
    "duration": -4122,
    "start_time": "2021-11-25T22:41:41.550Z"
   },
   {
    "duration": -4186,
    "start_time": "2021-11-25T22:41:41.614Z"
   },
   {
    "duration": 1237,
    "start_time": "2021-11-25T23:24:24.119Z"
   },
   {
    "duration": 655,
    "start_time": "2021-11-25T23:24:25.358Z"
   },
   {
    "duration": -1869,
    "start_time": "2021-11-25T23:24:27.887Z"
   },
   {
    "duration": -1884,
    "start_time": "2021-11-25T23:24:27.903Z"
   },
   {
    "duration": -1900,
    "start_time": "2021-11-25T23:24:27.920Z"
   },
   {
    "duration": -1914,
    "start_time": "2021-11-25T23:24:27.935Z"
   },
   {
    "duration": -1933,
    "start_time": "2021-11-25T23:24:27.956Z"
   },
   {
    "duration": -2011,
    "start_time": "2021-11-25T23:24:28.035Z"
   },
   {
    "duration": -2025,
    "start_time": "2021-11-25T23:24:28.051Z"
   },
   {
    "duration": -2039,
    "start_time": "2021-11-25T23:24:28.066Z"
   },
   {
    "duration": -2053,
    "start_time": "2021-11-25T23:24:28.081Z"
   },
   {
    "duration": -2065,
    "start_time": "2021-11-25T23:24:28.094Z"
   },
   {
    "duration": -2077,
    "start_time": "2021-11-25T23:24:28.108Z"
   },
   {
    "duration": -2090,
    "start_time": "2021-11-25T23:24:28.122Z"
   },
   {
    "duration": -2123,
    "start_time": "2021-11-25T23:24:28.156Z"
   },
   {
    "duration": -2137,
    "start_time": "2021-11-25T23:24:28.171Z"
   },
   {
    "duration": -2149,
    "start_time": "2021-11-25T23:24:28.185Z"
   },
   {
    "duration": -2164,
    "start_time": "2021-11-25T23:24:28.201Z"
   },
   {
    "duration": -2177,
    "start_time": "2021-11-25T23:24:28.215Z"
   },
   {
    "duration": -2190,
    "start_time": "2021-11-25T23:24:28.229Z"
   },
   {
    "duration": -2969,
    "start_time": "2021-11-25T23:24:29.010Z"
   },
   {
    "duration": -2999,
    "start_time": "2021-11-25T23:24:29.041Z"
   },
   {
    "duration": -3014,
    "start_time": "2021-11-25T23:24:29.057Z"
   },
   {
    "duration": -3027,
    "start_time": "2021-11-25T23:24:29.072Z"
   },
   {
    "duration": -3041,
    "start_time": "2021-11-25T23:24:29.087Z"
   },
   {
    "duration": -3055,
    "start_time": "2021-11-25T23:24:29.102Z"
   },
   {
    "duration": -3069,
    "start_time": "2021-11-25T23:24:29.118Z"
   },
   {
    "duration": -3082,
    "start_time": "2021-11-25T23:24:29.132Z"
   },
   {
    "duration": -3117,
    "start_time": "2021-11-25T23:24:29.168Z"
   },
   {
    "duration": -3328,
    "start_time": "2021-11-25T23:24:29.380Z"
   },
   {
    "duration": -3343,
    "start_time": "2021-11-25T23:24:29.397Z"
   },
   {
    "duration": -3306,
    "start_time": "2021-11-25T23:24:29.412Z"
   },
   {
    "duration": -3525,
    "start_time": "2021-11-25T23:24:29.633Z"
   },
   {
    "duration": -3540,
    "start_time": "2021-11-25T23:24:29.649Z"
   },
   {
    "duration": -3552,
    "start_time": "2021-11-25T23:24:29.663Z"
   },
   {
    "duration": -3565,
    "start_time": "2021-11-25T23:24:29.677Z"
   },
   {
    "duration": -3577,
    "start_time": "2021-11-25T23:24:29.691Z"
   },
   {
    "duration": -3590,
    "start_time": "2021-11-25T23:24:29.705Z"
   },
   {
    "duration": -3603,
    "start_time": "2021-11-25T23:24:29.719Z"
   },
   {
    "duration": -3615,
    "start_time": "2021-11-25T23:24:29.733Z"
   },
   {
    "duration": -3646,
    "start_time": "2021-11-25T23:24:29.765Z"
   },
   {
    "duration": -3658,
    "start_time": "2021-11-25T23:24:29.778Z"
   },
   {
    "duration": -3671,
    "start_time": "2021-11-25T23:24:29.793Z"
   },
   {
    "duration": -3683,
    "start_time": "2021-11-25T23:24:29.806Z"
   },
   {
    "duration": -4002,
    "start_time": "2021-11-25T23:24:30.126Z"
   },
   {
    "duration": -4015,
    "start_time": "2021-11-25T23:24:30.140Z"
   },
   {
    "duration": -4027,
    "start_time": "2021-11-25T23:24:30.154Z"
   },
   {
    "duration": -4039,
    "start_time": "2021-11-25T23:24:30.167Z"
   },
   {
    "duration": -4052,
    "start_time": "2021-11-25T23:24:30.181Z"
   },
   {
    "duration": -4064,
    "start_time": "2021-11-25T23:24:30.195Z"
   },
   {
    "duration": -4077,
    "start_time": "2021-11-25T23:24:30.209Z"
   },
   {
    "duration": -4088,
    "start_time": "2021-11-25T23:24:30.221Z"
   },
   {
    "duration": -4119,
    "start_time": "2021-11-25T23:24:30.253Z"
   },
   {
    "duration": -4130,
    "start_time": "2021-11-25T23:24:30.266Z"
   },
   {
    "duration": -4380,
    "start_time": "2021-11-25T23:24:30.517Z"
   },
   {
    "duration": -4535,
    "start_time": "2021-11-25T23:24:30.673Z"
   },
   {
    "duration": -4547,
    "start_time": "2021-11-25T23:24:30.687Z"
   },
   {
    "duration": -4559,
    "start_time": "2021-11-25T23:24:30.700Z"
   },
   {
    "duration": -4572,
    "start_time": "2021-11-25T23:24:30.714Z"
   },
   {
    "duration": -4586,
    "start_time": "2021-11-25T23:24:30.729Z"
   },
   {
    "duration": -4537,
    "start_time": "2021-11-25T23:24:30.743Z"
   },
   {
    "duration": -4548,
    "start_time": "2021-11-25T23:24:30.756Z"
   },
   {
    "duration": -4562,
    "start_time": "2021-11-25T23:24:30.771Z"
   },
   {
    "duration": -4591,
    "start_time": "2021-11-25T23:24:30.802Z"
   },
   {
    "duration": -4605,
    "start_time": "2021-11-25T23:24:30.817Z"
   },
   {
    "duration": -4619,
    "start_time": "2021-11-25T23:24:30.832Z"
   },
   {
    "duration": -4631,
    "start_time": "2021-11-25T23:24:30.846Z"
   },
   {
    "duration": -5294,
    "start_time": "2021-11-25T23:24:31.510Z"
   },
   {
    "duration": -5325,
    "start_time": "2021-11-25T23:24:31.542Z"
   },
   {
    "duration": -5338,
    "start_time": "2021-11-25T23:24:31.557Z"
   },
   {
    "duration": -5351,
    "start_time": "2021-11-25T23:24:31.571Z"
   },
   {
    "duration": -5363,
    "start_time": "2021-11-25T23:24:31.585Z"
   },
   {
    "duration": -5376,
    "start_time": "2021-11-25T23:24:31.599Z"
   },
   {
    "duration": -5387,
    "start_time": "2021-11-25T23:24:31.611Z"
   },
   {
    "duration": -5399,
    "start_time": "2021-11-25T23:24:31.625Z"
   },
   {
    "duration": -5429,
    "start_time": "2021-11-25T23:24:31.656Z"
   },
   {
    "duration": -5442,
    "start_time": "2021-11-25T23:24:31.670Z"
   },
   {
    "duration": -5453,
    "start_time": "2021-11-25T23:24:31.683Z"
   },
   {
    "duration": -5466,
    "start_time": "2021-11-25T23:24:31.697Z"
   },
   {
    "duration": -5479,
    "start_time": "2021-11-25T23:24:31.711Z"
   },
   {
    "duration": -5491,
    "start_time": "2021-11-25T23:24:31.724Z"
   },
   {
    "duration": -5502,
    "start_time": "2021-11-25T23:24:31.737Z"
   },
   {
    "duration": -5516,
    "start_time": "2021-11-25T23:24:31.752Z"
   },
   {
    "duration": -5546,
    "start_time": "2021-11-25T23:24:31.783Z"
   },
   {
    "duration": -5558,
    "start_time": "2021-11-25T23:24:31.797Z"
   },
   {
    "duration": -5570,
    "start_time": "2021-11-25T23:24:31.810Z"
   },
   {
    "duration": -5583,
    "start_time": "2021-11-25T23:24:31.825Z"
   },
   {
    "duration": -5595,
    "start_time": "2021-11-25T23:24:31.838Z"
   },
   {
    "duration": -5607,
    "start_time": "2021-11-25T23:24:31.851Z"
   },
   {
    "duration": -5619,
    "start_time": "2021-11-25T23:24:31.865Z"
   },
   {
    "duration": -5632,
    "start_time": "2021-11-25T23:24:31.879Z"
   },
   {
    "duration": -5661,
    "start_time": "2021-11-25T23:24:31.909Z"
   },
   {
    "duration": -5674,
    "start_time": "2021-11-25T23:24:31.922Z"
   },
   {
    "duration": -5630,
    "start_time": "2021-11-25T23:24:31.936Z"
   },
   {
    "duration": -5644,
    "start_time": "2021-11-25T23:24:31.951Z"
   },
   {
    "duration": -5656,
    "start_time": "2021-11-25T23:24:31.964Z"
   },
   {
    "duration": -5669,
    "start_time": "2021-11-25T23:24:31.978Z"
   },
   {
    "duration": -5681,
    "start_time": "2021-11-25T23:24:31.991Z"
   },
   {
    "duration": 245,
    "start_time": "2021-11-25T23:26:34.409Z"
   },
   {
    "duration": 4,
    "start_time": "2021-11-25T23:29:11.169Z"
   },
   {
    "duration": 264,
    "start_time": "2021-11-25T23:29:11.184Z"
   },
   {
    "duration": 24,
    "start_time": "2021-11-25T23:29:11.451Z"
   },
   {
    "duration": 43,
    "start_time": "2021-11-25T23:29:11.478Z"
   },
   {
    "duration": 28,
    "start_time": "2021-11-25T23:29:11.522Z"
   },
   {
    "duration": 55,
    "start_time": "2021-11-25T23:29:11.552Z"
   },
   {
    "duration": 11,
    "start_time": "2021-11-25T23:29:11.609Z"
   },
   {
    "duration": 7,
    "start_time": "2021-11-25T23:29:11.622Z"
   },
   {
    "duration": 15,
    "start_time": "2021-11-25T23:29:11.632Z"
   },
   {
    "duration": 4,
    "start_time": "2021-11-25T23:29:11.649Z"
   },
   {
    "duration": 21,
    "start_time": "2021-11-25T23:29:11.655Z"
   },
   {
    "duration": 30,
    "start_time": "2021-11-25T23:29:11.678Z"
   },
   {
    "duration": 11,
    "start_time": "2021-11-25T23:29:11.710Z"
   },
   {
    "duration": 23,
    "start_time": "2021-11-25T23:29:11.722Z"
   },
   {
    "duration": 9,
    "start_time": "2021-11-25T23:29:11.747Z"
   },
   {
    "duration": 13,
    "start_time": "2021-11-25T23:29:11.758Z"
   },
   {
    "duration": 62,
    "start_time": "2021-11-25T23:29:11.772Z"
   },
   {
    "duration": 11,
    "start_time": "2021-11-25T23:29:11.836Z"
   },
   {
    "duration": 18,
    "start_time": "2021-11-25T23:29:11.849Z"
   },
   {
    "duration": 19,
    "start_time": "2021-11-25T23:29:11.868Z"
   },
   {
    "duration": 22,
    "start_time": "2021-11-25T23:29:11.889Z"
   },
   {
    "duration": 6,
    "start_time": "2021-11-25T23:29:11.913Z"
   },
   {
    "duration": 26,
    "start_time": "2021-11-25T23:29:11.921Z"
   },
   {
    "duration": 17,
    "start_time": "2021-11-25T23:29:11.951Z"
   },
   {
    "duration": 17,
    "start_time": "2021-11-25T23:29:11.970Z"
   },
   {
    "duration": 10,
    "start_time": "2021-11-25T23:29:11.989Z"
   },
   {
    "duration": 10,
    "start_time": "2021-11-25T23:29:12.000Z"
   },
   {
    "duration": 9,
    "start_time": "2021-11-25T23:29:12.012Z"
   },
   {
    "duration": 9,
    "start_time": "2021-11-25T23:29:12.023Z"
   },
   {
    "duration": 9,
    "start_time": "2021-11-25T23:29:12.034Z"
   },
   {
    "duration": 14,
    "start_time": "2021-11-25T23:29:12.044Z"
   },
   {
    "duration": 5,
    "start_time": "2021-11-25T23:29:12.060Z"
   },
   {
    "duration": 19,
    "start_time": "2021-11-25T23:29:12.067Z"
   },
   {
    "duration": 33,
    "start_time": "2021-11-25T23:29:12.106Z"
   },
   {
    "duration": 8922,
    "start_time": "2021-11-25T23:29:12.140Z"
   },
   {
    "duration": -2058,
    "start_time": "2021-11-25T23:29:23.123Z"
   },
   {
    "duration": -2075,
    "start_time": "2021-11-25T23:29:23.141Z"
   },
   {
    "duration": -2103,
    "start_time": "2021-11-25T23:29:23.170Z"
   },
   {
    "duration": -2117,
    "start_time": "2021-11-25T23:29:23.185Z"
   },
   {
    "duration": -2132,
    "start_time": "2021-11-25T23:29:23.201Z"
   },
   {
    "duration": -2147,
    "start_time": "2021-11-25T23:29:23.217Z"
   },
   {
    "duration": -2188,
    "start_time": "2021-11-25T23:29:23.259Z"
   },
   {
    "duration": -2201,
    "start_time": "2021-11-25T23:29:23.273Z"
   },
   {
    "duration": -2275,
    "start_time": "2021-11-25T23:29:23.348Z"
   },
   {
    "duration": -2314,
    "start_time": "2021-11-25T23:29:23.388Z"
   },
   {
    "duration": -2397,
    "start_time": "2021-11-25T23:29:23.472Z"
   },
   {
    "duration": -2410,
    "start_time": "2021-11-25T23:29:23.487Z"
   },
   {
    "duration": -2423,
    "start_time": "2021-11-25T23:29:23.501Z"
   },
   {
    "duration": -2434,
    "start_time": "2021-11-25T23:29:23.513Z"
   },
   {
    "duration": -2447,
    "start_time": "2021-11-25T23:29:23.527Z"
   },
   {
    "duration": -2459,
    "start_time": "2021-11-25T23:29:23.540Z"
   },
   {
    "duration": -2472,
    "start_time": "2021-11-25T23:29:23.554Z"
   },
   {
    "duration": -2484,
    "start_time": "2021-11-25T23:29:23.567Z"
   },
   {
    "duration": -2526,
    "start_time": "2021-11-25T23:29:23.610Z"
   },
   {
    "duration": -2538,
    "start_time": "2021-11-25T23:29:23.623Z"
   },
   {
    "duration": -2551,
    "start_time": "2021-11-25T23:29:23.637Z"
   },
   {
    "duration": -2563,
    "start_time": "2021-11-25T23:29:23.650Z"
   },
   {
    "duration": -2577,
    "start_time": "2021-11-25T23:29:23.665Z"
   },
   {
    "duration": -2588,
    "start_time": "2021-11-25T23:29:23.678Z"
   },
   {
    "duration": -2602,
    "start_time": "2021-11-25T23:29:23.693Z"
   },
   {
    "duration": -2651,
    "start_time": "2021-11-25T23:29:23.743Z"
   },
   {
    "duration": -2667,
    "start_time": "2021-11-25T23:29:23.760Z"
   },
   {
    "duration": -2679,
    "start_time": "2021-11-25T23:29:23.773Z"
   },
   {
    "duration": -2696,
    "start_time": "2021-11-25T23:29:23.791Z"
   },
   {
    "duration": -2709,
    "start_time": "2021-11-25T23:29:23.805Z"
   },
   {
    "duration": -2723,
    "start_time": "2021-11-25T23:29:23.820Z"
   },
   {
    "duration": -2737,
    "start_time": "2021-11-25T23:29:23.835Z"
   },
   {
    "duration": -2774,
    "start_time": "2021-11-25T23:29:23.874Z"
   },
   {
    "duration": -2825,
    "start_time": "2021-11-25T23:29:23.926Z"
   },
   {
    "duration": -2876,
    "start_time": "2021-11-25T23:29:23.981Z"
   },
   {
    "duration": -2907,
    "start_time": "2021-11-25T23:29:24.014Z"
   },
   {
    "duration": -2922,
    "start_time": "2021-11-25T23:29:24.030Z"
   },
   {
    "duration": -2934,
    "start_time": "2021-11-25T23:29:24.044Z"
   },
   {
    "duration": -2948,
    "start_time": "2021-11-25T23:29:24.059Z"
   },
   {
    "duration": -2962,
    "start_time": "2021-11-25T23:29:24.074Z"
   },
   {
    "duration": -2976,
    "start_time": "2021-11-25T23:29:24.089Z"
   },
   {
    "duration": -2989,
    "start_time": "2021-11-25T23:29:24.103Z"
   },
   {
    "duration": -3024,
    "start_time": "2021-11-25T23:29:24.140Z"
   },
   {
    "duration": -3036,
    "start_time": "2021-11-25T23:29:24.153Z"
   },
   {
    "duration": -3050,
    "start_time": "2021-11-25T23:29:24.168Z"
   },
   {
    "duration": -3063,
    "start_time": "2021-11-25T23:29:24.182Z"
   },
   {
    "duration": -3078,
    "start_time": "2021-11-25T23:29:24.198Z"
   },
   {
    "duration": -5937,
    "start_time": "2021-11-25T23:29:27.059Z"
   },
   {
    "duration": -6018,
    "start_time": "2021-11-25T23:29:27.141Z"
   },
   {
    "duration": -6085,
    "start_time": "2021-11-25T23:29:27.209Z"
   },
   {
    "duration": -6162,
    "start_time": "2021-11-25T23:29:27.287Z"
   },
   {
    "duration": -6177,
    "start_time": "2021-11-25T23:29:27.303Z"
   },
   {
    "duration": -6193,
    "start_time": "2021-11-25T23:29:27.320Z"
   },
   {
    "duration": -6207,
    "start_time": "2021-11-25T23:29:27.336Z"
   },
   {
    "duration": -6220,
    "start_time": "2021-11-25T23:29:27.350Z"
   },
   {
    "duration": -6232,
    "start_time": "2021-11-25T23:29:27.363Z"
   },
   {
    "duration": -6245,
    "start_time": "2021-11-25T23:29:27.377Z"
   },
   {
    "duration": -6285,
    "start_time": "2021-11-25T23:29:27.418Z"
   },
   {
    "duration": -6298,
    "start_time": "2021-11-25T23:29:27.432Z"
   },
   {
    "duration": -6309,
    "start_time": "2021-11-25T23:29:27.444Z"
   },
   {
    "duration": -6321,
    "start_time": "2021-11-25T23:29:27.458Z"
   },
   {
    "duration": -6333,
    "start_time": "2021-11-25T23:29:27.471Z"
   },
   {
    "duration": -6345,
    "start_time": "2021-11-25T23:29:27.484Z"
   },
   {
    "duration": 3,
    "start_time": "2021-11-25T23:33:04.356Z"
   },
   {
    "duration": 1668,
    "start_time": "2021-11-27T03:24:20.871Z"
   },
   {
    "duration": 356,
    "start_time": "2021-11-27T03:24:22.542Z"
   },
   {
    "duration": 32,
    "start_time": "2021-11-27T03:24:22.901Z"
   },
   {
    "duration": 41,
    "start_time": "2021-11-27T03:24:22.936Z"
   },
   {
    "duration": 18,
    "start_time": "2021-11-27T04:20:22.158Z"
   },
   {
    "duration": 5,
    "start_time": "2021-11-27T04:34:28.659Z"
   },
   {
    "duration": 365,
    "start_time": "2021-11-27T04:34:28.670Z"
   },
   {
    "duration": 49,
    "start_time": "2021-11-27T04:34:29.038Z"
   },
   {
    "duration": 23,
    "start_time": "2021-11-27T04:34:29.092Z"
   },
   {
    "duration": 48,
    "start_time": "2021-11-27T04:34:29.118Z"
   },
   {
    "duration": 93,
    "start_time": "2021-11-27T04:34:29.169Z"
   },
   {
    "duration": 16,
    "start_time": "2021-11-27T04:34:29.265Z"
   },
   {
    "duration": 6,
    "start_time": "2021-11-27T04:34:29.283Z"
   },
   {
    "duration": 14,
    "start_time": "2021-11-27T04:34:29.293Z"
   },
   {
    "duration": 51,
    "start_time": "2021-11-27T04:34:29.310Z"
   },
   {
    "duration": 14,
    "start_time": "2021-11-27T04:34:29.363Z"
   },
   {
    "duration": 9,
    "start_time": "2021-11-27T04:34:29.379Z"
   },
   {
    "duration": 7,
    "start_time": "2021-11-27T04:34:29.390Z"
   },
   {
    "duration": 11,
    "start_time": "2021-11-27T04:34:29.399Z"
   },
   {
    "duration": 8,
    "start_time": "2021-11-27T04:34:29.460Z"
   },
   {
    "duration": 14,
    "start_time": "2021-11-27T04:34:29.470Z"
   },
   {
    "duration": 105,
    "start_time": "2021-11-27T04:34:29.487Z"
   },
   {
    "duration": 15,
    "start_time": "2021-11-27T04:34:29.595Z"
   },
   {
    "duration": 19,
    "start_time": "2021-11-27T04:34:29.612Z"
   },
   {
    "duration": 39,
    "start_time": "2021-11-27T04:34:29.633Z"
   },
   {
    "duration": 8,
    "start_time": "2021-11-27T04:34:29.674Z"
   },
   {
    "duration": 10,
    "start_time": "2021-11-27T04:34:29.684Z"
   },
   {
    "duration": 7,
    "start_time": "2021-11-27T04:34:29.696Z"
   },
   {
    "duration": 61,
    "start_time": "2021-11-27T04:34:29.709Z"
   },
   {
    "duration": 7,
    "start_time": "2021-11-27T04:34:29.773Z"
   },
   {
    "duration": 15,
    "start_time": "2021-11-27T04:34:29.782Z"
   },
   {
    "duration": 11,
    "start_time": "2021-11-27T04:34:29.799Z"
   },
   {
    "duration": 8,
    "start_time": "2021-11-27T04:34:29.812Z"
   },
   {
    "duration": 10,
    "start_time": "2021-11-27T04:34:29.859Z"
   },
   {
    "duration": 7,
    "start_time": "2021-11-27T04:34:29.871Z"
   },
   {
    "duration": 7,
    "start_time": "2021-11-27T04:34:29.880Z"
   },
   {
    "duration": 7,
    "start_time": "2021-11-27T04:34:29.889Z"
   },
   {
    "duration": 62,
    "start_time": "2021-11-27T04:34:29.898Z"
   },
   {
    "duration": 48,
    "start_time": "2021-11-27T04:34:29.962Z"
   },
   {
    "duration": 3,
    "start_time": "2021-11-27T04:34:30.012Z"
   },
   {
    "duration": 9,
    "start_time": "2021-11-27T04:34:30.017Z"
   },
   {
    "duration": 34,
    "start_time": "2021-11-27T04:34:30.028Z"
   },
   {
    "duration": 9532,
    "start_time": "2021-11-27T04:34:30.064Z"
   },
   {
    "duration": -469,
    "start_time": "2021-11-27T04:34:40.069Z"
   },
   {
    "duration": -481,
    "start_time": "2021-11-27T04:34:40.083Z"
   },
   {
    "duration": -493,
    "start_time": "2021-11-27T04:34:40.097Z"
   },
   {
    "duration": -504,
    "start_time": "2021-11-27T04:34:40.110Z"
   },
   {
    "duration": -516,
    "start_time": "2021-11-27T04:34:40.124Z"
   },
   {
    "duration": -526,
    "start_time": "2021-11-27T04:34:40.137Z"
   },
   {
    "duration": -563,
    "start_time": "2021-11-27T04:34:40.176Z"
   },
   {
    "duration": -575,
    "start_time": "2021-11-27T04:34:40.190Z"
   },
   {
    "duration": -586,
    "start_time": "2021-11-27T04:34:40.204Z"
   },
   {
    "duration": -597,
    "start_time": "2021-11-27T04:34:40.217Z"
   },
   {
    "duration": -609,
    "start_time": "2021-11-27T04:34:40.231Z"
   },
   {
    "duration": -620,
    "start_time": "2021-11-27T04:34:40.244Z"
   },
   {
    "duration": -632,
    "start_time": "2021-11-27T04:34:40.259Z"
   },
   {
    "duration": -732,
    "start_time": "2021-11-27T04:34:40.360Z"
   },
   {
    "duration": -795,
    "start_time": "2021-11-27T04:34:40.425Z"
   },
   {
    "duration": -832,
    "start_time": "2021-11-27T04:34:40.463Z"
   },
   {
    "duration": -845,
    "start_time": "2021-11-27T04:34:40.478Z"
   },
   {
    "duration": 11221,
    "start_time": "2021-11-27T04:44:51.069Z"
   },
   {
    "duration": 3,
    "start_time": "2021-11-27T05:01:46.829Z"
   },
   {
    "duration": 9134,
    "start_time": "2021-11-27T05:02:01.339Z"
   },
   {
    "duration": 6,
    "start_time": "2021-11-27T05:03:29.609Z"
   },
   {
    "duration": 14,
    "start_time": "2021-11-27T05:03:47.189Z"
   },
   {
    "duration": 10,
    "start_time": "2021-11-27T05:03:49.707Z"
   },
   {
    "duration": 10,
    "start_time": "2021-11-27T05:03:54.197Z"
   },
   {
    "duration": 12,
    "start_time": "2021-11-27T05:03:57.649Z"
   },
   {
    "duration": 6,
    "start_time": "2021-11-27T05:04:13.067Z"
   },
   {
    "duration": 9,
    "start_time": "2021-11-27T05:04:16.429Z"
   },
   {
    "duration": 3,
    "start_time": "2021-11-27T05:04:18.768Z"
   },
   {
    "duration": 3,
    "start_time": "2021-11-27T05:04:22.339Z"
   },
   {
    "duration": 3,
    "start_time": "2021-11-27T05:04:23.891Z"
   },
   {
    "duration": 12,
    "start_time": "2021-11-27T05:04:26.529Z"
   },
   {
    "duration": 4,
    "start_time": "2021-11-27T05:04:30.597Z"
   },
   {
    "duration": 9,
    "start_time": "2021-11-27T05:05:11.630Z"
   },
   {
    "duration": 14,
    "start_time": "2021-11-27T05:05:14.479Z"
   },
   {
    "duration": 22,
    "start_time": "2021-11-27T05:05:34.849Z"
   },
   {
    "duration": 44,
    "start_time": "2021-11-27T05:05:53.149Z"
   },
   {
    "duration": 33,
    "start_time": "2021-11-27T05:06:26.330Z"
   },
   {
    "duration": 6,
    "start_time": "2021-11-27T05:08:44.109Z"
   },
   {
    "duration": 54,
    "start_time": "2021-11-27T05:10:40.699Z"
   },
   {
    "duration": 58,
    "start_time": "2021-11-27T05:12:07.859Z"
   },
   {
    "duration": 5,
    "start_time": "2021-11-27T05:12:48.840Z"
   },
   {
    "duration": 330,
    "start_time": "2021-11-27T05:12:48.851Z"
   },
   {
    "duration": 30,
    "start_time": "2021-11-27T05:12:49.184Z"
   },
   {
    "duration": 52,
    "start_time": "2021-11-27T05:12:49.217Z"
   },
   {
    "duration": 18,
    "start_time": "2021-11-27T05:12:49.272Z"
   },
   {
    "duration": 98,
    "start_time": "2021-11-27T05:12:49.293Z"
   },
   {
    "duration": 16,
    "start_time": "2021-11-27T05:12:49.393Z"
   },
   {
    "duration": 6,
    "start_time": "2021-11-27T05:12:49.411Z"
   },
   {
    "duration": 52,
    "start_time": "2021-11-27T05:12:49.419Z"
   },
   {
    "duration": 6,
    "start_time": "2021-11-27T05:12:49.475Z"
   },
   {
    "duration": 15,
    "start_time": "2021-11-27T05:12:49.484Z"
   },
   {
    "duration": 8,
    "start_time": "2021-11-27T05:12:49.501Z"
   },
   {
    "duration": 49,
    "start_time": "2021-11-27T05:12:49.511Z"
   },
   {
    "duration": 8,
    "start_time": "2021-11-27T05:12:49.563Z"
   },
   {
    "duration": 7,
    "start_time": "2021-11-27T05:12:49.573Z"
   },
   {
    "duration": 16,
    "start_time": "2021-11-27T05:12:49.582Z"
   },
   {
    "duration": 110,
    "start_time": "2021-11-27T05:12:49.600Z"
   },
   {
    "duration": 14,
    "start_time": "2021-11-27T05:12:49.712Z"
   },
   {
    "duration": 31,
    "start_time": "2021-11-27T05:12:49.729Z"
   },
   {
    "duration": 25,
    "start_time": "2021-11-27T05:12:49.763Z"
   },
   {
    "duration": 11,
    "start_time": "2021-11-27T05:12:49.791Z"
   },
   {
    "duration": 10,
    "start_time": "2021-11-27T05:12:49.804Z"
   },
   {
    "duration": 50,
    "start_time": "2021-11-27T05:12:49.817Z"
   },
   {
    "duration": 22,
    "start_time": "2021-11-27T05:12:49.870Z"
   },
   {
    "duration": 10,
    "start_time": "2021-11-27T05:12:49.895Z"
   },
   {
    "duration": 58,
    "start_time": "2021-11-27T05:12:49.908Z"
   },
   {
    "duration": 9,
    "start_time": "2021-11-27T05:12:49.969Z"
   },
   {
    "duration": 9,
    "start_time": "2021-11-27T05:12:49.986Z"
   },
   {
    "duration": 60,
    "start_time": "2021-11-27T05:12:49.999Z"
   },
   {
    "duration": 7,
    "start_time": "2021-11-27T05:12:50.062Z"
   },
   {
    "duration": 6,
    "start_time": "2021-11-27T05:12:50.072Z"
   },
   {
    "duration": 7,
    "start_time": "2021-11-27T05:12:50.081Z"
   },
   {
    "duration": 18,
    "start_time": "2021-11-27T05:12:50.091Z"
   },
   {
    "duration": 102,
    "start_time": "2021-11-27T05:12:50.111Z"
   },
   {
    "duration": 3,
    "start_time": "2021-11-27T05:12:50.215Z"
   },
   {
    "duration": 6,
    "start_time": "2021-11-27T05:12:50.220Z"
   },
   {
    "duration": 33,
    "start_time": "2021-11-27T05:12:50.228Z"
   },
   {
    "duration": 6,
    "start_time": "2021-11-27T05:12:50.263Z"
   },
   {
    "duration": 6,
    "start_time": "2021-11-27T05:12:50.271Z"
   },
   {
    "duration": 8,
    "start_time": "2021-11-27T05:12:50.280Z"
   },
   {
    "duration": 16,
    "start_time": "2021-11-27T05:12:50.291Z"
   },
   {
    "duration": 13,
    "start_time": "2021-11-27T05:12:50.309Z"
   },
   {
    "duration": 13,
    "start_time": "2021-11-27T05:12:50.359Z"
   },
   {
    "duration": 13,
    "start_time": "2021-11-27T05:12:50.375Z"
   },
   {
    "duration": 6,
    "start_time": "2021-11-27T05:12:50.391Z"
   },
   {
    "duration": 7,
    "start_time": "2021-11-27T05:12:50.400Z"
   },
   {
    "duration": 3,
    "start_time": "2021-11-27T05:12:50.410Z"
   },
   {
    "duration": 45,
    "start_time": "2021-11-27T05:12:50.415Z"
   },
   {
    "duration": 6,
    "start_time": "2021-11-27T05:12:50.463Z"
   },
   {
    "duration": 13,
    "start_time": "2021-11-27T05:12:50.472Z"
   },
   {
    "duration": 3,
    "start_time": "2021-11-27T05:12:50.488Z"
   },
   {
    "duration": 9,
    "start_time": "2021-11-27T05:12:50.494Z"
   },
   {
    "duration": 61,
    "start_time": "2021-11-27T05:12:50.506Z"
   },
   {
    "duration": 24,
    "start_time": "2021-11-27T05:12:50.569Z"
   },
   {
    "duration": 43,
    "start_time": "2021-11-27T05:13:10.990Z"
   },
   {
    "duration": 49,
    "start_time": "2021-11-27T05:15:38.919Z"
   },
   {
    "duration": 41,
    "start_time": "2021-11-27T05:15:53.239Z"
   },
   {
    "duration": 145,
    "start_time": "2021-11-27T05:17:33.109Z"
   },
   {
    "duration": 227,
    "start_time": "2021-11-27T05:17:58.859Z"
   },
   {
    "duration": 41,
    "start_time": "2021-11-27T05:18:14.682Z"
   },
   {
    "duration": 48,
    "start_time": "2021-11-27T05:18:49.290Z"
   },
   {
    "duration": 5,
    "start_time": "2021-11-27T05:19:00.099Z"
   },
   {
    "duration": 51,
    "start_time": "2021-11-27T05:19:52.489Z"
   },
   {
    "duration": 28,
    "start_time": "2021-11-27T05:20:00.849Z"
   },
   {
    "duration": 9,
    "start_time": "2021-11-27T05:20:05.209Z"
   },
   {
    "duration": 3,
    "start_time": "2021-11-27T05:21:25.560Z"
   },
   {
    "duration": 4,
    "start_time": "2021-11-27T05:21:36.697Z"
   },
   {
    "duration": 4,
    "start_time": "2021-11-27T05:21:43.199Z"
   },
   {
    "duration": 4,
    "start_time": "2021-11-27T05:21:45.880Z"
   },
   {
    "duration": 4,
    "start_time": "2021-11-27T05:21:48.130Z"
   },
   {
    "duration": 197,
    "start_time": "2021-11-27T05:21:51.820Z"
   },
   {
    "duration": 4,
    "start_time": "2021-11-27T05:22:09.008Z"
   },
   {
    "duration": 3,
    "start_time": "2021-11-27T05:22:23.629Z"
   },
   {
    "duration": 6,
    "start_time": "2021-11-27T05:22:28.438Z"
   },
   {
    "duration": 5,
    "start_time": "2021-11-27T05:22:35.968Z"
   },
   {
    "duration": 381,
    "start_time": "2021-11-27T05:22:38.909Z"
   },
   {
    "duration": 3,
    "start_time": "2021-11-27T05:23:47.670Z"
   },
   {
    "duration": 898927,
    "start_time": "2021-11-27T05:23:57.079Z"
   },
   {
    "duration": 1121,
    "start_time": "2021-11-27T05:56:55.058Z"
   },
   {
    "duration": 1095,
    "start_time": "2021-11-27T05:56:59.979Z"
   },
   {
    "duration": 5,
    "start_time": "2021-11-27T05:58:13.260Z"
   },
   {
    "duration": 21,
    "start_time": "2021-11-27T05:59:08.608Z"
   },
   {
    "duration": 66,
    "start_time": "2021-11-27T06:02:33.571Z"
   },
   {
    "duration": 38,
    "start_time": "2021-11-27T06:02:41.339Z"
   },
   {
    "duration": 49,
    "start_time": "2021-11-27T06:03:10.529Z"
   },
   {
    "duration": 7,
    "start_time": "2021-11-27T06:03:49.892Z"
   },
   {
    "duration": 357,
    "start_time": "2021-11-27T06:08:53.699Z"
   },
   {
    "duration": 163,
    "start_time": "2021-11-27T06:09:01.769Z"
   },
   {
    "duration": 28,
    "start_time": "2021-11-27T06:09:06.478Z"
   },
   {
    "duration": 31,
    "start_time": "2021-11-27T06:14:48.719Z"
   },
   {
    "duration": 28,
    "start_time": "2021-11-27T06:15:56.399Z"
   },
   {
    "duration": 167,
    "start_time": "2021-11-27T06:17:54.630Z"
   },
   {
    "duration": 28,
    "start_time": "2021-11-27T06:18:00.039Z"
   },
   {
    "duration": 69,
    "start_time": "2021-11-27T06:20:28.780Z"
   },
   {
    "duration": 8,
    "start_time": "2021-11-27T06:31:55.101Z"
   },
   {
    "duration": 9,
    "start_time": "2021-11-27T06:37:47.929Z"
   },
   {
    "duration": 19,
    "start_time": "2021-11-27T06:44:53.420Z"
   },
   {
    "duration": 7,
    "start_time": "2021-11-27T06:45:23.969Z"
   },
   {
    "duration": 420,
    "start_time": "2021-11-27T06:51:34.939Z"
   },
   {
    "duration": 7,
    "start_time": "2021-11-27T06:52:57.738Z"
   },
   {
    "duration": 370,
    "start_time": "2021-11-27T06:53:10.949Z"
   },
   {
    "duration": 5,
    "start_time": "2021-11-27T06:53:21.257Z"
   },
   {
    "duration": 5,
    "start_time": "2021-11-27T06:53:37.679Z"
   },
   {
    "duration": 379,
    "start_time": "2021-11-27T06:54:52.539Z"
   },
   {
    "duration": 6,
    "start_time": "2021-11-27T06:55:01.879Z"
   },
   {
    "duration": 438,
    "start_time": "2021-11-27T06:55:40.790Z"
   },
   {
    "duration": 410,
    "start_time": "2021-11-27T06:55:51.192Z"
   },
   {
    "duration": 6,
    "start_time": "2021-11-27T06:56:51.909Z"
   },
   {
    "duration": 5,
    "start_time": "2021-11-27T06:57:17.669Z"
   },
   {
    "duration": 29,
    "start_time": "2021-11-27T06:58:29.159Z"
   },
   {
    "duration": 29,
    "start_time": "2021-11-27T06:58:46.629Z"
   },
   {
    "duration": 17,
    "start_time": "2021-11-27T07:00:28.069Z"
   },
   {
    "duration": 405,
    "start_time": "2021-11-27T07:00:55.431Z"
   },
   {
    "duration": 26,
    "start_time": "2021-11-27T07:02:36.171Z"
   },
   {
    "duration": 16,
    "start_time": "2021-11-27T07:05:03.408Z"
   },
   {
    "duration": 6,
    "start_time": "2021-11-27T07:05:23.139Z"
   },
   {
    "duration": 17,
    "start_time": "2021-11-27T07:06:07.500Z"
   },
   {
    "duration": 7,
    "start_time": "2021-11-27T07:06:15.499Z"
   },
   {
    "duration": 390,
    "start_time": "2021-11-27T07:07:31.931Z"
   },
   {
    "duration": 306,
    "start_time": "2021-11-27T07:18:20.300Z"
   },
   {
    "duration": 35,
    "start_time": "2021-11-27T07:25:20.889Z"
   },
   {
    "duration": 9992,
    "start_time": "2021-11-27T07:28:02.550Z"
   },
   {
    "duration": 37,
    "start_time": "2021-11-27T07:28:51.051Z"
   },
   {
    "duration": 35,
    "start_time": "2021-11-27T07:29:57.958Z"
   },
   {
    "duration": 6,
    "start_time": "2021-11-27T07:31:15.699Z"
   },
   {
    "duration": 8,
    "start_time": "2021-11-27T07:31:31.259Z"
   },
   {
    "duration": 35,
    "start_time": "2021-11-27T07:33:35.499Z"
   },
   {
    "duration": 145,
    "start_time": "2021-11-27T07:33:47.739Z"
   },
   {
    "duration": 119,
    "start_time": "2021-11-27T07:33:55.227Z"
   },
   {
    "duration": 8,
    "start_time": "2021-11-27T07:34:23.739Z"
   },
   {
    "duration": 8,
    "start_time": "2021-11-27T07:34:36.418Z"
   },
   {
    "duration": 32,
    "start_time": "2021-11-27T07:35:38.028Z"
   },
   {
    "duration": 7,
    "start_time": "2021-11-27T07:35:47.789Z"
   },
   {
    "duration": 18,
    "start_time": "2021-11-27T07:38:55.460Z"
   },
   {
    "duration": 18,
    "start_time": "2021-11-27T07:42:47.110Z"
   },
   {
    "duration": 37,
    "start_time": "2021-11-27T07:54:15.310Z"
   },
   {
    "duration": 5,
    "start_time": "2021-11-27T08:22:31.811Z"
   },
   {
    "duration": 371,
    "start_time": "2021-11-27T08:29:47.092Z"
   },
   {
    "duration": 632,
    "start_time": "2021-11-27T08:30:25.503Z"
   },
   {
    "duration": 179,
    "start_time": "2021-11-27T08:30:49.419Z"
   },
   {
    "duration": 58,
    "start_time": "2021-11-27T08:31:33.609Z"
   },
   {
    "duration": 61,
    "start_time": "2021-11-27T08:31:44.351Z"
   },
   {
    "duration": 170,
    "start_time": "2021-11-27T08:32:26.659Z"
   },
   {
    "duration": 369,
    "start_time": "2021-11-27T08:32:37.947Z"
   },
   {
    "duration": 6,
    "start_time": "2021-11-27T08:32:51.349Z"
   },
   {
    "duration": 557,
    "start_time": "2021-11-27T08:33:31.869Z"
   },
   {
    "duration": 620,
    "start_time": "2021-11-27T08:33:49.690Z"
   },
   {
    "duration": 6,
    "start_time": "2021-11-27T08:33:55.869Z"
   },
   {
    "duration": 404,
    "start_time": "2021-11-27T08:37:46.219Z"
   },
   {
    "duration": 175,
    "start_time": "2021-11-27T08:38:06.679Z"
   },
   {
    "duration": 6,
    "start_time": "2021-11-27T08:38:12.561Z"
   },
   {
    "duration": 387,
    "start_time": "2021-11-27T08:38:20.859Z"
   },
   {
    "duration": 382,
    "start_time": "2021-11-27T08:39:52.249Z"
   },
   {
    "duration": 360,
    "start_time": "2021-11-27T08:40:52.629Z"
   },
   {
    "duration": 407,
    "start_time": "2021-11-27T08:41:16.223Z"
   },
   {
    "duration": 5,
    "start_time": "2021-11-27T08:43:24.529Z"
   },
   {
    "duration": 119,
    "start_time": "2021-11-27T08:43:33.389Z"
   },
   {
    "duration": 46,
    "start_time": "2021-11-27T08:43:39.790Z"
   },
   {
    "duration": 3,
    "start_time": "2021-11-27T08:46:35.191Z"
   },
   {
    "duration": 385,
    "start_time": "2021-11-27T08:46:36.638Z"
   },
   {
    "duration": 1230,
    "start_time": "2021-11-27T08:47:00.229Z"
   },
   {
    "duration": 26713,
    "start_time": "2021-11-27T08:47:48.747Z"
   },
   {
    "duration": 373,
    "start_time": "2021-11-27T08:48:53.919Z"
   },
   {
    "duration": 245,
    "start_time": "2021-11-27T08:50:07.058Z"
   },
   {
    "duration": 207,
    "start_time": "2021-11-27T08:51:40.308Z"
   },
   {
    "duration": 199,
    "start_time": "2021-11-27T08:53:11.199Z"
   },
   {
    "duration": 3,
    "start_time": "2021-11-27T08:58:46.759Z"
   },
   {
    "duration": 10194,
    "start_time": "2021-11-27T08:58:49.429Z"
   },
   {
    "duration": 369,
    "start_time": "2021-11-27T08:59:14.455Z"
   },
   {
    "duration": 20160,
    "start_time": "2021-11-27T08:59:38.977Z"
   },
   {
    "duration": 24051,
    "start_time": "2021-11-27T09:00:12.087Z"
   },
   {
    "duration": 205,
    "start_time": "2021-11-27T09:00:42.059Z"
   },
   {
    "duration": 234,
    "start_time": "2021-11-27T09:00:46.049Z"
   }
  ],
  "kernelspec": {
   "display_name": "Python 3",
   "language": "python",
   "name": "python3"
  },
  "language_info": {
   "codemirror_mode": {
    "name": "ipython",
    "version": 3
   },
   "file_extension": ".py",
   "mimetype": "text/x-python",
   "name": "python",
   "nbconvert_exporter": "python",
   "pygments_lexer": "ipython3",
   "version": "3.7.8"
  },
  "toc": {
   "base_numbering": 1,
   "nav_menu": {},
   "number_sections": true,
   "sideBar": true,
   "skip_h1_title": true,
   "title_cell": "Table of Contents",
   "title_sidebar": "Contents",
   "toc_cell": false,
   "toc_position": {
    "height": "calc(100% - 180px)",
    "left": "10px",
    "top": "150px",
    "width": "173.722px"
   },
   "toc_section_display": true,
   "toc_window_display": true
  }
 },
 "nbformat": 4,
 "nbformat_minor": 2
}
